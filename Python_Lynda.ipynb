{
 "cells": [
  {
   "cell_type": "code",
   "execution_count": 1,
   "metadata": {
    "collapsed": false
   },
   "outputs": [],
   "source": [
    "import math,json, collections, itertools\n"
   ]
  },
  {
   "cell_type": "code",
   "execution_count": 2,
   "metadata": {
    "collapsed": true
   },
   "outputs": [],
   "source": [
    "import numpy as np\n",
    "import matplotlib.pyplot as plt\n",
    "%matplotlib inline"
   ]
  },
  {
   "cell_type": "code",
   "execution_count": 30,
   "metadata": {
    "collapsed": false
   },
   "outputs": [],
   "source": [
    "#from mpl_toolkits.basemap import Basemap\n",
    "import geopy"
   ]
  },
  {
   "cell_type": "code",
   "execution_count": 24,
   "metadata": {
    "collapsed": false
   },
   "outputs": [
    {
     "name": "stdout",
     "output_type": "stream",
     "text": [
      "Collecting geopy\n",
      "  Downloading geopy-1.11.0-py2.py3-none-any.whl (66kB)\n",
      "Installing collected packages: geopy\n",
      "Successfully installed geopy-1.11.0\n"
     ]
    },
    {
     "name": "stderr",
     "output_type": "stream",
     "text": [
      "You are using pip version 8.1.2, however version 9.0.1 is available.\n",
      "You should consider upgrading via the 'python -m pip install --upgrade pip' command.\n"
     ]
    }
   ],
   "source": [
    "!pip install geopy"
   ]
  },
  {
   "cell_type": "code",
   "execution_count": 38,
   "metadata": {
    "collapsed": false
   },
   "outputs": [
    {
     "name": "stdout",
     "output_type": "stream",
     "text": [
      "F\n",
      "I\n"
     ]
    },
    {
     "ename": "AttributeError",
     "evalue": "'iterator' object has no attribute '__next__'",
     "output_type": "error",
     "traceback": [
      "\u001b[0;31m---------------------------------------------------------------------------\u001b[0m",
      "\u001b[0;31mAttributeError\u001b[0m                            Traceback (most recent call last)",
      "\u001b[0;32m<ipython-input-38-e1b1605098a6>\u001b[0m in \u001b[0;36m<module>\u001b[0;34m()\u001b[0m\n\u001b[1;32m     15\u001b[0m \u001b[1;33m\u001b[0m\u001b[0m\n\u001b[1;32m     16\u001b[0m \u001b[1;31m#prints 0\u001b[0m\u001b[1;33m\u001b[0m\u001b[1;33m\u001b[0m\u001b[0m\n\u001b[0;32m---> 17\u001b[0;31m \u001b[1;32mprint\u001b[0m\u001b[1;33m(\u001b[0m\u001b[0mmy_iter\u001b[0m\u001b[1;33m.\u001b[0m\u001b[0m__next__\u001b[0m\u001b[1;33m(\u001b[0m\u001b[1;33m)\u001b[0m\u001b[1;33m)\u001b[0m\u001b[1;33m\u001b[0m\u001b[0m\n\u001b[0m\u001b[1;32m     18\u001b[0m \u001b[1;33m\u001b[0m\u001b[0m\n\u001b[1;32m     19\u001b[0m \u001b[1;33m\u001b[0m\u001b[0m\n",
      "\u001b[0;31mAttributeError\u001b[0m: 'iterator' object has no attribute '__next__'"
     ]
    }
   ],
   "source": [
    "my_list = [4, 7, 0, 3]\n",
    "\n",
    "# get an iterator using iter()\n",
    "my_iter = iter('FIB')\n",
    "\n",
    "## iterate through it using next() \n",
    "\n",
    "#prints 4\n",
    "print(next(my_iter))\n",
    "\n",
    "#prints 7\n",
    "print(next(my_iter))\n",
    "\n",
    "## next(obj) is same as obj.__next__()\n",
    "\n",
    "#prints 0\n",
    "print(my_iter.__next__())\n",
    "\n",
    "\n",
    "it =iter(\"FIB\")\n",
    "print it.__next__()\n",
    "print it.__next__()\n",
    "print it.__next__()\n"
   ]
  },
  {
   "cell_type": "code",
   "execution_count": 13,
   "metadata": {
    "collapsed": false
   },
   "outputs": [
    {
     "name": "stdout",
     "output_type": "stream",
     "text": [
      "Athens (1896)\n",
      "Paris (1900)\n",
      "St Louis (1904)\n",
      "London (1908)\n",
      "Stockholm (1912)\n",
      "Antwerp (1920)\n",
      "Paris (1924)\n",
      "Amsterdam (1928)\n",
      "Los Angeles (1932)\n",
      "Berlin (1936)\n",
      "London (1948)\n",
      "Helsinki (1952)\n",
      "Melbourne / Stockholm (1956)\n",
      "Rome (1960)\n",
      "Tokyo (1964)\n",
      "Mexico (1968)\n",
      "Munich (1972)\n",
      "Montreal (1976)\n",
      "Moscow (1980)\n",
      "Los Angeles (1984)\n",
      "Seoul (1988)\n",
      "Barcelona (1992)\n",
      "Atlanta (1996)\n",
      "Sydney (2000)\n",
      "Athens (2004)\n",
      "Beijing (2008)\n",
      "London (2012)\n",
      "Rio (2016)\n"
     ]
    }
   ],
   "source": [
    "for game in open('games.txt','r'):\n",
    "    print game,"
   ]
  },
  {
   "cell_type": "code",
   "execution_count": 19,
   "metadata": {
    "collapsed": false
   },
   "outputs": [
    {
     "name": "stdout",
     "output_type": "stream",
     "text": [
      "Athens (1896)\n",
      "Paris (1900)\n",
      "St Louis\n",
      "London (1908)\n",
      "Stockholm (1912)\n",
      "Antwerp (1920)\n",
      "Paris (1924)\n",
      "Amsterdam (1928)\n",
      "Los Angeles\n",
      "Berlin (1936)\n",
      "London (1948)\n",
      "Helsinki (1952)\n",
      "Melbourne /\n",
      "Rome (1960)\n",
      "Tokyo (1964)\n",
      "Mexico (1968)\n",
      "Munich (1972)\n",
      "Montreal (1976)\n",
      "Moscow (1980)\n",
      "Los Angeles\n",
      "Seoul (1988)\n",
      "Barcelona (1992)\n",
      "Atlanta (1996)\n",
      "Sydney (2000)\n",
      "Athens (2004)\n",
      "Beijing (2008)\n",
      "London (2012)\n",
      "Rio (2016)\n"
     ]
    }
   ],
   "source": [
    "for game in open('games.txt','r'):\n",
    "    city = game.split()[0]\n",
    "    year = game.split()[1]\n",
    "    print city,\n",
    "    print year"
   ]
  },
  {
   "cell_type": "code",
   "execution_count": 21,
   "metadata": {
    "collapsed": false
   },
   "outputs": [
    {
     "name": "stdout",
     "output_type": "stream",
     "text": [
      "Athens 1896\n",
      "Paris 1900\n",
      "St Louis 1904\n",
      "London 1908\n",
      "Stockholm 1912\n",
      "Antwerp 1920\n",
      "Paris 1924\n",
      "Amsterdam 1928\n",
      "Los Angeles 1932\n",
      "Berlin 1936\n",
      "London 1948\n",
      "Helsinki 1952\n",
      "Melbourne / Stockholm 1956\n",
      "Rome 1960\n",
      "Tokyo 1964\n",
      "Mexico 1968\n",
      "Munich 1972\n",
      "Montreal 1976\n",
      "Moscow 1980\n",
      "Los Angeles 1984\n",
      "Seoul 1988\n",
      "Barcelona 1992\n",
      "Atlanta 1996\n",
      "Sydney 2000\n",
      "Athens 2004\n",
      "Beijing 2008\n",
      "London 2012\n",
      "Rio 2016\n"
     ]
    }
   ],
   "source": [
    "for game in open('games.txt','r'):\n",
    "    words = game.split()\n",
    "    city = ' '.join(words[:-1])\n",
    "    year = words[-1].strip('()')\n",
    "    print city, year\n",
    "    "
   ]
  },
  {
   "cell_type": "code",
   "execution_count": 22,
   "metadata": {
    "collapsed": true
   },
   "outputs": [],
   "source": [
    "cities, years=[],[]\n",
    "for game in open('games.txt','r'):\n",
    "    words= game.split()\n",
    "    city = ' '.join(words[:-1])\n",
    "    year = words[-1].strip('()')\n",
    "    cities.append(city)\n",
    "    years.append(year)\n"
   ]
  },
  {
   "cell_type": "code",
   "execution_count": 31,
   "metadata": {
    "collapsed": false
   },
   "outputs": [
    {
     "name": "stdout",
     "output_type": "stream",
     "text": [
      "location  Athens\n",
      "location  Paris\n",
      "location  St Louis\n",
      "location  London\n",
      "location  Stockholm\n",
      "location  Antwerp\n",
      "location  Paris\n",
      "location  Amsterdam\n",
      "location  Los Angeles\n",
      "location  Berlin\n",
      "location  London\n",
      "location  Helsinki\n",
      "location  Melbourne / Stockholm\n",
      "location  Rome\n",
      "location  Tokyo\n",
      "location  Mexico\n",
      "location  Munich\n",
      "location  Montreal\n",
      "location  Moscow\n",
      "location  Los Angeles\n",
      "location  Seoul\n",
      "location  Barcelona\n",
      "location  Atlanta\n",
      "location  Sydney\n",
      "location  Athens\n",
      "location  Beijing\n",
      "location  London\n",
      "location  Rio\n"
     ]
    }
   ],
   "source": [
    "geolocator = geopy.geocoders.Nominatim()\n",
    "locations ={}\n",
    "for city in cities:\n",
    "    print \"location \",city\n",
    "    locations[city] = geolocator.geocode(city.split('/')[0])"
   ]
  },
  {
   "cell_type": "code",
   "execution_count": 34,
   "metadata": {
    "collapsed": false
   },
   "outputs": [
    {
     "data": {
      "text/plain": [
       "Location((48.8566101, 2.3514992, 0.0))"
      ]
     },
     "execution_count": 34,
     "metadata": {},
     "output_type": "execute_result"
    }
   ],
   "source": [
    "locations['Paris']"
   ]
  },
  {
   "cell_type": "code",
   "execution_count": 35,
   "metadata": {
    "collapsed": false
   },
   "outputs": [
    {
     "ename": "NameError",
     "evalue": "name 'Basemap' is not defined",
     "output_type": "error",
     "traceback": [
      "\u001b[0;31m---------------------------------------------------------------------------\u001b[0m",
      "\u001b[0;31mNameError\u001b[0m                                 Traceback (most recent call last)",
      "\u001b[0;32m<ipython-input-35-3e25e6db95e7>\u001b[0m in \u001b[0;36m<module>\u001b[0;34m()\u001b[0m\n\u001b[1;32m      1\u001b[0m \u001b[0mplt\u001b[0m\u001b[1;33m.\u001b[0m\u001b[0mfigure\u001b[0m\u001b[1;33m(\u001b[0m\u001b[0mfigsize\u001b[0m\u001b[1;33m=\u001b[0m\u001b[1;33m(\u001b[0m\u001b[1;36m10\u001b[0m\u001b[1;33m,\u001b[0m\u001b[1;36m5\u001b[0m\u001b[1;33m)\u001b[0m\u001b[1;33m)\u001b[0m\u001b[1;33m\u001b[0m\u001b[0m\n\u001b[0;32m----> 2\u001b[0;31m \u001b[0mworld\u001b[0m \u001b[1;33m=\u001b[0m \u001b[0mBasemap\u001b[0m\u001b[1;33m(\u001b[0m\u001b[1;33m)\u001b[0m\u001b[1;33m\u001b[0m\u001b[0m\n\u001b[0m\u001b[1;32m      3\u001b[0m \u001b[0mworld\u001b[0m\u001b[1;33m.\u001b[0m\u001b[0mdrawcoastlines\u001b[0m\u001b[1;33m(\u001b[0m\u001b[0mlinewidth\u001b[0m\u001b[1;33m=\u001b[0m\u001b[1;36m0.25\u001b[0m\u001b[1;33m)\u001b[0m\u001b[1;33m\u001b[0m\u001b[0m\n\u001b[1;32m      4\u001b[0m \u001b[0mword\u001b[0m\u001b[1;33m.\u001b[0m\u001b[0mdrawcountries\u001b[0m\u001b[1;33m(\u001b[0m\u001b[0mlinewidth\u001b[0m\u001b[1;33m=\u001b[0m\u001b[1;36m0.25\u001b[0m\u001b[1;33m)\u001b[0m\u001b[1;33m\u001b[0m\u001b[0m\n",
      "\u001b[0;31mNameError\u001b[0m: name 'Basemap' is not defined"
     ]
    },
    {
     "data": {
      "text/plain": [
       "<matplotlib.figure.Figure at 0x7fc94a8>"
      ]
     },
     "metadata": {},
     "output_type": "display_data"
    }
   ],
   "source": [
    "plt.figure(figsize=(10,5))\n",
    "world = Basemap()\n",
    "world.drawcoastlines(linewidth=0.25)\n",
    "word.drawcountries(linewidth=0.25)"
   ]
  },
  {
   "cell_type": "code",
   "execution_count": null,
   "metadata": {
    "collapsed": true
   },
   "outputs": [],
   "source": []
  }
 ],
 "metadata": {
  "anaconda-cloud": {},
  "kernelspec": {
   "display_name": "Python [default]",
   "language": "python",
   "name": "python2"
  },
  "language_info": {
   "codemirror_mode": {
    "name": "ipython",
    "version": 2
   },
   "file_extension": ".py",
   "mimetype": "text/x-python",
   "name": "python",
   "nbconvert_exporter": "python",
   "pygments_lexer": "ipython2",
   "version": "2.7.12"
  }
 },
 "nbformat": 4,
 "nbformat_minor": 1
}
