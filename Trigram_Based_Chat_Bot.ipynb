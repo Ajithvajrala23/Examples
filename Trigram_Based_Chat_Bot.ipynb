{
 "cells": [
  {
   "cell_type": "code",
   "execution_count": 1,
   "metadata": {
    "collapsed": true
   },
   "outputs": [],
   "source": [
    "import pandas as pd\n",
    "import os\n",
    "import re\n",
    "from nltk.corpus import stopwords"
   ]
  },
  {
   "cell_type": "code",
   "execution_count": 2,
   "metadata": {
    "collapsed": false
   },
   "outputs": [
    {
     "name": "stdout",
     "output_type": "stream",
     "text": [
      "(100, 1)\n"
     ]
    }
   ],
   "source": [
    "Pythom_R_ML=pd.read_csv(r\"E:\\Aegis\\Project\\Data_set/new_m.csv\")\n",
    "print(Pythom_R_ML.shape)"
   ]
  },
  {
   "cell_type": "code",
   "execution_count": 3,
   "metadata": {
    "collapsed": false
   },
   "outputs": [],
   "source": [
    "new_words =[]\n",
    "def cleaning_text(review):\n",
    "    cleaned =re.sub(\"[^a-zA-Z/:]\", \" \",review)\n",
    "    words =cleaned.lower().split()\n",
    "    stops = set(stopwords.words(\"english\"))\n",
    "    meaningful_words = [w for w in words if not w in stops]\n",
    "    return(\" \".join( meaningful_words ))\n",
    "\n",
    "\n",
    "for i in range(0,Pythom_R_ML.size -1):\n",
    "    new_words.append(cleaning_text(Pythom_R_ML[\"QA\"][i]))\n"
   ]
  },
  {
   "cell_type": "code",
   "execution_count": 4,
   "metadata": {
    "collapsed": false
   },
   "outputs": [
    {
     "name": "stdout",
     "output_type": "stream",
     "text": [
      "business analytics\n"
     ]
    }
   ],
   "source": [
    "Pythom_R_ML.size\n",
    "print new_words[0]"
   ]
  },
  {
   "cell_type": "code",
   "execution_count": 5,
   "metadata": {
    "collapsed": false
   },
   "outputs": [],
   "source": [
    "import nltk\n",
    "from nltk import word_tokenize\n",
    "from nltk.util import ngrams\n",
    "new_trigrams = []\n",
    "chat_words = []\n",
    "for i in range(0, Pythom_R_ML.size -2, 2):\n",
    "    new_trigrams = []\n",
    "    text = new_words[i]\n",
    "    Ans = new_words[i + 1]\n",
    "    token = nltk.word_tokenize(text)\n",
    "    c = 2\n",
    "    while c < len(token) - 2:\n",
    "        new_trigrams = [token[c] + \" \"  + token[c+1] + \" \"+ token[c+2]]\n",
    "        c += 2\n",
    "    new_dummy = []\n",
    "    for j in range(0, len(new_trigrams)):\n",
    "        #new_dummy = new_trigrams[j] + Ans\n",
    "        chat_words.append(new_trigrams[j])\n",
    "        chat_words.append(Ans)\n",
    "#print chat_words"
   ]
  },
  {
   "cell_type": "code",
   "execution_count": 6,
   "metadata": {
    "collapsed": false
   },
   "outputs": [
    {
     "data": {
      "text/plain": [
       "[['science business analytics',\n",
       "  'better understanding please go link: https://www quora com/how much scope analytics data science future going boom',\n",
       "  'data science analytics',\n",
       "  'please refer following link http://www muniversity mobi/course/bulks/view php id',\n",
       "  'analytics big data',\n",
       "  'post graduate program business analytics big data pgp ba big data india first high end data science program designed delivered aegis school business telecommunication association ibm train new generation data savvy professionals',\n",
       "  'analytics big data',\n",
       "  'ibm leader data science sector post graduate program business analytics big data pgp ba bd offered aegis association ibm please go course page details',\n",
       "  'data required join',\n",
       "  'necessarily experience bi ba bd added advantage digest grasp concepts easily',\n",
       "  'provide better prospect',\n",
       "  'yes certainly invest time leverage rich experience may also like consult friends network issue please take informed decision make fake promises jobs career prospects',\n",
       "  'tools online module',\n",
       "  'help installation software setup laptop',\n",
       "  'data full time',\n",
       "  'executive program hybrid model campus online terms months one block days every months classroom training plus every alternate sat sun online classes spread months',\n",
       "  'big data online',\n",
       "  'executive program online model online live interactive sessions terms months online live interactive classes every saturday sunday',\n",
       "  'big data online',\n",
       "  'executive program online model online live interactive sessions terms months online live interactive classes every saturday sunday',\n",
       "  'big data hybrid',\n",
       "  'terms months one block days every months classroom training plus every alternate sat sun online classes spread months',\n",
       "  'big data weekend',\n",
       "  'terms months classroom training every saturday sunday',\n",
       "  'attend class future',\n",
       "  'aegis learning management system lms every session recorded stored participants provided access lms candidate misses lecture he/she access recorded session time',\n",
       "  'online mode dates',\n",
       "  'yes difference amount credited back account',\n",
       "  'big data online/hybrid',\n",
       "  'aegis dedicated career management center candidates take care internships project works consulting assignments final placements',\n",
       "  'expected done end',\n",
       "  'depends upon area want pursue sample project could be: developing recommendation engine project report fraud detection using hadoop building predictive model retail client etc',\n",
       "  'able find good',\n",
       "  'since ibm partner intention offer skilled manpower market organizations deploy technologies mainly infosphere ibm ibm si likely largest recruiters',\n",
       "  'course provide better',\n",
       "  'candidate bring value table acquiring skills demonstrating employers experienced person appreciate fact job function demonstrating skills acquired program',\n",
       "  'students taken course',\n",
       "  'yes certainly interact previous batch students day interview scheduled campus get admission offer letter connect participants program']]"
      ]
     },
     "execution_count": 6,
     "metadata": {},
     "output_type": "execute_result"
    }
   ],
   "source": [
    "[chat_words]"
   ]
  },
  {
   "cell_type": "code",
   "execution_count": null,
   "metadata": {
    "collapsed": false,
    "scrolled": true
   },
   "outputs": [
    {
     "name": "stderr",
     "output_type": "stream",
     "text": [
      "C:\\Users\\Ajith Vajrala\\Anaconda2\\lib\\site-packages\\chatterbot\\storage\\jsonfile.py:30: UnsuitableForProductionWarning: The JsonFileStorageAdapter is not recommended for production environments.\n",
      "  self.UnsuitableForProductionWarning\n"
     ]
    },
    {
     "name": "stdout",
     "output_type": "stream",
     "text": [
      "[nltk_data] Downloading package stopwords to C:\\Users\\Ajith\n",
      "[nltk_data]     Vajrala\\AppData\\Roaming\\nltk_data...\n",
      "[nltk_data]   Package stopwords is already up-to-date!\n",
      "[nltk_data] Downloading package wordnet to C:\\Users\\Ajith\n",
      "[nltk_data]     Vajrala\\AppData\\Roaming\\nltk_data...\n",
      "[nltk_data]   Package wordnet is already up-to-date!\n",
      "[nltk_data] Downloading package punkt to C:\\Users\\Ajith\n",
      "[nltk_data]     Vajrala\\AppData\\Roaming\\nltk_data...\n",
      "[nltk_data]   Package punkt is already up-to-date!\n",
      "[nltk_data] Downloading package vader_lexicon to C:\\Users\\Ajith\n",
      "[nltk_data]     Vajrala\\AppData\\Roaming\\nltk_data...\n",
      "[nltk_data]   Package vader_lexicon is already up-to-date!\n",
      "I ran\n"
     ]
    }
   ],
   "source": [
    "#from nltk import corpus\n",
    "from chatterbot import ChatBot\n",
    "import logging\n",
    "\n",
    "# Uncomment the following line to enable verbose logging\n",
    "# logging.basicConfig(level=logging.INFO)\n",
    "\n",
    "# Create a new instance of a ChatBot\n",
    "chatbot2 = ChatBot(\"Dummy2\", \n",
    "    storage_adapter=\"chatterbot.storage.JsonFileStorageAdapter\",\n",
    "    logic_adapters=[\n",
    "        \"chatterbot.logic.MathematicalEvaluation\",\n",
    "        \"chatterbot.logic.TimeLogicAdapter\",\n",
    "        \"chatterbot.logic.BestMatch\"\n",
    "    ],\n",
    "    input_adapter=\"chatterbot.input.TerminalAdapter\",\n",
    "    output_adapter=\"chatterbot.output.TerminalAdapter\",\n",
    "    database=\"../database3.db\"\n",
    ")\n",
    "\n",
    "#Import List trainer for training the chat history\n",
    "#\n",
    "from chatterbot.trainers import ListTrainer\n",
    "#\n",
    "#Move the preprocessed chat history to conversations\n",
    "#\n",
    "conversation= chat_words\n",
    "chatbot2.set_trainer(ListTrainer)\n",
    "#\n",
    "#training the conversation\n",
    "#\n",
    "chatbot2.train(conversation)\n",
    "print \"I ran\""
   ]
  },
  {
   "cell_type": "code",
   "execution_count": null,
   "metadata": {
    "collapsed": false
   },
   "outputs": [
    {
     "name": "stdout",
     "output_type": "stream",
     "text": [
      "what is data science\n",
      "The current time is 10:58 PM\n",
      "awehagtis \n",
      "ibm leader data science sector post graduate program business analytics big data pgp ba bd offered aegis association ibm please go course page details\n",
      "location\n",
      "necessarily experience bi ba bd added advantage digest grasp concepts easily\n",
      "aegis\n",
      "since ibm partner intention offer skilled manpower market organizations deploy technologies mainly infosphere ibm ibm si likely largest recruiters\n",
      "python\n",
      "depends upon area want pursue sample project could be: developing recommendation engine project report fraud detection using hadoop building predictive model retail client etc\n",
      "r or python\n",
      "yes certainly invest time leverage rich experience may also like consult friends network issue please take informed decision make fake promises jobs career prospects\n",
      "teaching\n",
      "since ibm partner intention offer skilled manpower market organizations deploy technologies mainly infosphere ibm ibm si likely largest recruiters\n"
     ]
    }
   ],
   "source": [
    "while True:\n",
    "    try:\n",
    "     bot_input = chatbot2.get_response(None)\n",
    "\n",
    "    except(KeyboardInterrupt, EOFError, SystemExit):\n",
    "        break"
   ]
  },
  {
   "cell_type": "code",
   "execution_count": null,
   "metadata": {
    "collapsed": true
   },
   "outputs": [],
   "source": []
  },
  {
   "cell_type": "code",
   "execution_count": null,
   "metadata": {
    "collapsed": true
   },
   "outputs": [],
   "source": []
  }
 ],
 "metadata": {
  "anaconda-cloud": {},
  "kernelspec": {
   "display_name": "Python [default]",
   "language": "python",
   "name": "python2"
  },
  "language_info": {
   "codemirror_mode": {
    "name": "ipython",
    "version": 2
   },
   "file_extension": ".py",
   "mimetype": "text/x-python",
   "name": "python",
   "nbconvert_exporter": "python",
   "pygments_lexer": "ipython2",
   "version": "2.7.12"
  }
 },
 "nbformat": 4,
 "nbformat_minor": 1
}
