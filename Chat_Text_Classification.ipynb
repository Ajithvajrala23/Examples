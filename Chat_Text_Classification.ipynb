{
 "cells": [
  {
   "cell_type": "code",
   "execution_count": 1,
   "metadata": {
    "collapsed": true
   },
   "outputs": [],
   "source": [
    "import nltk\n",
    "from nltk.stem.lancaster import LancasterStemmer\n",
    "#Word stemmer\n",
    "stemmer = LancasterStemmer()"
   ]
  },
  {
   "cell_type": "code",
   "execution_count": 2,
   "metadata": {
    "collapsed": false
   },
   "outputs": [
    {
     "name": "stdout",
     "output_type": "stream",
     "text": [
      "49 sentences of training data\n"
     ]
    }
   ],
   "source": [
    "# Step2\n",
    "# provide 3 classes of training data\n",
    "training_data=[]\n",
    "training_data.append({\"class\":\"greeting\", \"sentence\":\"how are you?\"})\n",
    "training_data.append({\"class\":\"greeting\", \"sentence\":\"how is your day?\"})\n",
    "training_data.append({\"class\":\"greeting\", \"sentence\":\"good day\"})\n",
    "training_data.append({\"class\":\"greeting\", \"sentence\":\"how is it going today?\"})\n",
    "training_data.append({\"class\":\"greeting\", \"sentence\":\"hi Good morning?\"})\n",
    "training_data.append({\"class\":\"greeting\", \"sentence\":\"nice thank you\"})\n",
    "training_data.append({\"class\":\"greeting\", \"sentence\":\"its okay fine\"})\n",
    "training_data.append({\"class\":\"greeting\", \"sentence\":\"Welcome\"})\n",
    "##\n",
    "training_data.append({\"class\":\"Aegis\", \"sentence\":\"Where is Aegis located?\"})\n",
    "training_data.append({\"class\":\"Aegis\", \"sentence\":\"How Aegis related to IBM?\"})\n",
    "training_data.append({\"class\":\"Aegis\", \"sentence\":\"What is Aegis?\"})\n",
    "#\n",
    "#\n",
    "training_data.append({\"class\":\"Study Loan\", \"sentence\":\"Will I get study loan?\"})\n",
    "training_data.append({\"class\":\"Study Loan\", \"sentence\":\"Can I get Scholarship\"})\n",
    "training_data.append({\"class\":\"Study Loan\", \"sentence\":\"Which bank will provide study loan?\"})\n",
    "#\n",
    "#\n",
    "training_data.append({\"class\":\"Faculty\", \"sentence\":\"Who will be teaching R?\"})\n",
    "training_data.append({\"class\":\"Faculty\", \"sentence\":\"R lecturer?\"})\n",
    "training_data.append({\"class\":\"Faculty\", \"sentence\":\"Who will be teaching Python?\"})\n",
    "training_data.append({\"class\":\"Faculty\", \"sentence\":\"Python lecturer?\"})\n",
    "training_data.append({\"class\":\"Faculty\", \"sentence\":\"faculty for R?\"})\n",
    "training_data.append({\"class\":\"Faculty\", \"sentence\":\"faculty for python?\"})\n",
    "training_data.append({\"class\":\"Faculty\", \"sentence\":\"faculty for Hadoop?\"})\n",
    "training_data.append({\"class\":\"Faculty\", \"sentence\":\"Who will be teaching hadoop?\"})\n",
    "training_data.append({\"class\":\"Faculty\", \"sentence\":\"Hadoop lecturer?\"})\n",
    "training_data.append({\"class\":\"Faculty\", \"sentence\":\"faculty for Statistics and probability?\"})\n",
    "#\n",
    "training_data.append({\"class\":\"Python\", \"sentence\":\"teacher for R?\"})\n",
    "training_data.append({\"class\":\"R Program\", \"sentence\":\"Who will be teaching R?\"})\n",
    "training_data.append({\"class\":\"R Program\", \"sentence\":\"R lecturer?\"})\n",
    "training_data.append({\"class\":\"R Program\", \"sentence\":\"faculty for R?\"})\n",
    "training_data.append({\"class\":\"R Program\", \"sentence\":\"What is R programming?\"})\n",
    "training_data.append({\"class\":\"R Program\", \"sentence\":\"What is better for Data Analytics Python or R?\"})\n",
    "training_data.append({\"class\":\"R Program\", \"sentence\":\"Python or R?\"})\n",
    "training_data.append({\"class\":\"R Program\", \"sentence\":\"How course evaluation for R is done?\"})\n",
    "training_data.append({\"class\":\"R Program\", \"sentence\":\"R course curriculum?\"})\n",
    "training_data.append({\"class\":\"R Program\", \"sentence\":\"Should I have any prior experience for learning R or Python?\"})\n",
    "#\n",
    "#\n",
    "training_data.append({\"class\":\"Python\", \"sentence\":\"teacher for Python?\"})\n",
    "training_data.append({\"class\":\"Python\", \"sentence\":\"Who will be teaching Python?\"})\n",
    "training_data.append({\"class\":\"Python\", \"sentence\":\"Python lecturer?\"})\n",
    "training_data.append({\"class\":\"Python\", \"sentence\":\"Faculty for Python?\"})\n",
    "training_data.append({\"class\":\"Python\", \"sentence\":\"What is use of Python in data Analytics?\"})\n",
    "training_data.append({\"class\":\"Python\", \"sentence\":\"Python course curriculum?\"})\n",
    "training_data.append({\"class\":\"Python\", \"sentence\":\"Python or R?\"})\n",
    "training_data.append({\"class\":\"Python\", \"sentence\":\"Should I have any prior experience for learning R or Python?\"})\n",
    "training_data.append({\"class\":\"Python\", \"sentence\":\"How course evaluation for Python is done?\"})\n",
    "#\n",
    "#\n",
    "training_data.append({\"class\":\"Uncertain\", \"sentence\":\"what if I miss the lecture\"})\n",
    "training_data.append({\"class\":\"Uncertain\", \"sentence\":\"Will I get job\"})\n",
    "training_data.append({\"class\":\"Uncertain\", \"sentence\":\"Certification accepted recognized by other companies?\"})\n",
    "training_data.append({\"class\":\"Uncertain\", \"sentence\":\"will you suggest me to join the course?\"})\n",
    "training_data.append({\"class\":\"Uncertain\", \"sentence\":\"How I can do internship if I join online model?\"})\n",
    "training_data.append({\"class\":\"Uncertain\", \"sentence\":\"Will I get job after internship?\"})\n",
    "##\n",
    "#\n",
    "print (\"%s sentences of training data\" % len(training_data))"
   ]
  },
  {
   "cell_type": "code",
   "execution_count": 3,
   "metadata": {
    "collapsed": false
   },
   "outputs": [
    {
     "name": "stdout",
     "output_type": "stream",
     "text": [
      "Corpus words and counts: {'and': 1, 'program': 1, 'learn': 2, 'evalu': 2, 'do': 1, 'of': 1, 'is': 9, 'wil': 10, 'pri': 2, 'it': 2, 'by': 1, 'onlin': 1, 'intern': 2, 'ar': 1, 'in': 1, 'recogn': 1, 'miss': 1, 'any': 2, 'if': 2, 'loc': 1, 'what': 5, 'cours': 5, 'thank': 1, 'for': 13, 'how': 7, 'suggest': 1, u'expery': 2, 'model': 1, 'hadoop': 3, 'should': 2, 'wher': 1, 'to': 2, 'going': 1, 'morn': 1, 'rel': 1, 'aft': 1, 'you': 3, 'fin': 1, 'loan': 2, 'today': 1, 'curricul': 2, 'be': 5, 'stat': 1, 'good': 2, 'okay': 1, 'which': 1, 'yo': 1, 'get': 4, 'python': 15, 'nic': 1, u'company': 1, 'who': 5, 'dat': 2, 'job': 2, 'hi': 1, u'acceiv': 1, 'facul': 6, 'join': 2, 'teach': 7, 'day': 2, 'bank': 1, 'welcom': 1, 'me': 1, 'don': 2, 'ibm': 1, 'i': 9, u'analys': 2, 'study': 2, 'us': 1, u'prob': 1, 'oth': 1, 'provid': 1, 'cert': 1, 'r': 15, 'can': 2, 'aeg': 3, 'lect': 6, 'the': 2, 'hav': 2, 'or': 5, 'bet': 1, 'scholarship': 1} \n",
      "\n",
      "Class words: {'Uncertain': ['what', 'if', 'i', 'miss', 'the', 'lect', 'wil', 'i', 'get', 'job', 'cert', u'acceiv', 'recogn', 'by', 'oth', u'company', 'wil', 'you', 'suggest', 'me', 'to', 'join', 'the', 'cours', 'how', 'i', 'can', 'do', 'intern', 'if', 'i', 'join', 'onlin', 'model', 'wil', 'i', 'get', 'job', 'aft', 'intern'], 'Study Loan': ['wil', 'i', 'get', 'study', 'loan', 'can', 'i', 'get', 'scholarship', 'which', 'bank', 'wil', 'provid', 'study', 'loan'], 'Python': ['teach', 'for', 'r', 'teach', 'for', 'python', 'who', 'wil', 'be', 'teach', 'python', 'python', 'lect', 'facul', 'for', 'python', 'what', 'is', 'us', 'of', 'python', 'in', 'dat', u'analys', 'python', 'cours', 'curricul', 'python', 'or', 'r', 'should', 'i', 'hav', 'any', 'pri', u'expery', 'for', 'learn', 'r', 'or', 'python', 'how', 'cours', 'evalu', 'for', 'python', 'is', 'don'], 'greeting': ['how', 'ar', 'you', 'how', 'is', 'yo', 'day', 'good', 'day', 'how', 'is', 'it', 'going', 'today', 'hi', 'good', 'morn', 'nic', 'thank', 'you', 'it', 'okay', 'fin', 'welcom'], 'Aegis': ['wher', 'is', 'aeg', 'loc', 'how', 'aeg', 'rel', 'to', 'ibm', 'what', 'is', 'aeg'], 'Faculty': ['who', 'wil', 'be', 'teach', 'r', 'r', 'lect', 'who', 'wil', 'be', 'teach', 'python', 'python', 'lect', 'facul', 'for', 'r', 'facul', 'for', 'python', 'facul', 'for', 'hadoop', 'who', 'wil', 'be', 'teach', 'hadoop', 'hadoop', 'lect', 'facul', 'for', 'stat', 'and', u'prob'], 'R Program': ['who', 'wil', 'be', 'teach', 'r', 'r', 'lect', 'facul', 'for', 'r', 'what', 'is', 'r', 'program', 'what', 'is', 'bet', 'for', 'dat', u'analys', 'python', 'or', 'r', 'python', 'or', 'r', 'how', 'cours', 'evalu', 'for', 'r', 'is', 'don', 'r', 'cours', 'curricul', 'should', 'i', 'hav', 'any', 'pri', u'expery', 'for', 'learn', 'r', 'or', 'python']}\n"
     ]
    }
   ],
   "source": [
    "# capture unique stemmed words in the training corpus\n",
    "corpus_words = {}\n",
    "class_words = {}\n",
    "# turn a list into a set (of unique items) and then a list again (this removes duplicates)\n",
    "classes = list(set([a['class'] for a in training_data]))\n",
    "for c in classes:\n",
    "    # prepare a list of words within each class\n",
    "    class_words[c] = []\n",
    "\n",
    "# loop through each sentence in our training data\n",
    "for data in training_data:\n",
    "    # tokenize each sentence into words\n",
    "    for word in nltk.word_tokenize(data['sentence']):\n",
    "        # ignore a some things\n",
    "        if word not in [\"?\", \"'s\"]:\n",
    "            # stem and lowercase each word\n",
    "            stemmed_word = stemmer.stem(word.lower())\n",
    "            # have we not seen this word already?\n",
    "            if stemmed_word not in corpus_words:\n",
    "                corpus_words[stemmed_word] = 1\n",
    "            else:\n",
    "                corpus_words[stemmed_word] += 1\n",
    "\n",
    "            # add the word to our words in class list\n",
    "            class_words[data['class']].extend([stemmed_word])\n",
    "\n",
    "# we now have each stemmed word and the number of occurances of the word in our training corpus (the word's commonality)\n",
    "print (\"Corpus words and counts: %s \\n\" % corpus_words)\n",
    "# also we have all words in each class\n",
    "print (\"Class words: %s\" % class_words)"
   ]
  },
  {
   "cell_type": "code",
   "execution_count": 5,
   "metadata": {
    "collapsed": false
   },
   "outputs": [],
   "source": [
    "from nltk.corpus import stopwords\n",
    "esw = set(stopwords.words(\"english\"))\n"
   ]
  },
  {
   "cell_type": "code",
   "execution_count": 6,
   "metadata": {
    "collapsed": true
   },
   "outputs": [],
   "source": [
    "# calculate a score for a given class\n",
    "\n",
    "def calculate_class_score(sentence, class_name, show_details=True):\n",
    "    score = 0\n",
    "    # tokenize each word in our new sentence\n",
    "    new_words = [w for w in nltk.word_tokenize(sentence) if w not in esw]\n",
    "    for word in new_words:\n",
    "        # check to see if the stem of the word is in any of our classes\n",
    "        if stemmer.stem(word.lower()) in class_words[class_name]:\n",
    "            # treat each word with same weight\n",
    "            score += 1\n",
    "            \n",
    "            if show_details:\n",
    "                print (\"   match: %s\" % stemmer.stem(word.lower() ))\n",
    "    return score\n"
   ]
  },
  {
   "cell_type": "code",
   "execution_count": 8,
   "metadata": {
    "collapsed": false
   },
   "outputs": [
    {
     "name": "stdout",
     "output_type": "stream",
     "text": [
      "Class: Uncertain  Score: 0 \n",
      "\n",
      "Class: Study Loan  Score: 0 \n",
      "\n",
      "   match: r\n",
      "   match: python\n",
      "Class: Python  Score: 2 \n",
      "\n",
      "Class: greeting  Score: 0 \n",
      "\n",
      "Class: Aegis  Score: 0 \n",
      "\n",
      "   match: r\n",
      "   match: python\n",
      "Class: Faculty  Score: 2 \n",
      "\n",
      "   match: r\n",
      "   match: python\n",
      "Class: R Program  Score: 2 \n",
      "\n"
     ]
    }
   ],
   "source": [
    "# now we can find the class with the highest score\n",
    "sentence = \"r or python\"\n",
    "for c in class_words.keys():\n",
    "    print (\"Class: %s  Score: %s \\n\" % (c, calculate_class_score(sentence, c)))"
   ]
  },
  {
   "cell_type": "code",
   "execution_count": null,
   "metadata": {
    "collapsed": true
   },
   "outputs": [],
   "source": []
  }
 ],
 "metadata": {
  "anaconda-cloud": {},
  "kernelspec": {
   "display_name": "Python [default]",
   "language": "python",
   "name": "python2"
  },
  "language_info": {
   "codemirror_mode": {
    "name": "ipython",
    "version": 2
   },
   "file_extension": ".py",
   "mimetype": "text/x-python",
   "name": "python",
   "nbconvert_exporter": "python",
   "pygments_lexer": "ipython2",
   "version": "2.7.12"
  }
 },
 "nbformat": 4,
 "nbformat_minor": 1
}
