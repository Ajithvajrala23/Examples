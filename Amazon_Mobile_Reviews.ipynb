{
 "cells": [
  {
   "cell_type": "code",
   "execution_count": null,
   "metadata": {
    "collapsed": true
   },
   "outputs": [],
   "source": [
    "import pandas as pd\n",
    "import numpy as np\n",
    "import math"
   ]
  },
  {
   "cell_type": "code",
   "execution_count": 4,
   "metadata": {},
   "outputs": [],
   "source": [
    "df = pd.read_csv(r\"E:\\Aegis\\Kaggle\\Amazon_Mobile reviews\\amazon-reviews-unlocked-mobile-phones/Amazon_Unlocked_Mobile.csv\")"
   ]
  },
  {
   "cell_type": "code",
   "execution_count": 7,
   "metadata": {},
   "outputs": [
    {
     "data": {
      "text/html": [
       "<div>\n",
       "<table border=\"1\" class=\"dataframe\">\n",
       "  <thead>\n",
       "    <tr style=\"text-align: right;\">\n",
       "      <th></th>\n",
       "      <th>Product Name</th>\n",
       "      <th>Brand Name</th>\n",
       "      <th>Price</th>\n",
       "      <th>Rating</th>\n",
       "      <th>Reviews</th>\n",
       "      <th>Review Votes</th>\n",
       "    </tr>\n",
       "  </thead>\n",
       "  <tbody>\n",
       "    <tr>\n",
       "      <th>0</th>\n",
       "      <td>\"CLEAR CLEAN ESN\" Sprint EPIC 4G Galaxy SPH-D7...</td>\n",
       "      <td>Samsung</td>\n",
       "      <td>199.99</td>\n",
       "      <td>5</td>\n",
       "      <td>I feel so LUCKY to have found this used (phone...</td>\n",
       "      <td>1.0</td>\n",
       "    </tr>\n",
       "    <tr>\n",
       "      <th>1</th>\n",
       "      <td>\"CLEAR CLEAN ESN\" Sprint EPIC 4G Galaxy SPH-D7...</td>\n",
       "      <td>Samsung</td>\n",
       "      <td>199.99</td>\n",
       "      <td>4</td>\n",
       "      <td>nice phone, nice up grade from my pantach revu...</td>\n",
       "      <td>0.0</td>\n",
       "    </tr>\n",
       "    <tr>\n",
       "      <th>2</th>\n",
       "      <td>\"CLEAR CLEAN ESN\" Sprint EPIC 4G Galaxy SPH-D7...</td>\n",
       "      <td>Samsung</td>\n",
       "      <td>199.99</td>\n",
       "      <td>5</td>\n",
       "      <td>Very pleased</td>\n",
       "      <td>0.0</td>\n",
       "    </tr>\n",
       "    <tr>\n",
       "      <th>3</th>\n",
       "      <td>\"CLEAR CLEAN ESN\" Sprint EPIC 4G Galaxy SPH-D7...</td>\n",
       "      <td>Samsung</td>\n",
       "      <td>199.99</td>\n",
       "      <td>4</td>\n",
       "      <td>It works good but it goes slow sometimes but i...</td>\n",
       "      <td>0.0</td>\n",
       "    </tr>\n",
       "    <tr>\n",
       "      <th>4</th>\n",
       "      <td>\"CLEAR CLEAN ESN\" Sprint EPIC 4G Galaxy SPH-D7...</td>\n",
       "      <td>Samsung</td>\n",
       "      <td>199.99</td>\n",
       "      <td>4</td>\n",
       "      <td>Great phone to replace my lost phone. The only...</td>\n",
       "      <td>0.0</td>\n",
       "    </tr>\n",
       "  </tbody>\n",
       "</table>\n",
       "</div>"
      ],
      "text/plain": [
       "                                        Product Name Brand Name   Price  \\\n",
       "0  \"CLEAR CLEAN ESN\" Sprint EPIC 4G Galaxy SPH-D7...    Samsung  199.99   \n",
       "1  \"CLEAR CLEAN ESN\" Sprint EPIC 4G Galaxy SPH-D7...    Samsung  199.99   \n",
       "2  \"CLEAR CLEAN ESN\" Sprint EPIC 4G Galaxy SPH-D7...    Samsung  199.99   \n",
       "3  \"CLEAR CLEAN ESN\" Sprint EPIC 4G Galaxy SPH-D7...    Samsung  199.99   \n",
       "4  \"CLEAR CLEAN ESN\" Sprint EPIC 4G Galaxy SPH-D7...    Samsung  199.99   \n",
       "\n",
       "   Rating                                            Reviews  Review Votes  \n",
       "0       5  I feel so LUCKY to have found this used (phone...           1.0  \n",
       "1       4  nice phone, nice up grade from my pantach revu...           0.0  \n",
       "2       5                                       Very pleased           0.0  \n",
       "3       4  It works good but it goes slow sometimes but i...           0.0  \n",
       "4       4  Great phone to replace my lost phone. The only...           0.0  "
      ]
     },
     "execution_count": 7,
     "metadata": {},
     "output_type": "execute_result"
    }
   ],
   "source": [
    "df.head()"
   ]
  },
  {
   "cell_type": "code",
   "execution_count": 8,
   "metadata": {},
   "outputs": [
    {
     "data": {
      "text/plain": [
       "Product Name     object\n",
       "Brand Name       object\n",
       "Price           float64\n",
       "Rating            int64\n",
       "Reviews          object\n",
       "Review Votes    float64\n",
       "dtype: object"
      ]
     },
     "execution_count": 8,
     "metadata": {},
     "output_type": "execute_result"
    }
   ],
   "source": [
    "df.dtypes"
   ]
  },
  {
   "cell_type": "code",
   "execution_count": 15,
   "metadata": {},
   "outputs": [
    {
     "data": {
      "text/plain": [
       "413840"
      ]
     },
     "execution_count": 15,
     "metadata": {},
     "output_type": "execute_result"
    }
   ],
   "source": [
    "#Check for Size of the data set\n",
    "df['Product Name'].count()"
   ]
  },
  {
   "cell_type": "code",
   "execution_count": 13,
   "metadata": {},
   "outputs": [
    {
     "data": {
      "text/plain": [
       "Product Name        0\n",
       "Brand Name      65171\n",
       "Price            5933\n",
       "Rating              0\n",
       "Reviews            62\n",
       "Review Votes    12296\n",
       "dtype: int64"
      ]
     },
     "execution_count": 13,
     "metadata": {},
     "output_type": "execute_result"
    }
   ],
   "source": [
    "#Check for NUll values in the data set\n",
    "df.apply(lambda x: sum(x.isnull()))"
   ]
  },
  {
   "cell_type": "code",
   "execution_count": 20,
   "metadata": {},
   "outputs": [
    {
     "data": {
      "text/plain": [
       "Product Name      4410\n",
       "Brand Name         385\n",
       "Price             1755\n",
       "Rating               5\n",
       "Reviews         162492\n",
       "Review Votes       242\n",
       "dtype: int64"
      ]
     },
     "execution_count": 20,
     "metadata": {},
     "output_type": "execute_result"
    }
   ],
   "source": [
    "#Look at no.of categorical variables in the data\n",
    "df.apply(lambda x: len(x.unique()))\n"
   ]
  },
  {
   "cell_type": "code",
   "execution_count": 21,
   "metadata": {},
   "outputs": [
    {
     "name": "stdout",
     "output_type": "stream",
     "text": [
      "Samsung                                        65747\n",
      "BLU                                            63248\n",
      "Apple                                          58186\n",
      "LG                                             22417\n",
      "BlackBerry                                     16872\n",
      "Nokia                                          16806\n",
      "Motorola                                       13417\n",
      "HTC                                            12724\n",
      "CNPGD                                          12613\n",
      "OtterBox                                        7989\n",
      "Sony                                            7828\n",
      "Posh Mobile                                     6765\n",
      "Huawei                                          3325\n",
      "LG Electronics                                  3105\n",
      "samsung                                         2431\n",
      "Polaroid                                        1729\n",
      "ZTE                                             1669\n",
      "Alcatel                                         1414\n",
      "Asus                                            1324\n",
      "verykool                                        1156\n",
      "Casio                                           1111\n",
      "Blackberry                                      1004\n",
      "Lenovo                                           918\n",
      "Ultrabox                                         896\n",
      "RCA                                              886\n",
      "FIGO                                             878\n",
      "Pantech                                          849\n",
      "Samsung Korea LTD                                839\n",
      "Amazon.com, LLC *** KEEP PORules ACTIVE ***      800\n",
      "Star                                             782\n",
      "                                               ...  \n",
      "Crown                                              2\n",
      "iPartsBuy                                          2\n",
      "Research In Motion                                 1\n",
      "Android                                            1\n",
      "LeEco                                              1\n",
      "Danger Inc.                                        1\n",
      "apple                                              1\n",
      "TracFone                                           1\n",
      "AeroAntenna                                        1\n",
      "H2O                                                1\n",
      "S7 active                                          1\n",
      "MOTOROLA                                           1\n",
      "ToShare Tech                                       1\n",
      "UHAPPY                                             1\n",
      "OLA Products                                       1\n",
      "Grade - A                                          1\n",
      "Vostrostone                                        1\n",
      "Conquest S8 Pro 3GB Smartphone (Black)             1\n",
      "Concox                                             1\n",
      "SENTEL                                             1\n",
      "KIKAR                                              1\n",
      "Blackberry (Rim)                                   1\n",
      "VIP                                                1\n",
      "Moxee Technologies                                 1\n",
      "ssiony                                             1\n",
      "ThL                                                1\n",
      "RomaCostume                                        1\n",
      "M-HORSE                                            1\n",
      "Sanyo, Katana                                      1\n",
      "AT&T                                               1\n",
      "Name: Brand Name, dtype: int64\n"
     ]
    }
   ],
   "source": [
    "#there are a  total of 4410 types of products sold, \n",
    "# which are from 385 different brands\n",
    "print df['Brand Name'].value_counts()"
   ]
  },
  {
   "cell_type": "code",
   "execution_count": 25,
   "metadata": {},
   "outputs": [
    {
     "name": "stdout",
     "output_type": "stream",
     "text": [
      "Samsung       65747\n",
      "BLU           63248\n",
      "Apple         58186\n",
      "LG            22417\n",
      "BlackBerry    16872\n",
      "Nokia         16806\n",
      "Motorola      13417\n",
      "HTC           12724\n",
      "CNPGD         12613\n",
      "OtterBox       7989\n",
      "Name: Brand Name, dtype: int64\n"
     ]
    }
   ],
   "source": [
    "# Out of all brands see which are top selling brands\n",
    "\n",
    "print df['Brand Name'].value_counts().head(10)"
   ]
  },
  {
   "cell_type": "code",
   "execution_count": 26,
   "metadata": {
    "collapsed": true
   },
   "outputs": [],
   "source": [
    "# Samsung, BLU, Apple -->holds major market share of selling the mobiles"
   ]
  },
  {
   "cell_type": "code",
   "execution_count": 46,
   "metadata": {},
   "outputs": [
    {
     "name": "stdout",
     "output_type": "stream",
     "text": [
      "291.795237559\n",
      "245.401875174\n",
      "306.287868455\n"
     ]
    }
   ],
   "source": [
    "#See the avg price of each mobile\n",
    "print df['Price'][df['Brand Name'] =='Samsung'].mean()\n",
    "print df['Price'][df['Brand Name'] =='BLU'].mean()\n",
    "print df['Price'][df['Brand Name'] =='Apple'].mean()"
   ]
  },
  {
   "cell_type": "code",
   "execution_count": 47,
   "metadata": {},
   "outputs": [
    {
     "name": "stdout",
     "output_type": "stream",
     "text": [
      "count    64805.000000\n",
      "mean       291.795238\n",
      "std        259.777817\n",
      "min          9.990000\n",
      "25%               NaN\n",
      "50%               NaN\n",
      "75%               NaN\n",
      "max       2408.730000\n",
      "Name: Price, dtype: float64\n",
      "count    60997.000000\n",
      "mean       245.401875\n",
      "std        480.441467\n",
      "min         13.260000\n",
      "25%               NaN\n",
      "50%               NaN\n",
      "75%               NaN\n",
      "max       2000.000000\n",
      "Name: Price, dtype: float64\n",
      "count    58094.000000\n",
      "mean       306.287868\n",
      "std        238.546478\n",
      "min         19.780000\n",
      "25%               NaN\n",
      "50%               NaN\n",
      "75%               NaN\n",
      "max       1250.000000\n",
      "Name: Price, dtype: float64\n"
     ]
    }
   ],
   "source": [
    "print df['Price'][df['Brand Name'] =='Samsung'].describe()\n",
    "print df['Price'][df['Brand Name'] =='BLU'].describe()\n",
    "print df['Price'][df['Brand Name'] =='Apple'].describe()"
   ]
  },
  {
   "cell_type": "code",
   "execution_count": null,
   "metadata": {
    "collapsed": true
   },
   "outputs": [],
   "source": []
  }
 ],
 "metadata": {
  "anaconda-cloud": {},
  "kernelspec": {
   "display_name": "Python 3",
   "language": "python",
   "name": "python3"
  },
  "language_info": {
   "codemirror_mode": {
    "name": "ipython",
    "version": 3
   },
   "file_extension": ".py",
   "mimetype": "text/x-python",
   "name": "python",
   "nbconvert_exporter": "python",
   "pygments_lexer": "ipython3",
   "version": "3.6.3"
  }
 },
 "nbformat": 4,
 "nbformat_minor": 1
}
