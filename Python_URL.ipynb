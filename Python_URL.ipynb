{
 "cells": [
  {
   "cell_type": "code",
   "execution_count": 9,
   "metadata": {
    "collapsed": false
   },
   "outputs": [
    {
     "name": "stdout",
     "output_type": "stream",
     "text": [
      "6\n",
      "6\n",
      "6\n",
      "6\n"
     ]
    },
    {
     "data": {
      "text/plain": [
       "[<function __main__.create_multipliers.<locals>.multiplier>,\n",
       " <function __main__.create_multipliers.<locals>.multiplier>,\n",
       " <function __main__.create_multipliers.<locals>.multiplier>,\n",
       " <function __main__.create_multipliers.<locals>.multiplier>]"
      ]
     },
     "execution_count": 9,
     "metadata": {},
     "output_type": "execute_result"
    }
   ],
   "source": [
    "def create_multipliers():\n",
    "    multipliers = []\n",
    "\n",
    "    for i in range(4):\n",
    "        def multiplier(x):\n",
    "            return i * x\n",
    "        multipliers.append(multiplier)\n",
    "\n",
    "    return multipliers\n",
    "\n",
    "for multiplier in create_multipliers():\n",
    "    print(multiplier(2))\n",
    "    \n",
    "create_multipliers()"
   ]
  },
  {
   "cell_type": "code",
   "execution_count": 13,
   "metadata": {
    "collapsed": false
   },
   "outputs": [
    {
     "name": "stdout",
     "output_type": "stream",
     "text": [
      "<b>1Hello. args: ('world', 'pythess'), kwargs: {'where': 'soho'}</b>\n",
      "<b>1Hello. args: ('world', 'pythess'), kwargs: {'where': 'soho'}</b>\n"
     ]
    }
   ],
   "source": [
    "# Decorated function with *args and **kewargs\n",
    "\n",
    "def makebold(fn):\n",
    "    def wrapped(*args, **kwargs):\n",
    "        return \"<b>1\" + fn(*args, **kwargs) + \"</b>\"\n",
    "    return wrapped\n",
    "\n",
    "@makebold  # hello = makebold(hello)\n",
    "def hello(*args, **kwargs):\n",
    "    return \"Hello. args: {}, kwargs: {}\".format(args, kwargs)\n",
    "\n",
    "print(hello('world', 'pythess', where='soho'))\n",
    "print(hello('world', 'pythess', where='soho'))"
   ]
  },
  {
   "cell_type": "code",
   "execution_count": 24,
   "metadata": {
    "collapsed": false
   },
   "outputs": [
    {
     "ename": "TypeError",
     "evalue": "makeitalic() takes 0 positional arguments but 1 was given",
     "output_type": "error",
     "traceback": [
      "\u001b[0;31m---------------------------------------------------------------------------\u001b[0m",
      "\u001b[0;31mTypeError\u001b[0m                                 Traceback (most recent call last)",
      "\u001b[0;32m<ipython-input-24-aff29a7d51ac>\u001b[0m in \u001b[0;36m<module>\u001b[0;34m()\u001b[0m\n\u001b[1;32m     13\u001b[0m \u001b[1;33m\u001b[0m\u001b[0m\n\u001b[1;32m     14\u001b[0m \u001b[1;33m@\u001b[0m\u001b[0mmakeitalic\u001b[0m\u001b[1;33m\u001b[0m\u001b[0m\n\u001b[0;32m---> 15\u001b[0;31m \u001b[1;33m@\u001b[0m\u001b[0mmakebold\u001b[0m  \u001b[1;31m# hello = makeitalic(makebold(hello))\u001b[0m\u001b[1;33m\u001b[0m\u001b[0m\n\u001b[0m\u001b[1;32m     16\u001b[0m \u001b[1;32mdef\u001b[0m \u001b[0mhello\u001b[0m\u001b[1;33m(\u001b[0m\u001b[1;33m*\u001b[0m\u001b[0margs\u001b[0m\u001b[1;33m,\u001b[0m \u001b[1;33m**\u001b[0m\u001b[0mkwargs\u001b[0m\u001b[1;33m)\u001b[0m\u001b[1;33m:\u001b[0m\u001b[1;33m\u001b[0m\u001b[0m\n\u001b[1;32m     17\u001b[0m     \u001b[1;31m#print typeof()\u001b[0m\u001b[1;33m\u001b[0m\u001b[1;33m\u001b[0m\u001b[0m\n",
      "\u001b[0;31mTypeError\u001b[0m: makeitalic() takes 0 positional arguments but 1 was given"
     ]
    }
   ],
   "source": [
    "# Decorators can be combined\n",
    "\n",
    "def makeitalic():\n",
    "    def wrapped(*args, **kwargs):\n",
    "        return \"<i>\" + fn(*args, **kwargs) + \"</i>\"\n",
    "    #print(type(wrapped))\n",
    "    return wrapped\n",
    "\n",
    "def makebold(fn):\n",
    "    def wrapped(*args, **kwargs):\n",
    "        return \"<b>\" + fn(*args, **kwargs) + \"</b>\"\n",
    "    return wrapped\n",
    "\n",
    "@makeitalic\n",
    "@makebold  # hello = makeitalic(makebold(hello))\n",
    "def hello(*args, **kwargs):\n",
    "    #print typeof()\n",
    "    return \"Hello. args: {}, kwargs: {}\".format(args, kwargs)\n",
    "\n",
    "print(hello('world', 'pythess', where='soho'))\n",
    "\n",
    "#print(wrapp"
   ]
  },
  {
   "cell_type": "code",
   "execution_count": null,
   "metadata": {
    "collapsed": true
   },
   "outputs": [],
   "source": []
  }
 ],
 "metadata": {
  "anaconda-cloud": {},
  "kernelspec": {
   "display_name": "Python [conda root]",
   "language": "python",
   "name": "conda-root-py"
  },
  "language_info": {
   "codemirror_mode": {
    "name": "ipython",
    "version": 3
   },
   "file_extension": ".py",
   "mimetype": "text/x-python",
   "name": "python",
   "nbconvert_exporter": "python",
   "pygments_lexer": "ipython3",
   "version": "3.5.2"
  }
 },
 "nbformat": 4,
 "nbformat_minor": 1
}
