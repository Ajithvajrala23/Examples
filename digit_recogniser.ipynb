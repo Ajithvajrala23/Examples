{
 "cells": [
  {
   "cell_type": "code",
   "execution_count": 8,
   "metadata": {},
   "outputs": [
    {
     "name": "stdout",
     "output_type": "stream",
     "text": [
      "Hello world!\n",
      "(42000, 785)\n",
      "Index(['label', 'pixel0', 'pixel1', 'pixel2', 'pixel3', 'pixel4', 'pixel5',\n",
      "       'pixel6', 'pixel7', 'pixel8',\n",
      "       ...\n",
      "       'pixel774', 'pixel775', 'pixel776', 'pixel777', 'pixel778', 'pixel779',\n",
      "       'pixel780', 'pixel781', 'pixel782', 'pixel783'],\n",
      "      dtype='object', length=785)\n",
      "<bound method NDFrame.describe of        label  pixel0  pixel1  pixel2  pixel3  pixel4  pixel5  pixel6  pixel7  \\\n",
      "0          1       0       0       0       0       0       0       0       0   \n",
      "1          0       0       0       0       0       0       0       0       0   \n",
      "2          1       0       0       0       0       0       0       0       0   \n",
      "3          4       0       0       0       0       0       0       0       0   \n",
      "4          0       0       0       0       0       0       0       0       0   \n",
      "5          0       0       0       0       0       0       0       0       0   \n",
      "6          7       0       0       0       0       0       0       0       0   \n",
      "7          3       0       0       0       0       0       0       0       0   \n",
      "8          5       0       0       0       0       0       0       0       0   \n",
      "9          3       0       0       0       0       0       0       0       0   \n",
      "10         8       0       0       0       0       0       0       0       0   \n",
      "11         9       0       0       0       0       0       0       0       0   \n",
      "12         1       0       0       0       0       0       0       0       0   \n",
      "13         3       0       0       0       0       0       0       0       0   \n",
      "14         3       0       0       0       0       0       0       0       0   \n",
      "15         1       0       0       0       0       0       0       0       0   \n",
      "16         2       0       0       0       0       0       0       0       0   \n",
      "17         0       0       0       0       0       0       0       0       0   \n",
      "18         7       0       0       0       0       0       0       0       0   \n",
      "19         5       0       0       0       0       0       0       0       0   \n",
      "20         8       0       0       0       0       0       0       0       0   \n",
      "21         6       0       0       0       0       0       0       0       0   \n",
      "22         2       0       0       0       0       0       0       0       0   \n",
      "23         0       0       0       0       0       0       0       0       0   \n",
      "24         2       0       0       0       0       0       0       0       0   \n",
      "25         3       0       0       0       0       0       0       0       0   \n",
      "26         6       0       0       0       0       0       0       0       0   \n",
      "27         9       0       0       0       0       0       0       0       0   \n",
      "28         9       0       0       0       0       0       0       0       0   \n",
      "29         7       0       0       0       0       0       0       0       0   \n",
      "...      ...     ...     ...     ...     ...     ...     ...     ...     ...   \n",
      "41970      2       0       0       0       0       0       0       0       0   \n",
      "41971      3       0       0       0       0       0       0       0       0   \n",
      "41972      4       0       0       0       0       0       0       0       0   \n",
      "41973      4       0       0       0       0       0       0       0       0   \n",
      "41974      3       0       0       0       0       0       0       0       0   \n",
      "41975      9       0       0       0       0       0       0       0       0   \n",
      "41976      2       0       0       0       0       0       0       0       0   \n",
      "41977      4       0       0       0       0       0       0       0       0   \n",
      "41978      4       0       0       0       0       0       0       0       0   \n",
      "41979      4       0       0       0       0       0       0       0       0   \n",
      "41980      7       0       0       0       0       0       0       0       0   \n",
      "41981      2       0       0       0       0       0       0       0       0   \n",
      "41982      8       0       0       0       0       0       0       0       0   \n",
      "41983      7       0       0       0       0       0       0       0       0   \n",
      "41984      3       0       0       0       0       0       0       0       0   \n",
      "41985      3       0       0       0       0       0       0       0       0   \n",
      "41986      0       0       0       0       0       0       0       0       0   \n",
      "41987      5       0       0       0       0       0       0       0       0   \n",
      "41988      0       0       0       0       0       0       0       0       0   \n",
      "41989      5       0       0       0       0       0       0       0       0   \n",
      "41990      3       0       0       0       0       0       0       0       0   \n",
      "41991      1       0       0       0       0       0       0       0       0   \n",
      "41992      9       0       0       0       0       0       0       0       0   \n",
      "41993      6       0       0       0       0       0       0       0       0   \n",
      "41994      4       0       0       0       0       0       0       0       0   \n",
      "41995      0       0       0       0       0       0       0       0       0   \n",
      "41996      1       0       0       0       0       0       0       0       0   \n",
      "41997      7       0       0       0       0       0       0       0       0   \n",
      "41998      6       0       0       0       0       0       0       0       0   \n",
      "41999      9       0       0       0       0       0       0       0       0   \n",
      "\n",
      "       pixel8    ...     pixel774  pixel775  pixel776  pixel777  pixel778  \\\n",
      "0           0    ...            0         0         0         0         0   \n",
      "1           0    ...            0         0         0         0         0   \n",
      "2           0    ...            0         0         0         0         0   \n",
      "3           0    ...            0         0         0         0         0   \n",
      "4           0    ...            0         0         0         0         0   \n",
      "5           0    ...            0         0         0         0         0   \n",
      "6           0    ...            0         0         0         0         0   \n",
      "7           0    ...            0         0         0         0         0   \n",
      "8           0    ...            0         0         0         0         0   \n",
      "9           0    ...            0         0         0         0         0   \n",
      "10          0    ...            0         0         0         0         0   \n",
      "11          0    ...            0         0         0         0         0   \n",
      "12          0    ...            0         0         0         0         0   \n",
      "13          0    ...            0         0         0         0         0   \n",
      "14          0    ...            0         0         0         0         0   \n",
      "15          0    ...            0         0         0         0         0   \n",
      "16          0    ...            0         0         0         0         0   \n",
      "17          0    ...            0         0         0         0         0   \n",
      "18          0    ...            0         0         0         0         0   \n",
      "19          0    ...            0         0         0         0         0   \n",
      "20          0    ...            0         0         0         0         0   \n",
      "21          0    ...            0         0         0         0         0   \n",
      "22          0    ...            0         0         0         0         0   \n",
      "23          0    ...            0         0         0         0         0   \n",
      "24          0    ...            0         0         0         0         0   \n",
      "25          0    ...            0         0         0         0         0   \n",
      "26          0    ...            0         0         0         0         0   \n",
      "27          0    ...            0         0         0         0         0   \n",
      "28          0    ...            0         0         0         0         0   \n",
      "29          0    ...            0         0         0         0         0   \n",
      "...       ...    ...          ...       ...       ...       ...       ...   \n",
      "41970       0    ...            0         0         0         0         0   \n",
      "41971       0    ...            0         0         0         0         0   \n",
      "41972       0    ...            0         0         0         0         0   \n",
      "41973       0    ...            0         0         0         0         0   \n",
      "41974       0    ...            0         0         0         0         0   \n",
      "41975       0    ...            0         0         0         0         0   \n",
      "41976       0    ...            0         0         0         0         0   \n",
      "41977       0    ...            0         0         0         0         0   \n",
      "41978       0    ...            0         0         0         0         0   \n",
      "41979       0    ...            0         0         0         0         0   \n",
      "41980       0    ...           27       253       110         0         0   \n",
      "41981       0    ...            0         0         0         0         0   \n",
      "41982       0    ...            0         0         0         0         0   \n",
      "41983       0    ...            0         0         0         0         0   \n",
      "41984       0    ...            0         0         0         0         0   \n",
      "41985       0    ...            0         0         0         0         0   \n",
      "41986       0    ...            0         0         0         0         0   \n",
      "41987       0    ...            0         0         0         0         0   \n",
      "41988       0    ...            0         0         0         0         0   \n",
      "41989       0    ...            0         0         0         0         0   \n",
      "41990       0    ...            0         0         0         0         0   \n",
      "41991       0    ...            0         0         0         0         0   \n",
      "41992       0    ...            0         0         0         0         0   \n",
      "41993       0    ...            0         0         0         0         0   \n",
      "41994       0    ...            0         0         0         0         0   \n",
      "41995       0    ...            0         0         0         0         0   \n",
      "41996       0    ...            0         0         0         0         0   \n",
      "41997       0    ...            0         0         0         0         0   \n",
      "41998       0    ...            0         0         0         0         0   \n",
      "41999       0    ...            0         0         0         0         0   \n",
      "\n",
      "       pixel779  pixel780  pixel781  pixel782  pixel783  \n",
      "0             0         0         0         0         0  \n",
      "1             0         0         0         0         0  \n",
      "2             0         0         0         0         0  \n",
      "3             0         0         0         0         0  \n",
      "4             0         0         0         0         0  \n",
      "5             0         0         0         0         0  \n",
      "6             0         0         0         0         0  \n",
      "7             0         0         0         0         0  \n",
      "8             0         0         0         0         0  \n",
      "9             0         0         0         0         0  \n",
      "10            0         0         0         0         0  \n",
      "11            0         0         0         0         0  \n",
      "12            0         0         0         0         0  \n",
      "13            0         0         0         0         0  \n",
      "14            0         0         0         0         0  \n",
      "15            0         0         0         0         0  \n",
      "16            0         0         0         0         0  \n",
      "17            0         0         0         0         0  \n",
      "18            0         0         0         0         0  \n",
      "19            0         0         0         0         0  \n",
      "20            0         0         0         0         0  \n",
      "21            0         0         0         0         0  \n",
      "22            0         0         0         0         0  \n",
      "23            0         0         0         0         0  \n",
      "24            0         0         0         0         0  \n",
      "25            0         0         0         0         0  \n",
      "26            0         0         0         0         0  \n",
      "27            0         0         0         0         0  \n",
      "28            0         0         0         0         0  \n",
      "29            0         0         0         0         0  \n",
      "...         ...       ...       ...       ...       ...  \n",
      "41970         0         0         0         0         0  \n",
      "41971         0         0         0         0         0  \n",
      "41972         0         0         0         0         0  \n",
      "41973         0         0         0         0         0  \n",
      "41974         0         0         0         0         0  \n",
      "41975         0         0         0         0         0  \n",
      "41976         0         0         0         0         0  \n",
      "41977         0         0         0         0         0  \n",
      "41978         0         0         0         0         0  \n",
      "41979         0         0         0         0         0  \n",
      "41980         0         0         0         0         0  \n",
      "41981         0         0         0         0         0  \n",
      "41982         0         0         0         0         0  \n",
      "41983         0         0         0         0         0  \n",
      "41984         0         0         0         0         0  \n",
      "41985         0         0         0         0         0  \n",
      "41986         0         0         0         0         0  \n",
      "41987         0         0         0         0         0  \n",
      "41988         0         0         0         0         0  \n",
      "41989         0         0         0         0         0  \n",
      "41990         0         0         0         0         0  \n",
      "41991         0         0         0         0         0  \n",
      "41992         0         0         0         0         0  \n",
      "41993         0         0         0         0         0  \n",
      "41994         0         0         0         0         0  \n",
      "41995         0         0         0         0         0  \n",
      "41996         0         0         0         0         0  \n",
      "41997         0         0         0         0         0  \n",
      "41998         0         0         0         0         0  \n",
      "41999         0         0         0         0         0  \n",
      "\n",
      "[42000 rows x 785 columns]>\n",
      "Done\n"
     ]
    }
   ],
   "source": [
    "import numpy as np # linear algebra\n",
    "import pandas as pd # data processing, CSV file I/O (e.g. pd.read_csv)\n",
    "\n",
    "# Input data files are available in the \"../input/\" directory.\n",
    "# For example, running this (by clicking run or pressing Shift+Enter) will list the files in the input directory\n",
    "\n",
    "#from subprocess import check_output\n",
    "#print(check_output([\"ls\", \"../input\"]).decode(\"utf8\"))\n",
    "\n",
    "\n",
    "# Any results you write to the current directory are saved as output.\n",
    "print(\"Hello world!\")\n",
    "train_df = pd.read_csv(r'C:\\Users\\1004365\\Desktop\\Ajith TCS Internal\\Kaggle\\Digit Recogniser/train.csv')\n",
    "test_df = pd.read_csv(r'C:\\Users\\1004365\\Desktop\\Ajith TCS Internal\\Kaggle\\Digit Recogniser/test.csv')\n",
    "\n",
    "def data_checkup(data):\n",
    "    print(data.shape)\n",
    "    print(data.columns)\n",
    "    print(data.describe)\n",
    "    \n",
    "data_checkup(train_df)\n",
    "print(\"Done\")"
   ]
  },
  {
   "cell_type": "code",
   "execution_count": 3,
   "metadata": {},
   "outputs": [
    {
     "name": "stdout",
     "output_type": "stream",
     "text": [
      "Done\n",
      "   label  pixel0  pixel1  pixel2  pixel3  pixel4  pixel5  pixel6  pixel7  \\\n",
      "0      1       0       0       0       0       0       0       0       0   \n",
      "1      0       0       0       0       0       0       0       0       0   \n",
      "2      1       0       0       0       0       0       0       0       0   \n",
      "3      4       0       0       0       0       0       0       0       0   \n",
      "4      0       0       0       0       0       0       0       0       0   \n",
      "\n",
      "   pixel8    ...     pixel774  pixel775  pixel776  pixel777  pixel778  \\\n",
      "0       0    ...            0         0         0         0         0   \n",
      "1       0    ...            0         0         0         0         0   \n",
      "2       0    ...            0         0         0         0         0   \n",
      "3       0    ...            0         0         0         0         0   \n",
      "4       0    ...            0         0         0         0         0   \n",
      "\n",
      "   pixel779  pixel780  pixel781  pixel782  pixel783  \n",
      "0         0         0         0         0         0  \n",
      "1         0         0         0         0         0  \n",
      "2         0         0         0         0         0  \n",
      "3         0         0         0         0         0  \n",
      "4         0         0         0         0         0  \n",
      "\n",
      "[5 rows x 785 columns]\n",
      "   pixel0  pixel1  pixel2  pixel3  pixel4  pixel5  pixel6  pixel7  pixel8  \\\n",
      "0       0       0       0       0       0       0       0       0       0   \n",
      "1       0       0       0       0       0       0       0       0       0   \n",
      "2       0       0       0       0       0       0       0       0       0   \n",
      "3       0       0       0       0       0       0       0       0       0   \n",
      "4       0       0       0       0       0       0       0       0       0   \n",
      "\n",
      "   pixel9   ...     label_0  label_1  label_2  label_3  label_4  label_5  \\\n",
      "0       0   ...           0        1        0        0        0        0   \n",
      "1       0   ...           1        0        0        0        0        0   \n",
      "2       0   ...           0        1        0        0        0        0   \n",
      "3       0   ...           0        0        0        0        1        0   \n",
      "4       0   ...           1        0        0        0        0        0   \n",
      "\n",
      "   label_6  label_7  label_8  label_9  \n",
      "0        0        0        0        0  \n",
      "1        0        0        0        0  \n",
      "2        0        0        0        0  \n",
      "3        0        0        0        0  \n",
      "4        0        0        0        0  \n",
      "\n",
      "[5 rows x 794 columns]\n"
     ]
    }
   ],
   "source": [
    "#print(train_df['label'])\n",
    "#Output has 10 labels so divide the\n",
    "train_copy = train_df.copy()\n",
    "#lambda(x:x.label =0 ,)\n",
    "#print(train_df.head())\n",
    "train_copy = pd.get_dummies(train_copy, columns=['label'])\n",
    "\n",
    "#train_copy = pd.get_dummies(train_copy[])\n",
    "print(\"Done\")\n",
    "print(train_df.head())\n",
    "print(train_copy.head())\n"
   ]
  },
  {
   "cell_type": "code",
   "execution_count": 4,
   "metadata": {},
   "outputs": [
    {
     "data": {
      "text/plain": [
       "pixel0      0\n",
       "pixel1      0\n",
       "pixel2      0\n",
       "pixel3      0\n",
       "pixel4      0\n",
       "pixel5      0\n",
       "pixel6      0\n",
       "pixel7      0\n",
       "pixel8      0\n",
       "pixel9      0\n",
       "pixel10     0\n",
       "pixel11     0\n",
       "pixel12     0\n",
       "pixel13     0\n",
       "pixel14     0\n",
       "pixel15     0\n",
       "pixel16     0\n",
       "pixel17     0\n",
       "pixel18     0\n",
       "pixel19     0\n",
       "pixel20     0\n",
       "pixel21     0\n",
       "pixel22     0\n",
       "pixel23     0\n",
       "pixel24     0\n",
       "pixel25     0\n",
       "pixel26     0\n",
       "pixel27     0\n",
       "pixel28     0\n",
       "pixel29     0\n",
       "           ..\n",
       "pixel764    0\n",
       "pixel765    0\n",
       "pixel766    0\n",
       "pixel767    0\n",
       "pixel768    0\n",
       "pixel769    0\n",
       "pixel770    0\n",
       "pixel771    0\n",
       "pixel772    0\n",
       "pixel773    0\n",
       "pixel774    0\n",
       "pixel775    0\n",
       "pixel776    0\n",
       "pixel777    0\n",
       "pixel778    0\n",
       "pixel779    0\n",
       "pixel780    0\n",
       "pixel781    0\n",
       "pixel782    0\n",
       "pixel783    0\n",
       "label_0     0\n",
       "label_1     0\n",
       "label_2     0\n",
       "label_3     0\n",
       "label_4     0\n",
       "label_5     0\n",
       "label_6     0\n",
       "label_7     0\n",
       "label_8     0\n",
       "label_9     0\n",
       "Length: 794, dtype: int64"
      ]
     },
     "execution_count": 4,
     "metadata": {},
     "output_type": "execute_result"
    }
   ],
   "source": [
    "train_copy.apply(lambda x : sum(x.isnull()))"
   ]
  },
  {
   "cell_type": "code",
   "execution_count": 5,
   "metadata": {},
   "outputs": [
    {
     "name": "stdout",
     "output_type": "stream",
     "text": [
      "1    4684\n",
      "7    4401\n",
      "3    4351\n",
      "9    4188\n",
      "2    4177\n",
      "6    4137\n",
      "0    4132\n",
      "4    4072\n",
      "8    4063\n",
      "5    3795\n",
      "Name: label, dtype: int64\n"
     ]
    }
   ],
   "source": [
    "counts = pd.value_counts(train_df['label'])\n",
    "print(counts)"
   ]
  },
  {
   "cell_type": "code",
   "execution_count": 6,
   "metadata": {
    "collapsed": true
   },
   "outputs": [],
   "source": [
    "Y = train_df['label']\n",
    "train_copy2 = train_df.copy()\n",
    "del train_copy2['label']\n",
    "X = train_copy2"
   ]
  },
  {
   "cell_type": "code",
   "execution_count": 7,
   "metadata": {},
   "outputs": [
    {
     "name": "stdout",
     "output_type": "stream",
     "text": [
      "[[4132    0    0    0    0    0    0    0    0    0]\n",
      " [   0 4683    0    0    0    0    0    1    0    0]\n",
      " [   0    0 4174    0    0    0    0    0    3    0]\n",
      " [   0    1    1 4347    0    1    0    0    1    0]\n",
      " [   1    1    0    0 4069    0    0    0    1    0]\n",
      " [   1    0    0    3    0 3791    0    0    0    0]\n",
      " [   0    1    0    0    0    0 4135    0    1    0]\n",
      " [   0    1    2    1    0    0    0 4396    0    1]\n",
      " [   0    1    1    2    1    1    0    0 4056    1]\n",
      " [   1    1    0    4    2    2    0    5    0 4173]]\n"
     ]
    }
   ],
   "source": [
    "from sklearn.metrics import confusion_matrix\n",
    "from sklearn.ensemble import RandomForestClassifier\n",
    "clf = RandomForestClassifier(random_state=0)\n",
    "clf.fit(X,Y)\n",
    "from __future__ import division\n",
    "y_pred_train = clf.predict(X)\n",
    "y_pred_test = clf.predict(test_df)\n",
    "print(confusion_matrix(Y, y_pred_train))"
   ]
  },
  {
   "cell_type": "code",
   "execution_count": 9,
   "metadata": {
    "collapsed": true
   },
   "outputs": [],
   "source": [
    "y_pred_test = pd.DataFrame(y_pred_test)\n"
   ]
  },
  {
   "cell_type": "code",
   "execution_count": 11,
   "metadata": {
    "collapsed": true
   },
   "outputs": [],
   "source": [
    "y_pred_test.to_csv(\"sample_submission.csv\")"
   ]
  },
  {
   "cell_type": "markdown",
   "metadata": {
    "collapsed": true
   },
   "source": [
    "# Tensor Flow"
   ]
  },
  {
   "cell_type": "markdown",
   "metadata": {},
   "source": [
    "TensorFlow separates the definition of computation from the execution of the computation. In practice, this means that you need to:\n",
    "\n",
    "1. Create a computational graph\n",
    "\n",
    "2. Run a session to execute the operations in the graph\n",
    "\n",
    "More efficient computation is a major benefit of this approach. The graph structure facilitates computation across multiple CPUs or GPUs by allowing you to direct the computation of different parts of the graph to specific CPUs / GPUs.\n",
    "\n",
    "\n",
    "Ref: https://www.kaggle.com/ndalziel/beginner-s-guide-to-classification-tensorflow"
   ]
  },
  {
   "cell_type": "code",
   "execution_count": 1,
   "metadata": {},
   "outputs": [
    {
     "name": "stdout",
     "output_type": "stream",
     "text": [
      "35\n"
     ]
    }
   ],
   "source": [
    "import tensorflow as tf\n",
    "\n",
    "#step1 Computational graph\n",
    "\n",
    "op1 = tf.add(3,4)\n",
    "op2 = tf.multiply(op1,5)\n",
    "\n",
    "#step2 Run a session to execute the operations on the graph\n",
    "\n",
    "with tf.Session() as sess:\n",
    "    print(sess.run(op2))"
   ]
  },
  {
   "cell_type": "code",
   "execution_count": 5,
   "metadata": {},
   "outputs": [
    {
     "name": "stdout",
     "output_type": "stream",
     "text": [
      "35\n"
     ]
    }
   ],
   "source": [
    "#If we want to define the graph in more general terms and pass in variables, we need to create placeholders...\n",
    "\n",
    "# Step0 create placeholders\n",
    "\n",
    "X = tf.placeholder(tf.int32, name=\"X\")\n",
    "Y = tf.placeholder(tf.int32, name=\"Y\")\n",
    "Z = tf.placeholder(tf.int32, name=\"Z\")\n",
    "\n",
    "#step1 Create computational graph\n",
    "op1 = tf.add(X,Y)\n",
    "op2 = tf.multiply(op1,Z)\n",
    "\n",
    "# Run a session to execute operations in the graph\n",
    "\n",
    "var1 = 3; var2 = 4; var3 = 5\n",
    "\n",
    "with tf.Session()  as sess:\n",
    "    result = sess.run(op2, feed_dict= {X:var1, Y:var2, Z:var3})\n",
    "    print(result)"
   ]
  },
  {
   "cell_type": "code",
   "execution_count": 6,
   "metadata": {
    "collapsed": true
   },
   "outputs": [],
   "source": [
    "#"
   ]
  },
  {
   "cell_type": "markdown",
   "metadata": {},
   "source": [
    "# IMAGE RECOGNITION USING TENSORFLOW"
   ]
  },
  {
   "cell_type": "code",
   "execution_count": 7,
   "metadata": {
    "collapsed": true
   },
   "outputs": [],
   "source": [
    "import math\n",
    "import numpy as np\n",
    "import pandas as pd\n",
    "import matplotlib.pyplot as plt\n",
    "import tensorflow as tf\n",
    "from tensorflow.python.framework import ops"
   ]
  },
  {
   "cell_type": "code",
   "execution_count": 8,
   "metadata": {
    "collapsed": true
   },
   "outputs": [],
   "source": [
    "train_df = pd.read_csv(r'C:\\Users\\1004365\\Desktop\\Ajith TCS Internal\\Kaggle\\Digit Recogniser/train.csv')\n",
    "test_df = pd.read_csv(r'C:\\Users\\1004365\\Desktop\\Ajith TCS Internal\\Kaggle\\Digit Recogniser/test.csv')"
   ]
  },
  {
   "cell_type": "code",
   "execution_count": 13,
   "metadata": {},
   "outputs": [
    {
     "data": {
      "image/png": "[encoded data removed]",
      "text/plain": [
       "<matplotlib.figure.Figure at 0xcfef898>"
      ]
     },
     "metadata": {},
     "output_type": "display_data"
    }
   ],
   "source": [
    "X_traindev = train_df.loc[:, \"pixel0\" : \"pixel783\"]\n",
    "Y_traindev = train_df.loc[:,\"label\"]\n",
    "\n",
    "%matplotlib inline\n",
    "for n in range(1, 10):\n",
    "    plt.subplot(1, 10 ,n)\n",
    "    plt.imshow(X_traindev.iloc[n].values.reshape((28,28)), cmap='gray')\n",
    "    plt.title(Y_traindev.iloc[n])"
   ]
  },
  {
   "cell_type": "code",
   "execution_count": 15,
   "metadata": {},
   "outputs": [
    {
     "name": "stdout",
     "output_type": "stream",
     "text": [
      "Number of training examples: 40000\n",
      "Number of cross-validation examples = 2000\n",
      "X_train shape: (784, 40000)\n",
      "Y_train shape: (10, 40000)\n",
      "X_dev shape: (784, 2000)\n",
      "Y_dev shape: (10, 2000)\n",
      "X_test shape: (784, 28000)\n"
     ]
    }
   ],
   "source": [
    "#create training data set \n",
    "X_train = X_traindev[:40000].T.values\n",
    "Y_train = Y_traindev[:40000]\n",
    "\n",
    "Y_train = pd.get_dummies(Y_train).T.values\n",
    "\n",
    "#create cross validation set\n",
    "X_dev = X_traindev[40000:42000].T.values\n",
    "Y_dev = Y_traindev[40000:42000]\n",
    "Y_dev = pd.get_dummies(Y_dev).T.values\n",
    "\n",
    "#\n",
    "X_test = test_df.T.values\n",
    "\n",
    "print(\"Number of training examples: \" + str(X_train.shape[1]))\n",
    "print(\"Number of cross-validation examples = \" + str(X_dev.shape[1]))\n",
    "print (\"X_train shape: \" + str(X_train.shape))\n",
    "print (\"Y_train shape: \" + str(Y_train.shape))\n",
    "print (\"X_dev shape: \" + str(X_dev.shape))\n",
    "print (\"Y_dev shape: \" + str(Y_dev.shape))\n",
    "print (\"X_test shape: \" + str(X_test.shape))"
   ]
  },
  {
   "cell_type": "code",
   "execution_count": null,
   "metadata": {
    "collapsed": true
   },
   "outputs": [],
   "source": [
    "#"
   ]
  },
  {
   "cell_type": "markdown",
   "metadata": {},
   "source": [
    "Setting up the network\n",
    "\n",
    "We need to start off by initializing variables, creating placeholders and implementing the computation graph. At thre core of the function below are the feed-foward equations:\n",
    "\n",
    "Z(i) = W(i)*A(i-1) + b(i)\n",
    "A(i) = activation_function * Z(i)"
   ]
  },
  {
   "cell_type": "code",
   "execution_count": 30,
   "metadata": {
    "collapsed": true
   },
   "outputs": [],
   "source": [
    "def create_graph(X_train,Y_train):\n",
    "    #setup\n",
    "    ops.reset_default_graph()                         # reset computation graph\n",
    "\n",
    "    # initialize variables\n",
    "    (n_x, training_examples) = X_train.shape                          \n",
    "    n_y = Y_train.shape[0]                            \n",
    "    costs = []\n",
    "\n",
    "    # create placeholders\n",
    "    X = tf.placeholder(tf.float32, shape=(n_x, None),name = \"X\")\n",
    "    Y = tf.placeholder(tf.float32, shape=(n_y, None),name = \"Y\")\n",
    "    \n",
    "    # initialize weights\n",
    "    W1 = tf.get_variable(\"W1\", [32,784], initializer = tf.contrib.layers.xavier_initializer(seed = 1))\n",
    "    W2 = tf.get_variable(\"W2\", [16,32], initializer = tf.contrib.layers.xavier_initializer(seed = 1))\n",
    "    W3 = tf.get_variable(\"W3\", [10,16], initializer = tf.contrib.layers.xavier_initializer(seed = 1))\n",
    "    \n",
    "    # initialize biases\n",
    "    b1 = tf.get_variable(\"b1\", [32,1], initializer = tf.zeros_initializer())\n",
    "    b2 = tf.get_variable(\"b2\", [16,1], initializer = tf.zeros_initializer())\n",
    "    b3 = tf.get_variable(\"b3\", [10,1], initializer = tf.zeros_initializer())\n",
    "\n",
    "    # create the graph for forward propagation\n",
    "    Z1 = tf.add(tf.matmul(W1,X),b1)                                             \n",
    "    A1 = tf.nn.relu(Z1)                                                         \n",
    "    Z2 = tf.add(tf.matmul(W2,A1),b2)                                            \n",
    "    A2 = tf.nn.relu(Z2)                                                         \n",
    "    Z3 = tf.add(tf.matmul(W3,A2),b3)\n",
    "    return X, Y, Z3, training_examples"
   ]
  },
  {
   "cell_type": "markdown",
   "metadata": {},
   "source": [
    "#"
   ]
  },
  {
   "cell_type": "markdown",
   "metadata": {},
   "source": [
    "Next, we'll specifiy how the model is optimized by choosing the optimization algorithm and the cost (or loss) function. The Adam optimization algorithm works well across a wide range of neural network architectures. (Adam essentially combined two other successful algorithms - gradient descent with momentum, and RMSProp.) For the loss function, 'softmax_cross_entropy_with_logits' is a good choice for multi-class classification."
   ]
  },
  {
   "cell_type": "code",
   "execution_count": 31,
   "metadata": {
    "collapsed": true
   },
   "outputs": [],
   "source": [
    "def define_optimization(Z3, Y):\n",
    "    logits = tf.transpose(Z3)\n",
    "    labels = tf.transpose(Y)\n",
    "    cost = tf.reduce_mean(tf.nn.softmax_cross_entropy_with_logits(logits=logits, labels=labels))\n",
    "    optimizer = tf.train.AdamOptimizer(learning_rate=0.001).minimize(cost)\n",
    "    return optimizer, cost"
   ]
  },
  {
   "cell_type": "markdown",
   "metadata": {},
   "source": [
    "Before we train the network, we need a function that creates randomized batches of training data so that we can implement mini-batch optimization (which will lead to faster optimization convergence)..."
   ]
  },
  {
   "cell_type": "code",
   "execution_count": 32,
   "metadata": {},
   "outputs": [],
   "source": [
    "def random_mini_batches(X,Y, mini_batch_size = 64, seed = 0):\n",
    "    #\n",
    "    m = X.shape[1]\n",
    "    mini_batches = []\n",
    "    np.random.seed(seed)\n",
    "    \n",
    "    #step 1 Shuffile X,Y\n",
    "    permutation = list(np.random.permutation(m))\n",
    "    shuffled_X = X[:, permutation]\n",
    "    shuffled_Y = Y[:, permutation].reshape((Y.shape[0], m))\n",
    "    \n",
    "    #Step2: Partition (Shuffled_X, Shuffled_Y) minus the end case\n",
    "    num_complete_minibatches = math.floor(m/mini_batch_size)\n",
    "    for k in range(0, num_complete_minibatches):\n",
    "        mini_batch_X = shuffled_X[:, k* mini_batch_size : k*mini_batch_size + mini_batch_size]\n",
    "        mini_batch_Y = shuffled_Y[:, k* mini_batch_size : k*mini_batch_size + mini_batch_size]\n",
    "        mini_batch = (mini_batch_X, mini_batch_Y)\n",
    "        mini_batches.append(mini_batch)\n",
    "        \n",
    "    #Handling the end case (last mini-batch < mini_batch_size)\n",
    "    if m% mini_batch_size != 0:\n",
    "        mini_batch_X = shuffled_X[:, num_complete_minibatches*mini_batch_size : m]\n",
    "        mini_batch_Y = shuffled_Y[:, num_complete_minibatches*mini_batch_size : m]\n",
    "        mini_batch = (mini_batch_X, mini_batch_Y)\n",
    "        mini_batches.append(mini_batch)\n",
    "    return mini_batches"
   ]
  },
  {
   "cell_type": "code",
   "execution_count": null,
   "metadata": {
    "collapsed": true
   },
   "outputs": [],
   "source": []
  },
  {
   "cell_type": "markdown",
   "metadata": {},
   "source": [
    "Training the network:\n",
    "\n",
    "Now, we'll open the TensorFlow session and execute the computation graph. Note that 1 epoch (or iteration) corresponds to a complete pass through the training set. For each epoch, we execute forward-prop and back-prop on all of the mini-batches. We'll print out the train and dev (or corss-validation) accuracy for each epoch, so can diagnose how well the neural network is performing..."
   ]
  },
  {
   "cell_type": "code",
   "execution_count": 33,
   "metadata": {
    "collapsed": true
   },
   "outputs": [],
   "source": [
    "def train_network(X_train, Y_train, X_dev, Y_dev, X_test, num_epochs, minibatch_size=64, print_n_epochs =1):\n",
    "    #\n",
    "    tf. set_random_seed(1)\n",
    "    X,Y,Z_final, training_examples = create_graph(X_train, Y_train)\n",
    "    optimizer, cost = define_optimization(Z_final, Y)\n",
    "    init = tf.global_variables_initializer()   #set up variables for initialization\n",
    "    \n",
    "    with tf.Session() as sess:\n",
    "        sess.run(init) # initializes variables we created\n",
    "        for epoch in range(num_epochs):\n",
    "            epoch_cost = 0\n",
    "            num_minibatches = int(training_examples /minibatch_size)\n",
    "            minibatches = random_mini_batches(X_train, Y_train)\n",
    "            \n",
    "            for minibatch in minibatches:\n",
    "                (minibatch_X, minibatch_Y) = minibatch\n",
    "                _, minibatch_cost = sess.run([optimizer, cost], \n",
    "                                            feed_dict ={X:minibatch_X, Y:minibatch_Y})\n",
    "                \n",
    "                epoch_cost += minibatch_cost / num_minibatches\n",
    "                \n",
    "            print(\"cost after epoch %i: %.3f\"%(epoch+1, epoch_cost), end = \"\")\n",
    "            correct_prediction = tf.equal(tf.argmax(Z_final), tf.argmax(Y))\n",
    "            accuracy = tf.reduce_mean(tf.cast(correct_prediction, \"float\"))\n",
    "            print(\"    Train Accuracy: %.3f\"%(accuracy.eval({X:X_train, Y:Y_train})), end=\"\")\n",
    "            print(\"    Dev Accuracy: %.3f\"%(accuracy.eval({X:X_dev, Y:Y_dev})))\n",
    "            \n",
    "        print(\"Network has been trained\")\n",
    "        predict = tf.argmax(Z_final).eval({X: X_test})\n",
    "        probs = tf.nn.softmax(Z_final).eval({X:X_test})\n",
    "        return predict, probs"
   ]
  },
  {
   "cell_type": "code",
   "execution_count": 34,
   "metadata": {},
   "outputs": [
    {
     "name": "stdout",
     "output_type": "stream",
     "text": [
      "cost after epoch 1: 2.947    Train Accuracy: 0.626    Dev Accuracy: 0.628\n",
      "cost after epoch 2: 0.901    Train Accuracy: 0.747    Dev Accuracy: 0.747\n",
      "cost after epoch 3: 0.663    Train Accuracy: 0.846    Dev Accuracy: 0.844\n",
      "cost after epoch 4: 0.527    Train Accuracy: 0.876    Dev Accuracy: 0.863\n",
      "cost after epoch 5: 0.441    Train Accuracy: 0.875    Dev Accuracy: 0.867\n",
      "cost after epoch 6: 0.372    Train Accuracy: 0.900    Dev Accuracy: 0.895\n",
      "cost after epoch 7: 0.328    Train Accuracy: 0.907    Dev Accuracy: 0.898\n",
      "cost after epoch 8: 0.295    Train Accuracy: 0.918    Dev Accuracy: 0.899\n",
      "cost after epoch 9: 0.264    Train Accuracy: 0.923    Dev Accuracy: 0.913\n",
      "cost after epoch 10: 0.243    Train Accuracy: 0.938    Dev Accuracy: 0.928\n",
      "cost after epoch 11: 0.221    Train Accuracy: 0.930    Dev Accuracy: 0.919\n",
      "cost after epoch 12: 0.207    Train Accuracy: 0.934    Dev Accuracy: 0.919\n",
      "cost after epoch 13: 0.196    Train Accuracy: 0.935    Dev Accuracy: 0.921\n",
      "cost after epoch 14: 0.190    Train Accuracy: 0.942    Dev Accuracy: 0.928\n",
      "cost after epoch 15: 0.182    Train Accuracy: 0.943    Dev Accuracy: 0.926\n",
      "cost after epoch 16: 0.172    Train Accuracy: 0.946    Dev Accuracy: 0.926\n",
      "cost after epoch 17: 0.164    Train Accuracy: 0.948    Dev Accuracy: 0.931\n",
      "cost after epoch 18: 0.157    Train Accuracy: 0.957    Dev Accuracy: 0.939\n",
      "cost after epoch 19: 0.148    Train Accuracy: 0.957    Dev Accuracy: 0.938\n",
      "cost after epoch 20: 0.144    Train Accuracy: 0.958    Dev Accuracy: 0.933\n",
      "Network has been trained\n"
     ]
    }
   ],
   "source": [
    "Y_predict, Y_probs = train_network(X_train, Y_train, X_dev, Y_dev, X_test, num_epochs=20)"
   ]
  },
  {
   "cell_type": "code",
   "execution_count": 35,
   "metadata": {
    "collapsed": true
   },
   "outputs": [],
   "source": [
    "Y_predict = Y_predict.reshape(-1,1)\n",
    "predictions_df = pd.DataFrame(Y_predict, columns=['Label'])\n",
    "predictions_df['ImageID'] = predictions_df.index + 1\n",
    "submission_df = predictions_df[predictions_df.columns[::-1]]\n",
    "submission_df.to_csv(\"submission.csv\", index=False, header=True)"
   ]
  },
  {
   "cell_type": "code",
   "execution_count": null,
   "metadata": {
    "collapsed": true
   },
   "outputs": [],
   "source": []
  }
 ],
 "metadata": {
  "kernelspec": {
   "display_name": "Python 3",
   "language": "python",
   "name": "python3"
  },
  "language_info": {
   "codemirror_mode": {
    "name": "ipython",
    "version": 3
   },
   "file_extension": ".py",
   "mimetype": "text/x-python",
   "name": "python",
   "nbconvert_exporter": "python",
   "pygments_lexer": "ipython3",
   "version": "3.5.4"
  }
 },
 "nbformat": 4,
 "nbformat_minor": 2
}
