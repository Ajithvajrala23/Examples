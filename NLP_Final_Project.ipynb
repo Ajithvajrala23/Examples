{
 "cells": [
  {
   "cell_type": "code",
   "execution_count": 1,
   "metadata": {
    "collapsed": true
   },
   "outputs": [],
   "source": [
    "import pandas as pd\n",
    "import pickle"
   ]
  },
  {
   "cell_type": "code",
   "execution_count": 2,
   "metadata": {
    "collapsed": false
   },
   "outputs": [],
   "source": [
    "with open('E:\\Aegis\\NLP\\Project/yelp_data_subset.pkl', 'rb') as f:\n",
    "    data = pickle.load(f)"
   ]
  },
  {
   "cell_type": "code",
   "execution_count": 3,
   "metadata": {
    "collapsed": false
   },
   "outputs": [],
   "source": [
    "dtest = data"
   ]
  },
  {
   "cell_type": "code",
   "execution_count": 4,
   "metadata": {
    "collapsed": false
   },
   "outputs": [],
   "source": [
    "#Converting list to array\n",
    "import numpy as np\n",
    "myarray = np.asarray(dtest)"
   ]
  },
  {
   "cell_type": "code",
   "execution_count": 5,
   "metadata": {
    "collapsed": false
   },
   "outputs": [],
   "source": [
    "#myarray"
   ]
  },
  {
   "cell_type": "code",
   "execution_count": 6,
   "metadata": {
    "collapsed": false
   },
   "outputs": [],
   "source": [
    "#Converting list to data frame using Pandas\n",
    "\n",
    "df = pd.DataFrame(dtest, columns=['votes', 'user_id', 'review_id', 'text','business_id','date','type'])"
   ]
  },
  {
   "cell_type": "code",
   "execution_count": 7,
   "metadata": {
    "collapsed": false
   },
   "outputs": [
    {
     "data": {
      "text/html": [
       "<div>\n",
       "<table border=\"1\" class=\"dataframe\">\n",
       "  <thead>\n",
       "    <tr style=\"text-align: right;\">\n",
       "      <th></th>\n",
       "      <th>votes</th>\n",
       "      <th>user_id</th>\n",
       "      <th>review_id</th>\n",
       "      <th>text</th>\n",
       "      <th>business_id</th>\n",
       "      <th>date</th>\n",
       "      <th>type</th>\n",
       "    </tr>\n",
       "  </thead>\n",
       "  <tbody>\n",
       "    <tr>\n",
       "      <th>0</th>\n",
       "      <td>{u'funny': 0, u'useful': 0, u'cool': 0}</td>\n",
       "      <td>PUFPaY9KxDAcGqfsorJp3Q</td>\n",
       "      <td>Ya85v4eqdd6k9Od8HbQjyA</td>\n",
       "      <td>Mr Hoagie is an institution. Walking in, it do...</td>\n",
       "      <td>5UmKMjUEUNdYWqANhGckJw</td>\n",
       "      <td>2012-08-01</td>\n",
       "      <td>review</td>\n",
       "    </tr>\n",
       "    <tr>\n",
       "      <th>1</th>\n",
       "      <td>{u'funny': 0, u'useful': 0, u'cool': 0}</td>\n",
       "      <td>Iu6AxdBYGR4A0wspR9BYHA</td>\n",
       "      <td>KPvLNJ21_4wbYNctrOwWdQ</td>\n",
       "      <td>Excellent food. Superb customer service. I mis...</td>\n",
       "      <td>5UmKMjUEUNdYWqANhGckJw</td>\n",
       "      <td>2014-02-13</td>\n",
       "      <td>review</td>\n",
       "    </tr>\n",
       "    <tr>\n",
       "      <th>2</th>\n",
       "      <td>{u'funny': 1, u'useful': 1, u'cool': 0}</td>\n",
       "      <td>auESFwWvW42h6alXgFxAXQ</td>\n",
       "      <td>fFSoGV46Yxuwbr3fHNuZig</td>\n",
       "      <td>Yes this place is a little out dated and not o...</td>\n",
       "      <td>5UmKMjUEUNdYWqANhGckJw</td>\n",
       "      <td>2015-10-31</td>\n",
       "      <td>review</td>\n",
       "    </tr>\n",
       "    <tr>\n",
       "      <th>3</th>\n",
       "      <td>{u'funny': 0, u'useful': 0, u'cool': 0}</td>\n",
       "      <td>qiczib2fO_1VBG8IoCGvVg</td>\n",
       "      <td>pVMIt0a_QsKtuDfWVfSk2A</td>\n",
       "      <td>PROS: Italian hoagie was delicious.  Friendly ...</td>\n",
       "      <td>5UmKMjUEUNdYWqANhGckJw</td>\n",
       "      <td>2015-12-26</td>\n",
       "      <td>review</td>\n",
       "    </tr>\n",
       "    <tr>\n",
       "      <th>4</th>\n",
       "      <td>{u'funny': 0, u'useful': 1, u'cool': 0}</td>\n",
       "      <td>qEE5EvV-f-s7yHC0Z4ydJQ</td>\n",
       "      <td>AEyiQ_Y44isJmNbMTyoMKQ</td>\n",
       "      <td>First the only reason this place could possibl...</td>\n",
       "      <td>5UmKMjUEUNdYWqANhGckJw</td>\n",
       "      <td>2016-04-08</td>\n",
       "      <td>review</td>\n",
       "    </tr>\n",
       "  </tbody>\n",
       "</table>\n",
       "</div>"
      ],
      "text/plain": [
       "                                     votes                 user_id  \\\n",
       "0  {u'funny': 0, u'useful': 0, u'cool': 0}  PUFPaY9KxDAcGqfsorJp3Q   \n",
       "1  {u'funny': 0, u'useful': 0, u'cool': 0}  Iu6AxdBYGR4A0wspR9BYHA   \n",
       "2  {u'funny': 1, u'useful': 1, u'cool': 0}  auESFwWvW42h6alXgFxAXQ   \n",
       "3  {u'funny': 0, u'useful': 0, u'cool': 0}  qiczib2fO_1VBG8IoCGvVg   \n",
       "4  {u'funny': 0, u'useful': 1, u'cool': 0}  qEE5EvV-f-s7yHC0Z4ydJQ   \n",
       "\n",
       "                review_id                                               text  \\\n",
       "0  Ya85v4eqdd6k9Od8HbQjyA  Mr Hoagie is an institution. Walking in, it do...   \n",
       "1  KPvLNJ21_4wbYNctrOwWdQ  Excellent food. Superb customer service. I mis...   \n",
       "2  fFSoGV46Yxuwbr3fHNuZig  Yes this place is a little out dated and not o...   \n",
       "3  pVMIt0a_QsKtuDfWVfSk2A  PROS: Italian hoagie was delicious.  Friendly ...   \n",
       "4  AEyiQ_Y44isJmNbMTyoMKQ  First the only reason this place could possibl...   \n",
       "\n",
       "              business_id        date    type  \n",
       "0  5UmKMjUEUNdYWqANhGckJw  2012-08-01  review  \n",
       "1  5UmKMjUEUNdYWqANhGckJw  2014-02-13  review  \n",
       "2  5UmKMjUEUNdYWqANhGckJw  2015-10-31  review  \n",
       "3  5UmKMjUEUNdYWqANhGckJw  2015-12-26  review  \n",
       "4  5UmKMjUEUNdYWqANhGckJw  2016-04-08  review  "
      ]
     },
     "execution_count": 7,
     "metadata": {},
     "output_type": "execute_result"
    }
   ],
   "source": [
    "df.head()"
   ]
  },
  {
   "cell_type": "code",
   "execution_count": 8,
   "metadata": {
    "collapsed": false
   },
   "outputs": [
    {
     "data": {
      "text/plain": [
       "(5503, 7)"
      ]
     },
     "execution_count": 8,
     "metadata": {},
     "output_type": "execute_result"
    }
   ],
   "source": [
    "df.shape"
   ]
  },
  {
   "cell_type": "code",
   "execution_count": 9,
   "metadata": {
    "collapsed": false
   },
   "outputs": [
    {
     "data": {
      "text/plain": [
       "votes          0\n",
       "user_id        0\n",
       "review_id      0\n",
       "text           0\n",
       "business_id    0\n",
       "date           0\n",
       "type           0\n",
       "dtype: int64"
      ]
     },
     "execution_count": 9,
     "metadata": {},
     "output_type": "execute_result"
    }
   ],
   "source": [
    "#Data extraction is completed.\n",
    "#\n",
    "#Check for missing values in the data\n",
    "#\n",
    "df.apply(lambda x: sum(x.isnull()))"
   ]
  },
  {
   "cell_type": "code",
   "execution_count": 10,
   "metadata": {
    "collapsed": true
   },
   "outputs": [],
   "source": [
    "#There are no missing values in the data"
   ]
  },
  {
   "cell_type": "code",
   "execution_count": 11,
   "metadata": {
    "collapsed": false
   },
   "outputs": [],
   "source": [
    "df_ = df"
   ]
  },
  {
   "cell_type": "code",
   "execution_count": 12,
   "metadata": {
    "collapsed": false
   },
   "outputs": [
    {
     "data": {
      "text/plain": [
       "user_id        3519\n",
       "review_id      5503\n",
       "text           5499\n",
       "business_id     311\n",
       "date           2185\n",
       "type              1\n",
       "dtype: int64"
      ]
     },
     "execution_count": 12,
     "metadata": {},
     "output_type": "execute_result"
    }
   ],
   "source": [
    "del df_['votes']\n",
    "#Look at no.of categorical variables in the data\n",
    "df_.apply(lambda x: len(x.unique()))"
   ]
  },
  {
   "cell_type": "code",
   "execution_count": 13,
   "metadata": {
    "collapsed": true
   },
   "outputs": [],
   "source": [
    "#____Classification of reviews_____#\n",
    "#Represent the text in numerical attributes\n"
   ]
  },
  {
   "cell_type": "code",
   "execution_count": 14,
   "metadata": {
    "collapsed": false
   },
   "outputs": [],
   "source": [
    "from sklearn.feature_extraction.text import TfidfVectorizer, CountVectorizer\n",
    "vectorizer = TfidfVectorizer(max_df = 0.5, min_df= 2, stop_words='english')\n"
   ]
  },
  {
   "cell_type": "code",
   "execution_count": 15,
   "metadata": {
    "collapsed": true
   },
   "outputs": [],
   "source": [
    "Reviews_text = df_['text']"
   ]
  },
  {
   "cell_type": "code",
   "execution_count": 16,
   "metadata": {
    "collapsed": false
   },
   "outputs": [
    {
     "data": {
      "text/plain": [
       "<5503x10619 sparse matrix of type '<type 'numpy.float64'>'\n",
       "\twith 250590 stored elements in Compressed Sparse Row format>"
      ]
     },
     "execution_count": 16,
     "metadata": {},
     "output_type": "execute_result"
    }
   ],
   "source": [
    "X = vectorizer.fit_transform(Reviews_text)\n",
    "X"
   ]
  },
  {
   "cell_type": "code",
   "execution_count": 17,
   "metadata": {
    "collapsed": true
   },
   "outputs": [],
   "source": [
    "from sklearn.cluster import KMeans\n",
    "km = KMeans(n_clusters= 5, init='k-means++', max_iter = 100, n_init=1, verbose=True)"
   ]
  },
  {
   "cell_type": "code",
   "execution_count": 18,
   "metadata": {
    "collapsed": false
   },
   "outputs": [
    {
     "name": "stdout",
     "output_type": "stream",
     "text": [
      "Initialization complete\n",
      "Iteration  0, inertia 10265.515\n",
      "Iteration  1, inertia 5331.160\n",
      "Iteration  2, inertia 5311.718\n",
      "Iteration  3, inertia 5302.190\n",
      "Iteration  4, inertia 5299.678\n",
      "Iteration  5, inertia 5298.100\n",
      "Iteration  6, inertia 5296.804\n",
      "Iteration  7, inertia 5295.688\n",
      "Iteration  8, inertia 5294.750\n",
      "Iteration  9, inertia 5293.726\n",
      "Iteration 10, inertia 5292.511\n",
      "Iteration 11, inertia 5291.073\n",
      "Iteration 12, inertia 5289.129\n",
      "Iteration 13, inertia 5287.135\n",
      "Iteration 14, inertia 5286.612\n",
      "Iteration 15, inertia 5286.403\n",
      "Iteration 16, inertia 5286.168\n",
      "Iteration 17, inertia 5285.964\n",
      "Iteration 18, inertia 5285.908\n",
      "Iteration 19, inertia 5285.887\n",
      "Iteration 20, inertia 5285.883\n",
      "Iteration 21, inertia 5285.880\n",
      "Converged at iteration 21\n"
     ]
    },
    {
     "data": {
      "text/plain": [
       "KMeans(copy_x=True, init='k-means++', max_iter=100, n_clusters=5, n_init=1,\n",
       "    n_jobs=1, precompute_distances='auto', random_state=None, tol=0.0001,\n",
       "    verbose=True)"
      ]
     },
     "execution_count": 18,
     "metadata": {},
     "output_type": "execute_result"
    }
   ],
   "source": [
    "km.fit(X)"
   ]
  },
  {
   "cell_type": "code",
   "execution_count": 19,
   "metadata": {
    "collapsed": false
   },
   "outputs": [
    {
     "data": {
      "text/plain": [
       "(array([0, 1, 2, 3, 4]), array([ 345, 2629,  283,  872, 1374], dtype=int64))"
      ]
     },
     "execution_count": 19,
     "metadata": {},
     "output_type": "execute_result"
    }
   ],
   "source": [
    "import numpy as np\n",
    "np.unique(km.labels_, return_counts=True)"
   ]
  },
  {
   "cell_type": "code",
   "execution_count": 20,
   "metadata": {
    "collapsed": true
   },
   "outputs": [],
   "source": [
    "#Remove the same words present in among all the cluster and See the top 10 words\n",
    "from nltk.tokenize import sent_tokenize, word_tokenize\n",
    "from nltk.corpus import stopwords\n",
    "from nltk.probability import FreqDist\n",
    "from collections import defaultdict\n",
    "from string import punctuation\n",
    "from heapq import nlargest\n",
    "import nltk"
   ]
  },
  {
   "cell_type": "code",
   "execution_count": 21,
   "metadata": {
    "collapsed": true
   },
   "outputs": [],
   "source": [
    "_stopwords = set(stopwords.words('english') + list(punctuation) + [\"'s\",\"''\"])"
   ]
  },
  {
   "cell_type": "code",
   "execution_count": 22,
   "metadata": {
    "collapsed": true
   },
   "outputs": [],
   "source": [
    "text ={}\n",
    "for i, cluster in enumerate(km.labels_):\n",
    "    oneDocument = Reviews_text[i]\n",
    "    if cluster not in text.keys():\n",
    "        text[cluster] = oneDocument\n",
    "    else:\n",
    "        text[cluster] += oneDocument"
   ]
  },
  {
   "cell_type": "code",
   "execution_count": 23,
   "metadata": {
    "collapsed": true
   },
   "outputs": [],
   "source": [
    "keywords = {}\n",
    "counts ={}\n",
    "for cluster in range(5):\n",
    "    word_sent = word_tokenize(text[cluster].lower())\n",
    "    word_sent = [word for word in word_sent if word not in _stopwords]\n",
    "    freq= FreqDist(word_sent)\n",
    "    keywords[cluster] =nlargest(100, freq, key = freq.get)\n",
    "    counts[cluster] = freq"
   ]
  },
  {
   "cell_type": "code",
   "execution_count": 24,
   "metadata": {
    "collapsed": true
   },
   "outputs": [],
   "source": [
    "unique_keys ={}\n",
    "for cluster in range(5):\n",
    "    other_clusters = list(set(range(5)) - set([cluster]))\n",
    "    keys_other_clusters = set(keywords[other_clusters[0]]).union(set(keywords[other_clusters[1]]))\n",
    "    unique= set(keywords[cluster]) -keys_other_clusters\n",
    "    unique_keys[cluster] = nlargest(100, unique, key=counts[cluster].get)"
   ]
  },
  {
   "cell_type": "code",
   "execution_count": 25,
   "metadata": {
    "collapsed": false
   },
   "outputs": [
    {
     "data": {
      "text/plain": [
       "[u'pizza',\n",
       " u'cheese',\n",
       " u\"n't\",\n",
       " u'good',\n",
       " u'place',\n",
       " u'crust',\n",
       " u'like',\n",
       " u'sauce',\n",
       " u'get',\n",
       " u'one',\n",
       " u'would',\n",
       " u'order',\n",
       " u'...',\n",
       " u\"'ve\",\n",
       " u'great',\n",
       " u'cold',\n",
       " u'really',\n",
       " u'time',\n",
       " u'toppings',\n",
       " u'also',\n",
       " u'best',\n",
       " u'go',\n",
       " u'love',\n",
       " u'beto',\n",
       " u'pittsburgh',\n",
       " u'ordered',\n",
       " u'back',\n",
       " u'food',\n",
       " u'eat',\n",
       " u'``',\n",
       " u'delivery',\n",
       " u\"'m\",\n",
       " u'slice',\n",
       " u'try',\n",
       " u'even',\n",
       " u'much',\n",
       " u'little',\n",
       " u'got',\n",
       " u'pretty',\n",
       " u'always',\n",
       " u'ever',\n",
       " u'first',\n",
       " u'pepperoni',\n",
       " u'better',\n",
       " u'take',\n",
       " u'well',\n",
       " u'since',\n",
       " u'slices',\n",
       " u'people',\n",
       " u'never',\n",
       " u'could',\n",
       " u'delicious',\n",
       " u'nice',\n",
       " u'favorite',\n",
       " u'hoagie',\n",
       " u'know',\n",
       " u'hot',\n",
       " u'top',\n",
       " u'make',\n",
       " u'way',\n",
       " u'two',\n",
       " u'night',\n",
       " u'years',\n",
       " u'want',\n",
       " u'extra',\n",
       " u'service',\n",
       " u'chicken',\n",
       " u'ca',\n",
       " u'say',\n",
       " u'right',\n",
       " u'around',\n",
       " u'tried',\n",
       " u'fresh',\n",
       " u'still',\n",
       " u'thing',\n",
       " u'bit',\n",
       " u'home',\n",
       " u'minutes',\n",
       " u'definitely',\n",
       " u'area',\n",
       " u'different',\n",
       " u'us',\n",
       " u\"'re\",\n",
       " u'melted',\n",
       " u'wait',\n",
       " u'pizzas',\n",
       " u'small',\n",
       " u'nothing',\n",
       " u'salad',\n",
       " u'worth',\n",
       " u'bad',\n",
       " u\"'d\",\n",
       " u'eating',\n",
       " u'think',\n",
       " u'many',\n",
       " u'places',\n",
       " u'going',\n",
       " u'either',\n",
       " u'used',\n",
       " u'cooked']"
      ]
     },
     "execution_count": 25,
     "metadata": {},
     "output_type": "execute_result"
    }
   ],
   "source": [
    "keywords[0]"
   ]
  },
  {
   "cell_type": "code",
   "execution_count": 26,
   "metadata": {
    "collapsed": false
   },
   "outputs": [
    {
     "data": {
      "text/html": [
       "<div>\n",
       "<table border=\"1\" class=\"dataframe\">\n",
       "  <thead>\n",
       "    <tr style=\"text-align: right;\">\n",
       "      <th></th>\n",
       "      <th>user_id</th>\n",
       "      <th>review_id</th>\n",
       "      <th>text</th>\n",
       "      <th>business_id</th>\n",
       "      <th>date</th>\n",
       "      <th>type</th>\n",
       "    </tr>\n",
       "  </thead>\n",
       "  <tbody>\n",
       "    <tr>\n",
       "      <th>0</th>\n",
       "      <td>PUFPaY9KxDAcGqfsorJp3Q</td>\n",
       "      <td>Ya85v4eqdd6k9Od8HbQjyA</td>\n",
       "      <td>Mr Hoagie is an institution. Walking in, it do...</td>\n",
       "      <td>5UmKMjUEUNdYWqANhGckJw</td>\n",
       "      <td>2012-08-01</td>\n",
       "      <td>review</td>\n",
       "    </tr>\n",
       "    <tr>\n",
       "      <th>1</th>\n",
       "      <td>Iu6AxdBYGR4A0wspR9BYHA</td>\n",
       "      <td>KPvLNJ21_4wbYNctrOwWdQ</td>\n",
       "      <td>Excellent food. Superb customer service. I mis...</td>\n",
       "      <td>5UmKMjUEUNdYWqANhGckJw</td>\n",
       "      <td>2014-02-13</td>\n",
       "      <td>review</td>\n",
       "    </tr>\n",
       "    <tr>\n",
       "      <th>2</th>\n",
       "      <td>auESFwWvW42h6alXgFxAXQ</td>\n",
       "      <td>fFSoGV46Yxuwbr3fHNuZig</td>\n",
       "      <td>Yes this place is a little out dated and not o...</td>\n",
       "      <td>5UmKMjUEUNdYWqANhGckJw</td>\n",
       "      <td>2015-10-31</td>\n",
       "      <td>review</td>\n",
       "    </tr>\n",
       "    <tr>\n",
       "      <th>3</th>\n",
       "      <td>qiczib2fO_1VBG8IoCGvVg</td>\n",
       "      <td>pVMIt0a_QsKtuDfWVfSk2A</td>\n",
       "      <td>PROS: Italian hoagie was delicious.  Friendly ...</td>\n",
       "      <td>5UmKMjUEUNdYWqANhGckJw</td>\n",
       "      <td>2015-12-26</td>\n",
       "      <td>review</td>\n",
       "    </tr>\n",
       "    <tr>\n",
       "      <th>4</th>\n",
       "      <td>qEE5EvV-f-s7yHC0Z4ydJQ</td>\n",
       "      <td>AEyiQ_Y44isJmNbMTyoMKQ</td>\n",
       "      <td>First the only reason this place could possibl...</td>\n",
       "      <td>5UmKMjUEUNdYWqANhGckJw</td>\n",
       "      <td>2016-04-08</td>\n",
       "      <td>review</td>\n",
       "    </tr>\n",
       "  </tbody>\n",
       "</table>\n",
       "</div>"
      ],
      "text/plain": [
       "                  user_id               review_id  \\\n",
       "0  PUFPaY9KxDAcGqfsorJp3Q  Ya85v4eqdd6k9Od8HbQjyA   \n",
       "1  Iu6AxdBYGR4A0wspR9BYHA  KPvLNJ21_4wbYNctrOwWdQ   \n",
       "2  auESFwWvW42h6alXgFxAXQ  fFSoGV46Yxuwbr3fHNuZig   \n",
       "3  qiczib2fO_1VBG8IoCGvVg  pVMIt0a_QsKtuDfWVfSk2A   \n",
       "4  qEE5EvV-f-s7yHC0Z4ydJQ  AEyiQ_Y44isJmNbMTyoMKQ   \n",
       "\n",
       "                                                text             business_id  \\\n",
       "0  Mr Hoagie is an institution. Walking in, it do...  5UmKMjUEUNdYWqANhGckJw   \n",
       "1  Excellent food. Superb customer service. I mis...  5UmKMjUEUNdYWqANhGckJw   \n",
       "2  Yes this place is a little out dated and not o...  5UmKMjUEUNdYWqANhGckJw   \n",
       "3  PROS: Italian hoagie was delicious.  Friendly ...  5UmKMjUEUNdYWqANhGckJw   \n",
       "4  First the only reason this place could possibl...  5UmKMjUEUNdYWqANhGckJw   \n",
       "\n",
       "         date    type  \n",
       "0  2012-08-01  review  \n",
       "1  2014-02-13  review  \n",
       "2  2015-10-31  review  \n",
       "3  2015-12-26  review  \n",
       "4  2016-04-08  review  "
      ]
     },
     "execution_count": 26,
     "metadata": {},
     "output_type": "execute_result"
    }
   ],
   "source": [
    "df_.head()"
   ]
  },
  {
   "cell_type": "code",
   "execution_count": 27,
   "metadata": {
    "collapsed": false
   },
   "outputs": [],
   "source": [
    "df_['Cluster0'] = 0\n",
    "df_['Cluster1'] = 0\n",
    "df_['Cluster2'] = 0\n",
    "df_['Cluster3'] = 0\n",
    "df_['Cluster4'] = 0\n",
    "#\n",
    "df_['Clust0_Sent'] = \"NEUTRAL\"\n",
    "df_['Clust1_Sent'] = \"NEUTRAL\"\n",
    "df_['Clust2_Sent'] = \"NEUTRAL\"\n",
    "df_['Clust3_Sent'] = \"NEUTRAL\"\n",
    "df_['Clust4_Sent'] = \"NEUTRAL\""
   ]
  },
  {
   "cell_type": "code",
   "execution_count": 28,
   "metadata": {
    "collapsed": false
   },
   "outputs": [
    {
     "data": {
      "text/html": [
       "<div>\n",
       "<table border=\"1\" class=\"dataframe\">\n",
       "  <thead>\n",
       "    <tr style=\"text-align: right;\">\n",
       "      <th></th>\n",
       "      <th>user_id</th>\n",
       "      <th>review_id</th>\n",
       "      <th>text</th>\n",
       "      <th>business_id</th>\n",
       "      <th>date</th>\n",
       "      <th>type</th>\n",
       "      <th>Cluster0</th>\n",
       "      <th>Cluster1</th>\n",
       "      <th>Cluster2</th>\n",
       "      <th>Cluster3</th>\n",
       "      <th>Cluster4</th>\n",
       "      <th>Clust0_Sent</th>\n",
       "      <th>Clust1_Sent</th>\n",
       "      <th>Clust2_Sent</th>\n",
       "      <th>Clust3_Sent</th>\n",
       "      <th>Clust4_Sent</th>\n",
       "    </tr>\n",
       "  </thead>\n",
       "  <tbody>\n",
       "    <tr>\n",
       "      <th>0</th>\n",
       "      <td>PUFPaY9KxDAcGqfsorJp3Q</td>\n",
       "      <td>Ya85v4eqdd6k9Od8HbQjyA</td>\n",
       "      <td>Mr Hoagie is an institution. Walking in, it do...</td>\n",
       "      <td>5UmKMjUEUNdYWqANhGckJw</td>\n",
       "      <td>2012-08-01</td>\n",
       "      <td>review</td>\n",
       "      <td>0</td>\n",
       "      <td>0</td>\n",
       "      <td>0</td>\n",
       "      <td>0</td>\n",
       "      <td>0</td>\n",
       "      <td>NEUTRAL</td>\n",
       "      <td>NEUTRAL</td>\n",
       "      <td>NEUTRAL</td>\n",
       "      <td>NEUTRAL</td>\n",
       "      <td>NEUTRAL</td>\n",
       "    </tr>\n",
       "    <tr>\n",
       "      <th>1</th>\n",
       "      <td>Iu6AxdBYGR4A0wspR9BYHA</td>\n",
       "      <td>KPvLNJ21_4wbYNctrOwWdQ</td>\n",
       "      <td>Excellent food. Superb customer service. I mis...</td>\n",
       "      <td>5UmKMjUEUNdYWqANhGckJw</td>\n",
       "      <td>2014-02-13</td>\n",
       "      <td>review</td>\n",
       "      <td>0</td>\n",
       "      <td>0</td>\n",
       "      <td>0</td>\n",
       "      <td>0</td>\n",
       "      <td>0</td>\n",
       "      <td>NEUTRAL</td>\n",
       "      <td>NEUTRAL</td>\n",
       "      <td>NEUTRAL</td>\n",
       "      <td>NEUTRAL</td>\n",
       "      <td>NEUTRAL</td>\n",
       "    </tr>\n",
       "  </tbody>\n",
       "</table>\n",
       "</div>"
      ],
      "text/plain": [
       "                  user_id               review_id  \\\n",
       "0  PUFPaY9KxDAcGqfsorJp3Q  Ya85v4eqdd6k9Od8HbQjyA   \n",
       "1  Iu6AxdBYGR4A0wspR9BYHA  KPvLNJ21_4wbYNctrOwWdQ   \n",
       "\n",
       "                                                text             business_id  \\\n",
       "0  Mr Hoagie is an institution. Walking in, it do...  5UmKMjUEUNdYWqANhGckJw   \n",
       "1  Excellent food. Superb customer service. I mis...  5UmKMjUEUNdYWqANhGckJw   \n",
       "\n",
       "         date    type  Cluster0  Cluster1  Cluster2  Cluster3  Cluster4  \\\n",
       "0  2012-08-01  review         0         0         0         0         0   \n",
       "1  2014-02-13  review         0         0         0         0         0   \n",
       "\n",
       "  Clust0_Sent Clust1_Sent Clust2_Sent Clust3_Sent Clust4_Sent  \n",
       "0     NEUTRAL     NEUTRAL     NEUTRAL     NEUTRAL     NEUTRAL  \n",
       "1     NEUTRAL     NEUTRAL     NEUTRAL     NEUTRAL     NEUTRAL  "
      ]
     },
     "execution_count": 28,
     "metadata": {},
     "output_type": "execute_result"
    }
   ],
   "source": [
    "df_.head(2)"
   ]
  },
  {
   "cell_type": "code",
   "execution_count": 29,
   "metadata": {
    "collapsed": false
   },
   "outputs": [
    {
     "data": {
      "text/plain": [
       "5503"
      ]
     },
     "execution_count": 29,
     "metadata": {},
     "output_type": "execute_result"
    }
   ],
   "source": [
    "length_df = len(df_['text'])\n",
    "length_df"
   ]
  },
  {
   "cell_type": "code",
   "execution_count": 30,
   "metadata": {
    "collapsed": false
   },
   "outputs": [
    {
     "name": "stdout",
     "output_type": "stream",
     "text": [
      "5\n",
      "Walking in, it does seem like a throwback to 30 years ago, old fashioned menu board, booths out of the 70s, and a large selection of food.\n"
     ]
    }
   ],
   "source": [
    "print len(sent_tokenize(df_.text[0]))\n",
    "print sent_tokenize(df_.text[0])[1]"
   ]
  },
  {
   "cell_type": "code",
   "execution_count": null,
   "metadata": {
    "collapsed": false
   },
   "outputs": [],
   "source": []
  },
  {
   "cell_type": "code",
   "execution_count": null,
   "metadata": {
    "collapsed": false
   },
   "outputs": [],
   "source": []
  },
  {
   "cell_type": "code",
   "execution_count": null,
   "metadata": {
    "collapsed": false
   },
   "outputs": [],
   "source": []
  },
  {
   "cell_type": "code",
   "execution_count": null,
   "metadata": {
    "collapsed": false
   },
   "outputs": [],
   "source": []
  },
  {
   "cell_type": "code",
   "execution_count": null,
   "metadata": {
    "collapsed": false
   },
   "outputs": [],
   "source": []
  },
  {
   "cell_type": "code",
   "execution_count": 31,
   "metadata": {
    "collapsed": false
   },
   "outputs": [
    {
     "data": {
      "text/html": [
       "<div>\n",
       "<table border=\"1\" class=\"dataframe\">\n",
       "  <thead>\n",
       "    <tr style=\"text-align: right;\">\n",
       "      <th></th>\n",
       "      <th>user_id</th>\n",
       "      <th>review_id</th>\n",
       "      <th>text</th>\n",
       "      <th>business_id</th>\n",
       "      <th>date</th>\n",
       "      <th>type</th>\n",
       "      <th>Cluster0</th>\n",
       "      <th>Cluster1</th>\n",
       "      <th>Cluster2</th>\n",
       "      <th>Cluster3</th>\n",
       "      <th>Cluster4</th>\n",
       "      <th>Clust0_Sent</th>\n",
       "      <th>Clust1_Sent</th>\n",
       "      <th>Clust2_Sent</th>\n",
       "      <th>Clust3_Sent</th>\n",
       "      <th>Clust4_Sent</th>\n",
       "    </tr>\n",
       "  </thead>\n",
       "  <tbody>\n",
       "    <tr>\n",
       "      <th>0</th>\n",
       "      <td>PUFPaY9KxDAcGqfsorJp3Q</td>\n",
       "      <td>Ya85v4eqdd6k9Od8HbQjyA</td>\n",
       "      <td>Mr Hoagie is an institution. Walking in, it do...</td>\n",
       "      <td>5UmKMjUEUNdYWqANhGckJw</td>\n",
       "      <td>2012-08-01</td>\n",
       "      <td>review</td>\n",
       "      <td>0</td>\n",
       "      <td>0</td>\n",
       "      <td>0</td>\n",
       "      <td>0</td>\n",
       "      <td>0</td>\n",
       "      <td>NEUTRAL</td>\n",
       "      <td>NEUTRAL</td>\n",
       "      <td>NEUTRAL</td>\n",
       "      <td>NEUTRAL</td>\n",
       "      <td>NEUTRAL</td>\n",
       "    </tr>\n",
       "    <tr>\n",
       "      <th>1</th>\n",
       "      <td>Iu6AxdBYGR4A0wspR9BYHA</td>\n",
       "      <td>KPvLNJ21_4wbYNctrOwWdQ</td>\n",
       "      <td>Excellent food. Superb customer service. I mis...</td>\n",
       "      <td>5UmKMjUEUNdYWqANhGckJw</td>\n",
       "      <td>2014-02-13</td>\n",
       "      <td>review</td>\n",
       "      <td>0</td>\n",
       "      <td>0</td>\n",
       "      <td>0</td>\n",
       "      <td>0</td>\n",
       "      <td>0</td>\n",
       "      <td>NEUTRAL</td>\n",
       "      <td>NEUTRAL</td>\n",
       "      <td>NEUTRAL</td>\n",
       "      <td>NEUTRAL</td>\n",
       "      <td>NEUTRAL</td>\n",
       "    </tr>\n",
       "    <tr>\n",
       "      <th>2</th>\n",
       "      <td>auESFwWvW42h6alXgFxAXQ</td>\n",
       "      <td>fFSoGV46Yxuwbr3fHNuZig</td>\n",
       "      <td>Yes this place is a little out dated and not o...</td>\n",
       "      <td>5UmKMjUEUNdYWqANhGckJw</td>\n",
       "      <td>2015-10-31</td>\n",
       "      <td>review</td>\n",
       "      <td>0</td>\n",
       "      <td>0</td>\n",
       "      <td>0</td>\n",
       "      <td>0</td>\n",
       "      <td>0</td>\n",
       "      <td>NEUTRAL</td>\n",
       "      <td>NEUTRAL</td>\n",
       "      <td>NEUTRAL</td>\n",
       "      <td>NEUTRAL</td>\n",
       "      <td>NEUTRAL</td>\n",
       "    </tr>\n",
       "    <tr>\n",
       "      <th>3</th>\n",
       "      <td>qiczib2fO_1VBG8IoCGvVg</td>\n",
       "      <td>pVMIt0a_QsKtuDfWVfSk2A</td>\n",
       "      <td>PROS: Italian hoagie was delicious.  Friendly ...</td>\n",
       "      <td>5UmKMjUEUNdYWqANhGckJw</td>\n",
       "      <td>2015-12-26</td>\n",
       "      <td>review</td>\n",
       "      <td>0</td>\n",
       "      <td>0</td>\n",
       "      <td>0</td>\n",
       "      <td>0</td>\n",
       "      <td>0</td>\n",
       "      <td>NEUTRAL</td>\n",
       "      <td>NEUTRAL</td>\n",
       "      <td>NEUTRAL</td>\n",
       "      <td>NEUTRAL</td>\n",
       "      <td>NEUTRAL</td>\n",
       "    </tr>\n",
       "    <tr>\n",
       "      <th>4</th>\n",
       "      <td>qEE5EvV-f-s7yHC0Z4ydJQ</td>\n",
       "      <td>AEyiQ_Y44isJmNbMTyoMKQ</td>\n",
       "      <td>First the only reason this place could possibl...</td>\n",
       "      <td>5UmKMjUEUNdYWqANhGckJw</td>\n",
       "      <td>2016-04-08</td>\n",
       "      <td>review</td>\n",
       "      <td>0</td>\n",
       "      <td>0</td>\n",
       "      <td>0</td>\n",
       "      <td>0</td>\n",
       "      <td>0</td>\n",
       "      <td>NEUTRAL</td>\n",
       "      <td>NEUTRAL</td>\n",
       "      <td>NEUTRAL</td>\n",
       "      <td>NEUTRAL</td>\n",
       "      <td>NEUTRAL</td>\n",
       "    </tr>\n",
       "  </tbody>\n",
       "</table>\n",
       "</div>"
      ],
      "text/plain": [
       "                  user_id               review_id  \\\n",
       "0  PUFPaY9KxDAcGqfsorJp3Q  Ya85v4eqdd6k9Od8HbQjyA   \n",
       "1  Iu6AxdBYGR4A0wspR9BYHA  KPvLNJ21_4wbYNctrOwWdQ   \n",
       "2  auESFwWvW42h6alXgFxAXQ  fFSoGV46Yxuwbr3fHNuZig   \n",
       "3  qiczib2fO_1VBG8IoCGvVg  pVMIt0a_QsKtuDfWVfSk2A   \n",
       "4  qEE5EvV-f-s7yHC0Z4ydJQ  AEyiQ_Y44isJmNbMTyoMKQ   \n",
       "\n",
       "                                                text             business_id  \\\n",
       "0  Mr Hoagie is an institution. Walking in, it do...  5UmKMjUEUNdYWqANhGckJw   \n",
       "1  Excellent food. Superb customer service. I mis...  5UmKMjUEUNdYWqANhGckJw   \n",
       "2  Yes this place is a little out dated and not o...  5UmKMjUEUNdYWqANhGckJw   \n",
       "3  PROS: Italian hoagie was delicious.  Friendly ...  5UmKMjUEUNdYWqANhGckJw   \n",
       "4  First the only reason this place could possibl...  5UmKMjUEUNdYWqANhGckJw   \n",
       "\n",
       "         date    type  Cluster0  Cluster1  Cluster2  Cluster3  Cluster4  \\\n",
       "0  2012-08-01  review         0         0         0         0         0   \n",
       "1  2014-02-13  review         0         0         0         0         0   \n",
       "2  2015-10-31  review         0         0         0         0         0   \n",
       "3  2015-12-26  review         0         0         0         0         0   \n",
       "4  2016-04-08  review         0         0         0         0         0   \n",
       "\n",
       "  Clust0_Sent Clust1_Sent Clust2_Sent Clust3_Sent Clust4_Sent  \n",
       "0     NEUTRAL     NEUTRAL     NEUTRAL     NEUTRAL     NEUTRAL  \n",
       "1     NEUTRAL     NEUTRAL     NEUTRAL     NEUTRAL     NEUTRAL  \n",
       "2     NEUTRAL     NEUTRAL     NEUTRAL     NEUTRAL     NEUTRAL  \n",
       "3     NEUTRAL     NEUTRAL     NEUTRAL     NEUTRAL     NEUTRAL  \n",
       "4     NEUTRAL     NEUTRAL     NEUTRAL     NEUTRAL     NEUTRAL  "
      ]
     },
     "execution_count": 31,
     "metadata": {},
     "output_type": "execute_result"
    }
   ],
   "source": [
    "df_.head()"
   ]
  },
  {
   "cell_type": "code",
   "execution_count": 32,
   "metadata": {
    "collapsed": false
   },
   "outputs": [],
   "source": [
    "#df_.head(3)"
   ]
  },
  {
   "cell_type": "code",
   "execution_count": 33,
   "metadata": {
    "collapsed": false
   },
   "outputs": [],
   "source": [
    "df_.to_csv(\"yelp_int2.csv\", encoding='utf-8')"
   ]
  },
  {
   "cell_type": "code",
   "execution_count": null,
   "metadata": {
    "collapsed": false
   },
   "outputs": [],
   "source": [
    "df_.shape"
   ]
  },
  {
   "cell_type": "code",
   "execution_count": 58,
   "metadata": {
    "collapsed": false
   },
   "outputs": [],
   "source": [
    "#unique_keys"
   ]
  },
  {
   "cell_type": "code",
   "execution_count": null,
   "metadata": {
    "collapsed": true
   },
   "outputs": [],
   "source": []
  },
  {
   "cell_type": "code",
   "execution_count": null,
   "metadata": {
    "collapsed": true
   },
   "outputs": [],
   "source": []
  },
  {
   "cell_type": "markdown",
   "metadata": {
    "collapsed": true
   },
   "source": [
    "#Amazon Food reviews"
   ]
  },
  {
   "cell_type": "code",
   "execution_count": 34,
   "metadata": {
    "collapsed": false
   },
   "outputs": [
    {
     "data": {
      "text/plain": [
       "(568454, 10)"
      ]
     },
     "execution_count": 34,
     "metadata": {},
     "output_type": "execute_result"
    }
   ],
   "source": [
    "Amazon = pd.read_csv(r\"E:\\Aegis\\NLP\\Amazon_Food_review\\amazon-fine-foods/Reviews.csv\")\n",
    "Amazon.shape"
   ]
  },
  {
   "cell_type": "code",
   "execution_count": 35,
   "metadata": {
    "collapsed": true
   },
   "outputs": [],
   "source": [
    "Amazon_ = Amazon"
   ]
  },
  {
   "cell_type": "code",
   "execution_count": 36,
   "metadata": {
    "collapsed": false
   },
   "outputs": [
    {
     "data": {
      "text/plain": [
       "Id                         0\n",
       "ProductId                  0\n",
       "UserId                     0\n",
       "ProfileName               16\n",
       "HelpfulnessNumerator       0\n",
       "HelpfulnessDenominator     0\n",
       "Score                      0\n",
       "Time                       0\n",
       "Summary                   26\n",
       "Text                       0\n",
       "dtype: int64"
      ]
     },
     "execution_count": 36,
     "metadata": {},
     "output_type": "execute_result"
    }
   ],
   "source": [
    "Amazon_.apply(lambda x: sum(x.isnull()))"
   ]
  },
  {
   "cell_type": "code",
   "execution_count": 37,
   "metadata": {
    "collapsed": true
   },
   "outputs": [],
   "source": [
    "del Amazon_['ProfileName']\n",
    "del Amazon_['HelpfulnessNumerator']\n",
    "del Amazon_['HelpfulnessDenominator']\n",
    "del Amazon_['Time']\n",
    "del Amazon_['Summary']"
   ]
  },
  {
   "cell_type": "code",
   "execution_count": 38,
   "metadata": {
    "collapsed": false
   },
   "outputs": [
    {
     "data": {
      "text/html": [
       "<div>\n",
       "<table border=\"1\" class=\"dataframe\">\n",
       "  <thead>\n",
       "    <tr style=\"text-align: right;\">\n",
       "      <th></th>\n",
       "      <th>Id</th>\n",
       "      <th>ProductId</th>\n",
       "      <th>UserId</th>\n",
       "      <th>Score</th>\n",
       "      <th>Text</th>\n",
       "    </tr>\n",
       "  </thead>\n",
       "  <tbody>\n",
       "    <tr>\n",
       "      <th>0</th>\n",
       "      <td>1</td>\n",
       "      <td>B001E4KFG0</td>\n",
       "      <td>A3SGXH7AUHU8GW</td>\n",
       "      <td>5</td>\n",
       "      <td>I have bought several of the Vitality canned d...</td>\n",
       "    </tr>\n",
       "    <tr>\n",
       "      <th>1</th>\n",
       "      <td>2</td>\n",
       "      <td>B00813GRG4</td>\n",
       "      <td>A1D87F6ZCVE5NK</td>\n",
       "      <td>1</td>\n",
       "      <td>Product arrived labeled as Jumbo Salted Peanut...</td>\n",
       "    </tr>\n",
       "    <tr>\n",
       "      <th>2</th>\n",
       "      <td>3</td>\n",
       "      <td>B000LQOCH0</td>\n",
       "      <td>ABXLMWJIXXAIN</td>\n",
       "      <td>4</td>\n",
       "      <td>This is a confection that has been around a fe...</td>\n",
       "    </tr>\n",
       "    <tr>\n",
       "      <th>3</th>\n",
       "      <td>4</td>\n",
       "      <td>B000UA0QIQ</td>\n",
       "      <td>A395BORC6FGVXV</td>\n",
       "      <td>2</td>\n",
       "      <td>If you are looking for the secret ingredient i...</td>\n",
       "    </tr>\n",
       "    <tr>\n",
       "      <th>4</th>\n",
       "      <td>5</td>\n",
       "      <td>B006K2ZZ7K</td>\n",
       "      <td>A1UQRSCLF8GW1T</td>\n",
       "      <td>5</td>\n",
       "      <td>Great taffy at a great price.  There was a wid...</td>\n",
       "    </tr>\n",
       "  </tbody>\n",
       "</table>\n",
       "</div>"
      ],
      "text/plain": [
       "   Id   ProductId          UserId  Score  \\\n",
       "0   1  B001E4KFG0  A3SGXH7AUHU8GW      5   \n",
       "1   2  B00813GRG4  A1D87F6ZCVE5NK      1   \n",
       "2   3  B000LQOCH0   ABXLMWJIXXAIN      4   \n",
       "3   4  B000UA0QIQ  A395BORC6FGVXV      2   \n",
       "4   5  B006K2ZZ7K  A1UQRSCLF8GW1T      5   \n",
       "\n",
       "                                                Text  \n",
       "0  I have bought several of the Vitality canned d...  \n",
       "1  Product arrived labeled as Jumbo Salted Peanut...  \n",
       "2  This is a confection that has been around a fe...  \n",
       "3  If you are looking for the secret ingredient i...  \n",
       "4  Great taffy at a great price.  There was a wid...  "
      ]
     },
     "execution_count": 38,
     "metadata": {},
     "output_type": "execute_result"
    }
   ],
   "source": [
    "Amazon_.head()"
   ]
  },
  {
   "cell_type": "code",
   "execution_count": 39,
   "metadata": {
    "collapsed": true
   },
   "outputs": [],
   "source": [
    "Amazon_['Sentiment'] =\"A\""
   ]
  },
  {
   "cell_type": "code",
   "execution_count": 40,
   "metadata": {
    "collapsed": false
   },
   "outputs": [
    {
     "name": "stderr",
     "output_type": "stream",
     "text": [
      "C:\\Users\\Ajith Vajrala\\Anaconda2\\lib\\site-packages\\ipykernel\\__main__.py:1: SettingWithCopyWarning: \n",
      "A value is trying to be set on a copy of a slice from a DataFrame\n",
      "\n",
      "See the caveats in the documentation: http://pandas.pydata.org/pandas-docs/stable/indexing.html#indexing-view-versus-copy\n",
      "  if __name__ == '__main__':\n",
      "C:\\Users\\Ajith Vajrala\\Anaconda2\\lib\\site-packages\\ipykernel\\__main__.py:2: SettingWithCopyWarning: \n",
      "A value is trying to be set on a copy of a slice from a DataFrame\n",
      "\n",
      "See the caveats in the documentation: http://pandas.pydata.org/pandas-docs/stable/indexing.html#indexing-view-versus-copy\n",
      "  from ipykernel import kernelapp as app\n",
      "C:\\Users\\Ajith Vajrala\\Anaconda2\\lib\\site-packages\\ipykernel\\__main__.py:3: SettingWithCopyWarning: \n",
      "A value is trying to be set on a copy of a slice from a DataFrame\n",
      "\n",
      "See the caveats in the documentation: http://pandas.pydata.org/pandas-docs/stable/indexing.html#indexing-view-versus-copy\n",
      "  app.launch_new_instance()\n"
     ]
    }
   ],
   "source": [
    "Amazon_['Sentiment'] [Amazon_['Score'] >= 4 ] =\"positive\"\n",
    "Amazon_['Sentiment'] [Amazon_['Score'] == 3 ] =\"neutral\"\n",
    "Amazon_['Sentiment'] [Amazon_['Score'] <= 2 ] =\"negative\""
   ]
  },
  {
   "cell_type": "code",
   "execution_count": 41,
   "metadata": {
    "collapsed": false
   },
   "outputs": [
    {
     "data": {
      "text/html": [
       "<div>\n",
       "<table border=\"1\" class=\"dataframe\">\n",
       "  <thead>\n",
       "    <tr style=\"text-align: right;\">\n",
       "      <th></th>\n",
       "      <th>Id</th>\n",
       "      <th>ProductId</th>\n",
       "      <th>UserId</th>\n",
       "      <th>Score</th>\n",
       "      <th>Text</th>\n",
       "      <th>Sentiment</th>\n",
       "    </tr>\n",
       "  </thead>\n",
       "  <tbody>\n",
       "    <tr>\n",
       "      <th>0</th>\n",
       "      <td>1</td>\n",
       "      <td>B001E4KFG0</td>\n",
       "      <td>A3SGXH7AUHU8GW</td>\n",
       "      <td>5</td>\n",
       "      <td>I have bought several of the Vitality canned d...</td>\n",
       "      <td>positive</td>\n",
       "    </tr>\n",
       "    <tr>\n",
       "      <th>1</th>\n",
       "      <td>2</td>\n",
       "      <td>B00813GRG4</td>\n",
       "      <td>A1D87F6ZCVE5NK</td>\n",
       "      <td>1</td>\n",
       "      <td>Product arrived labeled as Jumbo Salted Peanut...</td>\n",
       "      <td>negative</td>\n",
       "    </tr>\n",
       "    <tr>\n",
       "      <th>2</th>\n",
       "      <td>3</td>\n",
       "      <td>B000LQOCH0</td>\n",
       "      <td>ABXLMWJIXXAIN</td>\n",
       "      <td>4</td>\n",
       "      <td>This is a confection that has been around a fe...</td>\n",
       "      <td>positive</td>\n",
       "    </tr>\n",
       "    <tr>\n",
       "      <th>3</th>\n",
       "      <td>4</td>\n",
       "      <td>B000UA0QIQ</td>\n",
       "      <td>A395BORC6FGVXV</td>\n",
       "      <td>2</td>\n",
       "      <td>If you are looking for the secret ingredient i...</td>\n",
       "      <td>negative</td>\n",
       "    </tr>\n",
       "    <tr>\n",
       "      <th>4</th>\n",
       "      <td>5</td>\n",
       "      <td>B006K2ZZ7K</td>\n",
       "      <td>A1UQRSCLF8GW1T</td>\n",
       "      <td>5</td>\n",
       "      <td>Great taffy at a great price.  There was a wid...</td>\n",
       "      <td>positive</td>\n",
       "    </tr>\n",
       "  </tbody>\n",
       "</table>\n",
       "</div>"
      ],
      "text/plain": [
       "   Id   ProductId          UserId  Score  \\\n",
       "0   1  B001E4KFG0  A3SGXH7AUHU8GW      5   \n",
       "1   2  B00813GRG4  A1D87F6ZCVE5NK      1   \n",
       "2   3  B000LQOCH0   ABXLMWJIXXAIN      4   \n",
       "3   4  B000UA0QIQ  A395BORC6FGVXV      2   \n",
       "4   5  B006K2ZZ7K  A1UQRSCLF8GW1T      5   \n",
       "\n",
       "                                                Text Sentiment  \n",
       "0  I have bought several of the Vitality canned d...  positive  \n",
       "1  Product arrived labeled as Jumbo Salted Peanut...  negative  \n",
       "2  This is a confection that has been around a fe...  positive  \n",
       "3  If you are looking for the secret ingredient i...  negative  \n",
       "4  Great taffy at a great price.  There was a wid...  positive  "
      ]
     },
     "execution_count": 41,
     "metadata": {},
     "output_type": "execute_result"
    }
   ],
   "source": [
    "Amazon_.head()"
   ]
  },
  {
   "cell_type": "code",
   "execution_count": 42,
   "metadata": {
    "collapsed": false
   },
   "outputs": [
    {
     "data": {
      "text/plain": [
       "363122"
      ]
     },
     "execution_count": 42,
     "metadata": {},
     "output_type": "execute_result"
    }
   ],
   "source": [
    "Amazon_['Sentiment'][Amazon_['Score'] == 5].count()"
   ]
  },
  {
   "cell_type": "code",
   "execution_count": 43,
   "metadata": {
    "collapsed": false
   },
   "outputs": [
    {
     "name": "stdout",
     "output_type": "stream",
     "text": [
      "82037\n",
      "42640\n"
     ]
    }
   ],
   "source": [
    "print Amazon_['Sentiment'][Amazon_['Sentiment'] == \"negative\"].count()\n",
    "print Amazon_['Sentiment'][Amazon_['Sentiment'] == \"neutral\"].count()"
   ]
  },
  {
   "cell_type": "code",
   "execution_count": 44,
   "metadata": {
    "collapsed": true
   },
   "outputs": [],
   "source": [
    "fixed_length =10000"
   ]
  },
  {
   "cell_type": "code",
   "execution_count": 45,
   "metadata": {
    "collapsed": true
   },
   "outputs": [],
   "source": [
    "import numpy as np"
   ]
  },
  {
   "cell_type": "code",
   "execution_count": 46,
   "metadata": {
    "collapsed": false
   },
   "outputs": [
    {
     "data": {
      "text/html": [
       "<div>\n",
       "<table border=\"1\" class=\"dataframe\">\n",
       "  <thead>\n",
       "    <tr style=\"text-align: right;\">\n",
       "      <th></th>\n",
       "      <th>Id</th>\n",
       "      <th>ProductId</th>\n",
       "      <th>UserId</th>\n",
       "      <th>Score</th>\n",
       "      <th>Text</th>\n",
       "      <th>Sentiment</th>\n",
       "    </tr>\n",
       "  </thead>\n",
       "  <tbody>\n",
       "    <tr>\n",
       "      <th>299008</th>\n",
       "      <td>299009</td>\n",
       "      <td>B000HPZM74</td>\n",
       "      <td>A2IMF02ESIYFCK</td>\n",
       "      <td>5</td>\n",
       "      <td>its they're treat after getting the bark colla...</td>\n",
       "      <td>positive</td>\n",
       "    </tr>\n",
       "    <tr>\n",
       "      <th>201564</th>\n",
       "      <td>201565</td>\n",
       "      <td>B007R900WA</td>\n",
       "      <td>A324GNNAEX3ZRZ</td>\n",
       "      <td>5</td>\n",
       "      <td>This holder is great.  If your cabinets are ta...</td>\n",
       "      <td>positive</td>\n",
       "    </tr>\n",
       "    <tr>\n",
       "      <th>550569</th>\n",
       "      <td>550570</td>\n",
       "      <td>B001P7539A</td>\n",
       "      <td>A1A4W9XNAHMSGS</td>\n",
       "      <td>5</td>\n",
       "      <td>This popcorn is the best popcorn ever, it is j...</td>\n",
       "      <td>positive</td>\n",
       "    </tr>\n",
       "    <tr>\n",
       "      <th>278081</th>\n",
       "      <td>278082</td>\n",
       "      <td>B003O7T87C</td>\n",
       "      <td>ARM093ZVUMP9U</td>\n",
       "      <td>5</td>\n",
       "      <td>I have bought this product regularly for about...</td>\n",
       "      <td>positive</td>\n",
       "    </tr>\n",
       "    <tr>\n",
       "      <th>33187</th>\n",
       "      <td>33188</td>\n",
       "      <td>B000SATIZA</td>\n",
       "      <td>A997PUM414JUE</td>\n",
       "      <td>5</td>\n",
       "      <td>I use the hibiscus flower tea thus:&lt;br /&gt;&lt;br /...</td>\n",
       "      <td>positive</td>\n",
       "    </tr>\n",
       "  </tbody>\n",
       "</table>\n",
       "</div>"
      ],
      "text/plain": [
       "            Id   ProductId          UserId  Score  \\\n",
       "299008  299009  B000HPZM74  A2IMF02ESIYFCK      5   \n",
       "201564  201565  B007R900WA  A324GNNAEX3ZRZ      5   \n",
       "550569  550570  B001P7539A  A1A4W9XNAHMSGS      5   \n",
       "278081  278082  B003O7T87C   ARM093ZVUMP9U      5   \n",
       "33187    33188  B000SATIZA   A997PUM414JUE      5   \n",
       "\n",
       "                                                     Text Sentiment  \n",
       "299008  its they're treat after getting the bark colla...  positive  \n",
       "201564  This holder is great.  If your cabinets are ta...  positive  \n",
       "550569  This popcorn is the best popcorn ever, it is j...  positive  \n",
       "278081  I have bought this product regularly for about...  positive  \n",
       "33187   I use the hibiscus flower tea thus:<br /><br /...  positive  "
      ]
     },
     "execution_count": 46,
     "metadata": {},
     "output_type": "execute_result"
    }
   ],
   "source": [
    "positive_indices = np.array(Amazon_[Amazon_.Sentiment==\"positive\"].index)\n",
    "negative_indices = np.array(Amazon_[Amazon_.Sentiment==\"negative\"].index)\n",
    "#normal_indices = Amazon_[Amazon_['Sentiment']==\"negative\"].index\n",
    "#now pick random samples\n",
    "random_pos_indices = np.random.choice(positive_indices, fixed_length, replace=False)\n",
    "random_neg_indices = np.random.choice(negative_indices, fixed_length, replace=False)\n",
    "random_pos_indices = np.array(random_pos_indices)\n",
    "random_neg_indices = np.array(random_neg_indices)\n",
    "\n",
    "#Now Combine both indices\n",
    "appended_indices = np.concatenate([random_pos_indices, random_neg_indices])\n",
    "\n",
    "#\n",
    "appended_dataset = Amazon_.iloc[appended_indices,:]\n",
    "appended_dataset.head()"
   ]
  },
  {
   "cell_type": "code",
   "execution_count": 47,
   "metadata": {
    "collapsed": false
   },
   "outputs": [
    {
     "data": {
      "text/plain": [
       "negative    10000\n",
       "positive    10000\n",
       "Name: Sentiment, dtype: int64"
      ]
     },
     "execution_count": 47,
     "metadata": {},
     "output_type": "execute_result"
    }
   ],
   "source": [
    "pd.value_counts(appended_dataset.Sentiment, sort=True).sort_index()"
   ]
  },
  {
   "cell_type": "code",
   "execution_count": 48,
   "metadata": {
    "collapsed": true
   },
   "outputs": [],
   "source": [
    "from bs4 import BeautifulSoup  \n",
    "import nltk\n",
    "import re\n",
    "from nltk.corpus import stopwords"
   ]
  },
  {
   "cell_type": "code",
   "execution_count": 49,
   "metadata": {
    "collapsed": true
   },
   "outputs": [],
   "source": [
    "def review_to_words( raw_review ):\n",
    "    # Function to convert a raw review to a string of words\n",
    "    # The input is a single string (a raw movie review), and \n",
    "    # the output is a single string (a preprocessed movie review)\n",
    "    #\n",
    "    # 1. Remove HTML\n",
    "    review_text = BeautifulSoup(raw_review).get_text() \n",
    "    #\n",
    "    # 2. Remove non-letters        \n",
    "    letters_only = re.sub(\"[^a-zA-Z]\", \" \", review_text) \n",
    "    #\n",
    "    # 3. Convert to lower case, split into individual words\n",
    "    words = letters_only.lower().split()                             \n",
    "    #\n",
    "    # 4. In Python, searching a set is much faster than searching\n",
    "    #   a list, so convert the stop words to a set\n",
    "    stops = set(stopwords.words(\"english\"))                  \n",
    "    # \n",
    "    # 5. Remove stop words\n",
    "    meaningful_words = [w for w in words if not w in stops]   \n",
    "    #\n",
    "    # 6. Join the words back into one string separated by space, \n",
    "    # and return the result.\n",
    "    return( \" \".join( meaningful_words )) "
   ]
  },
  {
   "cell_type": "code",
   "execution_count": 50,
   "metadata": {
    "collapsed": false
   },
   "outputs": [
    {
     "name": "stdout",
     "output_type": "stream",
     "text": [
      "(20000, 6)\n"
     ]
    }
   ],
   "source": [
    "print appended_dataset.shape"
   ]
  },
  {
   "cell_type": "code",
   "execution_count": 51,
   "metadata": {
    "collapsed": false
   },
   "outputs": [
    {
     "name": "stdout",
     "output_type": "stream",
     "text": [
      "20000\n"
     ]
    },
    {
     "data": {
      "text/plain": [
       "'I use the hibiscus flower tea thus:<br /><br />In a slightly larger than two quart (half gallon) container place 3/4 to 1 cup hibiscus flowers and 3/4-1 tablespoon dried stevia leaves.<br /><br />Add two quarts of boiling water.<br /><br />Let sit for at least 10 minutes.  Drink some hot (if you like).  When it is cool, strain through a fine sieve or mesh into a refrigerator container and enjoy cold.<br /><br />My daughters (12 & 14) enjoy drinking this cold over ice instead of soda and take it to school in the morning in their water bottles.  I drink it cold after running, working in the yard, or going to the gym as it is extraordinarily refreshing cold.  It also tends to keep me from snacking between meals.  We go through about 2-3 gallons/week, mostly cold.<br /><br />Other recommendations:  It stains, so pour it over the sink or something that won\\'t stain.  It is very convenient online, but can also be purchased from many local Mexican markets from the same section as dried peppers.  Consider keeping in a sealed container (I use Lock & Lock) for freshness and to keep from getting wet (again because it will stain). Stevia leaves are not the same as Stevia powder (the powder is much stronger).<br /><br />update:<br />I\\'ve used the \"Frontier Bulk Stevia Herb Powder(Green), CERTIFIED ORGANIC, 1 lb. package\" from Amazon instead of the dried stevia leaves from my garden. While brewing 1/2 gallon (2 quarts) of tea, I still used 1 cup of dried hibiscus flowers and 1 level teaspoon of stevia herb powder. Tastes the same as when I use the dried leaves from my garden.  Note:  green stevia powder is not the same as stevia extract.'"
      ]
     },
     "execution_count": 51,
     "metadata": {},
     "output_type": "execute_result"
    }
   ],
   "source": [
    "print appended_dataset[\"Text\"].size\n",
    "appended_dataset.iloc[4]['Text']"
   ]
  },
  {
   "cell_type": "code",
   "execution_count": 52,
   "metadata": {
    "collapsed": false
   },
   "outputs": [
    {
     "name": "stderr",
     "output_type": "stream",
     "text": [
      "C:\\Users\\Ajith Vajrala\\Anaconda2\\lib\\site-packages\\bs4\\__init__.py:181: UserWarning: No parser was explicitly specified, so I'm using the best available HTML parser for this system (\"lxml\"). This usually isn't a problem, but if you run this code on another system, or in a different virtual environment, it may use a different parser and behave differently.\n",
      "\n",
      "The code that caused this warning is on line 174 of the file C:\\Users\\Ajith Vajrala\\Anaconda2\\lib\\runpy.py. To get rid of this warning, change code that looks like this:\n",
      "\n",
      " BeautifulSoup([your markup])\n",
      "\n",
      "to this:\n",
      "\n",
      " BeautifulSoup([your markup], \"lxml\")\n",
      "\n",
      "  markup_type=markup_type))\n"
     ]
    }
   ],
   "source": [
    "num_reviews = appended_dataset[\"Text\"].size\n",
    "clean_train_reviews = []\n",
    "\n",
    "for i in xrange( 0, num_reviews ):\n",
    "    # Call our function for each one, and add the result to the list of\n",
    "    # clean reviews\n",
    "    clean_train_reviews.append( review_to_words( appended_dataset.iloc[i][\"Text\"] ) )"
   ]
  },
  {
   "cell_type": "code",
   "execution_count": 53,
   "metadata": {
    "collapsed": true
   },
   "outputs": [],
   "source": [
    "from sklearn.feature_extraction.text import CountVectorizer\n",
    "# \n",
    "vectorizer = CountVectorizer(analyzer = \"word\",   \n",
    "                             tokenizer = None,    \n",
    "                             preprocessor = None, \n",
    "                             stop_words = None,   \n",
    "                             max_features = 5000) \n",
    "#\n",
    "train_data_features = vectorizer.fit_transform(clean_train_reviews)\n",
    "\n",
    "# Numpy arrays are easy to work with, so convert the result to an \n",
    "# array\n",
    "#train_data_features = train_data_features.toarray()"
   ]
  },
  {
   "cell_type": "code",
   "execution_count": 54,
   "metadata": {
    "collapsed": false
   },
   "outputs": [
    {
     "name": "stdout",
     "output_type": "stream",
     "text": [
      "Training the random forest...\n"
     ]
    }
   ],
   "source": [
    "vocab = vectorizer.get_feature_names()\n",
    "print \"Training the random forest...\"\n",
    "from sklearn.ensemble import RandomForestClassifier\n",
    "\n",
    "# Initialize a Random Forest classifier with 100 trees\n",
    "forest = RandomForestClassifier(n_estimators = 100) \n",
    "\n",
    "# Fit the forest to the training set, using the bag of words as \n",
    "# features and the sentiment labels as the response variable\n",
    "#\n",
    "# This may take a few minutes to run\n",
    "forest = forest.fit( train_data_features, appended_dataset[\"Sentiment\"] )"
   ]
  },
  {
   "cell_type": "code",
   "execution_count": 55,
   "metadata": {
    "collapsed": false
   },
   "outputs": [
    {
     "name": "stdout",
     "output_type": "stream",
     "text": [
      "['positive']\n"
     ]
    }
   ],
   "source": [
    "clean_test_reviews = [] \n",
    "clean_review = review_to_words(     sent_tokenize(df_['text'][1])[0]     )\n",
    "clean_test_reviews.append( clean_review )\n",
    "\n",
    "# Get a bag of words for the test set, and convert to a numpy array\n",
    "test_data_features = vectorizer.transform(clean_test_reviews)\n",
    "test_data_features = test_data_features.toarray()\n",
    "\n",
    "# Use the random forest to make sentiment label predictions\n",
    "result = forest.predict(test_data_features)\n",
    "print result"
   ]
  },
  {
   "cell_type": "code",
   "execution_count": 56,
   "metadata": {
    "collapsed": false
   },
   "outputs": [
    {
     "data": {
      "text/plain": [
       "5503"
      ]
     },
     "execution_count": 56,
     "metadata": {},
     "output_type": "execute_result"
    }
   ],
   "source": [
    "length_df"
   ]
  },
  {
   "cell_type": "code",
   "execution_count": 66,
   "metadata": {
    "collapsed": false
   },
   "outputs": [
    {
     "name": "stdout",
     "output_type": "stream",
     "text": [
      "0    [positive]\n",
      "1    [positive]\n",
      "2    [negative]\n",
      "3    [negative]\n",
      "4    [negative]\n",
      "5    [negative]\n",
      "6    [negative]\n",
      "7    [negative]\n",
      "8    [positive]\n",
      "9    [positive]\n",
      "Name: Clust0_Sent, dtype: object\n",
      "0    [positive]\n",
      "1       NEUTRAL\n",
      "2    [negative]\n",
      "3       NEUTRAL\n",
      "4       NEUTRAL\n",
      "5    [negative]\n",
      "6    [negative]\n",
      "7    [negative]\n",
      "8    [positive]\n",
      "9    [positive]\n",
      "Name: Clust1_Sent, dtype: object\n"
     ]
    },
    {
     "data": {
      "text/html": [
       "<div>\n",
       "<table border=\"1\" class=\"dataframe\">\n",
       "  <thead>\n",
       "    <tr style=\"text-align: right;\">\n",
       "      <th></th>\n",
       "      <th>user_id</th>\n",
       "      <th>review_id</th>\n",
       "      <th>text</th>\n",
       "      <th>business_id</th>\n",
       "      <th>date</th>\n",
       "      <th>type</th>\n",
       "      <th>Cluster0</th>\n",
       "      <th>Cluster1</th>\n",
       "      <th>Cluster2</th>\n",
       "      <th>Cluster3</th>\n",
       "      <th>Cluster4</th>\n",
       "      <th>Clust0_Sent</th>\n",
       "      <th>Clust1_Sent</th>\n",
       "      <th>Clust2_Sent</th>\n",
       "      <th>Clust3_Sent</th>\n",
       "      <th>Clust4_Sent</th>\n",
       "    </tr>\n",
       "  </thead>\n",
       "  <tbody>\n",
       "    <tr>\n",
       "      <th>0</th>\n",
       "      <td>PUFPaY9KxDAcGqfsorJp3Q</td>\n",
       "      <td>Ya85v4eqdd6k9Od8HbQjyA</td>\n",
       "      <td>Mr Hoagie is an institution. Walking in, it do...</td>\n",
       "      <td>5UmKMjUEUNdYWqANhGckJw</td>\n",
       "      <td>2012-08-01</td>\n",
       "      <td>review</td>\n",
       "      <td>1</td>\n",
       "      <td>1</td>\n",
       "      <td>0</td>\n",
       "      <td>0</td>\n",
       "      <td>0</td>\n",
       "      <td>[positive]</td>\n",
       "      <td>[positive]</td>\n",
       "      <td>NEUTRAL</td>\n",
       "      <td>NEUTRAL</td>\n",
       "      <td>NEUTRAL</td>\n",
       "    </tr>\n",
       "    <tr>\n",
       "      <th>1</th>\n",
       "      <td>Iu6AxdBYGR4A0wspR9BYHA</td>\n",
       "      <td>KPvLNJ21_4wbYNctrOwWdQ</td>\n",
       "      <td>Excellent food. Superb customer service. I mis...</td>\n",
       "      <td>5UmKMjUEUNdYWqANhGckJw</td>\n",
       "      <td>2014-02-13</td>\n",
       "      <td>review</td>\n",
       "      <td>1</td>\n",
       "      <td>0</td>\n",
       "      <td>0</td>\n",
       "      <td>0</td>\n",
       "      <td>0</td>\n",
       "      <td>[positive]</td>\n",
       "      <td>NEUTRAL</td>\n",
       "      <td>NEUTRAL</td>\n",
       "      <td>NEUTRAL</td>\n",
       "      <td>NEUTRAL</td>\n",
       "    </tr>\n",
       "    <tr>\n",
       "      <th>2</th>\n",
       "      <td>auESFwWvW42h6alXgFxAXQ</td>\n",
       "      <td>fFSoGV46Yxuwbr3fHNuZig</td>\n",
       "      <td>Yes this place is a little out dated and not o...</td>\n",
       "      <td>5UmKMjUEUNdYWqANhGckJw</td>\n",
       "      <td>2015-10-31</td>\n",
       "      <td>review</td>\n",
       "      <td>1</td>\n",
       "      <td>1</td>\n",
       "      <td>0</td>\n",
       "      <td>0</td>\n",
       "      <td>0</td>\n",
       "      <td>[negative]</td>\n",
       "      <td>[negative]</td>\n",
       "      <td>NEUTRAL</td>\n",
       "      <td>NEUTRAL</td>\n",
       "      <td>NEUTRAL</td>\n",
       "    </tr>\n",
       "    <tr>\n",
       "      <th>3</th>\n",
       "      <td>qiczib2fO_1VBG8IoCGvVg</td>\n",
       "      <td>pVMIt0a_QsKtuDfWVfSk2A</td>\n",
       "      <td>PROS: Italian hoagie was delicious.  Friendly ...</td>\n",
       "      <td>5UmKMjUEUNdYWqANhGckJw</td>\n",
       "      <td>2015-12-26</td>\n",
       "      <td>review</td>\n",
       "      <td>1</td>\n",
       "      <td>0</td>\n",
       "      <td>0</td>\n",
       "      <td>0</td>\n",
       "      <td>0</td>\n",
       "      <td>[negative]</td>\n",
       "      <td>NEUTRAL</td>\n",
       "      <td>NEUTRAL</td>\n",
       "      <td>NEUTRAL</td>\n",
       "      <td>NEUTRAL</td>\n",
       "    </tr>\n",
       "    <tr>\n",
       "      <th>4</th>\n",
       "      <td>qEE5EvV-f-s7yHC0Z4ydJQ</td>\n",
       "      <td>AEyiQ_Y44isJmNbMTyoMKQ</td>\n",
       "      <td>First the only reason this place could possibl...</td>\n",
       "      <td>5UmKMjUEUNdYWqANhGckJw</td>\n",
       "      <td>2016-04-08</td>\n",
       "      <td>review</td>\n",
       "      <td>1</td>\n",
       "      <td>0</td>\n",
       "      <td>0</td>\n",
       "      <td>0</td>\n",
       "      <td>0</td>\n",
       "      <td>[negative]</td>\n",
       "      <td>NEUTRAL</td>\n",
       "      <td>NEUTRAL</td>\n",
       "      <td>NEUTRAL</td>\n",
       "      <td>NEUTRAL</td>\n",
       "    </tr>\n",
       "    <tr>\n",
       "      <th>5</th>\n",
       "      <td>jBoH6qKGO7wdYyg_YjBcQA</td>\n",
       "      <td>V-bqYx62zpxfH2oFkzXPzw</td>\n",
       "      <td>Normally, I do not do reviews of an establishm...</td>\n",
       "      <td>5UmKMjUEUNdYWqANhGckJw</td>\n",
       "      <td>2016-04-10</td>\n",
       "      <td>review</td>\n",
       "      <td>1</td>\n",
       "      <td>1</td>\n",
       "      <td>0</td>\n",
       "      <td>0</td>\n",
       "      <td>0</td>\n",
       "      <td>[negative]</td>\n",
       "      <td>[negative]</td>\n",
       "      <td>NEUTRAL</td>\n",
       "      <td>NEUTRAL</td>\n",
       "      <td>NEUTRAL</td>\n",
       "    </tr>\n",
       "    <tr>\n",
       "      <th>6</th>\n",
       "      <td>bWrodc7hN_T4q2r-rolrOA</td>\n",
       "      <td>3saY_LVFUpkAfd9t86VNdw</td>\n",
       "      <td>I like this place a lot. It's a good toasted h...</td>\n",
       "      <td>5UmKMjUEUNdYWqANhGckJw</td>\n",
       "      <td>2016-05-11</td>\n",
       "      <td>review</td>\n",
       "      <td>1</td>\n",
       "      <td>1</td>\n",
       "      <td>0</td>\n",
       "      <td>0</td>\n",
       "      <td>0</td>\n",
       "      <td>[negative]</td>\n",
       "      <td>[negative]</td>\n",
       "      <td>NEUTRAL</td>\n",
       "      <td>NEUTRAL</td>\n",
       "      <td>NEUTRAL</td>\n",
       "    </tr>\n",
       "    <tr>\n",
       "      <th>7</th>\n",
       "      <td>uK8tzraOp4M5u3uYrqIBXg</td>\n",
       "      <td>Di3exaUCFNw1V4kSNW5pgA</td>\n",
       "      <td>All the food is great here. But the best thing...</td>\n",
       "      <td>UsFtqoBl7naz8AVUBZMjQQ</td>\n",
       "      <td>2013-11-08</td>\n",
       "      <td>review</td>\n",
       "      <td>1</td>\n",
       "      <td>1</td>\n",
       "      <td>0</td>\n",
       "      <td>0</td>\n",
       "      <td>0</td>\n",
       "      <td>[negative]</td>\n",
       "      <td>[negative]</td>\n",
       "      <td>NEUTRAL</td>\n",
       "      <td>NEUTRAL</td>\n",
       "      <td>NEUTRAL</td>\n",
       "    </tr>\n",
       "    <tr>\n",
       "      <th>8</th>\n",
       "      <td>I_47G-R2_egp7ME5u_ltew</td>\n",
       "      <td>0Lua2-PbqEQMjD9r89-asw</td>\n",
       "      <td>We checked this place out this past Monday for...</td>\n",
       "      <td>UsFtqoBl7naz8AVUBZMjQQ</td>\n",
       "      <td>2014-03-29</td>\n",
       "      <td>review</td>\n",
       "      <td>1</td>\n",
       "      <td>1</td>\n",
       "      <td>0</td>\n",
       "      <td>0</td>\n",
       "      <td>0</td>\n",
       "      <td>[positive]</td>\n",
       "      <td>[positive]</td>\n",
       "      <td>NEUTRAL</td>\n",
       "      <td>NEUTRAL</td>\n",
       "      <td>NEUTRAL</td>\n",
       "    </tr>\n",
       "    <tr>\n",
       "      <th>9</th>\n",
       "      <td>PP_xoMSYlGr2pb67BbqBdA</td>\n",
       "      <td>7N9j5YbBHBW6qguE5DAeyA</td>\n",
       "      <td>Wing sauce is like water. Pretty much a lot of...</td>\n",
       "      <td>UsFtqoBl7naz8AVUBZMjQQ</td>\n",
       "      <td>2014-10-29</td>\n",
       "      <td>review</td>\n",
       "      <td>1</td>\n",
       "      <td>1</td>\n",
       "      <td>0</td>\n",
       "      <td>0</td>\n",
       "      <td>0</td>\n",
       "      <td>[positive]</td>\n",
       "      <td>[positive]</td>\n",
       "      <td>NEUTRAL</td>\n",
       "      <td>NEUTRAL</td>\n",
       "      <td>NEUTRAL</td>\n",
       "    </tr>\n",
       "  </tbody>\n",
       "</table>\n",
       "</div>"
      ],
      "text/plain": [
       "                  user_id               review_id  \\\n",
       "0  PUFPaY9KxDAcGqfsorJp3Q  Ya85v4eqdd6k9Od8HbQjyA   \n",
       "1  Iu6AxdBYGR4A0wspR9BYHA  KPvLNJ21_4wbYNctrOwWdQ   \n",
       "2  auESFwWvW42h6alXgFxAXQ  fFSoGV46Yxuwbr3fHNuZig   \n",
       "3  qiczib2fO_1VBG8IoCGvVg  pVMIt0a_QsKtuDfWVfSk2A   \n",
       "4  qEE5EvV-f-s7yHC0Z4ydJQ  AEyiQ_Y44isJmNbMTyoMKQ   \n",
       "5  jBoH6qKGO7wdYyg_YjBcQA  V-bqYx62zpxfH2oFkzXPzw   \n",
       "6  bWrodc7hN_T4q2r-rolrOA  3saY_LVFUpkAfd9t86VNdw   \n",
       "7  uK8tzraOp4M5u3uYrqIBXg  Di3exaUCFNw1V4kSNW5pgA   \n",
       "8  I_47G-R2_egp7ME5u_ltew  0Lua2-PbqEQMjD9r89-asw   \n",
       "9  PP_xoMSYlGr2pb67BbqBdA  7N9j5YbBHBW6qguE5DAeyA   \n",
       "\n",
       "                                                text             business_id  \\\n",
       "0  Mr Hoagie is an institution. Walking in, it do...  5UmKMjUEUNdYWqANhGckJw   \n",
       "1  Excellent food. Superb customer service. I mis...  5UmKMjUEUNdYWqANhGckJw   \n",
       "2  Yes this place is a little out dated and not o...  5UmKMjUEUNdYWqANhGckJw   \n",
       "3  PROS: Italian hoagie was delicious.  Friendly ...  5UmKMjUEUNdYWqANhGckJw   \n",
       "4  First the only reason this place could possibl...  5UmKMjUEUNdYWqANhGckJw   \n",
       "5  Normally, I do not do reviews of an establishm...  5UmKMjUEUNdYWqANhGckJw   \n",
       "6  I like this place a lot. It's a good toasted h...  5UmKMjUEUNdYWqANhGckJw   \n",
       "7  All the food is great here. But the best thing...  UsFtqoBl7naz8AVUBZMjQQ   \n",
       "8  We checked this place out this past Monday for...  UsFtqoBl7naz8AVUBZMjQQ   \n",
       "9  Wing sauce is like water. Pretty much a lot of...  UsFtqoBl7naz8AVUBZMjQQ   \n",
       "\n",
       "         date    type  Cluster0  Cluster1  Cluster2  Cluster3  Cluster4  \\\n",
       "0  2012-08-01  review         1         1         0         0         0   \n",
       "1  2014-02-13  review         1         0         0         0         0   \n",
       "2  2015-10-31  review         1         1         0         0         0   \n",
       "3  2015-12-26  review         1         0         0         0         0   \n",
       "4  2016-04-08  review         1         0         0         0         0   \n",
       "5  2016-04-10  review         1         1         0         0         0   \n",
       "6  2016-05-11  review         1         1         0         0         0   \n",
       "7  2013-11-08  review         1         1         0         0         0   \n",
       "8  2014-03-29  review         1         1         0         0         0   \n",
       "9  2014-10-29  review         1         1         0         0         0   \n",
       "\n",
       "  Clust0_Sent Clust1_Sent Clust2_Sent Clust3_Sent Clust4_Sent  \n",
       "0  [positive]  [positive]     NEUTRAL     NEUTRAL     NEUTRAL  \n",
       "1  [positive]     NEUTRAL     NEUTRAL     NEUTRAL     NEUTRAL  \n",
       "2  [negative]  [negative]     NEUTRAL     NEUTRAL     NEUTRAL  \n",
       "3  [negative]     NEUTRAL     NEUTRAL     NEUTRAL     NEUTRAL  \n",
       "4  [negative]     NEUTRAL     NEUTRAL     NEUTRAL     NEUTRAL  \n",
       "5  [negative]  [negative]     NEUTRAL     NEUTRAL     NEUTRAL  \n",
       "6  [negative]  [negative]     NEUTRAL     NEUTRAL     NEUTRAL  \n",
       "7  [negative]  [negative]     NEUTRAL     NEUTRAL     NEUTRAL  \n",
       "8  [positive]  [positive]     NEUTRAL     NEUTRAL     NEUTRAL  \n",
       "9  [positive]  [positive]     NEUTRAL     NEUTRAL     NEUTRAL  "
      ]
     },
     "execution_count": 66,
     "metadata": {},
     "output_type": "execute_result"
    }
   ],
   "source": [
    "print df_['Clust0_Sent'][0:10,]\n",
    "print df_['Clust1_Sent'][0:10,]\n",
    "df_.head(10)"
   ]
  },
  {
   "cell_type": "code",
   "execution_count": 58,
   "metadata": {
    "collapsed": false
   },
   "outputs": [
    {
     "name": "stderr",
     "output_type": "stream",
     "text": [
      "C:\\Users\\Ajith Vajrala\\Anaconda2\\lib\\site-packages\\ipykernel\\__main__.py:13: SettingWithCopyWarning: \n",
      "A value is trying to be set on a copy of a slice from a DataFrame\n",
      "\n",
      "See the caveats in the documentation: http://pandas.pydata.org/pandas-docs/stable/indexing.html#indexing-view-versus-copy\n",
      "C:\\Users\\Ajith Vajrala\\Anaconda2\\lib\\site-packages\\ipykernel\\__main__.py:27: SettingWithCopyWarning: \n",
      "A value is trying to be set on a copy of a slice from a DataFrame\n",
      "\n",
      "See the caveats in the documentation: http://pandas.pydata.org/pandas-docs/stable/indexing.html#indexing-view-versus-copy\n"
     ]
    },
    {
     "name": "stdout",
     "output_type": "stream",
     "text": [
      "['positive']\n",
      "['positive']\n",
      "['negative']\n",
      "['negative']\n",
      "['negative']\n",
      "['negative']\n",
      "['negative']\n",
      "['negative']\n",
      "['positive']\n",
      "['positive']\n"
     ]
    }
   ],
   "source": [
    "#Cluster0\n",
    "\n",
    "for i in range(10):\n",
    "    new_sent =[]\n",
    "    for j in  range(len(sent_tokenize(df_['text'][i]))):\n",
    "        #\n",
    "        new_sent = sent_tokenize(df_.text[i])[j]\n",
    "        new_words = [x.lower() for x in word_tokenize(new_sent)]\n",
    "        result = []\n",
    "\n",
    "        for k in range(len(unique_keys[0])):\n",
    "            if unique_keys[0][k] in new_words:\n",
    "                df_['Cluster0'][i] = 1\n",
    "                \n",
    "            \n",
    "        \n",
    "    if df_['Cluster0'][i] == 1:\n",
    "        clean_test_reviews = [] \n",
    "        clean_review = review_to_words(new_sent)\n",
    "        clean_test_reviews.append( clean_review )\n",
    "        # Get a bag of words for the test set, and convert to a numpy array\n",
    "        test_data_features = vectorizer.transform(clean_test_reviews)\n",
    "        test_data_features = test_data_features.toarray()\n",
    "        # Use the random forest to make sentiment label predictions\n",
    "        result = forest.predict(test_data_features)\n",
    "        print result\n",
    "        df_['Clust0_Sent'][i] = result\n",
    "            "
   ]
  },
  {
   "cell_type": "code",
   "execution_count": 59,
   "metadata": {
    "collapsed": false
   },
   "outputs": [
    {
     "name": "stderr",
     "output_type": "stream",
     "text": [
      "C:\\Users\\Ajith Vajrala\\Anaconda2\\lib\\site-packages\\ipykernel\\__main__.py:12: SettingWithCopyWarning: \n",
      "A value is trying to be set on a copy of a slice from a DataFrame\n",
      "\n",
      "See the caveats in the documentation: http://pandas.pydata.org/pandas-docs/stable/indexing.html#indexing-view-versus-copy\n",
      "C:\\Users\\Ajith Vajrala\\Anaconda2\\lib\\site-packages\\ipykernel\\__main__.py:31: SettingWithCopyWarning: \n",
      "A value is trying to be set on a copy of a slice from a DataFrame\n",
      "\n",
      "See the caveats in the documentation: http://pandas.pydata.org/pandas-docs/stable/indexing.html#indexing-view-versus-copy\n"
     ]
    },
    {
     "name": "stdout",
     "output_type": "stream",
     "text": [
      "['positive']\n",
      "['negative']\n",
      "['negative']\n",
      "['negative']\n",
      "['negative']\n",
      "['positive']\n",
      "['positive']\n"
     ]
    }
   ],
   "source": [
    "#Cluster1\n",
    "\n",
    "for i in range(10):\n",
    "    new_sent =[]\n",
    "    for j in  range(len(sent_tokenize(df_['text'][i]))):\n",
    "        #\n",
    "        new_sent = sent_tokenize(df_.text[i])[j]\n",
    "        new_words = [x.lower() for x in word_tokenize(new_sent)]\n",
    "        \n",
    "        for k in range(len(unique_keys[1])):\n",
    "            if unique_keys[1][k] in new_words:\n",
    "                df_['Cluster1'][i] = 1\n",
    "                break\n",
    "                #break\n",
    "             \n",
    "        \n",
    "    clean_test_reviews = []\n",
    "    result = []\n",
    "    if df_['Cluster1'][i] == 1:\n",
    "            \n",
    "        clean_test_reviews = [] \n",
    "        clean_review = review_to_words(new_sent)\n",
    "        clean_test_reviews.append( clean_review )\n",
    "\n",
    "        # Get a bag of words for the test set, and convert to a numpy array\n",
    "        test_data_features = vectorizer.transform(clean_test_reviews)\n",
    "        test_data_features = test_data_features.toarray()\n",
    "        # Use the random forest to make sentiment label predictions\n",
    "        result = forest.predict(test_data_features)\n",
    "        print result\n",
    "        df_['Clust1_Sent'][i] = result"
   ]
  },
  {
   "cell_type": "code",
   "execution_count": 87,
   "metadata": {
    "collapsed": false
   },
   "outputs": [
    {
     "name": "stderr",
     "output_type": "stream",
     "text": [
      "C:\\Users\\Ajith Vajrala\\Anaconda2\\lib\\site-packages\\ipykernel\\__main__.py:10: SettingWithCopyWarning: \n",
      "A value is trying to be set on a copy of a slice from a DataFrame\n",
      "\n",
      "See the caveats in the documentation: http://pandas.pydata.org/pandas-docs/stable/indexing.html#indexing-view-versus-copy\n",
      "C:\\Users\\Ajith Vajrala\\Anaconda2\\lib\\site-packages\\ipykernel\\__main__.py:28: SettingWithCopyWarning: \n",
      "A value is trying to be set on a copy of a slice from a DataFrame\n",
      "\n",
      "See the caveats in the documentation: http://pandas.pydata.org/pandas-docs/stable/indexing.html#indexing-view-versus-copy\n",
      "C:\\Users\\Ajith Vajrala\\Anaconda2\\lib\\site-packages\\bs4\\__init__.py:282: UserWarning: \"http://eatinginpittsburgh.com/2010/07/07/ive-got-an-itch-for-kitsch-quiet-storm-in-bloomfield/\" looks like a URL. Beautiful Soup is not an HTTP client. You should probably use an HTTP client like requests to get the document behind the URL, and feed that document to Beautiful Soup.\n",
      "  ' that document to Beautiful Soup.' % decoded_markup\n"
     ]
    }
   ],
   "source": [
    "for i in range(length_df):\n",
    "    new_sent =[]\n",
    "    for j in  range(len(sent_tokenize(df_['text'][i]))):\n",
    "        #\n",
    "        new_sent = sent_tokenize(df_.text[i])[j]\n",
    "        new_words = [x.lower() for x in word_tokenize(new_sent)]\n",
    "        \n",
    "        for k in range(len(unique_keys[2])):\n",
    "            if unique_keys[2][k] in new_words:\n",
    "                df_['Cluster2'][i] = 1\n",
    "                break\n",
    "                break\n",
    "        clean_test_reviews = []     \n",
    "        result = []\n",
    "    \n",
    "    if df_['Cluster2'][i] == 1:\n",
    "            \n",
    "        clean_test_reviews = [] \n",
    "        clean_review = review_to_words(new_sent)\n",
    "        clean_test_reviews.append( clean_review )\n",
    "\n",
    "        # Get a bag of words for the test set, and convert to a numpy array\n",
    "        test_data_features = vectorizer.transform(clean_test_reviews)\n",
    "        test_data_features = test_data_features.toarray()\n",
    "        # Use the random forest to make sentiment label predictions\n",
    "        result = forest.predict(test_data_features)\n",
    "        #print result\n",
    "        df_['Clust2_Sent'][i] = result"
   ]
  },
  {
   "cell_type": "code",
   "execution_count": 89,
   "metadata": {
    "collapsed": false
   },
   "outputs": [
    {
     "name": "stderr",
     "output_type": "stream",
     "text": [
      "C:\\Users\\Ajith Vajrala\\Anaconda2\\lib\\site-packages\\ipykernel\\__main__.py:10: SettingWithCopyWarning: \n",
      "A value is trying to be set on a copy of a slice from a DataFrame\n",
      "\n",
      "See the caveats in the documentation: http://pandas.pydata.org/pandas-docs/stable/indexing.html#indexing-view-versus-copy\n",
      "C:\\Users\\Ajith Vajrala\\Anaconda2\\lib\\site-packages\\ipykernel\\__main__.py:28: SettingWithCopyWarning: \n",
      "A value is trying to be set on a copy of a slice from a DataFrame\n",
      "\n",
      "See the caveats in the documentation: http://pandas.pydata.org/pandas-docs/stable/indexing.html#indexing-view-versus-copy\n"
     ]
    }
   ],
   "source": [
    "for i in range(length_df):\n",
    "    new_sent =[]\n",
    "    for j in  range(len(sent_tokenize(df_['text'][i]))):\n",
    "        #\n",
    "        new_sent = sent_tokenize(df_.text[i])[j]\n",
    "        new_words = [x.lower() for x in word_tokenize(new_sent)]\n",
    "        \n",
    "        for k in range(len(unique_keys[3])):\n",
    "            if unique_keys[3][k] in new_words:\n",
    "                df_['Cluster3'][i] = 1\n",
    "                break\n",
    "                break\n",
    "    clean_test_reviews = []     \n",
    "    result = []\n",
    "    \n",
    "    if df_['Cluster3'][i] == 1:\n",
    "            \n",
    "        clean_test_reviews = [] \n",
    "        clean_review = review_to_words(new_sent)\n",
    "        clean_test_reviews.append( clean_review )\n",
    "\n",
    "        # Get a bag of words for the test set, and convert to a numpy array\n",
    "        test_data_features = vectorizer.transform(clean_test_reviews)\n",
    "        test_data_features = test_data_features.toarray()\n",
    "        # Use the random forest to make sentiment label predictions\n",
    "        result = forest.predict(test_data_features)\n",
    "        #print result\n",
    "        df_['Clust3_Sent'][i] = result"
   ]
  },
  {
   "cell_type": "code",
   "execution_count": 90,
   "metadata": {
    "collapsed": false
   },
   "outputs": [
    {
     "name": "stderr",
     "output_type": "stream",
     "text": [
      "C:\\Users\\Ajith Vajrala\\Anaconda2\\lib\\site-packages\\ipykernel\\__main__.py:10: SettingWithCopyWarning: \n",
      "A value is trying to be set on a copy of a slice from a DataFrame\n",
      "\n",
      "See the caveats in the documentation: http://pandas.pydata.org/pandas-docs/stable/indexing.html#indexing-view-versus-copy\n",
      "C:\\Users\\Ajith Vajrala\\Anaconda2\\lib\\site-packages\\ipykernel\\__main__.py:28: SettingWithCopyWarning: \n",
      "A value is trying to be set on a copy of a slice from a DataFrame\n",
      "\n",
      "See the caveats in the documentation: http://pandas.pydata.org/pandas-docs/stable/indexing.html#indexing-view-versus-copy\n"
     ]
    }
   ],
   "source": [
    "for i in range(length_df):\n",
    "    new_sent =[]\n",
    "    for j in  range(len(sent_tokenize(df_['text'][i]))):\n",
    "        #\n",
    "        new_sent = sent_tokenize(df_.text[i])[j]\n",
    "        new_words = [x.lower() for x in word_tokenize(new_sent)]\n",
    "        \n",
    "        for k in range(len(unique_keys[4])):\n",
    "            if unique_keys[4][k] in new_words:\n",
    "                df_['Cluster4'][i] = 1\n",
    "                break\n",
    "                break\n",
    "    clean_test_reviews = []     \n",
    "    result = []\n",
    "    \n",
    "    if df_['Cluster4'][i] == 1:\n",
    "            \n",
    "        clean_test_reviews = [] \n",
    "        clean_review = review_to_words(new_sent)\n",
    "        clean_test_reviews.append( clean_review )\n",
    "\n",
    "        # Get a bag of words for the test set, and convert to a numpy array\n",
    "        test_data_features = vectorizer.transform(clean_test_reviews)\n",
    "        test_data_features = test_data_features.toarray()\n",
    "        # Use the random forest to make sentiment label predictions\n",
    "        result = forest.predict(test_data_features)\n",
    "        #print result\n",
    "        df_['Clust4_Sent'][i] = result"
   ]
  },
  {
   "cell_type": "code",
   "execution_count": 91,
   "metadata": {
    "collapsed": true
   },
   "outputs": [],
   "source": [
    "df_.to_csv(\"yelp_final.csv\", encoding='utf-8')"
   ]
  },
  {
   "cell_type": "code",
   "execution_count": 92,
   "metadata": {
    "collapsed": false
   },
   "outputs": [
    {
     "data": {
      "text/html": [
       "<div>\n",
       "<table border=\"1\" class=\"dataframe\">\n",
       "  <thead>\n",
       "    <tr style=\"text-align: right;\">\n",
       "      <th></th>\n",
       "      <th>user_id</th>\n",
       "      <th>review_id</th>\n",
       "      <th>text</th>\n",
       "      <th>business_id</th>\n",
       "      <th>date</th>\n",
       "      <th>type</th>\n",
       "      <th>Cluster0</th>\n",
       "      <th>Cluster1</th>\n",
       "      <th>Cluster2</th>\n",
       "      <th>Cluster3</th>\n",
       "      <th>Cluster4</th>\n",
       "      <th>Clust0_Sent</th>\n",
       "      <th>Clust1_Sent</th>\n",
       "      <th>Clust2_Sent</th>\n",
       "      <th>Clust3_Sent</th>\n",
       "      <th>Clust4_Sent</th>\n",
       "    </tr>\n",
       "  </thead>\n",
       "  <tbody>\n",
       "    <tr>\n",
       "      <th>0</th>\n",
       "      <td>PUFPaY9KxDAcGqfsorJp3Q</td>\n",
       "      <td>Ya85v4eqdd6k9Od8HbQjyA</td>\n",
       "      <td>Mr Hoagie is an institution. Walking in, it do...</td>\n",
       "      <td>5UmKMjUEUNdYWqANhGckJw</td>\n",
       "      <td>2012-08-01</td>\n",
       "      <td>review</td>\n",
       "      <td>1</td>\n",
       "      <td>1</td>\n",
       "      <td>1</td>\n",
       "      <td>0</td>\n",
       "      <td>0</td>\n",
       "      <td>[positive]</td>\n",
       "      <td>[positive]</td>\n",
       "      <td>[positive]</td>\n",
       "      <td>NEUTRAL</td>\n",
       "      <td>NEUTRAL</td>\n",
       "    </tr>\n",
       "    <tr>\n",
       "      <th>1</th>\n",
       "      <td>Iu6AxdBYGR4A0wspR9BYHA</td>\n",
       "      <td>KPvLNJ21_4wbYNctrOwWdQ</td>\n",
       "      <td>Excellent food. Superb customer service. I mis...</td>\n",
       "      <td>5UmKMjUEUNdYWqANhGckJw</td>\n",
       "      <td>2014-02-13</td>\n",
       "      <td>review</td>\n",
       "      <td>0</td>\n",
       "      <td>1</td>\n",
       "      <td>0</td>\n",
       "      <td>0</td>\n",
       "      <td>1</td>\n",
       "      <td>NEUTRAL</td>\n",
       "      <td>[positive]</td>\n",
       "      <td>NEUTRAL</td>\n",
       "      <td>NEUTRAL</td>\n",
       "      <td>[positive]</td>\n",
       "    </tr>\n",
       "  </tbody>\n",
       "</table>\n",
       "</div>"
      ],
      "text/plain": [
       "                  user_id               review_id  \\\n",
       "0  PUFPaY9KxDAcGqfsorJp3Q  Ya85v4eqdd6k9Od8HbQjyA   \n",
       "1  Iu6AxdBYGR4A0wspR9BYHA  KPvLNJ21_4wbYNctrOwWdQ   \n",
       "\n",
       "                                                text             business_id  \\\n",
       "0  Mr Hoagie is an institution. Walking in, it do...  5UmKMjUEUNdYWqANhGckJw   \n",
       "1  Excellent food. Superb customer service. I mis...  5UmKMjUEUNdYWqANhGckJw   \n",
       "\n",
       "         date    type  Cluster0  Cluster1  Cluster2  Cluster3  Cluster4  \\\n",
       "0  2012-08-01  review         1         1         1         0         0   \n",
       "1  2014-02-13  review         0         1         0         0         1   \n",
       "\n",
       "  Clust0_Sent Clust1_Sent Clust2_Sent Clust3_Sent Clust4_Sent  \n",
       "0  [positive]  [positive]  [positive]     NEUTRAL     NEUTRAL  \n",
       "1     NEUTRAL  [positive]     NEUTRAL     NEUTRAL  [positive]  "
      ]
     },
     "execution_count": 92,
     "metadata": {},
     "output_type": "execute_result"
    }
   ],
   "source": [
    "df_.head(2)"
   ]
  },
  {
   "cell_type": "code",
   "execution_count": 94,
   "metadata": {
    "collapsed": false
   },
   "outputs": [
    {
     "data": {
      "text/html": [
       "<div>\n",
       "<table border=\"1\" class=\"dataframe\">\n",
       "  <thead>\n",
       "    <tr style=\"text-align: right;\">\n",
       "      <th></th>\n",
       "      <th>user_id</th>\n",
       "      <th>review_id</th>\n",
       "      <th>text</th>\n",
       "      <th>business_id</th>\n",
       "      <th>date</th>\n",
       "      <th>type</th>\n",
       "      <th>Cluster0</th>\n",
       "      <th>Cluster1</th>\n",
       "      <th>Cluster2</th>\n",
       "      <th>Cluster3</th>\n",
       "      <th>Cluster4</th>\n",
       "      <th>Clust0_Sent</th>\n",
       "      <th>Clust1_Sent</th>\n",
       "      <th>Clust2_Sent</th>\n",
       "      <th>Clust3_Sent</th>\n",
       "      <th>Clust4_Sent</th>\n",
       "    </tr>\n",
       "  </thead>\n",
       "  <tbody>\n",
       "    <tr>\n",
       "      <th>5498</th>\n",
       "      <td>n5xDCeUAqylS6ShVEfQj1Q</td>\n",
       "      <td>RFZneP0UpWUi97pxiwZ0mA</td>\n",
       "      <td>I had the Italian jombot here it was so good, ...</td>\n",
       "      <td>2Igiyhi82R8_QaaPplRmCw</td>\n",
       "      <td>2014-09-10</td>\n",
       "      <td>review</td>\n",
       "      <td>0</td>\n",
       "      <td>0</td>\n",
       "      <td>0</td>\n",
       "      <td>0</td>\n",
       "      <td>0</td>\n",
       "      <td>NEUTRAL</td>\n",
       "      <td>NEUTRAL</td>\n",
       "      <td>NEUTRAL</td>\n",
       "      <td>NEUTRAL</td>\n",
       "      <td>NEUTRAL</td>\n",
       "    </tr>\n",
       "    <tr>\n",
       "      <th>5499</th>\n",
       "      <td>Xk8ZXjwQf52U_P8RX5o9lQ</td>\n",
       "      <td>ED0aPWj68SiXaTC0genCmg</td>\n",
       "      <td>Came here on a Sunday morning. There was alrea...</td>\n",
       "      <td>2Igiyhi82R8_QaaPplRmCw</td>\n",
       "      <td>2014-09-14</td>\n",
       "      <td>review</td>\n",
       "      <td>1</td>\n",
       "      <td>1</td>\n",
       "      <td>0</td>\n",
       "      <td>1</td>\n",
       "      <td>1</td>\n",
       "      <td>[positive]</td>\n",
       "      <td>[positive]</td>\n",
       "      <td>NEUTRAL</td>\n",
       "      <td>[positive]</td>\n",
       "      <td>[positive]</td>\n",
       "    </tr>\n",
       "    <tr>\n",
       "      <th>5500</th>\n",
       "      <td>tcB-GnnnBbpLnJ2D_4BYVg</td>\n",
       "      <td>qZAO0sqD6rG3HENy5LTnCw</td>\n",
       "      <td>I couldn't choose between pumpkin or banana pa...</td>\n",
       "      <td>2Igiyhi82R8_QaaPplRmCw</td>\n",
       "      <td>2014-09-15</td>\n",
       "      <td>review</td>\n",
       "      <td>1</td>\n",
       "      <td>1</td>\n",
       "      <td>0</td>\n",
       "      <td>1</td>\n",
       "      <td>0</td>\n",
       "      <td>[positive]</td>\n",
       "      <td>[positive]</td>\n",
       "      <td>NEUTRAL</td>\n",
       "      <td>[positive]</td>\n",
       "      <td>NEUTRAL</td>\n",
       "    </tr>\n",
       "    <tr>\n",
       "      <th>5501</th>\n",
       "      <td>8v67cG2_5R86vn4Grx1sPA</td>\n",
       "      <td>W81w8XY0pC7Gt41iP6S-Dg</td>\n",
       "      <td>So with all the hype I was expecting fireworks...</td>\n",
       "      <td>2Igiyhi82R8_QaaPplRmCw</td>\n",
       "      <td>2014-09-15</td>\n",
       "      <td>review</td>\n",
       "      <td>1</td>\n",
       "      <td>1</td>\n",
       "      <td>1</td>\n",
       "      <td>1</td>\n",
       "      <td>0</td>\n",
       "      <td>[negative]</td>\n",
       "      <td>[negative]</td>\n",
       "      <td>[negative]</td>\n",
       "      <td>[negative]</td>\n",
       "      <td>NEUTRAL</td>\n",
       "    </tr>\n",
       "    <tr>\n",
       "      <th>5502</th>\n",
       "      <td>V4A61eTdi_YTBH4761B64g</td>\n",
       "      <td>yb5tB0bsS1sYN9szDbe9Gw</td>\n",
       "      <td>Shortly after moving to Dormont, while browsin...</td>\n",
       "      <td>2Igiyhi82R8_QaaPplRmCw</td>\n",
       "      <td>2014-09-18</td>\n",
       "      <td>review</td>\n",
       "      <td>0</td>\n",
       "      <td>1</td>\n",
       "      <td>1</td>\n",
       "      <td>1</td>\n",
       "      <td>1</td>\n",
       "      <td>NEUTRAL</td>\n",
       "      <td>[negative]</td>\n",
       "      <td>[negative]</td>\n",
       "      <td>[negative]</td>\n",
       "      <td>[negative]</td>\n",
       "    </tr>\n",
       "  </tbody>\n",
       "</table>\n",
       "</div>"
      ],
      "text/plain": [
       "                     user_id               review_id  \\\n",
       "5498  n5xDCeUAqylS6ShVEfQj1Q  RFZneP0UpWUi97pxiwZ0mA   \n",
       "5499  Xk8ZXjwQf52U_P8RX5o9lQ  ED0aPWj68SiXaTC0genCmg   \n",
       "5500  tcB-GnnnBbpLnJ2D_4BYVg  qZAO0sqD6rG3HENy5LTnCw   \n",
       "5501  8v67cG2_5R86vn4Grx1sPA  W81w8XY0pC7Gt41iP6S-Dg   \n",
       "5502  V4A61eTdi_YTBH4761B64g  yb5tB0bsS1sYN9szDbe9Gw   \n",
       "\n",
       "                                                   text  \\\n",
       "5498  I had the Italian jombot here it was so good, ...   \n",
       "5499  Came here on a Sunday morning. There was alrea...   \n",
       "5500  I couldn't choose between pumpkin or banana pa...   \n",
       "5501  So with all the hype I was expecting fireworks...   \n",
       "5502  Shortly after moving to Dormont, while browsin...   \n",
       "\n",
       "                 business_id        date    type  Cluster0  Cluster1  \\\n",
       "5498  2Igiyhi82R8_QaaPplRmCw  2014-09-10  review         0         0   \n",
       "5499  2Igiyhi82R8_QaaPplRmCw  2014-09-14  review         1         1   \n",
       "5500  2Igiyhi82R8_QaaPplRmCw  2014-09-15  review         1         1   \n",
       "5501  2Igiyhi82R8_QaaPplRmCw  2014-09-15  review         1         1   \n",
       "5502  2Igiyhi82R8_QaaPplRmCw  2014-09-18  review         0         1   \n",
       "\n",
       "      Cluster2  Cluster3  Cluster4 Clust0_Sent Clust1_Sent Clust2_Sent  \\\n",
       "5498         0         0         0     NEUTRAL     NEUTRAL     NEUTRAL   \n",
       "5499         0         1         1  [positive]  [positive]     NEUTRAL   \n",
       "5500         0         1         0  [positive]  [positive]     NEUTRAL   \n",
       "5501         1         1         0  [negative]  [negative]  [negative]   \n",
       "5502         1         1         1     NEUTRAL  [negative]  [negative]   \n",
       "\n",
       "     Clust3_Sent Clust4_Sent  \n",
       "5498     NEUTRAL     NEUTRAL  \n",
       "5499  [positive]  [positive]  \n",
       "5500  [positive]     NEUTRAL  \n",
       "5501  [negative]     NEUTRAL  \n",
       "5502  [negative]  [negative]  "
      ]
     },
     "execution_count": 94,
     "metadata": {},
     "output_type": "execute_result"
    }
   ],
   "source": [
    "df_.tail()"
   ]
  },
  {
   "cell_type": "code",
   "execution_count": 98,
   "metadata": {
    "collapsed": false
   },
   "outputs": [
    {
     "data": {
      "text/plain": [
       "2SwC8wqpZC4B9iFVTgYT9A    263\n",
       "IxQ1ATP_Wg_QujO9nywzcQ    149\n",
       "McikHxxEqZ2X0joaRNKlaw    140\n",
       "2Igiyhi82R8_QaaPplRmCw    139\n",
       "PzG0XmAmtXFs6Fdnubf41g    136\n",
       "93UCt9OgWYmypZCpXtUu8g    130\n",
       "usSROUMiAgPcxV3Ym0OxMQ    110\n",
       "83_p9vIqOq1TUIf3_GD7bA    108\n",
       "qUeBDN0D8SC93KeAHhiL-g    106\n",
       "wfCLz9-aeShbPB7CaTY-qQ     98\n",
       "5Udv4CASAXB2eH66TefWPQ     98\n",
       "sbW8qHJgzEIH42B0S-3New     96\n",
       "WWlNzfSllSQhr4whj0W_ng     91\n",
       "q_BKmbdlYfQJroJVHfYMUQ     91\n",
       "EoAY1JSVeJriBzId8lUQwQ     89\n",
       "2PfavOTufsPCRdYm-bFcpw     88\n",
       "JDDeaNfb0JXD1NbznSIC9g     86\n",
       "P1fJb2WQ1mXoiudj8UE44w     79\n",
       "lHP5STO7aomlEQixH8m1aA     73\n",
       "-iVcmhjfq79QoTWzrb6pKg     72\n",
       "l_Wey2YC6NvVUIH8vTygGg     64\n",
       "b9WZJp5L1RZr4F1nxclOoQ     64\n",
       "ZL6DNzyenFm9Kpz6uADlNg     60\n",
       "Z101WZaISochG6g7tI2ZVw     60\n",
       "YRDKsBFYP7G0E8BLJKIkvA     56\n",
       "5GS5sBSscgcex0IFTDL9Bg     56\n",
       "6ilJq_05xRgek_8qUp36-g     54\n",
       "Ts4xsKPU7FNPPZRj-nRjIg     52\n",
       "6p9TlP2I8S4agxYMNFSDjg     50\n",
       "eznh0XjVtv924K-KYx_ilQ     49\n",
       "                         ... \n",
       "vTHVf88tai9n0902QzZiig      3\n",
       "1_lU0-eSWJCRvNGk78Zh9Q      3\n",
       "W7-Ybhe6JWJFXjcbmgvdyA      3\n",
       "wAMQZpei99cEvJz9EeppSQ      3\n",
       "_qopVQ6_Mz6W7-Pmbi56GQ      3\n",
       "XhbC5Qj5nBcqcKLPRd8izQ      3\n",
       "frIRW4BGhdAWbSsG5ev2ng      3\n",
       "iBZRphMDFcS2aMbawc1OvA      3\n",
       "Q0Mb1wtXrza1nKWHqiLfDQ      3\n",
       "_hY-j2OLXL_45_x2T4gQtA      3\n",
       "9tAbTDdYTASHL7EU1e-OWw      3\n",
       "106U0pNBlmR5uekLzOTdBg      3\n",
       "udjqHtgz7_eh5sExzAkP-g      3\n",
       "bAnFMk-UoNjyVYUj0sJT0w      3\n",
       "F04xyOUA2xnUoCiWpx9iJA      3\n",
       "VtPjyHcHY7onieHNSjLDsA      2\n",
       "l4zq494c6zfNUJrMcd9Y1w      2\n",
       "f0Sz4efqcGDO45fNyIuD3w      2\n",
       "zFq8BDdWUvOfHQbdzMVnyg      2\n",
       "H9R8b2pgn3NQhQHesEUEiQ      2\n",
       "QjMZ3Gt4c-vS2uVUWQrVbw      2\n",
       "LLJMI-_fSp6OYQuY4rwarw      2\n",
       "LTXS986DAz-4jE_sV2Ui4w      2\n",
       "Uo-CAX-rozy4k-8yra1tJg      2\n",
       "xMZM_vyCraM9BZUn4yrj5Q      2\n",
       "4pDO3TZ-WJDofAt4uREMig      2\n",
       "9jkxYkOOLge89D3KHrrNsw      2\n",
       "fp-tknN_5XBmhUS4fSJBgQ      2\n",
       "WaHXyBwljbKNPmmJZn5j8Q      2\n",
       "0zO219KZJf-5QsRNRMmELQ      1\n",
       "Name: business_id, dtype: int64"
      ]
     },
     "execution_count": 98,
     "metadata": {},
     "output_type": "execute_result"
    }
   ],
   "source": [
    "pd.value_counts(df_.business_id, sort = True)"
   ]
  },
  {
   "cell_type": "code",
   "execution_count": 102,
   "metadata": {
    "collapsed": false
   },
   "outputs": [
    {
     "name": "stdout",
     "output_type": "stream",
     "text": [
      "[negative]    131\n",
      "NEUTRAL        76\n",
      "[positive]     56\n",
      "Name: Clust0_Sent, dtype: int64\n",
      "[negative]    153\n",
      "[positive]     85\n",
      "NEUTRAL        25\n",
      "Name: Clust1_Sent, dtype: int64\n",
      "[negative]    120\n",
      "NEUTRAL        85\n",
      "[positive]     58\n",
      "Name: Clust2_Sent, dtype: int64\n",
      "[negative]    142\n",
      "[positive]     67\n",
      "NEUTRAL        54\n",
      "Name: Clust3_Sent, dtype: int64\n",
      "[negative]    135\n",
      "[positive]     66\n",
      "NEUTRAL        62\n",
      "Name: Clust4_Sent, dtype: int64\n"
     ]
    }
   ],
   "source": [
    "print pd.value_counts(df_['Clust0_Sent'][df_['business_id'] == \"2SwC8wqpZC4B9iFVTgYT9A\"])\n",
    "print pd.value_counts(df_['Clust1_Sent'][df_['business_id'] == \"2SwC8wqpZC4B9iFVTgYT9A\"])\n",
    "print pd.value_counts(df_['Clust2_Sent'][df_['business_id'] == \"2SwC8wqpZC4B9iFVTgYT9A\"])\n",
    "print pd.value_counts(df_['Clust3_Sent'][df_['business_id'] == \"2SwC8wqpZC4B9iFVTgYT9A\"])\n",
    "print pd.value_counts(df_['Clust4_Sent'][df_['business_id'] == \"2SwC8wqpZC4B9iFVTgYT9A\"])"
   ]
  },
  {
   "cell_type": "code",
   "execution_count": 106,
   "metadata": {
    "collapsed": false
   },
   "outputs": [
    {
     "data": {
      "text/plain": [
       "[negative]    2732\n",
       "NEUTRAL       1433\n",
       "[positive]    1338\n",
       "Name: Clust4_Sent, dtype: int64"
      ]
     },
     "execution_count": 106,
     "metadata": {},
     "output_type": "execute_result"
    }
   ],
   "source": [
    "pd.value_counts(df_.Clust_Sent)"
   ]
  },
  {
   "cell_type": "code",
   "execution_count": 108,
   "metadata": {
    "collapsed": false
   },
   "outputs": [
    {
     "name": "stdout",
     "output_type": "stream",
     "text": [
      "[negative]    60\n",
      "NEUTRAL       58\n",
      "[positive]    31\n",
      "Name: Clust0_Sent, dtype: int64\n",
      "[negative]    92\n",
      "[positive]    52\n",
      "NEUTRAL        5\n",
      "Name: Clust1_Sent, dtype: int64\n",
      "[negative]    67\n",
      "NEUTRAL       48\n",
      "[positive]    34\n",
      "Name: Clust2_Sent, dtype: int64\n",
      "NEUTRAL       64\n",
      "[negative]    61\n",
      "[positive]    24\n",
      "Name: Clust3_Sent, dtype: int64\n",
      "NEUTRAL       63\n",
      "[negative]    60\n",
      "[positive]    26\n",
      "Name: Clust4_Sent, dtype: int64\n"
     ]
    }
   ],
   "source": [
    "print pd.value_counts(df_['Clust0_Sent'][df_['business_id'] == \"IxQ1ATP_Wg_QujO9nywzcQ\"])\n",
    "print pd.value_counts(df_['Clust1_Sent'][df_['business_id'] == \"IxQ1ATP_Wg_QujO9nywzcQ\"])\n",
    "print pd.value_counts(df_['Clust2_Sent'][df_['business_id'] == \"IxQ1ATP_Wg_QujO9nywzcQ\"])\n",
    "print pd.value_counts(df_['Clust3_Sent'][df_['business_id'] == \"IxQ1ATP_Wg_QujO9nywzcQ\"])\n",
    "print pd.value_counts(df_['Clust4_Sent'][df_['business_id'] == \"IxQ1ATP_Wg_QujO9nywzcQ\"])"
   ]
  },
  {
   "cell_type": "code",
   "execution_count": 113,
   "metadata": {
    "collapsed": false
   },
   "outputs": [
    {
     "data": {
      "text/html": [
       "<div>\n",
       "<table border=\"1\" class=\"dataframe\">\n",
       "  <thead>\n",
       "    <tr style=\"text-align: right;\">\n",
       "      <th></th>\n",
       "      <th>user_id</th>\n",
       "      <th>review_id</th>\n",
       "      <th>text</th>\n",
       "      <th>business_id</th>\n",
       "      <th>date</th>\n",
       "      <th>type</th>\n",
       "      <th>Cluster0</th>\n",
       "      <th>Cluster1</th>\n",
       "      <th>Cluster2</th>\n",
       "      <th>Cluster3</th>\n",
       "      <th>Cluster4</th>\n",
       "      <th>Clust0_Sent</th>\n",
       "      <th>Clust1_Sent</th>\n",
       "      <th>Clust2_Sent</th>\n",
       "      <th>Clust3_Sent</th>\n",
       "      <th>Clust4_Sent</th>\n",
       "    </tr>\n",
       "  </thead>\n",
       "  <tbody>\n",
       "    <tr>\n",
       "      <th>0</th>\n",
       "      <td>PUFPaY9KxDAcGqfsorJp3Q</td>\n",
       "      <td>Ya85v4eqdd6k9Od8HbQjyA</td>\n",
       "      <td>Mr Hoagie is an institution. Walking in, it do...</td>\n",
       "      <td>5UmKMjUEUNdYWqANhGckJw</td>\n",
       "      <td>2012-08-01</td>\n",
       "      <td>review</td>\n",
       "      <td>1</td>\n",
       "      <td>1</td>\n",
       "      <td>0</td>\n",
       "      <td>0</td>\n",
       "      <td>0</td>\n",
       "      <td>[positive]</td>\n",
       "      <td>[positive]</td>\n",
       "      <td>NEUTRAL</td>\n",
       "      <td>NEUTRAL</td>\n",
       "      <td>NEUTRAL</td>\n",
       "    </tr>\n",
       "    <tr>\n",
       "      <th>1</th>\n",
       "      <td>Iu6AxdBYGR4A0wspR9BYHA</td>\n",
       "      <td>KPvLNJ21_4wbYNctrOwWdQ</td>\n",
       "      <td>Excellent food. Superb customer service. I mis...</td>\n",
       "      <td>5UmKMjUEUNdYWqANhGckJw</td>\n",
       "      <td>2014-02-13</td>\n",
       "      <td>review</td>\n",
       "      <td>0</td>\n",
       "      <td>1</td>\n",
       "      <td>0</td>\n",
       "      <td>0</td>\n",
       "      <td>0</td>\n",
       "      <td>NEUTRAL</td>\n",
       "      <td>[positive]</td>\n",
       "      <td>NEUTRAL</td>\n",
       "      <td>NEUTRAL</td>\n",
       "      <td>NEUTRAL</td>\n",
       "    </tr>\n",
       "    <tr>\n",
       "      <th>2</th>\n",
       "      <td>auESFwWvW42h6alXgFxAXQ</td>\n",
       "      <td>fFSoGV46Yxuwbr3fHNuZig</td>\n",
       "      <td>Yes this place is a little out dated and not o...</td>\n",
       "      <td>5UmKMjUEUNdYWqANhGckJw</td>\n",
       "      <td>2015-10-31</td>\n",
       "      <td>review</td>\n",
       "      <td>1</td>\n",
       "      <td>0</td>\n",
       "      <td>0</td>\n",
       "      <td>0</td>\n",
       "      <td>0</td>\n",
       "      <td>[negative]</td>\n",
       "      <td>NEUTRAL</td>\n",
       "      <td>NEUTRAL</td>\n",
       "      <td>NEUTRAL</td>\n",
       "      <td>NEUTRAL</td>\n",
       "    </tr>\n",
       "    <tr>\n",
       "      <th>3</th>\n",
       "      <td>qiczib2fO_1VBG8IoCGvVg</td>\n",
       "      <td>pVMIt0a_QsKtuDfWVfSk2A</td>\n",
       "      <td>PROS: Italian hoagie was delicious.  Friendly ...</td>\n",
       "      <td>5UmKMjUEUNdYWqANhGckJw</td>\n",
       "      <td>2015-12-26</td>\n",
       "      <td>review</td>\n",
       "      <td>1</td>\n",
       "      <td>1</td>\n",
       "      <td>0</td>\n",
       "      <td>0</td>\n",
       "      <td>0</td>\n",
       "      <td>[negative]</td>\n",
       "      <td>[negative]</td>\n",
       "      <td>NEUTRAL</td>\n",
       "      <td>NEUTRAL</td>\n",
       "      <td>NEUTRAL</td>\n",
       "    </tr>\n",
       "    <tr>\n",
       "      <th>4</th>\n",
       "      <td>qEE5EvV-f-s7yHC0Z4ydJQ</td>\n",
       "      <td>AEyiQ_Y44isJmNbMTyoMKQ</td>\n",
       "      <td>First the only reason this place could possibl...</td>\n",
       "      <td>5UmKMjUEUNdYWqANhGckJw</td>\n",
       "      <td>2016-04-08</td>\n",
       "      <td>review</td>\n",
       "      <td>1</td>\n",
       "      <td>1</td>\n",
       "      <td>0</td>\n",
       "      <td>0</td>\n",
       "      <td>0</td>\n",
       "      <td>[negative]</td>\n",
       "      <td>[negative]</td>\n",
       "      <td>NEUTRAL</td>\n",
       "      <td>NEUTRAL</td>\n",
       "      <td>NEUTRAL</td>\n",
       "    </tr>\n",
       "  </tbody>\n",
       "</table>\n",
       "</div>"
      ],
      "text/plain": [
       "                  user_id               review_id  \\\n",
       "0  PUFPaY9KxDAcGqfsorJp3Q  Ya85v4eqdd6k9Od8HbQjyA   \n",
       "1  Iu6AxdBYGR4A0wspR9BYHA  KPvLNJ21_4wbYNctrOwWdQ   \n",
       "2  auESFwWvW42h6alXgFxAXQ  fFSoGV46Yxuwbr3fHNuZig   \n",
       "3  qiczib2fO_1VBG8IoCGvVg  pVMIt0a_QsKtuDfWVfSk2A   \n",
       "4  qEE5EvV-f-s7yHC0Z4ydJQ  AEyiQ_Y44isJmNbMTyoMKQ   \n",
       "\n",
       "                                                text             business_id  \\\n",
       "0  Mr Hoagie is an institution. Walking in, it do...  5UmKMjUEUNdYWqANhGckJw   \n",
       "1  Excellent food. Superb customer service. I mis...  5UmKMjUEUNdYWqANhGckJw   \n",
       "2  Yes this place is a little out dated and not o...  5UmKMjUEUNdYWqANhGckJw   \n",
       "3  PROS: Italian hoagie was delicious.  Friendly ...  5UmKMjUEUNdYWqANhGckJw   \n",
       "4  First the only reason this place could possibl...  5UmKMjUEUNdYWqANhGckJw   \n",
       "\n",
       "         date    type  Cluster0  Cluster1  Cluster2  Cluster3  Cluster4  \\\n",
       "0  2012-08-01  review         1         1         0         0         0   \n",
       "1  2014-02-13  review         0         1         0         0         0   \n",
       "2  2015-10-31  review         1         0         0         0         0   \n",
       "3  2015-12-26  review         1         1         0         0         0   \n",
       "4  2016-04-08  review         1         1         0         0         0   \n",
       "\n",
       "  Clust0_Sent Clust1_Sent Clust2_Sent Clust3_Sent Clust4_Sent  \n",
       "0  [positive]  [positive]     NEUTRAL     NEUTRAL     NEUTRAL  \n",
       "1     NEUTRAL  [positive]     NEUTRAL     NEUTRAL     NEUTRAL  \n",
       "2  [negative]     NEUTRAL     NEUTRAL     NEUTRAL     NEUTRAL  \n",
       "3  [negative]  [negative]     NEUTRAL     NEUTRAL     NEUTRAL  \n",
       "4  [negative]  [negative]     NEUTRAL     NEUTRAL     NEUTRAL  "
      ]
     },
     "execution_count": 113,
     "metadata": {},
     "output_type": "execute_result"
    }
   ],
   "source": [
    "df_.head()"
   ]
  },
  {
   "cell_type": "code",
   "execution_count": null,
   "metadata": {
    "collapsed": true
   },
   "outputs": [],
   "source": []
  }
 ],
 "metadata": {
  "anaconda-cloud": {},
  "kernelspec": {
   "display_name": "Python [conda root]",
   "language": "python",
   "name": "conda-root-py"
  },
  "language_info": {
   "codemirror_mode": {
    "name": "ipython",
    "version": 3
   },
   "file_extension": ".py",
   "mimetype": "text/x-python",
   "name": "python",
   "nbconvert_exporter": "python",
   "pygments_lexer": "ipython3",
   "version": "3.5.2"
  }
 },
 "nbformat": 4,
 "nbformat_minor": 1
}
