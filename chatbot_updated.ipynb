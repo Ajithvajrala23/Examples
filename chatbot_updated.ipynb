{
 "cells": [
  {
   "cell_type": "code",
   "execution_count": 1,
   "metadata": {},
   "outputs": [
    {
     "name": "stdout",
     "output_type": "stream",
     "text": [
      "Hello World\n"
     ]
    }
   ],
   "source": [
    "print(\"Hello World\")\n",
    "import random\n",
    "import requests\n",
    "from textblob import TextBlob\n",
    "import pandas as pd\n",
    "import numpy as np\n",
    "import nltk\n",
    "import re\n",
    "import datetime\n",
    "from dateutil.parser import parse"
   ]
  },
  {
   "cell_type": "code",
   "execution_count": 2,
   "metadata": {
    "collapsed": true
   },
   "outputs": [],
   "source": [
    "#get the user data and coupn data\n",
    "user_data = pd.read_excel(\"user_data.xls\")\n",
    "coupon_data = pd.read_excel(\"coupn_data.xls\")"
   ]
  },
  {
   "cell_type": "code",
   "execution_count": 3,
   "metadata": {},
   "outputs": [
    {
     "data": {
      "text/html": [
       "<div>\n",
       "<style>\n",
       "    .dataframe thead tr:only-child th {\n",
       "        text-align: right;\n",
       "    }\n",
       "\n",
       "    .dataframe thead th {\n",
       "        text-align: left;\n",
       "    }\n",
       "\n",
       "    .dataframe tbody tr th {\n",
       "        vertical-align: top;\n",
       "    }\n",
       "</style>\n",
       "<table border=\"1\" class=\"dataframe\">\n",
       "  <thead>\n",
       "    <tr style=\"text-align: right;\">\n",
       "      <th></th>\n",
       "      <th>UserID</th>\n",
       "      <th>Password</th>\n",
       "      <th>Name</th>\n",
       "      <th>Role</th>\n",
       "    </tr>\n",
       "  </thead>\n",
       "  <tbody>\n",
       "    <tr>\n",
       "      <th>0</th>\n",
       "      <td>123456</td>\n",
       "      <td>ajith</td>\n",
       "      <td>Ajith Kumar</td>\n",
       "      <td>A</td>\n",
       "    </tr>\n",
       "    <tr>\n",
       "      <th>1</th>\n",
       "      <td>898581</td>\n",
       "      <td>reddy</td>\n",
       "      <td>Kumar Reddy</td>\n",
       "      <td>A</td>\n",
       "    </tr>\n",
       "    <tr>\n",
       "      <th>2</th>\n",
       "      <td>998701</td>\n",
       "      <td>vajrala</td>\n",
       "      <td>Sreenivasa Reddy</td>\n",
       "      <td>A</td>\n",
       "    </tr>\n",
       "    <tr>\n",
       "      <th>3</th>\n",
       "      <td>987654</td>\n",
       "      <td>kumar</td>\n",
       "      <td>Vamsi reddy</td>\n",
       "      <td>B</td>\n",
       "    </tr>\n",
       "    <tr>\n",
       "      <th>4</th>\n",
       "      <td>258963</td>\n",
       "      <td>hello</td>\n",
       "      <td>Venu Reddy</td>\n",
       "      <td>B</td>\n",
       "    </tr>\n",
       "    <tr>\n",
       "      <th>5</th>\n",
       "      <td>369852</td>\n",
       "      <td>morning</td>\n",
       "      <td>Anil Reddy</td>\n",
       "      <td>A</td>\n",
       "    </tr>\n",
       "    <tr>\n",
       "      <th>6</th>\n",
       "      <td>147852</td>\n",
       "      <td>evening</td>\n",
       "      <td>Subba Reddy</td>\n",
       "      <td>B</td>\n",
       "    </tr>\n",
       "    <tr>\n",
       "      <th>7</th>\n",
       "      <td>147963</td>\n",
       "      <td>night</td>\n",
       "      <td>Charan Reddy</td>\n",
       "      <td>A</td>\n",
       "    </tr>\n",
       "    <tr>\n",
       "      <th>8</th>\n",
       "      <td>456123</td>\n",
       "      <td>dravid</td>\n",
       "      <td>Karthi reddy</td>\n",
       "      <td>A</td>\n",
       "    </tr>\n",
       "    <tr>\n",
       "      <th>9</th>\n",
       "      <td>654123</td>\n",
       "      <td>sachin</td>\n",
       "      <td>Abi Ram Reddy</td>\n",
       "      <td>A</td>\n",
       "    </tr>\n",
       "  </tbody>\n",
       "</table>\n",
       "</div>"
      ],
      "text/plain": [
       "   UserID Password              Name Role\n",
       "0  123456    ajith       Ajith Kumar    A\n",
       "1  898581    reddy       Kumar Reddy    A\n",
       "2  998701  vajrala  Sreenivasa Reddy    A\n",
       "3  987654    kumar       Vamsi reddy    B\n",
       "4  258963    hello        Venu Reddy    B\n",
       "5  369852  morning        Anil Reddy    A\n",
       "6  147852  evening       Subba Reddy    B\n",
       "7  147963    night      Charan Reddy    A\n",
       "8  456123   dravid      Karthi reddy    A\n",
       "9  654123   sachin     Abi Ram Reddy    A"
      ]
     },
     "execution_count": 3,
     "metadata": {},
     "output_type": "execute_result"
    }
   ],
   "source": [
    "user_data.head(10)"
   ]
  },
  {
   "cell_type": "code",
   "execution_count": 4,
   "metadata": {},
   "outputs": [
    {
     "data": {
      "text/html": [
       "<div>\n",
       "<style>\n",
       "    .dataframe thead tr:only-child th {\n",
       "        text-align: right;\n",
       "    }\n",
       "\n",
       "    .dataframe thead th {\n",
       "        text-align: left;\n",
       "    }\n",
       "\n",
       "    .dataframe tbody tr th {\n",
       "        vertical-align: top;\n",
       "    }\n",
       "</style>\n",
       "<table border=\"1\" class=\"dataframe\">\n",
       "  <thead>\n",
       "    <tr style=\"text-align: right;\">\n",
       "      <th></th>\n",
       "      <th>copuon</th>\n",
       "      <th>start date</th>\n",
       "      <th>end date</th>\n",
       "      <th>Active</th>\n",
       "      <th>Price</th>\n",
       "    </tr>\n",
       "  </thead>\n",
       "  <tbody>\n",
       "    <tr>\n",
       "      <th>0</th>\n",
       "      <td>AB1234</td>\n",
       "      <td>2017-01-10</td>\n",
       "      <td>2018-10-01</td>\n",
       "      <td>Y</td>\n",
       "      <td>1234</td>\n",
       "    </tr>\n",
       "    <tr>\n",
       "      <th>1</th>\n",
       "      <td>AB3232</td>\n",
       "      <td>2017-02-10</td>\n",
       "      <td>2018-11-10</td>\n",
       "      <td>N</td>\n",
       "      <td>1212</td>\n",
       "    </tr>\n",
       "    <tr>\n",
       "      <th>2</th>\n",
       "      <td>BD2323</td>\n",
       "      <td>2017-03-10</td>\n",
       "      <td>2018-12-20</td>\n",
       "      <td>Y</td>\n",
       "      <td>12</td>\n",
       "    </tr>\n",
       "    <tr>\n",
       "      <th>3</th>\n",
       "      <td>BF7878</td>\n",
       "      <td>2017-04-10</td>\n",
       "      <td>2019-01-29</td>\n",
       "      <td>N</td>\n",
       "      <td>43</td>\n",
       "    </tr>\n",
       "    <tr>\n",
       "      <th>4</th>\n",
       "      <td>OI9090</td>\n",
       "      <td>2017-05-10</td>\n",
       "      <td>2019-03-10</td>\n",
       "      <td>Y</td>\n",
       "      <td>564</td>\n",
       "    </tr>\n",
       "    <tr>\n",
       "      <th>5</th>\n",
       "      <td>TY6878</td>\n",
       "      <td>2017-06-10</td>\n",
       "      <td>2019-04-19</td>\n",
       "      <td>N</td>\n",
       "      <td>5456</td>\n",
       "    </tr>\n",
       "    <tr>\n",
       "      <th>6</th>\n",
       "      <td>RF2334</td>\n",
       "      <td>2017-07-10</td>\n",
       "      <td>2019-05-29</td>\n",
       "      <td>Y</td>\n",
       "      <td>878</td>\n",
       "    </tr>\n",
       "    <tr>\n",
       "      <th>7</th>\n",
       "      <td>WE1212</td>\n",
       "      <td>2017-08-10</td>\n",
       "      <td>2019-07-08</td>\n",
       "      <td>N</td>\n",
       "      <td>0</td>\n",
       "    </tr>\n",
       "    <tr>\n",
       "      <th>8</th>\n",
       "      <td>RE4343</td>\n",
       "      <td>2017-09-10</td>\n",
       "      <td>2019-08-17</td>\n",
       "      <td>Y</td>\n",
       "      <td>576</td>\n",
       "    </tr>\n",
       "    <tr>\n",
       "      <th>9</th>\n",
       "      <td>RF2231</td>\n",
       "      <td>2017-10-10</td>\n",
       "      <td>2019-09-26</td>\n",
       "      <td>N</td>\n",
       "      <td>76</td>\n",
       "    </tr>\n",
       "  </tbody>\n",
       "</table>\n",
       "</div>"
      ],
      "text/plain": [
       "   copuon start date   end date Active  Price\n",
       "0  AB1234 2017-01-10 2018-10-01      Y   1234\n",
       "1  AB3232 2017-02-10 2018-11-10      N   1212\n",
       "2  BD2323 2017-03-10 2018-12-20      Y     12\n",
       "3  BF7878 2017-04-10 2019-01-29      N     43\n",
       "4  OI9090 2017-05-10 2019-03-10      Y    564\n",
       "5  TY6878 2017-06-10 2019-04-19      N   5456\n",
       "6  RF2334 2017-07-10 2019-05-29      Y    878\n",
       "7  WE1212 2017-08-10 2019-07-08      N      0\n",
       "8  RE4343 2017-09-10 2019-08-17      Y    576\n",
       "9  RF2231 2017-10-10 2019-09-26      N     76"
      ]
     },
     "execution_count": 4,
     "metadata": {},
     "output_type": "execute_result"
    }
   ],
   "source": [
    "coupon_data.head(10)"
   ]
  },
  {
   "cell_type": "code",
   "execution_count": 5,
   "metadata": {},
   "outputs": [
    {
     "data": {
      "text/plain": [
       "(15, 5)"
      ]
     },
     "execution_count": 5,
     "metadata": {},
     "output_type": "execute_result"
    }
   ],
   "source": [
    "coupon_data.shape"
   ]
  },
  {
   "cell_type": "code",
   "execution_count": null,
   "metadata": {
    "collapsed": true
   },
   "outputs": [],
   "source": []
  },
  {
   "cell_type": "code",
   "execution_count": 6,
   "metadata": {
    "collapsed": true
   },
   "outputs": [],
   "source": [
    "def main():\n",
    "    print(\"Hello! What's up for the day.\")\n",
    "    textblobFunc()"
   ]
  },
  {
   "cell_type": "code",
   "execution_count": null,
   "metadata": {
    "collapsed": true
   },
   "outputs": [],
   "source": []
  },
  {
   "cell_type": "code",
   "execution_count": 7,
   "metadata": {
    "collapsed": true
   },
   "outputs": [],
   "source": [
    "# Sentences we'll respond with if the user greeted us\n",
    "GREETING_KEYWORDS = (\"hello\", \"hi\", \"greetings\", \"sup\", \"what's up\")\n",
    "\n",
    "GREETING_RESPONSES = [\"Type login to talk with bot\", \"hey\", \"Sure, tell me why are you here?\", \"Please tell me why you are here\", \"hey how are youp?\", \"Whould you like to login? then type login\"]"
   ]
  },
  {
   "cell_type": "code",
   "execution_count": 8,
   "metadata": {
    "collapsed": true
   },
   "outputs": [],
   "source": [
    "def textblobFunc():\n",
    "    text_in = input(\"How are You?: \")\n",
    "    tb_text_in = TextBlob(text_in.lower())    \n",
    "    words = [w for w in tb_text_in.words]\n",
    "    if (\"login\" or \"log in\" or \"loggin\" or \"sign in\" or \"signin\") in words:\n",
    "        print(\"hey buddy\")\n",
    "        second_main()\n",
    "    else:\n",
    "        print(random.choice(GREETING_RESPONSES))\n",
    "        textblobFunc()\n"
   ]
  },
  {
   "cell_type": "code",
   "execution_count": null,
   "metadata": {
    "collapsed": true
   },
   "outputs": [],
   "source": []
  },
  {
   "cell_type": "code",
   "execution_count": 9,
   "metadata": {
    "collapsed": true
   },
   "outputs": [],
   "source": [
    "def qsecond_main():\n",
    "    try:\n",
    "        print(\"\\n\")\n",
    "        ID = raw_input(\"Please enter valid User ID: \")\n",
    "        \n",
    "        if any(user_data.UserID == ID):\n",
    "            indices = user_data[user_data['UserID'] == ID].index.tolist()\n",
    "            index = indices[0]\n",
    "            print(\"Hi \", user_data['Name'][index])\n",
    "            user_oper = user_data['Name'][index]\n",
    "            print(\"Please enter a valid password\")\n",
    "        \n",
    "            password = input(\"\")\n",
    "            if password == user_data['Password'][index]:\n",
    "                print(\"password Okay\")\n",
    "                coupon_module(user_oper)\n",
    "            else:\n",
    "                print(\"please enter a valid User ID followed by password\")\n",
    "                second_main()\n",
    "        else:\n",
    "            print(\"Entered deatils are incorrect. Please enter valid d\")\n",
    "            second_main()\n",
    "    except:\n",
    "        print(\"Wrong\")\n",
    "        #please_valid_responses()"
   ]
  },
  {
   "cell_type": "code",
   "execution_count": 10,
   "metadata": {
    "collapsed": true
   },
   "outputs": [],
   "source": [
    "##work\n",
    "def second_main():\n",
    "    \n",
    "    try:\n",
    "        ID = input(\"Please enter valid User ID: \")\n",
    "        \n",
    "        if int(ID) in list(user_data.UserID.values):\n",
    "            indices = user_data[user_data['UserID'] == int(ID)].index.tolist()\n",
    "            index = indices[0]\n",
    "            print(\"Hi \", user_data['Name'][index])\n",
    "            user_oper = user_data['Name'][index]\n",
    "            print(\"Please enter a valid password\")\n",
    "            password = input(\"\")\n",
    "            \n",
    "            if password == user_data['Password'][index]:\n",
    "                print(\"password Okay\")\n",
    "                coupon_module()\n",
    "            else:\n",
    "                print(\"please enter a valid User ID followed by password\")\n",
    "                second_main()\n",
    "        else:\n",
    "            print(\"Entered deatils are incorrect. Please enter valid details\")\n",
    "            second_main()\n",
    "    except ValueError:\n",
    "        print(\"please enter only integer numbers\")\n",
    "        second_main()"
   ]
  },
  {
   "cell_type": "code",
   "execution_count": null,
   "metadata": {
    "collapsed": true
   },
   "outputs": [],
   "source": []
  },
  {
   "cell_type": "code",
   "execution_count": 11,
   "metadata": {
    "collapsed": true
   },
   "outputs": [],
   "source": [
    "def preprocess_text(sentence):\n",
    "    cleaned = []\n",
    "    words = sentence.split(' ')\n",
    "    for w in words:\n",
    "        if w == 'i':\n",
    "            w = 'I'\n",
    "        if w == \"i'm\":\n",
    "            w = \"I'm\"\n",
    "        if w == \"wanna\" :\n",
    "            w = \"want to\"\n",
    "        if w == \"don't\" :\n",
    "            w =\"do not\"\n",
    "        cleaned.append(w)\n",
    "\n",
    "    return ' '.join(cleaned)"
   ]
  },
  {
   "cell_type": "code",
   "execution_count": 12,
   "metadata": {
    "collapsed": true
   },
   "outputs": [],
   "source": [
    "def please_valid_responses():\n",
    "    print(\"Please enter valid data\")\n",
    "    second_main()"
   ]
  },
  {
   "cell_type": "code",
   "execution_count": 13,
   "metadata": {
    "collapsed": true
   },
   "outputs": [],
   "source": [
    "def coupon_module():\n",
    "    print(\"\\n\")\n",
    "    print(\"Please enter valid coupon ID to perform update/delete operations\")\n",
    "    coupon_input = input()\n",
    "    if any(coupon_data.copuon == coupon_input):\n",
    "        indices = coupon_data[coupon_data['copuon'] == coupon_input].index.tolist()\n",
    "        index = indices[0]\n",
    "        print(\"\\n\")\n",
    "        print(\"Coupon Details:\")\n",
    "        print( coupon_data.iloc[index])\n",
    "        coupon_number = coupon_data.copuon[index]\n",
    "        \n",
    "        coupon_operation(coupon_number, index)\n",
    "            \n",
    "            \n",
    "    else:\n",
    "        print(\"\\n\")\n",
    "        print(\"Invalid coupon number\")\n",
    "        coupon_module()"
   ]
  },
  {
   "cell_type": "code",
   "execution_count": null,
   "metadata": {
    "collapsed": true
   },
   "outputs": [],
   "source": []
  },
  {
   "cell_type": "code",
   "execution_count": null,
   "metadata": {
    "collapsed": true
   },
   "outputs": [],
   "source": []
  },
  {
   "cell_type": "code",
   "execution_count": 14,
   "metadata": {
    "collapsed": true
   },
   "outputs": [],
   "source": [
    "def coupon_operation(coupon_number, index):\n",
    "    coupon_oper_text = input(\"what update operation need to be done on coupon?: \")\n",
    "    \n",
    "    parsed = TextBlob(coupon_oper_text.lower())\n",
    "    words = [w for w in parsed.words]\n",
    "    \n",
    "    if (\"change price\" in words) or (\"update price\" in words) or (\"new price\" in words) or (\"price\" in words):\n",
    "        list_of_nums = list(map(int, re.findall('\\d+', coupon_oper_text)))\n",
    "        val = list_of_nums[0]\n",
    "        price_change(coupon_number, index, val)\n",
    "        \n",
    "    elif(\"activate\"  in words) or (\"enable\"in words) or (\"active\" in words) or (\"disable\" in words) or (\"delete\" in words) or (\"make inactivate\" in words):\n",
    "        coupon_update_delete(coupon_number, index, words)\n",
    "        \n",
    "    elif(\"change start date\" in words) or (\"start date\" in words) or (\"startdate\"in words) or (\"end date\" in words) or (\"date\" in words) or (\"day\" in words):\n",
    "        \n",
    "        date_change(coupon_number, index, words)\n",
    "     \n",
    "    else:\n",
    "        print(\"please enter any valid update operation on the coupon\")\n",
    "        coupon_operation(coupon_number, index)"
   ]
  },
  {
   "cell_type": "code",
   "execution_count": 15,
   "metadata": {
    "collapsed": true
   },
   "outputs": [],
   "source": [
    "def date_change(coupon_number, index, words):\n",
    "    #parsed =TextBlob(coup_oper_text.lower())\n",
    "    #words = [w for w in parsed.words]\n",
    "    try:\n",
    "        for w in words:\n",
    "            date_val = is_date(w)\n",
    "        \n",
    "        if (\"start\" in words) or (\"start date\" in words) or (\"startdate\" in words):\n",
    "            start_date(coupon_number, index, date_val)\n",
    "        \n",
    "        elif (\"end\" in words) or (\"end date\" in words) or (\"enddate\" in words):\n",
    "            end_date(coupon_number, index, date_val)\n",
    "        \n",
    "        \n",
    "    \n",
    "    except ValueError:\n",
    "        print(\"please enter date as DD/MM/YYYY format only\")   \n",
    "        coupon_operation(coupon_number, index)\n",
    "        return False\n",
    "        "
   ]
  },
  {
   "cell_type": "code",
   "execution_count": null,
   "metadata": {
    "collapsed": true
   },
   "outputs": [],
   "source": []
  },
  {
   "cell_type": "code",
   "execution_count": 16,
   "metadata": {
    "collapsed": true
   },
   "outputs": [],
   "source": [
    "def is_date(w):\n",
    "    try: \n",
    "        parse(w)\n",
    "        return w\n",
    "    except ValueError:\n",
    "        return False"
   ]
  },
  {
   "cell_type": "code",
   "execution_count": 17,
   "metadata": {
    "collapsed": true
   },
   "outputs": [],
   "source": [
    "def coupon_update_delete(coupon_number, index, words):\n",
    "        \n",
    "    if (\"enable\" in words) or (\"activate\" in words) or (\"active\" in words):\n",
    "        enable_coupon(coupon_number, index)\n",
    "    elif (\"disable\" in words) or (\"delete\"  in words) or (\"make inactivate\" in words):\n",
    "        disable_coupon(coupon_number, index)\n",
    "\n",
    "    else:\n",
    "        print(\"\\n\")\n",
    "        print(\"please enter a valid update/delete operation\")\n",
    "        coupon_operation(coupon_number, index)\n"
   ]
  },
  {
   "cell_type": "code",
   "execution_count": 18,
   "metadata": {
    "collapsed": true
   },
   "outputs": [],
   "source": [
    "def price_change(coupon_number, index, val):\n",
    "    print(\"\\n\")\n",
    "    coupon_data.Price[index] = val\n",
    "    \n",
    "    print(\"Coupon deatils updated\")\n",
    "    print(\"New status of coupon\")\n",
    "    print(coupon_data.iloc[index])"
   ]
  },
  {
   "cell_type": "code",
   "execution_count": null,
   "metadata": {
    "collapsed": true
   },
   "outputs": [],
   "source": []
  },
  {
   "cell_type": "code",
   "execution_count": 19,
   "metadata": {
    "collapsed": true
   },
   "outputs": [],
   "source": [
    "def enable_coupon(coupon_number, index):\n",
    "    print(\"\\n\")\n",
    "    coupon_data.Active[index] = \"Y\"\n",
    "    print(\"Coupon deatils updated\")\n",
    "    print(\"New status of coupon\")\n",
    "    print(coupon_data.iloc[index])"
   ]
  },
  {
   "cell_type": "code",
   "execution_count": 20,
   "metadata": {
    "collapsed": true
   },
   "outputs": [],
   "source": [
    "def disable_coupon(coupon_number, index):\n",
    "    print(\"\\n\")\n",
    "    coupon_data.Active[index] = \"N\"\n",
    "    print(\"Coupon deatils updated\")\n",
    "    print(\"New status of coupon\")\n",
    "    print(coupon_data.iloc[index])"
   ]
  },
  {
   "cell_type": "code",
   "execution_count": 21,
   "metadata": {},
   "outputs": [
    {
     "name": "stdout",
     "output_type": "stream",
     "text": [
      "\n",
      "\n"
     ]
    }
   ],
   "source": [
    "print(\"\\n\")"
   ]
  },
  {
   "cell_type": "code",
   "execution_count": 22,
   "metadata": {
    "collapsed": true
   },
   "outputs": [],
   "source": [
    "def start_date(coupon_number, index, start_date):\n",
    "    print(\"\\n\")\n",
    "    coupon_data['start date'][index] = start_date\n",
    "    print(\"Coupon deatils updated\")\n",
    "    print(\"New status of coupon\")\n",
    "    print(coupon_data.iloc[index])"
   ]
  },
  {
   "cell_type": "code",
   "execution_count": 23,
   "metadata": {
    "collapsed": true
   },
   "outputs": [],
   "source": [
    "def end_date(coupon_number,index, end_date):\n",
    "    print(\"\\n\")\n",
    "    coupon_data['end date'][index] = end_date\n",
    "    print(\"Coupon deatils updated\")\n",
    "    print(\"New status of coupon\")\n",
    "    print(coupon_data.iloc[index])"
   ]
  },
  {
   "cell_type": "code",
   "execution_count": null,
   "metadata": {
    "collapsed": true
   },
   "outputs": [],
   "source": []
  },
  {
   "cell_type": "code",
   "execution_count": null,
   "metadata": {
    "collapsed": true
   },
   "outputs": [],
   "source": []
  },
  {
   "cell_type": "code",
   "execution_count": null,
   "metadata": {
    "collapsed": true
   },
   "outputs": [],
   "source": []
  },
  {
   "cell_type": "code",
   "execution_count": null,
   "metadata": {
    "collapsed": true
   },
   "outputs": [],
   "source": []
  },
  {
   "cell_type": "code",
   "execution_count": 24,
   "metadata": {
    "scrolled": true
   },
   "outputs": [
    {
     "name": "stdout",
     "output_type": "stream",
     "text": [
      "Hello! What's up for the day.\n",
      "How are You?: login\n",
      "hey buddy\n",
      "Please enter valid User ID: 123456\n",
      "Hi  Ajith Kumar\n",
      "Please enter a valid password\n",
      "ajith\n",
      "password Okay\n",
      "\n",
      "\n",
      "Please enter valid coupon ID to perform update/delete operations\n",
      "AB1234\n",
      "\n",
      "\n",
      "Coupon Details:\n",
      "copuon                     AB1234\n",
      "start date    2017-01-10 00:00:00\n",
      "end date      2018-10-01 00:00:00\n",
      "Active                          Y\n",
      "Price                        1234\n",
      "Name: 0, dtype: object\n",
      "what update operation need to be done on coupon?: change start date to 12/12/2012\n",
      "\n",
      "\n",
      "Coupon deatils updated\n",
      "New status of coupon\n",
      "copuon                     AB1234\n",
      "start date    2012-12-12 00:00:00\n",
      "end date      2018-10-01 00:00:00\n",
      "Active                          Y\n",
      "Price                        1234\n",
      "Name: 0, dtype: object\n"
     ]
    },
    {
     "name": "stderr",
     "output_type": "stream",
     "text": [
      "C:\\Users\\1004365\\AppData\\Local\\Continuum\\Anaconda3\\lib\\site-packages\\ipykernel_launcher.py:3: SettingWithCopyWarning: \n",
      "A value is trying to be set on a copy of a slice from a DataFrame\n",
      "\n",
      "See the caveats in the documentation: http://pandas.pydata.org/pandas-docs/stable/indexing.html#indexing-view-versus-copy\n",
      "  This is separate from the ipykernel package so we can avoid doing imports until\n"
     ]
    }
   ],
   "source": [
    "if __name__ == \"__main__\":\n",
    "    main()"
   ]
  },
  {
   "cell_type": "code",
   "execution_count": null,
   "metadata": {
    "collapsed": true
   },
   "outputs": [],
   "source": []
  },
  {
   "cell_type": "code",
   "execution_count": null,
   "metadata": {
    "collapsed": true
   },
   "outputs": [],
   "source": []
  },
  {
   "cell_type": "code",
   "execution_count": null,
   "metadata": {
    "collapsed": true
   },
   "outputs": [],
   "source": []
  },
  {
   "cell_type": "code",
   "execution_count": null,
   "metadata": {
    "collapsed": true
   },
   "outputs": [],
   "source": [
    "def graph_text():\n",
    "    text_in = input(\"what graph data is required?  \")\n",
    "    tb_text_in = TextBlob(text_in.lower())    \n",
    "    words = [w for w in tb_text_in.words]\n",
    "    if (\"metric1\" or \"m1\" or \"m_1\") in words:\n",
    "        metric1_module()\n",
    "    elif (\"metric2\" or \"m2\" or \"m_2\") in words:\n",
    "        metric2_module()\n",
    "            \n",
    "    else:\n",
    "        print(random.choice(GREETING_RESPONSES))\n",
    "        textblobFunc()"
   ]
  },
  {
   "cell_type": "code",
   "execution_count": 3,
   "metadata": {},
   "outputs": [],
   "source": [
    "def metric1_module():\n",
    "    pass\n",
    "    #print(metric1)data\n",
    "    "
   ]
  },
  {
   "cell_type": "code",
   "execution_count": 4,
   "metadata": {
    "collapsed": true
   },
   "outputs": [],
   "source": [
    "def metric2_module():\n",
    "    pass\n",
    "    #print(metric2 module)"
   ]
  },
  {
   "cell_type": "code",
   "execution_count": null,
   "metadata": {
    "collapsed": true
   },
   "outputs": [],
   "source": []
  }
 ],
 "metadata": {
  "kernelspec": {
   "display_name": "Python 3",
   "language": "python",
   "name": "python3"
  },
  "language_info": {
   "codemirror_mode": {
    "name": "ipython",
    "version": 3
   },
   "file_extension": ".py",
   "mimetype": "text/x-python",
   "name": "python",
   "nbconvert_exporter": "python",
   "pygments_lexer": "ipython3",
   "version": "3.6.1"
  }
 },
 "nbformat": 4,
 "nbformat_minor": 2
}
