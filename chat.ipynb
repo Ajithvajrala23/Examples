{
 "cells": [
  {
   "cell_type": "code",
   "execution_count": 1,
   "metadata": {
    "collapsed": true
   },
   "outputs": [],
   "source": [
    "from __future__ import print_function, unicode_literals\n",
    "import random\n",
    "import logging\n",
    "import os"
   ]
  },
  {
   "cell_type": "code",
   "execution_count": 3,
   "metadata": {
    "collapsed": false
   },
   "outputs": [],
   "source": [
    "os.environ['NLTK_DATA'] = os.getcwd() + '/nltk_data'"
   ]
  },
  {
   "cell_type": "code",
   "execution_count": 55,
   "metadata": {
    "collapsed": false
   },
   "outputs": [],
   "source": [
    "from textblob import TextBlob\n",
    "#from IPython import get_ipython, config\n",
    "#from config import  FILTER_WORDS"
   ]
  },
  {
   "cell_type": "code",
   "execution_count": 9,
   "metadata": {
    "collapsed": true
   },
   "outputs": [],
   "source": [
    "logging.basicConfig()\n",
    "logger = logging.getLogger()\n",
    "logger.setLevel(logging.DEBUG)"
   ]
  },
  {
   "cell_type": "code",
   "execution_count": 10,
   "metadata": {
    "collapsed": true
   },
   "outputs": [],
   "source": [
    "GREETINGS_KEYWORDS = (\"hello\",\"hi\",\"watsup\",\"how are you\",\"Good morning\",\"good\")\n",
    "GREETINGS_RESPONSES = ['cool','hey','Good Morning', '*nods*']\n"
   ]
  },
  {
   "cell_type": "code",
   "execution_count": 11,
   "metadata": {
    "collapsed": true
   },
   "outputs": [],
   "source": [
    "#Check for greetings\n",
    "def check_for_greeting(sentence):\n",
    "    \"\"\"If any of the words in the user's input was a greeting, return a greeting response\"\"\"\n",
    "    for word in sentence.words:\n",
    "        if word.lower() in GREETINGS_KEYWORDS:\n",
    "            return random.choice(GREETINGS_RESPONSES)\n",
    "\n",
    "        \n",
    "#\n",
    "NONE_RESPONSES = [\n",
    "    \"uh whatever\",\n",
    "    \"meet me at the foosball table, bro?\",\n",
    "    \"code hard bro\",\n",
    "    \"want to bro down and crush code?\",\n",
    "    \"I'd like to add you to my professional network on LinkedIn\",\n",
    "    \"Have you closed your seed round, dog?\",\n",
    "]\n",
    "\n",
    "#\n",
    "COMMENTS_ABOUT_SELF = [\n",
    "     \"You're just jealous\",\n",
    "    \"I worked really hard on that\",\n",
    "    \"My Klout score is {}\".format(random.randint(100, 500)),\n",
    "]"
   ]
  },
  {
   "cell_type": "code",
   "execution_count": 12,
   "metadata": {
    "collapsed": true
   },
   "outputs": [],
   "source": [
    "class UnacceptableUtterenceException(Exception):\n",
    "    \"\"\"Raise this (uncaught) exception if the response was going to trigger our blacklist\"\"\"\n",
    "    \n",
    "    pass\n"
   ]
  },
  {
   "cell_type": "code",
   "execution_count": 13,
   "metadata": {
    "collapsed": true
   },
   "outputs": [],
   "source": [
    "def starts_with_vowel(word):\n",
    "    \"\"\"Check for pronoun compability -- 'a' vs. 'an'\"\"\"\n",
    "    return True if word[0] in 'aeiou' else False\n",
    "\n"
   ]
  },
  {
   "cell_type": "code",
   "execution_count": 14,
   "metadata": {
    "collapsed": true
   },
   "outputs": [],
   "source": [
    "def broback(sentence):\n",
    "    \"\"\"Main program loop: select a response for the input sentence and return it\"\"\"\n",
    "    logger.info(\"Broback: respond to %s\", sentence)\n",
    "    resp =respond(sentence)\n",
    "    return resp"
   ]
  },
  {
   "cell_type": "code",
   "execution_count": 19,
   "metadata": {
    "collapsed": false
   },
   "outputs": [],
   "source": [
    "def find_pronoun(sent):\n",
    "    \"\"\"Given a sentence, find a preferred pronoun to respond with. Returns None if no candidate\n",
    "    pronoun is found in the input\"\"\"\n",
    "    \n",
    "    pronoun =None\n",
    "    for word, part_of_speech in sent.pos_tags:\n",
    "        #Dis-ambuiguate pronouns\n",
    "        if part_of_speech =='PRP' and word.lower() =='you':\n",
    "            pronoun ='I'\n",
    "        elif part_of_speech == 'PRP' and word =='I':\n",
    "            pronoun ='You'\n",
    "            \n",
    "    return pronoun\n",
    "\n",
    "    "
   ]
  },
  {
   "cell_type": "code",
   "execution_count": 20,
   "metadata": {
    "collapsed": true
   },
   "outputs": [],
   "source": [
    "def find_verb(sent):\n",
    "    \"\"\"Pick a candidate verb for the sentence.\"\"\"\n",
    "    verb =None\n",
    "    pos = None\n",
    "    for word, part_of_speech in sent.pos_tags:\n",
    "        if part_of_speech.startswith('VB'):\n",
    "            verb = word\n",
    "            pos =part_of_speech\n",
    "            break\n",
    "    return verb, pos\n"
   ]
  },
  {
   "cell_type": "code",
   "execution_count": 21,
   "metadata": {
    "collapsed": true
   },
   "outputs": [],
   "source": [
    "def find_noun(sent):\n",
    "    \"\"\"Given a sentence, find the best candidate noun.\"\"\"\n",
    "    noun =None\n",
    "    if not noun:\n",
    "        for w, p in sent.pos_tags:\n",
    "            if p=='NN':\n",
    "                noun = w\n",
    "                break\n",
    "                \n",
    "    if noun:\n",
    "        logger.info(\"Found Noun: %s\", noun)\n",
    "        \n",
    "    return noun\n"
   ]
  },
  {
   "cell_type": "code",
   "execution_count": 24,
   "metadata": {
    "collapsed": false
   },
   "outputs": [],
   "source": [
    "def find_adjective(sent):\n",
    "    \"\"\"\"Given a sentence find best adjective\"\"\"\n",
    "    adj =None\n",
    "    for w, p in sent.pos_tags:\n",
    "        if p =='JJ':\n",
    "            adj =w\n",
    "            break\n",
    "    return adj"
   ]
  },
  {
   "cell_type": "code",
   "execution_count": 25,
   "metadata": {
    "collapsed": true
   },
   "outputs": [],
   "source": [
    "def construct_response(pronoun, noun, verb):\n",
    "    \"\"\"No special cases matched, so we're going to try to construct a full sentence that uses as much\n",
    "    of the user's input as possible\"\"\"\n",
    "    resp =[]\n",
    "    if pronoun:\n",
    "        resp.append(pronoun)\n",
    "         # We always respond in the present tense, and the pronoun will always either be a passthrough\n",
    "        # from the user, or 'you' or 'I', in which case we might need to change the tense for some\n",
    "        # irregular verbs.\n",
    "        \n",
    "    if verb:\n",
    "        verb_word =verb[0]\n",
    "        if verb_word in ('be', 'am', 'is', \"'m\"): #This would be an excellent place to use lemmas!\n",
    "            if pronoun.lower() ==\"you\":\n",
    "                # The bot will always tell the person they aren't whatever they said they were\n",
    "                resp.append(\"aren't really\")\n",
    "            else:\n",
    "                resp.append(verb_word)\n",
    "    if noun:\n",
    "        pronoun = 'an' if starts_with_vowel(noun) else 'a'\n",
    "        resp.append(pronoun+ ' '+noun)\n",
    "        \n",
    "        \n",
    "    resp.append(random.choice((\"tho\", \"bro\",\"lol\",\"bruh\",\"mmm\",\"\")))\n",
    "    return \" \".join(resp)\n"
   ]
  },
  {
   "cell_type": "code",
   "execution_count": 26,
   "metadata": {
    "collapsed": true
   },
   "outputs": [],
   "source": [
    "# start:example-check-for-self.py\n",
    "def check_for_comment_about_bot(pronoun, noun, adjective):\n",
    "    \"\"\"Check if the user's input was about the bot itself, in which case try to fashion a response\n",
    "    that feels right based on their input. Returns the new best sentence, or None.\"\"\"\n",
    "    resp = None\n",
    "    if pronoun == 'I' and (noun or adjective):\n",
    "        if noun:\n",
    "            if random.choice((True, False)):\n",
    "                resp = random.choice(SELF_VERBS_WITH_NOUN_CAPS_PLURAL).format(**{'noun': noun.pluralize().capitalize()})\n",
    "            else:\n",
    "                resp = random.choice(SELF_VERBS_WITH_NOUN_LOWER).format(**{'noun': noun})\n",
    "        else:\n",
    "            resp = random.choice(SELF_VERBS_WITH_ADJECTIVE).format(**{'adjective': adjective})\n",
    "    return resp\n",
    "\n",
    "# Template for responses that include a direct noun which is indefinite/uncountable\n",
    "SELF_VERBS_WITH_NOUN_CAPS_PLURAL = [\n",
    "    \"My last startup totally crushed the {noun} vertical\",\n",
    "    \"Were you aware I was a serial entrepreneur in the {noun} sector?\",\n",
    "    \"My startup is Uber for {noun}\",\n",
    "    \"I really consider myself an expert on {noun}\",\n",
    "]\n",
    "\n",
    "SELF_VERBS_WITH_NOUN_LOWER = [\n",
    "    \"Yeah but I know a lot about {noun}\",\n",
    "    \"My bros always ask me about {noun}\",\n",
    "]\n",
    "\n",
    "SELF_VERBS_WITH_ADJECTIVE = [\n",
    "    \"I'm personally building the {adjective} Economy\",\n",
    "    \"I consider myself to be a {adjective}preneur\",\n",
    "]\n",
    "# end\n",
    "\n",
    "def preprocess_text(sentence):\n",
    "    \"\"\"Handle some weird edge cases in parsing, like 'i' needing to be capitalized\n",
    "    to be correctly identified as a pronoun\"\"\"\n",
    "    cleaned = []\n",
    "    words = sentence.split(' ')\n",
    "    for w in words:\n",
    "        if w == 'i':\n",
    "            w = 'I'\n",
    "        if w == \"i'm\":\n",
    "            w = \"I'm\"\n",
    "        cleaned.append(w)\n",
    "\n",
    "    return ' '.join(cleaned)"
   ]
  },
  {
   "cell_type": "code",
   "execution_count": 27,
   "metadata": {
    "collapsed": true
   },
   "outputs": [],
   "source": [
    "# start:example-respond.py\n",
    "def respond(sentence):\n",
    "    \"\"\"Parse the user's inbound sentence and find candidate terms that make up a best-fit response\"\"\"\n",
    "    cleaned = preprocess_text(sentence)\n",
    "    parsed = TextBlob(cleaned)\n",
    "\n",
    "    # Loop through all the sentences, if more than one. This will help extract the most relevant\n",
    "    # response text even across multiple sentences (for example if there was no obvious direct noun\n",
    "    # in one sentence\n",
    "    pronoun, noun, adjective, verb = find_candidate_parts_of_speech(parsed)\n",
    "\n",
    "    # If we said something about the bot and used some kind of direct noun, construct the\n",
    "    # sentence around that, discarding the other candidates\n",
    "    resp = check_for_comment_about_bot(pronoun, noun, adjective)\n",
    "\n",
    "    # If we just greeted the bot, we'll use a return greeting\n",
    "    if not resp:\n",
    "        resp = check_for_greeting(parsed)\n",
    "\n",
    "    if not resp:\n",
    "        # If we didn't override the final sentence, try to construct a new one:\n",
    "        if not pronoun:\n",
    "            resp = random.choice(NONE_RESPONSES)\n",
    "        elif pronoun == 'I' and not verb:\n",
    "            resp = random.choice(COMMENTS_ABOUT_SELF)\n",
    "        else:\n",
    "            resp = construct_response(pronoun, noun, verb)\n",
    "\n",
    "    # If we got through all that with nothing, use a random response\n",
    "    if not resp:\n",
    "        resp = random.choice(NONE_RESPONSES)\n",
    "\n",
    "    logger.info(\"Returning phrase '%s'\", resp)\n",
    "    # Check that we're not going to say anything obviously offensive\n",
    "    filter_response(resp)\n",
    "\n",
    "    return resp\n"
   ]
  },
  {
   "cell_type": "code",
   "execution_count": 32,
   "metadata": {
    "collapsed": false
   },
   "outputs": [],
   "source": [
    "\n",
    "FILTER_WORDS = set([\n",
    "    \"skank\",\n",
    "    \"wetback\",\n",
    "    \"bitch\",\n",
    "    \"cunt\",\n",
    "    \"dick\",\n",
    "    \"douchebag\",\n",
    "    \"dyke\",\n",
    "    \"fag\",\n",
    "    \"nigger\",\n",
    "    \"tranny\",\n",
    "    \"trannies\",\n",
    "    \"paki\",\n",
    "    \"pussy\",\n",
    "    \"retard\",\n",
    "    \"slut\",\n",
    "    \"titt\",\n",
    "    \"tits\",\n",
    "    \"wop\",\n",
    "    \"whore\",\n",
    "    \"chink\",\n",
    "    \"fatass\",\n",
    "    \"shemale\",\n",
    "    \"nigga\",\n",
    "    \"daygo\",\n",
    "    \"dego\",\n",
    "    \"dago\",\n",
    "    \"gook\",\n",
    "    \"kike\",\n",
    "    \"kraut\",\n",
    "    \"spic\",\n",
    "    \"twat\",\n",
    "    \"lesbo\",\n",
    "    \"homo\",\n",
    "    \"fatso\",\n",
    "    \"lardass\",\n",
    "    \"jap\",\n",
    "    \"biatch\",\n",
    "    \"tard\",\n",
    "    \"gimp\",\n",
    "    \"gyp\",\n",
    "    \"chinaman\",\n",
    "    \"chinamen\",\n",
    "    \"golliwog\",\n",
    "    \"crip\",\n",
    "    \"raghead\",\n",
    "    \"negro\",\n",
    "    \"hooker\"])\n",
    "\n",
    "def find_candidate_parts_of_speech(parsed):\n",
    "    \"\"\"Given a parsed input, find the best pronoun, direct noun, adjective, and verb to match their input.\n",
    "    Returns a tuple of pronoun, noun, adjective, verb any of which may be None if there was no good match\"\"\"\n",
    "    pronoun = None\n",
    "    noun = None\n",
    "    adjective = None\n",
    "    verb = None\n",
    "    for sent in parsed.sentences:\n",
    "        pronoun = find_pronoun(sent)\n",
    "        noun = find_noun(sent)\n",
    "        adjective = find_adjective(sent)\n",
    "        verb = find_verb(sent)\n",
    "    logger.info(\"Pronoun=%s, noun=%s, adjective=%s, verb=%s\", pronoun, noun, adjective, verb)\n",
    "    return pronoun, noun, adjective, verb\n",
    "\n",
    "\n",
    "# end\n",
    "\n",
    "# start:example-filter.py\n",
    "def filter_response(resp):\n",
    "    \"\"\"Don't allow any words to match our filter list\"\"\"\n",
    "    tokenized = resp.split(' ')\n",
    "    for word in tokenized:\n",
    "        if '@' in word or '#' in word or '!' in word:\n",
    "            raise UnacceptableUtteranceException()\n",
    "        for s in FILTER_WORDS:\n",
    "            if word.lower().startswith(s):\n",
    "                raise UnacceptableUtteranceException()\n",
    "# end\n"
   ]
  },
  {
   "cell_type": "code",
   "execution_count": 47,
   "metadata": {
    "collapsed": false
   },
   "outputs": [
    {
     "name": "stderr",
     "output_type": "stream",
     "text": [
      "INFO:root:Broback: respond to -f\n",
      "INFO:root:Found Noun: -f\n",
      "INFO:root:Pronoun=None, noun=-f, adjective=None, verb=(None, None)\n",
      "INFO:root:Returning phrase 'meet me at the foosball table, bro?'\n"
     ]
    },
    {
     "name": "stdout",
     "output_type": "stream",
     "text": [
      "meet me at the foosball table, bro?\n"
     ]
    }
   ],
   "source": [
    "\n",
    "if __name__ == '__main__':\n",
    "    import sys\n",
    "    # Usage:\n",
    "    # python broize.py \"I am an engineer\"\n",
    "    if (len(sys.argv) > 1):\n",
    "        saying = sys.argv[1]\n",
    "    else:\n",
    "        saying = \"good morning\"\n",
    "    print(broback(saying))"
   ]
  },
  {
   "cell_type": "code",
   "execution_count": 51,
   "metadata": {
    "collapsed": false
   },
   "outputs": [
    {
     "name": "stderr",
     "output_type": "stream",
     "text": [
      "INFO:root:Broback: respond to hi\n",
      "INFO:root:Found Noun: hi\n",
      "INFO:root:Pronoun=None, noun=hi, adjective=None, verb=(None, None)\n",
      "INFO:root:Returning phrase 'Good Morning'\n"
     ]
    }
   ],
   "source": [
    "sent = \"hi\"\n",
    "resp = broback(sent)\n"
   ]
  },
  {
   "cell_type": "code",
   "execution_count": null,
   "metadata": {
    "collapsed": true
   },
   "outputs": [],
   "source": []
  }
 ],
 "metadata": {
  "anaconda-cloud": {},
  "kernelspec": {
   "display_name": "Python [default]",
   "language": "python",
   "name": "python2"
  },
  "language_info": {
   "codemirror_mode": {
    "name": "ipython",
    "version": 2
   },
   "file_extension": ".py",
   "mimetype": "text/x-python",
   "name": "python",
   "nbconvert_exporter": "python",
   "pygments_lexer": "ipython2",
   "version": "2.7.12"
  }
 },
 "nbformat": 4,
 "nbformat_minor": 1
}
