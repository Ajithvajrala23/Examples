{
 "cells": [
  {
   "cell_type": "code",
   "execution_count": 1,
   "metadata": {
    "collapsed": false
   },
   "outputs": [
    {
     "name": "stdout",
     "output_type": "stream",
     "text": [
      "(100, 1)\n",
      "(88, 1)\n",
      "(46, 1)\n",
      "(98, 1)\n",
      "(194, 1)\n",
      "(48, 1)\n"
     ]
    }
   ],
   "source": [
    "#Get the chat history\n",
    "#\n",
    "import pandas as pd\n",
    "Aegis_Domain=pd.read_csv(\"E:\\Aegis\\Project\\Data_set/Aegis_Domain.csv\")\n",
    "Data_Mining_General=pd.read_csv(\"E:\\Aegis\\Project\\Data_set/Data_Mining_General.csv\")\n",
    "Pythom_R_ML=pd.read_csv(\"E:\\Aegis\\Project\\Data_set/Pythom_R_ML.csv\")\n",
    "Statistics=pd.read_csv(\"E:\\Aegis\\Project\\Data_set/Statistics.csv\")\n",
    "Hadoop=pd.read_csv(\"E:\\Aegis\\Project\\Data_set/Hadoop.csv\")\n",
    "Visualization=pd.read_csv(\"E:\\Aegis\\Project\\Data_set/Visualization.csv\")\n",
    "##\n",
    "#Size of each data set\n",
    "print Aegis_Domain.shape\n",
    "print Data_Mining_General.shape\n",
    "print Pythom_R_ML.shape\n",
    "print Statistics.shape\n",
    "print Hadoop.shape\n",
    "print Visualization.shape\n",
    "\n"
   ]
  },
  {
   "cell_type": "code",
   "execution_count": 2,
   "metadata": {
    "collapsed": true
   },
   "outputs": [],
   "source": [
    "#Pre processing the data\n",
    "import re\n",
    "def cleaning_text(review):\n",
    "    cleaned =re.sub(\"[^a-zA-Z/:.?]\", \" \",review)\n",
    "    words =cleaned.lower().split()\n",
    "    return(\" \".join( words ))\n",
    "new_words=[]\n",
    "for i in range(0,Aegis_Domain.size):\n",
    "    new_words.append(cleaning_text(Aegis_Domain[\"QA\"][i]))\n",
    "for i in range(0,Data_Mining_General.size):\n",
    "    new_words.append(cleaning_text(Data_Mining_General[\"QA\"][i]))\n",
    "for i in range(0,Pythom_R_ML.size):\n",
    "    new_words.append(cleaning_text(Pythom_R_ML[\"QA\"][i]))\n",
    "for i in range(0,Statistics.size):\n",
    "    new_words.append(cleaning_text(Statistics[\"QA\"][i]))\n",
    "for i in range(0,Hadoop.size):\n",
    "    new_words.append(cleaning_text(Hadoop[\"QA\"][i]))\n",
    "for i in range(0,Visualization.size):\n",
    "    new_words.append(cleaning_text(Visualization[\"QA\"][i]))\n",
    "\n",
    "#print new_words"
   ]
  },
  {
   "cell_type": "code",
   "execution_count": 3,
   "metadata": {
    "collapsed": false
   },
   "outputs": [
    {
     "name": "stderr",
     "output_type": "stream",
     "text": [
      "C:\\Users\\Ajith Vajrala\\Anaconda2\\lib\\site-packages\\chatterbot\\storage\\jsonfile.py:26: UnsuitableForProductionWarning: The JsonFileStorageAdapter is not recommended for production environments.\n",
      "  self.UnsuitableForProductionWarning\n"
     ]
    }
   ],
   "source": [
    "#Import the chatbot \n",
    "\n",
    "from chatterbot import ChatBot\n",
    "from chatterbot.trainers import ChatterBotCorpusTrainer\n",
    "#\n",
    "#Import logic adapters for basic operations\n",
    "#\n",
    "chatbot=ChatBot(\"Example1\")\n",
    "#\n",
    "#Import List trainer for training the chat history\n",
    "#\n",
    "from chatterbot.trainers import ListTrainer\n",
    "#\n",
    "#Move the preprocessed chat history to conversations\n",
    "#\n",
    "conversation=new_words\n",
    "chatbot.set_trainer(ListTrainer)\n",
    "#\n",
    "#training the conversation\n",
    "#\n",
    "chatbot.train(conversation)\n",
    "#\n",
    "#Import corpus.english for basic greetings and casual replies\n",
    "#\n",
    "chatbot.train(\"chatterbot.corpus.english\")\n",
    "chatbot.set_trainer(ChatterBotCorpusTrainer)\n",
    "#chatbot.train(\"chatterbot.corpus.english\")\n",
    "chatbot.train(\n",
    "    \"chatterbot.corpus.english.greetings\",\n",
    "    \"chatterbot.corpus.english.conversations\"\n",
    ")\n",
    "\n"
   ]
  },
  {
   "cell_type": "code",
   "execution_count": 4,
   "metadata": {
    "collapsed": false
   },
   "outputs": [
    {
     "name": "stdout",
     "output_type": "stream",
     "text": [
      "How are you doing?\n"
     ]
    }
   ],
   "source": [
    "print chatbot.get_response(\"hi\")"
   ]
  },
  {
   "cell_type": "code",
   "execution_count": 5,
   "metadata": {
    "collapsed": false
   },
   "outputs": [
    {
     "name": "stdout",
     "output_type": "stream",
     "text": [
      "Hi\n"
     ]
    }
   ],
   "source": [
    "print chatbot.get_response(\"hello\")"
   ]
  },
  {
   "cell_type": "code",
   "execution_count": 6,
   "metadata": {
    "collapsed": false
   },
   "outputs": [
    {
     "name": "stdout",
     "output_type": "stream",
     "text": [
      "What is Aegis\n"
     ]
    }
   ],
   "source": [
    "print chatbot.get_response(\"good morning\")"
   ]
  },
  {
   "cell_type": "code",
   "execution_count": 7,
   "metadata": {
    "collapsed": false
   },
   "outputs": [
    {
     "name": "stdout",
     "output_type": "stream",
     "text": [
      "What is Aegis\n"
     ]
    }
   ],
   "source": [
    "print chatbot.get_response(\"gud mrng\")"
   ]
  },
  {
   "cell_type": "code",
   "execution_count": 8,
   "metadata": {
    "collapsed": false
   },
   "outputs": [
    {
     "name": "stdout",
     "output_type": "stream",
     "text": [
      "where Aegis located\n"
     ]
    }
   ],
   "source": [
    "print chatbot.get_response(\"What is Aegis\")"
   ]
  },
  {
   "cell_type": "code",
   "execution_count": 9,
   "metadata": {
    "collapsed": false
   },
   "outputs": [
    {
     "name": "stdout",
     "output_type": "stream",
     "text": [
      "terms each of months classroom training on every saturday sunday.\n"
     ]
    }
   ],
   "source": [
    "print chatbot.get_response(\"What is the class schedule?\")"
   ]
  },
  {
   "cell_type": "code",
   "execution_count": 10,
   "metadata": {
    "collapsed": false
   },
   "outputs": [
    {
     "name": "stdout",
     "output_type": "stream",
     "text": [
      "Internship will be on paid basis depending upon your profile.\n"
     ]
    }
   ],
   "source": [
    "print chatbot.get_response(\"is there any internship?\")"
   ]
  },
  {
   "cell_type": "code",
   "execution_count": 11,
   "metadata": {
    "collapsed": false
   },
   "outputs": [
    {
     "name": "stdout",
     "output_type": "stream",
     "text": [
      "if you successfully complete the internship and if you perform well then definitely you will get the pre placement offer from the employer.\n"
     ]
    }
   ],
   "source": [
    "print chatbot.get_response(\"Internsip??\")"
   ]
  },
  {
   "cell_type": "code",
   "execution_count": 12,
   "metadata": {
    "collapsed": false
   },
   "outputs": [
    {
     "name": "stdout",
     "output_type": "stream",
     "text": [
      "Both has its own significance you can t put anything aside. R is more of computational statistics which has its own advantages like visualization on the other hand python has vast libraries which are used for data analytics. Its up to individual to choose. If an organization is interested in R He can choose R or if Organizations demands python then he chooses python.\n"
     ]
    }
   ],
   "source": [
    "print chatbot.get_response(\"Which is better R or python?\")"
   ]
  },
  {
   "cell_type": "code",
   "execution_count": 13,
   "metadata": {
    "collapsed": false
   },
   "outputs": [
    {
     "name": "stdout",
     "output_type": "stream",
     "text": [
      "Both has its own significance you can t put anything aside. R is more of computational statistics which has its own advantages like visualization on the other hand python has vast libraries which are used for data analytics. Its up to individual to choose. If an organization is interested in R He can choose R or if Organizations demands python then he chooses python.\n"
     ]
    }
   ],
   "source": [
    "print chatbot.get_response(\"r or python??\")"
   ]
  },
  {
   "cell_type": "code",
   "execution_count": 14,
   "metadata": {
    "collapsed": false
   },
   "outputs": [
    {
     "name": "stdout",
     "output_type": "stream",
     "text": [
      "a capstone project is a larger project designed to help you practice apply and showcase the skills you ve learned.\n"
     ]
    }
   ],
   "source": [
    "print chatbot.get_response(\"What is this capstone project?\")"
   ]
  },
  {
   "cell_type": "code",
   "execution_count": 15,
   "metadata": {
    "collapsed": false
   },
   "outputs": [
    {
     "name": "stdout",
     "output_type": "stream",
     "text": [
      "a capstone project is a larger project designed to help you practice apply and showcase the skills you ve learned.\n"
     ]
    }
   ],
   "source": [
    "print chatbot.get_response(\"no idea what capstone is?\")"
   ]
  },
  {
   "cell_type": "code",
   "execution_count": 16,
   "metadata": {
    "collapsed": false
   },
   "outputs": [
    {
     "name": "stdout",
     "output_type": "stream",
     "text": [
      "Please Refer http://www.machinelearning.net/statistics.html\n"
     ]
    }
   ],
   "source": [
    "print chatbot.get_response(\"What is the difference between online course?\")"
   ]
  },
  {
   "cell_type": "code",
   "execution_count": 17,
   "metadata": {
    "collapsed": false
   },
   "outputs": [
    {
     "name": "stdout",
     "output_type": "stream",
     "text": [
      "Hadoop is an open source framework that allows to store and process big data in a distributed environment across clusters of computers using simple programming models. It is designed to scale up from single servers to thousands of machines each offering local computation and storage. This brief tutorial provides a quick introduction to Big Data MapReduce algorithm and Hadoop Distributed File System.\n"
     ]
    }
   ],
   "source": [
    "print chatbot.get_response(\"what is hadoop?\")"
   ]
  },
  {
   "cell_type": "code",
   "execution_count": 18,
   "metadata": {
    "collapsed": false
   },
   "outputs": [
    {
     "name": "stdout",
     "output_type": "stream",
     "text": [
      "logistic regression is also referred as logit model. it is a technique to forecast the binary outcome from a linear combination of predictor variables.\n"
     ]
    }
   ],
   "source": [
    "print chatbot.get_response(\"WHat is logistic Regression?\")"
   ]
  },
  {
   "cell_type": "code",
   "execution_count": 19,
   "metadata": {
    "collapsed": false
   },
   "outputs": [
    {
     "name": "stdout",
     "output_type": "stream",
     "text": [
      ".\n"
     ]
    }
   ],
   "source": [
    "print chatbot.get_response(\"HDFS\")"
   ]
  },
  {
   "cell_type": "code",
   "execution_count": 20,
   "metadata": {
    "collapsed": false
   },
   "outputs": [
    {
     "name": "stdout",
     "output_type": "stream",
     "text": [
      "Performance testing is again an important part of implementing tableau. This can be done by loading Testing Tableau Server with TabJolt which is a Point and Run load generator created to perform QA. While TabJolt is not supported by tableau directly it has to be installed using other open source products.\n"
     ]
    }
   ],
   "source": [
    "print chatbot.get_response(\"how do we do indexing in HDFS?\")"
   ]
  },
  {
   "cell_type": "code",
   "execution_count": 21,
   "metadata": {
    "collapsed": false
   },
   "outputs": [
    {
     "name": "stdout",
     "output_type": "stream",
     "text": [
      "Machine Learning means make machine to learn from its past knowledge over the experience it capability increases.\n"
     ]
    }
   ],
   "source": [
    "print chatbot.get_response(\"What is machine learning\")"
   ]
  },
  {
   "cell_type": "code",
   "execution_count": 22,
   "metadata": {
    "collapsed": false
   },
   "outputs": [
    {
     "name": "stdout",
     "output_type": "stream",
     "text": [
      "Machine Learning means make machine to learn from its past knowledge over the experience it capability increases.\n"
     ]
    }
   ],
   "source": [
    "print chatbot.get_response(\"Teacher of machine learning.\")"
   ]
  },
  {
   "cell_type": "code",
   "execution_count": 23,
   "metadata": {
    "collapsed": false
   },
   "outputs": [
    {
     "name": "stdout",
     "output_type": "stream",
     "text": [
      "course evaluation is based on class attendence weekend tests final assessment project.\n"
     ]
    }
   ],
   "source": [
    "print chatbot.get_response(\"how course evaluation is done?\")"
   ]
  },
  {
   "cell_type": "code",
   "execution_count": 24,
   "metadata": {
    "collapsed": false
   },
   "outputs": [
    {
     "name": "stdout",
     "output_type": "stream",
     "text": [
      "please refer http://www.stats.org.uk/friedman .pdf\n"
     ]
    }
   ],
   "source": [
    "print chatbot.get_response(\"relation between data science and statistics?\")"
   ]
  },
  {
   "cell_type": "code",
   "execution_count": null,
   "metadata": {
    "collapsed": true
   },
   "outputs": [],
   "source": []
  },
  {
   "cell_type": "code",
   "execution_count": null,
   "metadata": {
    "collapsed": true
   },
   "outputs": [],
   "source": []
  }
 ],
 "metadata": {
  "anaconda-cloud": {},
  "kernelspec": {
   "display_name": "Python [default]",
   "language": "python",
   "name": "python2"
  },
  "language_info": {
   "codemirror_mode": {
    "name": "ipython",
    "version": 2
   },
   "file_extension": ".py",
   "mimetype": "text/x-python",
   "name": "python",
   "nbconvert_exporter": "python",
   "pygments_lexer": "ipython2",
   "version": "2.7.12"
  }
 },
 "nbformat": 4,
 "nbformat_minor": 1
}
