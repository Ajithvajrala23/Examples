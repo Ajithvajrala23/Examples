{
 "cells": [
  {
   "cell_type": "code",
   "execution_count": 1,
   "metadata": {},
   "outputs": [
    {
     "name": "stdout",
     "output_type": "stream",
     "text": [
      "Hello World\n"
     ]
    }
   ],
   "source": [
    "print(\"Hello World\")"
   ]
  },
  {
   "cell_type": "markdown",
   "metadata": {},
   "source": [
    "Import necessary libraries"
   ]
  },
  {
   "cell_type": "code",
   "execution_count": 2,
   "metadata": {
    "collapsed": true
   },
   "outputs": [],
   "source": [
    "import pandas as pd\n",
    "import numpy as np\n",
    "import matplotlib.pyplot as plt\n",
    "import seaborn as sns\n",
    "%matplotlib inline"
   ]
  },
  {
   "cell_type": "markdown",
   "metadata": {},
   "source": [
    "load the data provided"
   ]
  },
  {
   "cell_type": "code",
   "execution_count": 286,
   "metadata": {
    "collapsed": true
   },
   "outputs": [],
   "source": [
    "purchase = pd.read_csv(\"purchase.csv\")\n",
    "browse = pd.read_csv(\"browse.csv\")\n",
    "skv = pd.read_csv(\"sku.csv\")\n",
    "userid = pd.read_csv(\"userid.csv\")"
   ]
  },
  {
   "cell_type": "code",
   "execution_count": 6,
   "metadata": {},
   "outputs": [
    {
     "data": {
      "text/html": [
       "<div>\n",
       "<style>\n",
       "    .dataframe thead tr:only-child th {\n",
       "        text-align: right;\n",
       "    }\n",
       "\n",
       "    .dataframe thead th {\n",
       "        text-align: left;\n",
       "    }\n",
       "\n",
       "    .dataframe tbody tr th {\n",
       "        vertical-align: top;\n",
       "    }\n",
       "</style>\n",
       "<table border=\"1\" class=\"dataframe\">\n",
       "  <thead>\n",
       "    <tr style=\"text-align: right;\">\n",
       "      <th></th>\n",
       "      <th>User Id</th>\n",
       "      <th>Date</th>\n",
       "      <th>SKU</th>\n",
       "    </tr>\n",
       "  </thead>\n",
       "  <tbody>\n",
       "    <tr>\n",
       "      <th>0</th>\n",
       "      <td>311DBC84</td>\n",
       "      <td>10/11/2017</td>\n",
       "      <td>178394</td>\n",
       "    </tr>\n",
       "    <tr>\n",
       "      <th>1</th>\n",
       "      <td>2B1F305E</td>\n",
       "      <td>10/1/2017</td>\n",
       "      <td>214049</td>\n",
       "    </tr>\n",
       "    <tr>\n",
       "      <th>2</th>\n",
       "      <td>5429C2C</td>\n",
       "      <td>10/9/2017</td>\n",
       "      <td>178735</td>\n",
       "    </tr>\n",
       "    <tr>\n",
       "      <th>3</th>\n",
       "      <td>284FACC4</td>\n",
       "      <td>10/28/2017</td>\n",
       "      <td>217190</td>\n",
       "    </tr>\n",
       "    <tr>\n",
       "      <th>4</th>\n",
       "      <td>28CC59</td>\n",
       "      <td>8/11/2017</td>\n",
       "      <td>141740</td>\n",
       "    </tr>\n",
       "  </tbody>\n",
       "</table>\n",
       "</div>"
      ],
      "text/plain": [
       "    User Id        Date     SKU\n",
       "0  311DBC84  10/11/2017  178394\n",
       "1  2B1F305E   10/1/2017  214049\n",
       "2   5429C2C   10/9/2017  178735\n",
       "3  284FACC4  10/28/2017  217190\n",
       "4    28CC59   8/11/2017  141740"
      ]
     },
     "execution_count": 6,
     "metadata": {},
     "output_type": "execute_result"
    }
   ],
   "source": [
    "purchase.head()"
   ]
  },
  {
   "cell_type": "code",
   "execution_count": 7,
   "metadata": {
    "scrolled": true
   },
   "outputs": [
    {
     "data": {
      "text/html": [
       "<div>\n",
       "<style>\n",
       "    .dataframe thead tr:only-child th {\n",
       "        text-align: right;\n",
       "    }\n",
       "\n",
       "    .dataframe thead th {\n",
       "        text-align: left;\n",
       "    }\n",
       "\n",
       "    .dataframe tbody tr th {\n",
       "        vertical-align: top;\n",
       "    }\n",
       "</style>\n",
       "<table border=\"1\" class=\"dataframe\">\n",
       "  <thead>\n",
       "    <tr style=\"text-align: right;\">\n",
       "      <th></th>\n",
       "      <th>User ID</th>\n",
       "      <th>Date</th>\n",
       "      <th>SKU</th>\n",
       "    </tr>\n",
       "  </thead>\n",
       "  <tbody>\n",
       "    <tr>\n",
       "      <th>0</th>\n",
       "      <td>264BCFBA</td>\n",
       "      <td>12/24/2017</td>\n",
       "      <td>302445</td>\n",
       "    </tr>\n",
       "    <tr>\n",
       "      <th>1</th>\n",
       "      <td>570B6CA</td>\n",
       "      <td>12/10/2017</td>\n",
       "      <td>135119</td>\n",
       "    </tr>\n",
       "    <tr>\n",
       "      <th>2</th>\n",
       "      <td>237446F5</td>\n",
       "      <td>11/10/2017</td>\n",
       "      <td>135119</td>\n",
       "    </tr>\n",
       "    <tr>\n",
       "      <th>3</th>\n",
       "      <td>1388A512</td>\n",
       "      <td>12/10/2017</td>\n",
       "      <td>141244</td>\n",
       "    </tr>\n",
       "    <tr>\n",
       "      <th>4</th>\n",
       "      <td>16457B5F</td>\n",
       "      <td>11/22/2017</td>\n",
       "      <td>181450</td>\n",
       "    </tr>\n",
       "  </tbody>\n",
       "</table>\n",
       "</div>"
      ],
      "text/plain": [
       "    User ID        Date     SKU\n",
       "0  264BCFBA  12/24/2017  302445\n",
       "1   570B6CA  12/10/2017  135119\n",
       "2  237446F5  11/10/2017  135119\n",
       "3  1388A512  12/10/2017  141244\n",
       "4  16457B5F  11/22/2017  181450"
      ]
     },
     "execution_count": 7,
     "metadata": {},
     "output_type": "execute_result"
    }
   ],
   "source": [
    "browse.head()"
   ]
  },
  {
   "cell_type": "code",
   "execution_count": 8,
   "metadata": {},
   "outputs": [
    {
     "data": {
      "text/html": [
       "<div>\n",
       "<style>\n",
       "    .dataframe thead tr:only-child th {\n",
       "        text-align: right;\n",
       "    }\n",
       "\n",
       "    .dataframe thead th {\n",
       "        text-align: left;\n",
       "    }\n",
       "\n",
       "    .dataframe tbody tr th {\n",
       "        vertical-align: top;\n",
       "    }\n",
       "</style>\n",
       "<table border=\"1\" class=\"dataframe\">\n",
       "  <thead>\n",
       "    <tr style=\"text-align: right;\">\n",
       "      <th></th>\n",
       "      <th>SKU</th>\n",
       "      <th>Description</th>\n",
       "      <th>Category Description</th>\n",
       "    </tr>\n",
       "  </thead>\n",
       "  <tbody>\n",
       "    <tr>\n",
       "      <th>0</th>\n",
       "      <td>122451.0</td>\n",
       "      <td>CURVE BOW GLOVE  A4</td>\n",
       "      <td>Handbags &amp; Access</td>\n",
       "    </tr>\n",
       "    <tr>\n",
       "      <th>1</th>\n",
       "      <td>124549.0</td>\n",
       "      <td>PIPED DRIVING GLO  F0</td>\n",
       "      <td>Handbags &amp; Access</td>\n",
       "    </tr>\n",
       "    <tr>\n",
       "      <th>2</th>\n",
       "      <td>126412.0</td>\n",
       "      <td>SIDE BOW GLOVE  Y0</td>\n",
       "      <td>Handbags &amp; Access</td>\n",
       "    </tr>\n",
       "  </tbody>\n",
       "</table>\n",
       "</div>"
      ],
      "text/plain": [
       "        SKU            Description Category Description\n",
       "0  122451.0    CURVE BOW GLOVE  A4    Handbags & Access\n",
       "1  124549.0  PIPED DRIVING GLO  F0    Handbags & Access\n",
       "2  126412.0     SIDE BOW GLOVE  Y0    Handbags & Access"
      ]
     },
     "execution_count": 8,
     "metadata": {},
     "output_type": "execute_result"
    }
   ],
   "source": [
    "skv.head(3)"
   ]
  },
  {
   "cell_type": "code",
   "execution_count": 9,
   "metadata": {},
   "outputs": [
    {
     "data": {
      "text/html": [
       "<div>\n",
       "<style>\n",
       "    .dataframe thead tr:only-child th {\n",
       "        text-align: right;\n",
       "    }\n",
       "\n",
       "    .dataframe thead th {\n",
       "        text-align: left;\n",
       "    }\n",
       "\n",
       "    .dataframe tbody tr th {\n",
       "        vertical-align: top;\n",
       "    }\n",
       "</style>\n",
       "<table border=\"1\" class=\"dataframe\">\n",
       "  <thead>\n",
       "    <tr style=\"text-align: right;\">\n",
       "      <th></th>\n",
       "      <th>User id</th>\n",
       "      <th>Age</th>\n",
       "    </tr>\n",
       "  </thead>\n",
       "  <tbody>\n",
       "    <tr>\n",
       "      <th>0</th>\n",
       "      <td>CF96A4F</td>\n",
       "      <td>25</td>\n",
       "    </tr>\n",
       "    <tr>\n",
       "      <th>1</th>\n",
       "      <td>2A95F376</td>\n",
       "      <td>49</td>\n",
       "    </tr>\n",
       "    <tr>\n",
       "      <th>2</th>\n",
       "      <td>2C68D6D0</td>\n",
       "      <td>47</td>\n",
       "    </tr>\n",
       "  </tbody>\n",
       "</table>\n",
       "</div>"
      ],
      "text/plain": [
       "    User id  Age\n",
       "0   CF96A4F   25\n",
       "1  2A95F376   49\n",
       "2  2C68D6D0   47"
      ]
     },
     "execution_count": 9,
     "metadata": {},
     "output_type": "execute_result"
    }
   ],
   "source": [
    "userid.head(3)"
   ]
  },
  {
   "cell_type": "code",
   "execution_count": 10,
   "metadata": {},
   "outputs": [
    {
     "data": {
      "text/plain": [
       "(3607, 3)"
      ]
     },
     "execution_count": 10,
     "metadata": {},
     "output_type": "execute_result"
    }
   ],
   "source": [
    "purchase.shape"
   ]
  },
  {
   "cell_type": "code",
   "execution_count": 11,
   "metadata": {},
   "outputs": [
    {
     "data": {
      "text/plain": [
       "(5826, 3)"
      ]
     },
     "execution_count": 11,
     "metadata": {},
     "output_type": "execute_result"
    }
   ],
   "source": [
    "browse.shape"
   ]
  },
  {
   "cell_type": "code",
   "execution_count": 12,
   "metadata": {},
   "outputs": [
    {
     "data": {
      "text/plain": [
       "(256, 3)"
      ]
     },
     "execution_count": 12,
     "metadata": {},
     "output_type": "execute_result"
    }
   ],
   "source": [
    "skv.shape"
   ]
  },
  {
   "cell_type": "code",
   "execution_count": 13,
   "metadata": {},
   "outputs": [
    {
     "data": {
      "text/plain": [
       "(1199, 2)"
      ]
     },
     "execution_count": 13,
     "metadata": {},
     "output_type": "execute_result"
    }
   ],
   "source": [
    "userid.shape"
   ]
  },
  {
   "cell_type": "markdown",
   "metadata": {},
   "source": [
    "Merge the data based on user profiles and what have purchased and browsed"
   ]
  },
  {
   "cell_type": "code",
   "execution_count": 14,
   "metadata": {
    "collapsed": true
   },
   "outputs": [],
   "source": [
    "purchase_behaviour = pd.merge(purchase, skv, on='SKU')"
   ]
  },
  {
   "cell_type": "code",
   "execution_count": 15,
   "metadata": {},
   "outputs": [
    {
     "data": {
      "text/html": [
       "<div>\n",
       "<style>\n",
       "    .dataframe thead tr:only-child th {\n",
       "        text-align: right;\n",
       "    }\n",
       "\n",
       "    .dataframe thead th {\n",
       "        text-align: left;\n",
       "    }\n",
       "\n",
       "    .dataframe tbody tr th {\n",
       "        vertical-align: top;\n",
       "    }\n",
       "</style>\n",
       "<table border=\"1\" class=\"dataframe\">\n",
       "  <thead>\n",
       "    <tr style=\"text-align: right;\">\n",
       "      <th></th>\n",
       "      <th>User Id</th>\n",
       "      <th>Date</th>\n",
       "      <th>SKU</th>\n",
       "      <th>Description</th>\n",
       "      <th>Category Description</th>\n",
       "    </tr>\n",
       "  </thead>\n",
       "  <tbody>\n",
       "    <tr>\n",
       "      <th>0</th>\n",
       "      <td>311DBC84</td>\n",
       "      <td>10/11/2017</td>\n",
       "      <td>178394</td>\n",
       "      <td>ASHMILLON GLOVE A0, 1SIZE</td>\n",
       "      <td>Handbags &amp; Access</td>\n",
       "    </tr>\n",
       "    <tr>\n",
       "      <th>1</th>\n",
       "      <td>26C2EE87</td>\n",
       "      <td>12/2/2017</td>\n",
       "      <td>178394</td>\n",
       "      <td>ASHMILLON GLOVE A0, 1SIZE</td>\n",
       "      <td>Handbags &amp; Access</td>\n",
       "    </tr>\n",
       "    <tr>\n",
       "      <th>2</th>\n",
       "      <td>26A00E7F</td>\n",
       "      <td>11/29/2017</td>\n",
       "      <td>178394</td>\n",
       "      <td>ASHMILLON GLOVE A0, 1SIZE</td>\n",
       "      <td>Handbags &amp; Access</td>\n",
       "    </tr>\n",
       "  </tbody>\n",
       "</table>\n",
       "</div>"
      ],
      "text/plain": [
       "    User Id        Date     SKU                Description  \\\n",
       "0  311DBC84  10/11/2017  178394  ASHMILLON GLOVE A0, 1SIZE   \n",
       "1  26C2EE87   12/2/2017  178394  ASHMILLON GLOVE A0, 1SIZE   \n",
       "2  26A00E7F  11/29/2017  178394  ASHMILLON GLOVE A0, 1SIZE   \n",
       "\n",
       "  Category Description  \n",
       "0    Handbags & Access  \n",
       "1    Handbags & Access  \n",
       "2    Handbags & Access  "
      ]
     },
     "execution_count": 15,
     "metadata": {},
     "output_type": "execute_result"
    }
   ],
   "source": [
    "purchase_behaviour.head(3)"
   ]
  },
  {
   "cell_type": "code",
   "execution_count": 16,
   "metadata": {},
   "outputs": [
    {
     "data": {
      "text/plain": [
       "(3607, 5)"
      ]
     },
     "execution_count": 16,
     "metadata": {},
     "output_type": "execute_result"
    }
   ],
   "source": [
    "purchase_behaviour.shape"
   ]
  },
  {
   "cell_type": "code",
   "execution_count": 17,
   "metadata": {
    "collapsed": true
   },
   "outputs": [],
   "source": [
    "userid['User Id'] = userid['User id']\n",
    "del userid['User id']"
   ]
  },
  {
   "cell_type": "code",
   "execution_count": 18,
   "metadata": {
    "collapsed": true
   },
   "outputs": [],
   "source": [
    "purchase_behaviour = pd.merge(purchase_behaviour, userid, on='User Id')"
   ]
  },
  {
   "cell_type": "markdown",
   "metadata": {},
   "source": [
    "Now we have complete data at one point, with all user information and his purchase history"
   ]
  },
  {
   "cell_type": "code",
   "execution_count": 19,
   "metadata": {},
   "outputs": [
    {
     "data": {
      "text/html": [
       "<div>\n",
       "<style>\n",
       "    .dataframe thead tr:only-child th {\n",
       "        text-align: right;\n",
       "    }\n",
       "\n",
       "    .dataframe thead th {\n",
       "        text-align: left;\n",
       "    }\n",
       "\n",
       "    .dataframe tbody tr th {\n",
       "        vertical-align: top;\n",
       "    }\n",
       "</style>\n",
       "<table border=\"1\" class=\"dataframe\">\n",
       "  <thead>\n",
       "    <tr style=\"text-align: right;\">\n",
       "      <th></th>\n",
       "      <th>User Id</th>\n",
       "      <th>Date</th>\n",
       "      <th>SKU</th>\n",
       "      <th>Description</th>\n",
       "      <th>Category Description</th>\n",
       "      <th>Age</th>\n",
       "    </tr>\n",
       "  </thead>\n",
       "  <tbody>\n",
       "    <tr>\n",
       "      <th>0</th>\n",
       "      <td>311DBC84</td>\n",
       "      <td>10/11/2017</td>\n",
       "      <td>178394</td>\n",
       "      <td>ASHMILLON GLOVE A0, 1SIZE</td>\n",
       "      <td>Handbags &amp; Access</td>\n",
       "      <td>48</td>\n",
       "    </tr>\n",
       "    <tr>\n",
       "      <th>1</th>\n",
       "      <td>311DBC84</td>\n",
       "      <td>11/11/2017</td>\n",
       "      <td>141740</td>\n",
       "      <td>OV PLAIN LEATHER  VZ</td>\n",
       "      <td>Handbags &amp; Access</td>\n",
       "      <td>48</td>\n",
       "    </tr>\n",
       "    <tr>\n",
       "      <th>2</th>\n",
       "      <td>26C2EE87</td>\n",
       "      <td>12/2/2017</td>\n",
       "      <td>178394</td>\n",
       "      <td>ASHMILLON GLOVE A0, 1SIZE</td>\n",
       "      <td>Handbags &amp; Access</td>\n",
       "      <td>25</td>\n",
       "    </tr>\n",
       "    <tr>\n",
       "      <th>3</th>\n",
       "      <td>26C2EE87</td>\n",
       "      <td>12/10/2017</td>\n",
       "      <td>186796</td>\n",
       "      <td>MIMOSA PRINT BANG  N4</td>\n",
       "      <td>Jewellery</td>\n",
       "      <td>25</td>\n",
       "    </tr>\n",
       "    <tr>\n",
       "      <th>4</th>\n",
       "      <td>26C2EE87</td>\n",
       "      <td>10/28/2017</td>\n",
       "      <td>135119</td>\n",
       "      <td>PATENT CHARM GLOV  Y4</td>\n",
       "      <td>Handbags &amp; Access</td>\n",
       "      <td>25</td>\n",
       "    </tr>\n",
       "  </tbody>\n",
       "</table>\n",
       "</div>"
      ],
      "text/plain": [
       "    User Id        Date     SKU                Description  \\\n",
       "0  311DBC84  10/11/2017  178394  ASHMILLON GLOVE A0, 1SIZE   \n",
       "1  311DBC84  11/11/2017  141740       OV PLAIN LEATHER  VZ   \n",
       "2  26C2EE87   12/2/2017  178394  ASHMILLON GLOVE A0, 1SIZE   \n",
       "3  26C2EE87  12/10/2017  186796      MIMOSA PRINT BANG  N4   \n",
       "4  26C2EE87  10/28/2017  135119      PATENT CHARM GLOV  Y4   \n",
       "\n",
       "  Category Description  Age  \n",
       "0    Handbags & Access   48  \n",
       "1    Handbags & Access   48  \n",
       "2    Handbags & Access   25  \n",
       "3            Jewellery   25  \n",
       "4    Handbags & Access   25  "
      ]
     },
     "execution_count": 19,
     "metadata": {},
     "output_type": "execute_result"
    }
   ],
   "source": [
    "purchase_behaviour.head()"
   ]
  },
  {
   "cell_type": "code",
   "execution_count": 20,
   "metadata": {},
   "outputs": [
    {
     "data": {
      "text/html": [
       "<div>\n",
       "<style>\n",
       "    .dataframe thead tr:only-child th {\n",
       "        text-align: right;\n",
       "    }\n",
       "\n",
       "    .dataframe thead th {\n",
       "        text-align: left;\n",
       "    }\n",
       "\n",
       "    .dataframe tbody tr th {\n",
       "        vertical-align: top;\n",
       "    }\n",
       "</style>\n",
       "<table border=\"1\" class=\"dataframe\">\n",
       "  <thead>\n",
       "    <tr style=\"text-align: right;\">\n",
       "      <th></th>\n",
       "      <th>User Id</th>\n",
       "      <th>Date</th>\n",
       "      <th>SKU</th>\n",
       "      <th>Description</th>\n",
       "      <th>Category Description</th>\n",
       "      <th>Age</th>\n",
       "    </tr>\n",
       "  </thead>\n",
       "  <tbody>\n",
       "    <tr>\n",
       "      <th>3602</th>\n",
       "      <td>18028E1D</td>\n",
       "      <td>12/22/2017</td>\n",
       "      <td>172185</td>\n",
       "      <td>BOBBLE SCARF F4</td>\n",
       "      <td>Handbags &amp; Access</td>\n",
       "      <td>24</td>\n",
       "    </tr>\n",
       "    <tr>\n",
       "      <th>3603</th>\n",
       "      <td>2A34B4F2</td>\n",
       "      <td>10/7/2017</td>\n",
       "      <td>172185</td>\n",
       "      <td>BOBBLE SCARF F4</td>\n",
       "      <td>Handbags &amp; Access</td>\n",
       "      <td>53</td>\n",
       "    </tr>\n",
       "    <tr>\n",
       "      <th>3604</th>\n",
       "      <td>265F7284</td>\n",
       "      <td>8/17/2017</td>\n",
       "      <td>172185</td>\n",
       "      <td>BOBBLE SCARF F4</td>\n",
       "      <td>Handbags &amp; Access</td>\n",
       "      <td>31</td>\n",
       "    </tr>\n",
       "    <tr>\n",
       "      <th>3605</th>\n",
       "      <td>1C3B081D</td>\n",
       "      <td>8/22/2017</td>\n",
       "      <td>219484</td>\n",
       "      <td>SPECKLE WOOD BANG  R8</td>\n",
       "      <td>Jewellery</td>\n",
       "      <td>25</td>\n",
       "    </tr>\n",
       "    <tr>\n",
       "      <th>3606</th>\n",
       "      <td>9C4465D</td>\n",
       "      <td>10/14/2017</td>\n",
       "      <td>219484</td>\n",
       "      <td>SPECKLE WOOD BANG  R8</td>\n",
       "      <td>Jewellery</td>\n",
       "      <td>26</td>\n",
       "    </tr>\n",
       "  </tbody>\n",
       "</table>\n",
       "</div>"
      ],
      "text/plain": [
       "       User Id        Date     SKU            Description  \\\n",
       "3602  18028E1D  12/22/2017  172185        BOBBLE SCARF F4   \n",
       "3603  2A34B4F2   10/7/2017  172185        BOBBLE SCARF F4   \n",
       "3604  265F7284   8/17/2017  172185        BOBBLE SCARF F4   \n",
       "3605  1C3B081D   8/22/2017  219484  SPECKLE WOOD BANG  R8   \n",
       "3606   9C4465D  10/14/2017  219484  SPECKLE WOOD BANG  R8   \n",
       "\n",
       "     Category Description  Age  \n",
       "3602    Handbags & Access   24  \n",
       "3603    Handbags & Access   53  \n",
       "3604    Handbags & Access   31  \n",
       "3605            Jewellery   25  \n",
       "3606            Jewellery   26  "
      ]
     },
     "execution_count": 20,
     "metadata": {},
     "output_type": "execute_result"
    }
   ],
   "source": [
    "purchase_behaviour.tail()"
   ]
  },
  {
   "cell_type": "code",
   "execution_count": 21,
   "metadata": {},
   "outputs": [
    {
     "data": {
      "text/plain": [
       "User Id                 0\n",
       "Date                    0\n",
       "SKU                     0\n",
       "Description             0\n",
       "Category Description    0\n",
       "Age                     0\n",
       "dtype: int64"
      ]
     },
     "execution_count": 21,
     "metadata": {},
     "output_type": "execute_result"
    }
   ],
   "source": [
    "#Check for Null Values\n",
    "purchase_behaviour.apply(lambda x : sum(x.isnull()))"
   ]
  },
  {
   "cell_type": "code",
   "execution_count": 22,
   "metadata": {},
   "outputs": [
    {
     "data": {
      "text/plain": [
       "User Id                 1137\n",
       "Date                     153\n",
       "SKU                       80\n",
       "Description               80\n",
       "Category Description       2\n",
       "Age                       36\n",
       "dtype: int64"
      ]
     },
     "execution_count": 22,
     "metadata": {},
     "output_type": "execute_result"
    }
   ],
   "source": [
    "#check for unique/Categorical values in the data\n",
    "purchase_behaviour.apply(lambda x : len(x.unique()))"
   ]
  },
  {
   "cell_type": "code",
   "execution_count": null,
   "metadata": {
    "collapsed": true
   },
   "outputs": [],
   "source": []
  },
  {
   "cell_type": "markdown",
   "metadata": {},
   "source": [
    "Now merge same with browsing data, bring all browser , product and user information"
   ]
  },
  {
   "cell_type": "code",
   "execution_count": 23,
   "metadata": {
    "collapsed": true
   },
   "outputs": [],
   "source": [
    "browse_behaviour = pd.merge(browse, skv, on='SKU')"
   ]
  },
  {
   "cell_type": "code",
   "execution_count": 24,
   "metadata": {},
   "outputs": [
    {
     "data": {
      "text/html": [
       "<div>\n",
       "<style>\n",
       "    .dataframe thead tr:only-child th {\n",
       "        text-align: right;\n",
       "    }\n",
       "\n",
       "    .dataframe thead th {\n",
       "        text-align: left;\n",
       "    }\n",
       "\n",
       "    .dataframe tbody tr th {\n",
       "        vertical-align: top;\n",
       "    }\n",
       "</style>\n",
       "<table border=\"1\" class=\"dataframe\">\n",
       "  <thead>\n",
       "    <tr style=\"text-align: right;\">\n",
       "      <th></th>\n",
       "      <th>User ID</th>\n",
       "      <th>Date</th>\n",
       "      <th>SKU</th>\n",
       "      <th>Description</th>\n",
       "      <th>Category Description</th>\n",
       "    </tr>\n",
       "  </thead>\n",
       "  <tbody>\n",
       "    <tr>\n",
       "      <th>0</th>\n",
       "      <td>264BCFBA</td>\n",
       "      <td>12/24/2017</td>\n",
       "      <td>302445</td>\n",
       "      <td>COLORADO LRG RC  NP</td>\n",
       "      <td>Luggage</td>\n",
       "    </tr>\n",
       "    <tr>\n",
       "      <th>1</th>\n",
       "      <td>423BED3</td>\n",
       "      <td>12/3/2017</td>\n",
       "      <td>302445</td>\n",
       "      <td>COLORADO LRG RC  NP</td>\n",
       "      <td>Luggage</td>\n",
       "    </tr>\n",
       "    <tr>\n",
       "      <th>2</th>\n",
       "      <td>3D37D85</td>\n",
       "      <td>11/24/2017</td>\n",
       "      <td>302445</td>\n",
       "      <td>COLORADO LRG RC  NP</td>\n",
       "      <td>Luggage</td>\n",
       "    </tr>\n",
       "  </tbody>\n",
       "</table>\n",
       "</div>"
      ],
      "text/plain": [
       "    User ID        Date     SKU          Description Category Description\n",
       "0  264BCFBA  12/24/2017  302445  COLORADO LRG RC  NP              Luggage\n",
       "1   423BED3   12/3/2017  302445  COLORADO LRG RC  NP              Luggage\n",
       "2   3D37D85  11/24/2017  302445  COLORADO LRG RC  NP              Luggage"
      ]
     },
     "execution_count": 24,
     "metadata": {},
     "output_type": "execute_result"
    }
   ],
   "source": [
    "browse_behaviour.head(3)"
   ]
  },
  {
   "cell_type": "code",
   "execution_count": 25,
   "metadata": {
    "collapsed": true
   },
   "outputs": [],
   "source": [
    "browse_behaviour['User Id'] = browse_behaviour['User ID']\n",
    "del browse_behaviour['User ID']"
   ]
  },
  {
   "cell_type": "code",
   "execution_count": 26,
   "metadata": {
    "collapsed": true
   },
   "outputs": [],
   "source": [
    "browse_behaviour = pd.merge(browse_behaviour, userid, on='User Id')"
   ]
  },
  {
   "cell_type": "code",
   "execution_count": 27,
   "metadata": {},
   "outputs": [
    {
     "data": {
      "text/html": [
       "<div>\n",
       "<style>\n",
       "    .dataframe thead tr:only-child th {\n",
       "        text-align: right;\n",
       "    }\n",
       "\n",
       "    .dataframe thead th {\n",
       "        text-align: left;\n",
       "    }\n",
       "\n",
       "    .dataframe tbody tr th {\n",
       "        vertical-align: top;\n",
       "    }\n",
       "</style>\n",
       "<table border=\"1\" class=\"dataframe\">\n",
       "  <thead>\n",
       "    <tr style=\"text-align: right;\">\n",
       "      <th></th>\n",
       "      <th>Date</th>\n",
       "      <th>SKU</th>\n",
       "      <th>Description</th>\n",
       "      <th>Category Description</th>\n",
       "      <th>User Id</th>\n",
       "      <th>Age</th>\n",
       "    </tr>\n",
       "  </thead>\n",
       "  <tbody>\n",
       "    <tr>\n",
       "      <th>0</th>\n",
       "      <td>12/24/2017</td>\n",
       "      <td>302445</td>\n",
       "      <td>COLORADO LRG RC  NP</td>\n",
       "      <td>Luggage</td>\n",
       "      <td>264BCFBA</td>\n",
       "      <td>20</td>\n",
       "    </tr>\n",
       "    <tr>\n",
       "      <th>1</th>\n",
       "      <td>12/6/2017</td>\n",
       "      <td>303791</td>\n",
       "      <td>SCORPIUS LRG R  WL</td>\n",
       "      <td>Luggage</td>\n",
       "      <td>264BCFBA</td>\n",
       "      <td>20</td>\n",
       "    </tr>\n",
       "    <tr>\n",
       "      <th>2</th>\n",
       "      <td>11/16/2017</td>\n",
       "      <td>200573</td>\n",
       "      <td>ZIG ZAG BANGLE  J4</td>\n",
       "      <td>Jewellery</td>\n",
       "      <td>264BCFBA</td>\n",
       "      <td>20</td>\n",
       "    </tr>\n",
       "  </tbody>\n",
       "</table>\n",
       "</div>"
      ],
      "text/plain": [
       "         Date     SKU          Description Category Description   User Id  Age\n",
       "0  12/24/2017  302445  COLORADO LRG RC  NP              Luggage  264BCFBA   20\n",
       "1   12/6/2017  303791   SCORPIUS LRG R  WL              Luggage  264BCFBA   20\n",
       "2  11/16/2017  200573   ZIG ZAG BANGLE  J4            Jewellery  264BCFBA   20"
      ]
     },
     "execution_count": 27,
     "metadata": {},
     "output_type": "execute_result"
    }
   ],
   "source": [
    "browse_behaviour.head(3)"
   ]
  },
  {
   "cell_type": "code",
   "execution_count": 28,
   "metadata": {},
   "outputs": [
    {
     "data": {
      "text/html": [
       "<div>\n",
       "<style>\n",
       "    .dataframe thead tr:only-child th {\n",
       "        text-align: right;\n",
       "    }\n",
       "\n",
       "    .dataframe thead th {\n",
       "        text-align: left;\n",
       "    }\n",
       "\n",
       "    .dataframe tbody tr th {\n",
       "        vertical-align: top;\n",
       "    }\n",
       "</style>\n",
       "<table border=\"1\" class=\"dataframe\">\n",
       "  <thead>\n",
       "    <tr style=\"text-align: right;\">\n",
       "      <th></th>\n",
       "      <th>User Id</th>\n",
       "      <th>Date</th>\n",
       "      <th>SKU</th>\n",
       "      <th>Description</th>\n",
       "      <th>Category Description</th>\n",
       "      <th>Age</th>\n",
       "    </tr>\n",
       "  </thead>\n",
       "  <tbody>\n",
       "    <tr>\n",
       "      <th>0</th>\n",
       "      <td>311DBC84</td>\n",
       "      <td>10/11/2017</td>\n",
       "      <td>178394</td>\n",
       "      <td>ASHMILLON GLOVE A0, 1SIZE</td>\n",
       "      <td>Handbags &amp; Access</td>\n",
       "      <td>48</td>\n",
       "    </tr>\n",
       "    <tr>\n",
       "      <th>1</th>\n",
       "      <td>311DBC84</td>\n",
       "      <td>11/11/2017</td>\n",
       "      <td>141740</td>\n",
       "      <td>OV PLAIN LEATHER  VZ</td>\n",
       "      <td>Handbags &amp; Access</td>\n",
       "      <td>48</td>\n",
       "    </tr>\n",
       "    <tr>\n",
       "      <th>2</th>\n",
       "      <td>26C2EE87</td>\n",
       "      <td>12/2/2017</td>\n",
       "      <td>178394</td>\n",
       "      <td>ASHMILLON GLOVE A0, 1SIZE</td>\n",
       "      <td>Handbags &amp; Access</td>\n",
       "      <td>25</td>\n",
       "    </tr>\n",
       "  </tbody>\n",
       "</table>\n",
       "</div>"
      ],
      "text/plain": [
       "    User Id        Date     SKU                Description  \\\n",
       "0  311DBC84  10/11/2017  178394  ASHMILLON GLOVE A0, 1SIZE   \n",
       "1  311DBC84  11/11/2017  141740       OV PLAIN LEATHER  VZ   \n",
       "2  26C2EE87   12/2/2017  178394  ASHMILLON GLOVE A0, 1SIZE   \n",
       "\n",
       "  Category Description  Age  \n",
       "0    Handbags & Access   48  \n",
       "1    Handbags & Access   48  \n",
       "2    Handbags & Access   25  "
      ]
     },
     "execution_count": 28,
     "metadata": {},
     "output_type": "execute_result"
    }
   ],
   "source": [
    "purchase_behaviour.head(3)"
   ]
  },
  {
   "cell_type": "code",
   "execution_count": 29,
   "metadata": {},
   "outputs": [
    {
     "data": {
      "text/plain": [
       "Date                    0\n",
       "SKU                     0\n",
       "Description             0\n",
       "Category Description    0\n",
       "User Id                 0\n",
       "Age                     0\n",
       "dtype: int64"
      ]
     },
     "execution_count": 29,
     "metadata": {},
     "output_type": "execute_result"
    }
   ],
   "source": [
    "#Check for Null Values\n",
    "browse_behaviour.apply(lambda x : sum(x.isnull()))"
   ]
  },
  {
   "cell_type": "code",
   "execution_count": 30,
   "metadata": {},
   "outputs": [
    {
     "data": {
      "text/plain": [
       "Date                      61\n",
       "SKU                      144\n",
       "Description              144\n",
       "Category Description       3\n",
       "User Id                 1186\n",
       "Age                       36\n",
       "dtype: int64"
      ]
     },
     "execution_count": 30,
     "metadata": {},
     "output_type": "execute_result"
    }
   ],
   "source": [
    "#check for unique/Categorical values in the data\n",
    "browse_behaviour.apply(lambda x : len(x.unique()))"
   ]
  },
  {
   "cell_type": "code",
   "execution_count": 31,
   "metadata": {},
   "outputs": [
    {
     "name": "stdout",
     "output_type": "stream",
     "text": [
      "(3607, 6)\n",
      "(5826, 6)\n"
     ]
    }
   ],
   "source": [
    "print(purchase_behaviour.shape)\n",
    "print(browse_behaviour.shape)"
   ]
  },
  {
   "cell_type": "code",
   "execution_count": 32,
   "metadata": {
    "collapsed": true
   },
   "outputs": [],
   "source": [
    "#purchase_behaviour.to_csv(\"purchase_behaviour.csv\", index = False)\n",
    "#browse_behaviour.to_csv(\"browse_behaviour.csv\", index = False)"
   ]
  },
  {
   "cell_type": "code",
   "execution_count": null,
   "metadata": {
    "collapsed": true
   },
   "outputs": [],
   "source": []
  },
  {
   "cell_type": "markdown",
   "metadata": {},
   "source": [
    "\n",
    "\n",
    "Case1: If the product is purchased we recommed similar product not the same product.\n",
    "\n",
    "Case2: Person has browsed the product and Bought the product then also we recommend the similar products\n",
    "\n",
    "Case3: Person has browsed and didn't buy the product, we recommend the same product with similar products."
   ]
  },
  {
   "cell_type": "code",
   "execution_count": null,
   "metadata": {
    "collapsed": true
   },
   "outputs": [],
   "source": []
  },
  {
   "cell_type": "markdown",
   "metadata": {},
   "source": [
    "There are different recommendations that we can show the users"
   ]
  },
  {
   "cell_type": "markdown",
   "metadata": {},
   "source": [
    "# Popularity Based Model"
   ]
  },
  {
   "cell_type": "markdown",
   "metadata": {},
   "source": [
    "1. Recommending the items which most of the users are buying"
   ]
  },
  {
   "cell_type": "code",
   "execution_count": 33,
   "metadata": {},
   "outputs": [
    {
     "name": "stdout",
     "output_type": "stream",
     "text": [
      "There are 80 unique items\n"
     ]
    },
    {
     "data": {
      "image/png": "[encoded data removed]",
      "text/plain": [
       "<matplotlib.figure.Figure at 0xb837050>"
      ]
     },
     "metadata": {},
     "output_type": "display_data"
    },
    {
     "name": "stdout",
     "output_type": "stream",
     "text": [
      "FACETED DUO BANGL  SZ      60\n",
      "LEATHER GLOVE  J0          57\n",
      "SPECKLED BANGLE  N4        56\n",
      "MEDINA KIMONO SV, 1SIZE    55\n",
      "MIDAS TOUCH BANGL  ZZ      55\n",
      "LEATHER GLOVE  KN          55\n",
      "LEATHER GLOVE  IE          54\n",
      "OV PLAIN LEATHER  VZ       53\n",
      "ASHMILLON SCARF B0         53\n",
      "LEATHER GLOVE  S0          52\n",
      "ASHMILLON SCARF Y0         52\n",
      "Name: Description, dtype: int64\n"
     ]
    }
   ],
   "source": [
    "#Top brands\n",
    "popularity_counts = purchase_behaviour[\"Description\"].value_counts()\n",
    "print(\"There are\", popularity_counts.size, \"unique items\")\n",
    "#\n",
    "plt.figure(figsize = (10, 10))\n",
    "sns.barplot(popularity_counts[0:11].values, popularity_counts[0:11].index)\n",
    "plt.title(\"Top 10 items in the store\")\n",
    "plt.show()\n",
    "print(popularity_counts[0:11])"
   ]
  },
  {
   "cell_type": "code",
   "execution_count": null,
   "metadata": {
    "collapsed": true
   },
   "outputs": [],
   "source": []
  },
  {
   "cell_type": "markdown",
   "metadata": {},
   "source": [
    "# Content Based Model : Relationship between the Products"
   ]
  },
  {
   "cell_type": "markdown",
   "metadata": {},
   "source": [
    "2. In this approach, we analyse the product details,\n",
    "\n",
    "Here the only information we know about the product is its (Description and its product Category)\n",
    "\n",
    "So, now we analyse the text description given using NLP, TF-IDF and check how similar two prodcuts are\n",
    "\n",
    "\n",
    "\n",
    "Note: If we can know more information about the product like( color, size, category, Male/female product etc..) we can do more product analysis"
   ]
  },
  {
   "cell_type": "code",
   "execution_count": 34,
   "metadata": {
    "collapsed": true
   },
   "outputs": [],
   "source": [
    "#Import TfIdfVectorizer from scikit-learn\n",
    "from sklearn.feature_extraction.text import TfidfVectorizer"
   ]
  },
  {
   "cell_type": "code",
   "execution_count": 35,
   "metadata": {
    "collapsed": true
   },
   "outputs": [],
   "source": [
    "metadata = purchase_behaviour.copy()"
   ]
  },
  {
   "cell_type": "code",
   "execution_count": 36,
   "metadata": {},
   "outputs": [
    {
     "data": {
      "text/plain": [
       "Index(['User Id', 'Date', 'SKU', 'Description', 'Category Description', 'Age'], dtype='object')"
      ]
     },
     "execution_count": 36,
     "metadata": {},
     "output_type": "execute_result"
    }
   ],
   "source": [
    "metadata.columns"
   ]
  },
  {
   "cell_type": "code",
   "execution_count": 37,
   "metadata": {
    "collapsed": true
   },
   "outputs": [],
   "source": [
    "#Replace NaN with an empty string\n",
    "metadata['Description'] = metadata['Description'].fillna('')"
   ]
  },
  {
   "cell_type": "code",
   "execution_count": 38,
   "metadata": {},
   "outputs": [
    {
     "data": {
      "text/plain": [
       "(80, 115)"
      ]
     },
     "execution_count": 38,
     "metadata": {},
     "output_type": "execute_result"
    }
   ],
   "source": [
    "tfidf = TfidfVectorizer()\n",
    "\n",
    "#Construct the required TF-IDF matrix by fitting and transforming the data\n",
    "tfidf_matrix = tfidf.fit_transform(metadata['Description'].drop_duplicates())\n",
    "\n",
    "#Output the shape of tfidf_matrix\n",
    "tfidf_matrix.shape"
   ]
  },
  {
   "cell_type": "code",
   "execution_count": 39,
   "metadata": {
    "collapsed": true
   },
   "outputs": [],
   "source": [
    "# Import linear_kernel\n",
    "from sklearn.metrics.pairwise import linear_kernel\n",
    "\n",
    "# Compute the cosine similarity matrix\n",
    "cosine_sim = linear_kernel(tfidf_matrix, tfidf_matrix)"
   ]
  },
  {
   "cell_type": "code",
   "execution_count": 40,
   "metadata": {
    "collapsed": true
   },
   "outputs": [],
   "source": [
    "#Construct a reverse map of indices and Product titles\n",
    "indices = pd.Series(metadata.index, index=metadata['Description']).drop_duplicates()"
   ]
  },
  {
   "cell_type": "code",
   "execution_count": 41,
   "metadata": {},
   "outputs": [
    {
     "data": {
      "text/plain": [
       "<bound method Series.drop_duplicates of Description\n",
       "ASHMILLON GLOVE A0, 1SIZE       0\n",
       "OV PLAIN LEATHER  VZ            1\n",
       "ASHMILLON GLOVE A0, 1SIZE       2\n",
       "MIMOSA PRINT BANG  N4           3\n",
       "PATENT CHARM GLOV  Y4           4\n",
       "INCA STACKERS  H6               5\n",
       "ASHMILLON BERET A0, 1SIZE       6\n",
       "ASHMILLON GLOVE A0, 1SIZE       7\n",
       "MEDINA KIMONO SV                8\n",
       "CASHMERE STRIPE F4              9\n",
       "ANIMAL BANGLE  N4              10\n",
       "ASHMILLON GLOVE A0, 1SIZE      11\n",
       "CASHMERE STRIPE A4, 1SIZE      12\n",
       "ASHMILLON GLOVE A0, 1SIZE      13\n",
       "MIMOSA PRINT BANG  N4          14\n",
       "LEATHER GLOVE  SH              15\n",
       "SIDE BOW GLOVE  Y0             16\n",
       "ASHMILLON GLOVE A0, 1SIZE      17\n",
       "OV PLAIN LEATHER  B0           18\n",
       "ASHMILLON GLOVE A0, 1SIZE      19\n",
       "MEDINA KIMONO SV, 1SIZE        20\n",
       "ASHMILLON GLOVE A0, 1SIZE      21\n",
       "ASHMILLON BERET A0             22\n",
       "ASHMILLON GLOVE A0, 1SIZE      23\n",
       "ASHMILLON SCARF B0             24\n",
       "ASHMILLON SCARF Y0             25\n",
       "ANIMAL BUCKLE GLO  SH          26\n",
       "ASHMILLON GLOVE A0, 1SIZE      27\n",
       "CASHMERE STRIPE A4             28\n",
       "FACETED DUO BANGL  Y4          29\n",
       "                             ... \n",
       "FLORAL RING  Y4              3577\n",
       "FLORAL RING  Y4              3578\n",
       "ZIG ZAG BANGLE  J4           3579\n",
       "LEATHER GLOVE  JX            3580\n",
       "SPECKLE WOOD BANG  R8        3581\n",
       "LEATHER GLOVE  JX            3582\n",
       "LEATHER GLOVE  JX            3583\n",
       "ZIG ZAG BANGLE  J4           3584\n",
       "LEATHER GLOVE  JX            3585\n",
       "SPECKLE WOOD BANG  R8        3586\n",
       "ASHMILLON GLOVE A0           3587\n",
       "ASHMILLON GLOVE A0           3588\n",
       "ASHMILLON GLOVE A0           3589\n",
       "ANIMAL BANGLE  N4            3590\n",
       "ANIMAL BANGLE  N4            3591\n",
       "SPECKLE WOOD BANG  R8        3592\n",
       "ANIMAL BANGLE  N4            3593\n",
       "ANIMAL BANGLE  N4            3594\n",
       "ASHMILLON BERET A0           3595\n",
       "ASHMILLON BERET A0           3596\n",
       "ZIG ZAG BANGLE  J4           3597\n",
       "ZIG ZAG BANGLE  J4           3598\n",
       "ZIG ZAG BANGLE  J4           3599\n",
       "ZIG ZAG BANGLE  J4           3600\n",
       "ZIG ZAG BANGLE  J4           3601\n",
       "BOBBLE SCARF F4              3602\n",
       "BOBBLE SCARF F4              3603\n",
       "BOBBLE SCARF F4              3604\n",
       "SPECKLE WOOD BANG  R8        3605\n",
       "SPECKLE WOOD BANG  R8        3606\n",
       "Length: 3607, dtype: int64>"
      ]
     },
     "execution_count": 41,
     "metadata": {},
     "output_type": "execute_result"
    }
   ],
   "source": [
    "indices.drop_duplicates"
   ]
  },
  {
   "cell_type": "code",
   "execution_count": 336,
   "metadata": {
    "collapsed": true
   },
   "outputs": [],
   "source": [
    "# Function that takes in description as input and outputs most similar movies\n",
    "def get_recommendations(Description, cosine_sim=cosine_sim):\n",
    "    # Get the index of the movie that matches the title\n",
    "    full_idx = indices[Description]\n",
    "    full_idx = list(full_idx)\n",
    "    distance = len(full_idx)\n",
    "    idx = full_idx[0]\n",
    "\n",
    "    # Get the pairwsie similarity scores \n",
    "    sim_scores = list(enumerate(cosine_sim[idx]))\n",
    "\n",
    "    # Sort the products based on the similarity scores\n",
    "    sim_scores = sorted(sim_scores, key=lambda x: x[1], reverse=True)\n",
    "\n",
    "    # Get the scores of the 10 most similar products\n",
    "    sim_scores = sim_scores[0: 11]\n",
    "\n",
    "    # Get the product indices\n",
    "    m_indices = [i[0] for i in sim_scores]\n",
    "\n",
    "    # Return the top 10 most similar products\n",
    "    return metadata['Description'].iloc[m_indices]"
   ]
  },
  {
   "cell_type": "markdown",
   "metadata": {},
   "source": [
    "Now pass any product as input, it will recommend the similar products according to their description"
   ]
  },
  {
   "cell_type": "code",
   "execution_count": 45,
   "metadata": {},
   "outputs": [
    {
     "data": {
      "text/plain": [
       "53              FLORAL RING  Y4\n",
       "37            LEATHER GLOVE  KN\n",
       "11    ASHMILLON GLOVE A0, 1SIZE\n",
       "62        ANIMAL BUCKLE GLO  SH\n",
       "16           SIDE BOW GLOVE  Y0\n",
       "43           ZIG ZAG BANGLE  J4\n",
       "12    CASHMERE STRIPE A4, 1SIZE\n",
       "50    ASHMILLON GLOVE A0, 1SIZE\n",
       "23    ASHMILLON GLOVE A0, 1SIZE\n",
       "72    CASHMERE STRIPE A4, 1SIZE\n",
       "1          OV PLAIN LEATHER  VZ\n",
       "Name: Description, dtype: object"
      ]
     },
     "execution_count": 45,
     "metadata": {},
     "output_type": "execute_result"
    }
   ],
   "source": [
    "get_recommendations('FLORAL RING  Y4')"
   ]
  },
  {
   "cell_type": "code",
   "execution_count": null,
   "metadata": {
    "collapsed": true
   },
   "outputs": [],
   "source": []
  },
  {
   "cell_type": "markdown",
   "metadata": {},
   "source": [
    "Above we used only description, now we will use category information also to find how similar two products are"
   ]
  },
  {
   "cell_type": "code",
   "execution_count": 46,
   "metadata": {},
   "outputs": [
    {
     "data": {
      "text/html": [
       "<div>\n",
       "<style>\n",
       "    .dataframe thead tr:only-child th {\n",
       "        text-align: right;\n",
       "    }\n",
       "\n",
       "    .dataframe thead th {\n",
       "        text-align: left;\n",
       "    }\n",
       "\n",
       "    .dataframe tbody tr th {\n",
       "        vertical-align: top;\n",
       "    }\n",
       "</style>\n",
       "<table border=\"1\" class=\"dataframe\">\n",
       "  <thead>\n",
       "    <tr style=\"text-align: right;\">\n",
       "      <th></th>\n",
       "      <th>User Id</th>\n",
       "      <th>Date</th>\n",
       "      <th>SKU</th>\n",
       "      <th>Description</th>\n",
       "      <th>Category Description</th>\n",
       "      <th>Age</th>\n",
       "    </tr>\n",
       "  </thead>\n",
       "  <tbody>\n",
       "    <tr>\n",
       "      <th>0</th>\n",
       "      <td>311DBC84</td>\n",
       "      <td>10/11/2017</td>\n",
       "      <td>178394</td>\n",
       "      <td>ASHMILLON GLOVE A0, 1SIZE</td>\n",
       "      <td>Handbags &amp; Access</td>\n",
       "      <td>48</td>\n",
       "    </tr>\n",
       "    <tr>\n",
       "      <th>1</th>\n",
       "      <td>311DBC84</td>\n",
       "      <td>11/11/2017</td>\n",
       "      <td>141740</td>\n",
       "      <td>OV PLAIN LEATHER  VZ</td>\n",
       "      <td>Handbags &amp; Access</td>\n",
       "      <td>48</td>\n",
       "    </tr>\n",
       "  </tbody>\n",
       "</table>\n",
       "</div>"
      ],
      "text/plain": [
       "    User Id        Date     SKU                Description  \\\n",
       "0  311DBC84  10/11/2017  178394  ASHMILLON GLOVE A0, 1SIZE   \n",
       "1  311DBC84  11/11/2017  141740       OV PLAIN LEATHER  VZ   \n",
       "\n",
       "  Category Description  Age  \n",
       "0    Handbags & Access   48  \n",
       "1    Handbags & Access   48  "
      ]
     },
     "execution_count": 46,
     "metadata": {},
     "output_type": "execute_result"
    }
   ],
   "source": [
    "#2\n",
    "metadata.head(2)"
   ]
  },
  {
   "cell_type": "code",
   "execution_count": 47,
   "metadata": {
    "collapsed": true
   },
   "outputs": [],
   "source": [
    "metadata['info'] = metadata['Description'] + \" \" + metadata['Category Description']"
   ]
  },
  {
   "cell_type": "code",
   "execution_count": 48,
   "metadata": {},
   "outputs": [
    {
     "data": {
      "text/html": [
       "<div>\n",
       "<style>\n",
       "    .dataframe thead tr:only-child th {\n",
       "        text-align: right;\n",
       "    }\n",
       "\n",
       "    .dataframe thead th {\n",
       "        text-align: left;\n",
       "    }\n",
       "\n",
       "    .dataframe tbody tr th {\n",
       "        vertical-align: top;\n",
       "    }\n",
       "</style>\n",
       "<table border=\"1\" class=\"dataframe\">\n",
       "  <thead>\n",
       "    <tr style=\"text-align: right;\">\n",
       "      <th></th>\n",
       "      <th>User Id</th>\n",
       "      <th>Date</th>\n",
       "      <th>SKU</th>\n",
       "      <th>Description</th>\n",
       "      <th>Category Description</th>\n",
       "      <th>Age</th>\n",
       "      <th>info</th>\n",
       "    </tr>\n",
       "  </thead>\n",
       "  <tbody>\n",
       "    <tr>\n",
       "      <th>0</th>\n",
       "      <td>311DBC84</td>\n",
       "      <td>10/11/2017</td>\n",
       "      <td>178394</td>\n",
       "      <td>ASHMILLON GLOVE A0, 1SIZE</td>\n",
       "      <td>Handbags &amp; Access</td>\n",
       "      <td>48</td>\n",
       "      <td>ASHMILLON GLOVE A0, 1SIZE Handbags &amp; Access</td>\n",
       "    </tr>\n",
       "    <tr>\n",
       "      <th>1</th>\n",
       "      <td>311DBC84</td>\n",
       "      <td>11/11/2017</td>\n",
       "      <td>141740</td>\n",
       "      <td>OV PLAIN LEATHER  VZ</td>\n",
       "      <td>Handbags &amp; Access</td>\n",
       "      <td>48</td>\n",
       "      <td>OV PLAIN LEATHER  VZ Handbags &amp; Access</td>\n",
       "    </tr>\n",
       "  </tbody>\n",
       "</table>\n",
       "</div>"
      ],
      "text/plain": [
       "    User Id        Date     SKU                Description  \\\n",
       "0  311DBC84  10/11/2017  178394  ASHMILLON GLOVE A0, 1SIZE   \n",
       "1  311DBC84  11/11/2017  141740       OV PLAIN LEATHER  VZ   \n",
       "\n",
       "  Category Description  Age                                         info  \n",
       "0    Handbags & Access   48  ASHMILLON GLOVE A0, 1SIZE Handbags & Access  \n",
       "1    Handbags & Access   48       OV PLAIN LEATHER  VZ Handbags & Access  "
      ]
     },
     "execution_count": 48,
     "metadata": {},
     "output_type": "execute_result"
    }
   ],
   "source": [
    "metadata.head(2)"
   ]
  },
  {
   "cell_type": "code",
   "execution_count": 49,
   "metadata": {},
   "outputs": [
    {
     "data": {
      "text/plain": [
       "(80, 118)"
      ]
     },
     "execution_count": 49,
     "metadata": {},
     "output_type": "execute_result"
    }
   ],
   "source": [
    "tfidf = TfidfVectorizer()\n",
    "\n",
    "#Construct the required TF-IDF matrix by fitting and transforming the data\n",
    "tfidf_matrix = tfidf.fit_transform(metadata['info'].drop_duplicates())\n",
    "\n",
    "#Output the shape of tfidf_matrix\n",
    "tfidf_matrix.shape"
   ]
  },
  {
   "cell_type": "code",
   "execution_count": 50,
   "metadata": {
    "collapsed": true
   },
   "outputs": [],
   "source": [
    "# Import linear_kernel\n",
    "from sklearn.metrics.pairwise import linear_kernel\n",
    "\n",
    "# Compute the cosine similarity matrix\n",
    "cosine_sim = linear_kernel(tfidf_matrix, tfidf_matrix)"
   ]
  },
  {
   "cell_type": "code",
   "execution_count": 337,
   "metadata": {
    "collapsed": true
   },
   "outputs": [],
   "source": [
    "# Function that takes in product title as input and outputs most similar movies\n",
    "def get_recommendations(Description, cosine_sim=cosine_sim):\n",
    "    # Get the index of the product that matches\n",
    "    full_idx = indices[Description]\n",
    "    full_idx = list(full_idx)\n",
    "    distance = len(full_idx)\n",
    "    idx = full_idx[0]\n",
    "\n",
    "    # Get the pairwsie similarity scores\n",
    "    sim_scores = list(enumerate(cosine_sim[idx]))\n",
    "\n",
    "    # Sort the products based on the similarity scores\n",
    "    sim_scores = sorted(sim_scores, key=lambda x: x[1], reverse=True)\n",
    "\n",
    "    # Get the scores of the 10 most similar product\n",
    "    sim_scores = sim_scores[0: 11]\n",
    "\n",
    "    # Get the product indices\n",
    "    m_indices = [i[0] for i in sim_scores]\n",
    "\n",
    "    # Return the top 10 most similar movies\n",
    "    return metadata['info'].iloc[m_indices]"
   ]
  },
  {
   "cell_type": "markdown",
   "metadata": {},
   "source": [
    "pass any product as input, it will recommend the similar products according to their description"
   ]
  },
  {
   "cell_type": "code",
   "execution_count": 52,
   "metadata": {},
   "outputs": [
    {
     "data": {
      "text/plain": [
       "53                      FLORAL RING  Y4 Jewellery\n",
       "37            LEATHER GLOVE  KN Handbags & Access\n",
       "11    ASHMILLON GLOVE A0, 1SIZE Handbags & Access\n",
       "62        ANIMAL BUCKLE GLO  SH Handbags & Access\n",
       "16           SIDE BOW GLOVE  Y0 Handbags & Access\n",
       "43                   ZIG ZAG BANGLE  J4 Jewellery\n",
       "12    CASHMERE STRIPE A4, 1SIZE Handbags & Access\n",
       "50    ASHMILLON GLOVE A0, 1SIZE Handbags & Access\n",
       "23    ASHMILLON GLOVE A0, 1SIZE Handbags & Access\n",
       "72    CASHMERE STRIPE A4, 1SIZE Handbags & Access\n",
       "1          OV PLAIN LEATHER  VZ Handbags & Access\n",
       "Name: info, dtype: object"
      ]
     },
     "execution_count": 52,
     "metadata": {},
     "output_type": "execute_result"
    }
   ],
   "source": [
    "get_recommendations('FLORAL RING  Y4')"
   ]
  },
  {
   "cell_type": "code",
   "execution_count": null,
   "metadata": {
    "collapsed": true
   },
   "outputs": [],
   "source": []
  },
  {
   "cell_type": "markdown",
   "metadata": {},
   "source": [
    "# Colloborative:  Based on the User Profile Information"
   ]
  },
  {
   "cell_type": "markdown",
   "metadata": {},
   "source": [
    "Here we use all the user information provided,\n",
    "\n",
    "We have got only age as user information, so we will find how similar two profiles are"
   ]
  },
  {
   "cell_type": "code",
   "execution_count": null,
   "metadata": {
    "collapsed": true
   },
   "outputs": [],
   "source": []
  },
  {
   "cell_type": "code",
   "execution_count": 54,
   "metadata": {},
   "outputs": [
    {
     "data": {
      "text/plain": [
       "(3607, 6)"
      ]
     },
     "execution_count": 54,
     "metadata": {},
     "output_type": "execute_result"
    }
   ],
   "source": [
    "purchase_behaviour.shape"
   ]
  },
  {
   "cell_type": "code",
   "execution_count": 55,
   "metadata": {},
   "outputs": [
    {
     "data": {
      "text/plain": [
       "User Id                 1137\n",
       "Date                     153\n",
       "SKU                       80\n",
       "Description               80\n",
       "Category Description       2\n",
       "Age                       36\n",
       "dtype: int64"
      ]
     },
     "execution_count": 55,
     "metadata": {},
     "output_type": "execute_result"
    }
   ],
   "source": [
    "purchase_behaviour.apply(lambda x : len(x.unique()))"
   ]
  },
  {
   "cell_type": "markdown",
   "metadata": {},
   "source": [
    "There 1137 unique users"
   ]
  },
  {
   "cell_type": "markdown",
   "metadata": {},
   "source": [
    "So the users has purchased more than one product:"
   ]
  },
  {
   "cell_type": "code",
   "execution_count": 56,
   "metadata": {},
   "outputs": [
    {
     "data": {
      "text/html": [
       "<div>\n",
       "<style>\n",
       "    .dataframe thead tr:only-child th {\n",
       "        text-align: right;\n",
       "    }\n",
       "\n",
       "    .dataframe thead th {\n",
       "        text-align: left;\n",
       "    }\n",
       "\n",
       "    .dataframe tbody tr th {\n",
       "        vertical-align: top;\n",
       "    }\n",
       "</style>\n",
       "<table border=\"1\" class=\"dataframe\">\n",
       "  <thead>\n",
       "    <tr style=\"text-align: right;\">\n",
       "      <th></th>\n",
       "      <th>User Id</th>\n",
       "      <th>Date</th>\n",
       "      <th>SKU</th>\n",
       "      <th>Description</th>\n",
       "      <th>Category Description</th>\n",
       "      <th>Age</th>\n",
       "    </tr>\n",
       "  </thead>\n",
       "  <tbody>\n",
       "    <tr>\n",
       "      <th>0</th>\n",
       "      <td>311DBC84</td>\n",
       "      <td>10/11/2017</td>\n",
       "      <td>178394</td>\n",
       "      <td>ASHMILLON GLOVE A0, 1SIZE</td>\n",
       "      <td>Handbags &amp; Access</td>\n",
       "      <td>48</td>\n",
       "    </tr>\n",
       "    <tr>\n",
       "      <th>1</th>\n",
       "      <td>311DBC84</td>\n",
       "      <td>11/11/2017</td>\n",
       "      <td>141740</td>\n",
       "      <td>OV PLAIN LEATHER  VZ</td>\n",
       "      <td>Handbags &amp; Access</td>\n",
       "      <td>48</td>\n",
       "    </tr>\n",
       "    <tr>\n",
       "      <th>2</th>\n",
       "      <td>26C2EE87</td>\n",
       "      <td>12/2/2017</td>\n",
       "      <td>178394</td>\n",
       "      <td>ASHMILLON GLOVE A0, 1SIZE</td>\n",
       "      <td>Handbags &amp; Access</td>\n",
       "      <td>25</td>\n",
       "    </tr>\n",
       "  </tbody>\n",
       "</table>\n",
       "</div>"
      ],
      "text/plain": [
       "    User Id        Date     SKU                Description  \\\n",
       "0  311DBC84  10/11/2017  178394  ASHMILLON GLOVE A0, 1SIZE   \n",
       "1  311DBC84  11/11/2017  141740       OV PLAIN LEATHER  VZ   \n",
       "2  26C2EE87   12/2/2017  178394  ASHMILLON GLOVE A0, 1SIZE   \n",
       "\n",
       "  Category Description  Age  \n",
       "0    Handbags & Access   48  \n",
       "1    Handbags & Access   48  \n",
       "2    Handbags & Access   25  "
      ]
     },
     "execution_count": 56,
     "metadata": {},
     "output_type": "execute_result"
    }
   ],
   "source": [
    "purchase_behaviour.head(3)"
   ]
  },
  {
   "cell_type": "code",
   "execution_count": 60,
   "metadata": {},
   "outputs": [
    {
     "data": {
      "text/html": [
       "<div>\n",
       "<style>\n",
       "    .dataframe thead tr:only-child th {\n",
       "        text-align: right;\n",
       "    }\n",
       "\n",
       "    .dataframe thead th {\n",
       "        text-align: left;\n",
       "    }\n",
       "\n",
       "    .dataframe tbody tr th {\n",
       "        vertical-align: top;\n",
       "    }\n",
       "</style>\n",
       "<table border=\"1\" class=\"dataframe\">\n",
       "  <thead>\n",
       "    <tr style=\"text-align: right;\">\n",
       "      <th></th>\n",
       "      <th>Age</th>\n",
       "    </tr>\n",
       "  </thead>\n",
       "  <tbody>\n",
       "    <tr>\n",
       "      <th>count</th>\n",
       "      <td>3607.000000</td>\n",
       "    </tr>\n",
       "    <tr>\n",
       "      <th>mean</th>\n",
       "      <td>33.303576</td>\n",
       "    </tr>\n",
       "    <tr>\n",
       "      <th>std</th>\n",
       "      <td>10.361767</td>\n",
       "    </tr>\n",
       "    <tr>\n",
       "      <th>min</th>\n",
       "      <td>20.000000</td>\n",
       "    </tr>\n",
       "    <tr>\n",
       "      <th>25%</th>\n",
       "      <td>25.000000</td>\n",
       "    </tr>\n",
       "    <tr>\n",
       "      <th>50%</th>\n",
       "      <td>30.000000</td>\n",
       "    </tr>\n",
       "    <tr>\n",
       "      <th>75%</th>\n",
       "      <td>42.000000</td>\n",
       "    </tr>\n",
       "    <tr>\n",
       "      <th>max</th>\n",
       "      <td>55.000000</td>\n",
       "    </tr>\n",
       "  </tbody>\n",
       "</table>\n",
       "</div>"
      ],
      "text/plain": [
       "               Age\n",
       "count  3607.000000\n",
       "mean     33.303576\n",
       "std      10.361767\n",
       "min      20.000000\n",
       "25%      25.000000\n",
       "50%      30.000000\n",
       "75%      42.000000\n",
       "max      55.000000"
      ]
     },
     "execution_count": 60,
     "metadata": {},
     "output_type": "execute_result"
    }
   ],
   "source": [
    "purchase_behaviour.describe()"
   ]
  },
  {
   "cell_type": "code",
   "execution_count": 61,
   "metadata": {},
   "outputs": [
    {
     "data": {
      "text/html": [
       "<div>\n",
       "<style>\n",
       "    .dataframe thead tr:only-child th {\n",
       "        text-align: right;\n",
       "    }\n",
       "\n",
       "    .dataframe thead th {\n",
       "        text-align: left;\n",
       "    }\n",
       "\n",
       "    .dataframe tbody tr th {\n",
       "        vertical-align: top;\n",
       "    }\n",
       "</style>\n",
       "<table border=\"1\" class=\"dataframe\">\n",
       "  <thead>\n",
       "    <tr style=\"text-align: right;\">\n",
       "      <th></th>\n",
       "      <th>Age</th>\n",
       "      <th>User Id</th>\n",
       "    </tr>\n",
       "  </thead>\n",
       "  <tbody>\n",
       "    <tr>\n",
       "      <th>0</th>\n",
       "      <td>25</td>\n",
       "      <td>CF96A4F</td>\n",
       "    </tr>\n",
       "    <tr>\n",
       "      <th>1</th>\n",
       "      <td>49</td>\n",
       "      <td>2A95F376</td>\n",
       "    </tr>\n",
       "    <tr>\n",
       "      <th>2</th>\n",
       "      <td>47</td>\n",
       "      <td>2C68D6D0</td>\n",
       "    </tr>\n",
       "    <tr>\n",
       "      <th>3</th>\n",
       "      <td>53</td>\n",
       "      <td>286F5573</td>\n",
       "    </tr>\n",
       "    <tr>\n",
       "      <th>4</th>\n",
       "      <td>29</td>\n",
       "      <td>2BD8ED61</td>\n",
       "    </tr>\n",
       "  </tbody>\n",
       "</table>\n",
       "</div>"
      ],
      "text/plain": [
       "   Age   User Id\n",
       "0   25   CF96A4F\n",
       "1   49  2A95F376\n",
       "2   47  2C68D6D0\n",
       "3   53  286F5573\n",
       "4   29  2BD8ED61"
      ]
     },
     "execution_count": 61,
     "metadata": {},
     "output_type": "execute_result"
    }
   ],
   "source": [
    "userid.head()"
   ]
  },
  {
   "cell_type": "code",
   "execution_count": 62,
   "metadata": {
    "collapsed": true
   },
   "outputs": [],
   "source": [
    "new_user_data = userid['Age']\n",
    "new_user_data.index = userid['User Id']"
   ]
  },
  {
   "cell_type": "code",
   "execution_count": 63,
   "metadata": {},
   "outputs": [
    {
     "data": {
      "text/plain": [
       "User Id\n",
       "CF96A4F     25\n",
       "2A95F376    49\n",
       "Name: Age, dtype: int64"
      ]
     },
     "execution_count": 63,
     "metadata": {},
     "output_type": "execute_result"
    }
   ],
   "source": [
    "new_user_data.head(2)"
   ]
  },
  {
   "cell_type": "code",
   "execution_count": 109,
   "metadata": {},
   "outputs": [
    {
     "data": {
      "text/plain": [
       "(1199,)"
      ]
     },
     "execution_count": 109,
     "metadata": {},
     "output_type": "execute_result"
    }
   ],
   "source": [
    "new_user_data.shape"
   ]
  },
  {
   "cell_type": "code",
   "execution_count": 143,
   "metadata": {
    "collapsed": true
   },
   "outputs": [],
   "source": [
    "from math import sqrt\n",
    "\n",
    "#based on user similarity return the users who have similar age\n",
    "\n",
    "def similarity_score(person1):\n",
    "    #Finding Euclidean distance \n",
    "    d ={}\n",
    "    for i in new_user_data.index:\n",
    "        if person1 != i :\n",
    "            d[i] = sqrt((new_user_data[person1] - new_user_data[i])**2)\n",
    "    \n",
    "    sorted_items = sorted(d.items(), key=lambda t: t[1])\n",
    "    #print (sorted_items[:5])\n",
    "    #es_list = [x for x,_ in rows]\n",
    "    return [x for x,_ in sorted_items[:5] ]\n",
    "                 "
   ]
  },
  {
   "cell_type": "markdown",
   "metadata": {},
   "source": [
    "Now pass any user as input and check who all are have same personal information"
   ]
  },
  {
   "cell_type": "code",
   "execution_count": 147,
   "metadata": {},
   "outputs": [
    {
     "data": {
      "text/plain": [
       "['328A2253', '4E45B14', '2D774CA4', '8D41203', 'A496029']"
      ]
     },
     "execution_count": 147,
     "metadata": {},
     "output_type": "execute_result"
    }
   ],
   "source": [
    "similarity_score(\"2A95F376\")"
   ]
  },
  {
   "cell_type": "markdown",
   "metadata": {},
   "source": [
    "This return users based on user profile information:\n",
    "Here we have only one variable \"Age\" where user information is given, So we recommend the same products which this user has buied.\n",
    "\n",
    "The above 5 results are those users who fall into same category.\n",
    "\n",
    "If we have more user information(like Male/Female, Area Code/Geo Location, Working/Student, Time spent on website) we can gain more insights from  the data."
   ]
  },
  {
   "cell_type": "code",
   "execution_count": null,
   "metadata": {
    "collapsed": true
   },
   "outputs": [],
   "source": []
  },
  {
   "cell_type": "markdown",
   "metadata": {},
   "source": [
    "# Hybrid Model "
   ]
  },
  {
   "cell_type": "markdown",
   "metadata": {},
   "source": [
    "In This model we use both user personl data as well as his shopping behavior\n",
    "\n",
    "We have user personal information as Age and Shopping pattern as his Product description and category."
   ]
  },
  {
   "cell_type": "code",
   "execution_count": null,
   "metadata": {
    "collapsed": true
   },
   "outputs": [],
   "source": []
  },
  {
   "cell_type": "code",
   "execution_count": 132,
   "metadata": {},
   "outputs": [
    {
     "data": {
      "text/html": [
       "<div>\n",
       "<style>\n",
       "    .dataframe thead tr:only-child th {\n",
       "        text-align: right;\n",
       "    }\n",
       "\n",
       "    .dataframe thead th {\n",
       "        text-align: left;\n",
       "    }\n",
       "\n",
       "    .dataframe tbody tr th {\n",
       "        vertical-align: top;\n",
       "    }\n",
       "</style>\n",
       "<table border=\"1\" class=\"dataframe\">\n",
       "  <thead>\n",
       "    <tr style=\"text-align: right;\">\n",
       "      <th></th>\n",
       "      <th>User Id</th>\n",
       "      <th>Date</th>\n",
       "      <th>SKU</th>\n",
       "      <th>Description</th>\n",
       "      <th>Category Description</th>\n",
       "      <th>Age</th>\n",
       "    </tr>\n",
       "  </thead>\n",
       "  <tbody>\n",
       "    <tr>\n",
       "      <th>0</th>\n",
       "      <td>311DBC84</td>\n",
       "      <td>10/11/2017</td>\n",
       "      <td>178394</td>\n",
       "      <td>ASHMILLON GLOVE A0, 1SIZE</td>\n",
       "      <td>Handbags &amp; Access</td>\n",
       "      <td>48</td>\n",
       "    </tr>\n",
       "    <tr>\n",
       "      <th>1</th>\n",
       "      <td>311DBC84</td>\n",
       "      <td>11/11/2017</td>\n",
       "      <td>141740</td>\n",
       "      <td>OV PLAIN LEATHER  VZ</td>\n",
       "      <td>Handbags &amp; Access</td>\n",
       "      <td>48</td>\n",
       "    </tr>\n",
       "    <tr>\n",
       "      <th>2</th>\n",
       "      <td>26C2EE87</td>\n",
       "      <td>12/2/2017</td>\n",
       "      <td>178394</td>\n",
       "      <td>ASHMILLON GLOVE A0, 1SIZE</td>\n",
       "      <td>Handbags &amp; Access</td>\n",
       "      <td>25</td>\n",
       "    </tr>\n",
       "    <tr>\n",
       "      <th>3</th>\n",
       "      <td>26C2EE87</td>\n",
       "      <td>12/10/2017</td>\n",
       "      <td>186796</td>\n",
       "      <td>MIMOSA PRINT BANG  N4</td>\n",
       "      <td>Jewellery</td>\n",
       "      <td>25</td>\n",
       "    </tr>\n",
       "    <tr>\n",
       "      <th>4</th>\n",
       "      <td>26C2EE87</td>\n",
       "      <td>10/28/2017</td>\n",
       "      <td>135119</td>\n",
       "      <td>PATENT CHARM GLOV  Y4</td>\n",
       "      <td>Handbags &amp; Access</td>\n",
       "      <td>25</td>\n",
       "    </tr>\n",
       "  </tbody>\n",
       "</table>\n",
       "</div>"
      ],
      "text/plain": [
       "    User Id        Date     SKU                Description  \\\n",
       "0  311DBC84  10/11/2017  178394  ASHMILLON GLOVE A0, 1SIZE   \n",
       "1  311DBC84  11/11/2017  141740       OV PLAIN LEATHER  VZ   \n",
       "2  26C2EE87   12/2/2017  178394  ASHMILLON GLOVE A0, 1SIZE   \n",
       "3  26C2EE87  12/10/2017  186796      MIMOSA PRINT BANG  N4   \n",
       "4  26C2EE87  10/28/2017  135119      PATENT CHARM GLOV  Y4   \n",
       "\n",
       "  Category Description  Age  \n",
       "0    Handbags & Access   48  \n",
       "1    Handbags & Access   48  \n",
       "2    Handbags & Access   25  \n",
       "3            Jewellery   25  \n",
       "4    Handbags & Access   25  "
      ]
     },
     "execution_count": 132,
     "metadata": {},
     "output_type": "execute_result"
    }
   ],
   "source": [
    "purchase_behaviour.head()"
   ]
  },
  {
   "cell_type": "code",
   "execution_count": 133,
   "metadata": {},
   "outputs": [
    {
     "data": {
      "text/plain": [
       "User Id                 1137\n",
       "Date                     153\n",
       "SKU                       80\n",
       "Description               80\n",
       "Category Description       2\n",
       "Age                       36\n",
       "dtype: int64"
      ]
     },
     "execution_count": 133,
     "metadata": {},
     "output_type": "execute_result"
    }
   ],
   "source": [
    "purchase_behaviour.apply(lambda x: len(x.unique()))"
   ]
  },
  {
   "cell_type": "markdown",
   "metadata": {},
   "source": [
    "we use unique users and their purchases while forming a pivot table"
   ]
  },
  {
   "cell_type": "code",
   "execution_count": 202,
   "metadata": {
    "collapsed": true
   },
   "outputs": [],
   "source": [
    "purchase_pivot = purchase_behaviour.pivot(columns = 'User Id', values = 'SKU').fillna(0)"
   ]
  },
  {
   "cell_type": "code",
   "execution_count": 203,
   "metadata": {
    "scrolled": true
   },
   "outputs": [
    {
     "data": {
      "text/plain": [
       "(3607, 1137)"
      ]
     },
     "execution_count": 203,
     "metadata": {},
     "output_type": "execute_result"
    }
   ],
   "source": [
    "purchase_pivot.shape"
   ]
  },
  {
   "cell_type": "code",
   "execution_count": 204,
   "metadata": {
    "collapsed": true
   },
   "outputs": [],
   "source": [
    "#purchase_pivot"
   ]
  },
  {
   "cell_type": "code",
   "execution_count": 205,
   "metadata": {},
   "outputs": [
    {
     "data": {
      "text/plain": [
       "NearestNeighbors(algorithm='brute', leaf_size=30, metric='cosine',\n",
       "         metric_params=None, n_jobs=1, n_neighbors=5, p=2, radius=1.0)"
      ]
     },
     "execution_count": 205,
     "metadata": {},
     "output_type": "execute_result"
    }
   ],
   "source": [
    "from scipy.sparse import csr_matrix\n",
    "us_canada_user_rating_matrix = csr_matrix(purchase_pivot.values)\n",
    "\n",
    "from sklearn.neighbors import NearestNeighbors\n",
    "\n",
    "model_knn = NearestNeighbors(metric = 'cosine', algorithm = 'brute')\n",
    "model_knn.fit(us_canada_user_rating_matrix)"
   ]
  },
  {
   "cell_type": "code",
   "execution_count": 206,
   "metadata": {},
   "outputs": [
    {
     "name": "stdout",
     "output_type": "stream",
     "text": [
      "Recommendations for 11:\n",
      "\n",
      "1: 12, with distance of 0.0:\n",
      "2: 2407, with distance of 1.0:\n",
      "3: 2405, with distance of 1.0:\n",
      "4: 2408, with distance of 1.0:\n",
      "5: 2404, with distance of 1.0:\n"
     ]
    },
    {
     "name": "stderr",
     "output_type": "stream",
     "text": [
      "C:\\ProgramData\\Anaconda3\\lib\\site-packages\\ipykernel_launcher.py:2: FutureWarning: reshape is deprecated and will raise in a subsequent release. Please use .values.reshape(...) instead\n",
      "  \n"
     ]
    }
   ],
   "source": [
    "query_index =11 # np.random.choice(purchase_pivot.shape[0])\n",
    "distances, indices = model_knn.kneighbors(purchase_pivot.iloc[query_index, :].reshape(1, -1), n_neighbors = 6)\n",
    "\n",
    "for i in range(0, len(distances.flatten())):\n",
    "    if i == 0:\n",
    "        print('Recommendations for {0}:\\n'.format(purchase_pivot.index[query_index]))\n",
    "    else:\n",
    "        print('{0}: {1}, with distance of {2}:'.format(i, purchase_pivot.index[indices.flatten()[i]], distances.flatten()[i]))"
   ]
  },
  {
   "cell_type": "markdown",
   "metadata": {},
   "source": [
    "Above we can see that the recomendations for 11th User are, 12th, 2407, 2405, 2408, 2004"
   ]
  },
  {
   "cell_type": "code",
   "execution_count": null,
   "metadata": {
    "collapsed": true
   },
   "outputs": [],
   "source": []
  },
  {
   "cell_type": "markdown",
   "metadata": {},
   "source": [
    "Now check what is shopping behaviour of 11th user"
   ]
  },
  {
   "cell_type": "code",
   "execution_count": 194,
   "metadata": {},
   "outputs": [
    {
     "data": {
      "text/plain": [
       "User Id                                   69051BA\n",
       "Date                                   12/20/2017\n",
       "SKU                                        178394\n",
       "Description             ASHMILLON GLOVE A0, 1SIZE\n",
       "Category Description            Handbags & Access\n",
       "Age                                            28\n",
       "Name: 11, dtype: object"
      ]
     },
     "execution_count": 194,
     "metadata": {},
     "output_type": "execute_result"
    }
   ],
   "source": [
    "purchase_behaviour.iloc[11]"
   ]
  },
  {
   "cell_type": "markdown",
   "metadata": {},
   "source": [
    "Now check what are his recommendations\n",
    "\n",
    "one by one I am showing, using above results we got"
   ]
  },
  {
   "cell_type": "code",
   "execution_count": 207,
   "metadata": {},
   "outputs": [
    {
     "data": {
      "text/plain": [
       "User Id                           70DAEC3\n",
       "Date                            8/11/2017\n",
       "SKU                                215392\n",
       "Description             ANIMAL BANGLE  N4\n",
       "Category Description            Jewellery\n",
       "Age                                    29\n",
       "Name: 2407, dtype: object"
      ]
     },
     "execution_count": 207,
     "metadata": {},
     "output_type": "execute_result"
    }
   ],
   "source": [
    "purchase_behaviour.iloc[2407]"
   ]
  },
  {
   "cell_type": "code",
   "execution_count": 210,
   "metadata": {},
   "outputs": [
    {
     "data": {
      "text/plain": [
       "User Id                               70DAEC3\n",
       "Date                                11/2/2017\n",
       "SKU                                    198742\n",
       "Description             FACETED DUO BANGL  SZ\n",
       "Category Description                Jewellery\n",
       "Age                                        29\n",
       "Name: 2405, dtype: object"
      ]
     },
     "execution_count": 210,
     "metadata": {},
     "output_type": "execute_result"
    }
   ],
   "source": [
    "purchase_behaviour.iloc[2405]"
   ]
  },
  {
   "cell_type": "code",
   "execution_count": null,
   "metadata": {
    "collapsed": true
   },
   "outputs": [],
   "source": []
  },
  {
   "cell_type": "markdown",
   "metadata": {},
   "source": [
    "# New Model"
   ]
  },
  {
   "cell_type": "markdown",
   "metadata": {},
   "source": [
    "I used almost similar approach but chaning format of variables and got similar results as above"
   ]
  },
  {
   "cell_type": "code",
   "execution_count": 211,
   "metadata": {
    "collapsed": true
   },
   "outputs": [],
   "source": [
    "new_model_data = purchase_behaviour.drop_duplicates(['User Id', 'Description'])"
   ]
  },
  {
   "cell_type": "code",
   "execution_count": 222,
   "metadata": {},
   "outputs": [
    {
     "name": "stderr",
     "output_type": "stream",
     "text": [
      "C:\\ProgramData\\Anaconda3\\lib\\site-packages\\ipykernel_launcher.py:1: SettingWithCopyWarning: \n",
      "A value is trying to be set on a copy of a slice from a DataFrame.\n",
      "Try using .loc[row_indexer,col_indexer] = value instead\n",
      "\n",
      "See the caveats in the documentation: http://pandas.pydata.org/pandas-docs/stable/indexing.html#indexing-view-versus-copy\n",
      "  \"\"\"Entry point for launching an IPython kernel.\n"
     ]
    }
   ],
   "source": [
    "new_model_data['Description Numeric'] = new_model_data.Description.astype(\"category\").cat.codes"
   ]
  },
  {
   "cell_type": "code",
   "execution_count": 223,
   "metadata": {},
   "outputs": [
    {
     "data": {
      "text/html": [
       "<div>\n",
       "<style>\n",
       "    .dataframe thead tr:only-child th {\n",
       "        text-align: right;\n",
       "    }\n",
       "\n",
       "    .dataframe thead th {\n",
       "        text-align: left;\n",
       "    }\n",
       "\n",
       "    .dataframe tbody tr th {\n",
       "        vertical-align: top;\n",
       "    }\n",
       "</style>\n",
       "<table border=\"1\" class=\"dataframe\">\n",
       "  <thead>\n",
       "    <tr style=\"text-align: right;\">\n",
       "      <th></th>\n",
       "      <th>User Id</th>\n",
       "      <th>Date</th>\n",
       "      <th>SKU</th>\n",
       "      <th>Description</th>\n",
       "      <th>Category Description</th>\n",
       "      <th>Age</th>\n",
       "      <th>Description Numeric</th>\n",
       "    </tr>\n",
       "  </thead>\n",
       "  <tbody>\n",
       "    <tr>\n",
       "      <th>0</th>\n",
       "      <td>311DBC84</td>\n",
       "      <td>10/11/2017</td>\n",
       "      <td>178394</td>\n",
       "      <td>ASHMILLON GLOVE A0, 1SIZE</td>\n",
       "      <td>Handbags &amp; Access</td>\n",
       "      <td>48</td>\n",
       "      <td>5</td>\n",
       "    </tr>\n",
       "    <tr>\n",
       "      <th>1</th>\n",
       "      <td>311DBC84</td>\n",
       "      <td>11/11/2017</td>\n",
       "      <td>141740</td>\n",
       "      <td>OV PLAIN LEATHER  VZ</td>\n",
       "      <td>Handbags &amp; Access</td>\n",
       "      <td>48</td>\n",
       "      <td>60</td>\n",
       "    </tr>\n",
       "    <tr>\n",
       "      <th>2</th>\n",
       "      <td>26C2EE87</td>\n",
       "      <td>12/2/2017</td>\n",
       "      <td>178394</td>\n",
       "      <td>ASHMILLON GLOVE A0, 1SIZE</td>\n",
       "      <td>Handbags &amp; Access</td>\n",
       "      <td>25</td>\n",
       "      <td>5</td>\n",
       "    </tr>\n",
       "  </tbody>\n",
       "</table>\n",
       "</div>"
      ],
      "text/plain": [
       "    User Id        Date     SKU                Description  \\\n",
       "0  311DBC84  10/11/2017  178394  ASHMILLON GLOVE A0, 1SIZE   \n",
       "1  311DBC84  11/11/2017  141740       OV PLAIN LEATHER  VZ   \n",
       "2  26C2EE87   12/2/2017  178394  ASHMILLON GLOVE A0, 1SIZE   \n",
       "\n",
       "  Category Description  Age  Description Numeric  \n",
       "0    Handbags & Access   48                    5  \n",
       "1    Handbags & Access   48                   60  \n",
       "2    Handbags & Access   25                    5  "
      ]
     },
     "execution_count": 223,
     "metadata": {},
     "output_type": "execute_result"
    }
   ],
   "source": [
    "new_model_data.head(3)"
   ]
  },
  {
   "cell_type": "code",
   "execution_count": 224,
   "metadata": {
    "collapsed": true
   },
   "outputs": [],
   "source": [
    "new_pivot = new_model_data.pivot(index = 'SKU', columns = 'User Id', values = 'Description Numeric').fillna(0)"
   ]
  },
  {
   "cell_type": "code",
   "execution_count": null,
   "metadata": {
    "collapsed": true
   },
   "outputs": [],
   "source": []
  },
  {
   "cell_type": "code",
   "execution_count": 225,
   "metadata": {},
   "outputs": [
    {
     "data": {
      "text/plain": [
       "NearestNeighbors(algorithm='brute', leaf_size=30, metric='cosine',\n",
       "         metric_params=None, n_jobs=1, n_neighbors=5, p=2, radius=1.0)"
      ]
     },
     "execution_count": 225,
     "metadata": {},
     "output_type": "execute_result"
    }
   ],
   "source": [
    "new_pivot_matrix = csr_matrix(new_pivot.values)\n",
    "\n",
    "from sklearn.neighbors import NearestNeighbors\n",
    "model_knn = NearestNeighbors(metric = 'cosine', algorithm = 'brute')\n",
    "model_knn.fit(us_canada_user_rating_matrix)"
   ]
  },
  {
   "cell_type": "code",
   "execution_count": 226,
   "metadata": {},
   "outputs": [
    {
     "name": "stdout",
     "output_type": "stream",
     "text": [
      "Recommendations for 11:\n",
      "\n",
      "1: 12, with distance of 0.0:\n",
      "2: 2407, with distance of 1.0:\n",
      "3: 2405, with distance of 1.0:\n",
      "4: 2408, with distance of 1.0:\n",
      "5: 2404, with distance of 1.0:\n"
     ]
    },
    {
     "name": "stderr",
     "output_type": "stream",
     "text": [
      "C:\\ProgramData\\Anaconda3\\lib\\site-packages\\ipykernel_launcher.py:2: FutureWarning: reshape is deprecated and will raise in a subsequent release. Please use .values.reshape(...) instead\n",
      "  \n"
     ]
    }
   ],
   "source": [
    "query_index =11 # np.random.choice(purchase_pivot.shape[0])\n",
    "distances, indices = model_knn.kneighbors(purchase_pivot.iloc[query_index, :].reshape(1, -1), n_neighbors = 6)\n",
    "\n",
    "for i in range(0, len(distances.flatten())):\n",
    "    if i == 0:\n",
    "        print('Recommendations for {0}:\\n'.format(purchase_pivot.index[query_index]))\n",
    "    else:\n",
    "        print('{0}: {1}, with distance of {2}:'.format(i, purchase_pivot.index[indices.flatten()[i]], distances.flatten()[i]))"
   ]
  },
  {
   "cell_type": "code",
   "execution_count": null,
   "metadata": {
    "collapsed": true
   },
   "outputs": [],
   "source": []
  },
  {
   "cell_type": "markdown",
   "metadata": {},
   "source": [
    "# Forming User cluster groups for recommendations"
   ]
  },
  {
   "cell_type": "markdown",
   "metadata": {},
   "source": [
    "Conctatinating TF_IDF of product descriptions with User profile(we have Age):\n",
    "    "
   ]
  },
  {
   "cell_type": "code",
   "execution_count": 227,
   "metadata": {
    "collapsed": true
   },
   "outputs": [],
   "source": [
    "v = TfidfVectorizer()\n",
    "x = v.fit_transform(purchase_behaviour['Description'])\n",
    "df1 = pd.DataFrame(x.toarray(), columns=v.get_feature_names())"
   ]
  },
  {
   "cell_type": "code",
   "execution_count": 228,
   "metadata": {},
   "outputs": [
    {
     "data": {
      "text/html": [
       "<div>\n",
       "<style>\n",
       "    .dataframe thead tr:only-child th {\n",
       "        text-align: right;\n",
       "    }\n",
       "\n",
       "    .dataframe thead th {\n",
       "        text-align: left;\n",
       "    }\n",
       "\n",
       "    .dataframe tbody tr th {\n",
       "        vertical-align: top;\n",
       "    }\n",
       "</style>\n",
       "<table border=\"1\" class=\"dataframe\">\n",
       "  <thead>\n",
       "    <tr style=\"text-align: right;\">\n",
       "      <th></th>\n",
       "      <th>1size</th>\n",
       "      <th>a0</th>\n",
       "      <th>a4</th>\n",
       "      <th>an</th>\n",
       "      <th>animal</th>\n",
       "      <th>as</th>\n",
       "      <th>ashmillon</th>\n",
       "      <th>b0</th>\n",
       "      <th>bang</th>\n",
       "      <th>bangl</th>\n",
       "      <th>...</th>\n",
       "      <th>wood</th>\n",
       "      <th>wool</th>\n",
       "      <th>y0</th>\n",
       "      <th>y4</th>\n",
       "      <th>z0</th>\n",
       "      <th>z4</th>\n",
       "      <th>zag</th>\n",
       "      <th>zebra</th>\n",
       "      <th>zig</th>\n",
       "      <th>zz</th>\n",
       "    </tr>\n",
       "  </thead>\n",
       "  <tbody>\n",
       "    <tr>\n",
       "      <th>0</th>\n",
       "      <td>0.493367</td>\n",
       "      <td>0.613686</td>\n",
       "      <td>0.0</td>\n",
       "      <td>0.0</td>\n",
       "      <td>0.0</td>\n",
       "      <td>0.0</td>\n",
       "      <td>0.496948</td>\n",
       "      <td>0.0</td>\n",
       "      <td>0.000000</td>\n",
       "      <td>0.0</td>\n",
       "      <td>...</td>\n",
       "      <td>0.0</td>\n",
       "      <td>0.0</td>\n",
       "      <td>0.0</td>\n",
       "      <td>0.000000</td>\n",
       "      <td>0.0</td>\n",
       "      <td>0.0</td>\n",
       "      <td>0.0</td>\n",
       "      <td>0.0</td>\n",
       "      <td>0.0</td>\n",
       "      <td>0.0</td>\n",
       "    </tr>\n",
       "    <tr>\n",
       "      <th>1</th>\n",
       "      <td>0.000000</td>\n",
       "      <td>0.000000</td>\n",
       "      <td>0.0</td>\n",
       "      <td>0.0</td>\n",
       "      <td>0.0</td>\n",
       "      <td>0.0</td>\n",
       "      <td>0.000000</td>\n",
       "      <td>0.0</td>\n",
       "      <td>0.000000</td>\n",
       "      <td>0.0</td>\n",
       "      <td>...</td>\n",
       "      <td>0.0</td>\n",
       "      <td>0.0</td>\n",
       "      <td>0.0</td>\n",
       "      <td>0.000000</td>\n",
       "      <td>0.0</td>\n",
       "      <td>0.0</td>\n",
       "      <td>0.0</td>\n",
       "      <td>0.0</td>\n",
       "      <td>0.0</td>\n",
       "      <td>0.0</td>\n",
       "    </tr>\n",
       "    <tr>\n",
       "      <th>2</th>\n",
       "      <td>0.493367</td>\n",
       "      <td>0.613686</td>\n",
       "      <td>0.0</td>\n",
       "      <td>0.0</td>\n",
       "      <td>0.0</td>\n",
       "      <td>0.0</td>\n",
       "      <td>0.496948</td>\n",
       "      <td>0.0</td>\n",
       "      <td>0.000000</td>\n",
       "      <td>0.0</td>\n",
       "      <td>...</td>\n",
       "      <td>0.0</td>\n",
       "      <td>0.0</td>\n",
       "      <td>0.0</td>\n",
       "      <td>0.000000</td>\n",
       "      <td>0.0</td>\n",
       "      <td>0.0</td>\n",
       "      <td>0.0</td>\n",
       "      <td>0.0</td>\n",
       "      <td>0.0</td>\n",
       "      <td>0.0</td>\n",
       "    </tr>\n",
       "    <tr>\n",
       "      <th>3</th>\n",
       "      <td>0.000000</td>\n",
       "      <td>0.000000</td>\n",
       "      <td>0.0</td>\n",
       "      <td>0.0</td>\n",
       "      <td>0.0</td>\n",
       "      <td>0.0</td>\n",
       "      <td>0.000000</td>\n",
       "      <td>0.0</td>\n",
       "      <td>0.500136</td>\n",
       "      <td>0.0</td>\n",
       "      <td>...</td>\n",
       "      <td>0.0</td>\n",
       "      <td>0.0</td>\n",
       "      <td>0.0</td>\n",
       "      <td>0.000000</td>\n",
       "      <td>0.0</td>\n",
       "      <td>0.0</td>\n",
       "      <td>0.0</td>\n",
       "      <td>0.0</td>\n",
       "      <td>0.0</td>\n",
       "      <td>0.0</td>\n",
       "    </tr>\n",
       "    <tr>\n",
       "      <th>4</th>\n",
       "      <td>0.000000</td>\n",
       "      <td>0.000000</td>\n",
       "      <td>0.0</td>\n",
       "      <td>0.0</td>\n",
       "      <td>0.0</td>\n",
       "      <td>0.0</td>\n",
       "      <td>0.000000</td>\n",
       "      <td>0.0</td>\n",
       "      <td>0.000000</td>\n",
       "      <td>0.0</td>\n",
       "      <td>...</td>\n",
       "      <td>0.0</td>\n",
       "      <td>0.0</td>\n",
       "      <td>0.0</td>\n",
       "      <td>0.382655</td>\n",
       "      <td>0.0</td>\n",
       "      <td>0.0</td>\n",
       "      <td>0.0</td>\n",
       "      <td>0.0</td>\n",
       "      <td>0.0</td>\n",
       "      <td>0.0</td>\n",
       "    </tr>\n",
       "  </tbody>\n",
       "</table>\n",
       "<p>5 rows × 115 columns</p>\n",
       "</div>"
      ],
      "text/plain": [
       "      1size        a0   a4   an  animal   as  ashmillon   b0      bang  bangl  \\\n",
       "0  0.493367  0.613686  0.0  0.0     0.0  0.0   0.496948  0.0  0.000000    0.0   \n",
       "1  0.000000  0.000000  0.0  0.0     0.0  0.0   0.000000  0.0  0.000000    0.0   \n",
       "2  0.493367  0.613686  0.0  0.0     0.0  0.0   0.496948  0.0  0.000000    0.0   \n",
       "3  0.000000  0.000000  0.0  0.0     0.0  0.0   0.000000  0.0  0.500136    0.0   \n",
       "4  0.000000  0.000000  0.0  0.0     0.0  0.0   0.000000  0.0  0.000000    0.0   \n",
       "\n",
       "  ...   wood  wool   y0        y4   z0   z4  zag  zebra  zig   zz  \n",
       "0 ...    0.0   0.0  0.0  0.000000  0.0  0.0  0.0    0.0  0.0  0.0  \n",
       "1 ...    0.0   0.0  0.0  0.000000  0.0  0.0  0.0    0.0  0.0  0.0  \n",
       "2 ...    0.0   0.0  0.0  0.000000  0.0  0.0  0.0    0.0  0.0  0.0  \n",
       "3 ...    0.0   0.0  0.0  0.000000  0.0  0.0  0.0    0.0  0.0  0.0  \n",
       "4 ...    0.0   0.0  0.0  0.382655  0.0  0.0  0.0    0.0  0.0  0.0  \n",
       "\n",
       "[5 rows x 115 columns]"
      ]
     },
     "execution_count": 228,
     "metadata": {},
     "output_type": "execute_result"
    }
   ],
   "source": [
    "df1.head()"
   ]
  },
  {
   "cell_type": "code",
   "execution_count": 230,
   "metadata": {},
   "outputs": [
    {
     "data": {
      "text/plain": [
       "(3607, 115)"
      ]
     },
     "execution_count": 230,
     "metadata": {},
     "output_type": "execute_result"
    }
   ],
   "source": [
    "df1.shape"
   ]
  },
  {
   "cell_type": "code",
   "execution_count": 231,
   "metadata": {
    "collapsed": true
   },
   "outputs": [],
   "source": [
    "purchase_tfidf = pd.concat([purchase_behaviour, df1], axis=1)"
   ]
  },
  {
   "cell_type": "code",
   "execution_count": 232,
   "metadata": {},
   "outputs": [
    {
     "data": {
      "text/plain": [
       "(3607, 121)"
      ]
     },
     "execution_count": 232,
     "metadata": {},
     "output_type": "execute_result"
    }
   ],
   "source": [
    "purchase_tfidf.shape"
   ]
  },
  {
   "cell_type": "code",
   "execution_count": 233,
   "metadata": {},
   "outputs": [
    {
     "data": {
      "text/plain": [
       "Index(['User Id', 'Date', 'SKU', 'Description', 'Category Description', 'Age',\n",
       "       '1size', 'a0', 'a4', 'an',\n",
       "       ...\n",
       "       'wood', 'wool', 'y0', 'y4', 'z0', 'z4', 'zag', 'zebra', 'zig', 'zz'],\n",
       "      dtype='object', length=121)"
      ]
     },
     "execution_count": 233,
     "metadata": {},
     "output_type": "execute_result"
    }
   ],
   "source": [
    "purchase_tfidf.columns"
   ]
  },
  {
   "cell_type": "code",
   "execution_count": 239,
   "metadata": {
    "collapsed": true
   },
   "outputs": [],
   "source": [
    "from sklearn.preprocessing import LabelEncoder\n",
    "L = LabelEncoder()\n",
    "\n",
    "X = purchase_tfidf.copy()"
   ]
  },
  {
   "cell_type": "code",
   "execution_count": 241,
   "metadata": {},
   "outputs": [
    {
     "data": {
      "text/plain": [
       "Index(['Date', 'Category Description', 'Age', '1size', 'a0', 'a4', 'an',\n",
       "       'animal', 'as', 'ashmillon',\n",
       "       ...\n",
       "       'wood', 'wool', 'y0', 'y4', 'z0', 'z4', 'zag', 'zebra', 'zig', 'zz'],\n",
       "      dtype='object', length=118)"
      ]
     },
     "execution_count": 241,
     "metadata": {},
     "output_type": "execute_result"
    }
   ],
   "source": [
    "X.columns"
   ]
  },
  {
   "cell_type": "code",
   "execution_count": 242,
   "metadata": {
    "collapsed": true
   },
   "outputs": [],
   "source": [
    "#del X['User Id']\n",
    "#del X['SKU']\n",
    "#del X['Description']\n",
    "X['Category Description Labels'] = L.fit_transform(X['Category Description'])\n",
    "del X['Category Description']"
   ]
  },
  {
   "cell_type": "code",
   "execution_count": 249,
   "metadata": {},
   "outputs": [
    {
     "data": {
      "text/plain": [
       "Index(['Age', '1size', 'a0', 'a4', 'an', 'animal', 'as', 'ashmillon', 'b0',\n",
       "       'bang',\n",
       "       ...\n",
       "       'wool', 'y0', 'y4', 'z0', 'z4', 'zag', 'zebra', 'zig', 'zz',\n",
       "       'Category Description Labels'],\n",
       "      dtype='object', length=117)"
      ]
     },
     "execution_count": 249,
     "metadata": {},
     "output_type": "execute_result"
    }
   ],
   "source": [
    "X.columns"
   ]
  },
  {
   "cell_type": "code",
   "execution_count": 245,
   "metadata": {
    "collapsed": true
   },
   "outputs": [],
   "source": [
    "del X['Date']"
   ]
  },
  {
   "cell_type": "code",
   "execution_count": 248,
   "metadata": {
    "collapsed": true
   },
   "outputs": [],
   "source": [
    "from sklearn.cluster import KMeans\n",
    "\n",
    "# Number of clusters\n",
    "kmeans = KMeans(n_clusters=10)\n",
    "# Fitting the input data\n",
    "kmeans = kmeans.fit(X)\n",
    "# Getting the cluster labels\n",
    "labels = kmeans.predict(X)\n",
    "# Centroid values\n",
    "centroids = kmeans.cluster_centers_"
   ]
  },
  {
   "cell_type": "markdown",
   "metadata": {},
   "source": [
    "Based on user profile and product purchase history, we got clusters (we can have any number of clusters)\n",
    "\n",
    "Whenever new user comes and when his shopping behavior or his Personal Data closely matches with any of the cluster, we recommend the products of that cluster"
   ]
  },
  {
   "cell_type": "markdown",
   "metadata": {},
   "source": [
    "We need test data, when ever new user comes he falls into any one of the cluster, So that we can recommend the product."
   ]
  },
  {
   "cell_type": "code",
   "execution_count": null,
   "metadata": {
    "collapsed": true
   },
   "outputs": [],
   "source": []
  },
  {
   "cell_type": "markdown",
   "metadata": {},
   "source": [
    "# Conversion rates Browsing to Purchase :"
   ]
  },
  {
   "cell_type": "code",
   "execution_count": 258,
   "metadata": {
    "collapsed": true
   },
   "outputs": [],
   "source": [
    "purchase_data = purchase_behaviour.copy()\n",
    "browse_data = browse_behaviour.copy()"
   ]
  },
  {
   "cell_type": "markdown",
   "metadata": {},
   "source": [
    "1. Product conversion rates:\n",
    "    \n",
    "    Type1: User has browsed some product and bought the same product"
   ]
  },
  {
   "cell_type": "code",
   "execution_count": 259,
   "metadata": {
    "collapsed": true
   },
   "outputs": [],
   "source": [
    "purchase_data['ID Product'] = (purchase_data['User Id']).map(str) + \" \" + (purchase_data['SKU']).map(str)\n",
    "browse_data['ID Product'] = (browse_data['User Id']).map(str) + \" \" + (browse_data['SKU']).map(str)"
   ]
  },
  {
   "cell_type": "code",
   "execution_count": 260,
   "metadata": {},
   "outputs": [
    {
     "data": {
      "text/html": [
       "<div>\n",
       "<style>\n",
       "    .dataframe thead tr:only-child th {\n",
       "        text-align: right;\n",
       "    }\n",
       "\n",
       "    .dataframe thead th {\n",
       "        text-align: left;\n",
       "    }\n",
       "\n",
       "    .dataframe tbody tr th {\n",
       "        vertical-align: top;\n",
       "    }\n",
       "</style>\n",
       "<table border=\"1\" class=\"dataframe\">\n",
       "  <thead>\n",
       "    <tr style=\"text-align: right;\">\n",
       "      <th></th>\n",
       "      <th>User Id</th>\n",
       "      <th>Date</th>\n",
       "      <th>SKU</th>\n",
       "      <th>Description</th>\n",
       "      <th>Category Description</th>\n",
       "      <th>Age</th>\n",
       "      <th>ID Product</th>\n",
       "    </tr>\n",
       "  </thead>\n",
       "  <tbody>\n",
       "    <tr>\n",
       "      <th>0</th>\n",
       "      <td>311DBC84</td>\n",
       "      <td>10/11/2017</td>\n",
       "      <td>178394</td>\n",
       "      <td>ASHMILLON GLOVE A0, 1SIZE</td>\n",
       "      <td>Handbags &amp; Access</td>\n",
       "      <td>48</td>\n",
       "      <td>311DBC84 178394</td>\n",
       "    </tr>\n",
       "    <tr>\n",
       "      <th>1</th>\n",
       "      <td>311DBC84</td>\n",
       "      <td>11/11/2017</td>\n",
       "      <td>141740</td>\n",
       "      <td>OV PLAIN LEATHER  VZ</td>\n",
       "      <td>Handbags &amp; Access</td>\n",
       "      <td>48</td>\n",
       "      <td>311DBC84 141740</td>\n",
       "    </tr>\n",
       "    <tr>\n",
       "      <th>2</th>\n",
       "      <td>26C2EE87</td>\n",
       "      <td>12/2/2017</td>\n",
       "      <td>178394</td>\n",
       "      <td>ASHMILLON GLOVE A0, 1SIZE</td>\n",
       "      <td>Handbags &amp; Access</td>\n",
       "      <td>25</td>\n",
       "      <td>26C2EE87 178394</td>\n",
       "    </tr>\n",
       "    <tr>\n",
       "      <th>3</th>\n",
       "      <td>26C2EE87</td>\n",
       "      <td>12/10/2017</td>\n",
       "      <td>186796</td>\n",
       "      <td>MIMOSA PRINT BANG  N4</td>\n",
       "      <td>Jewellery</td>\n",
       "      <td>25</td>\n",
       "      <td>26C2EE87 186796</td>\n",
       "    </tr>\n",
       "    <tr>\n",
       "      <th>4</th>\n",
       "      <td>26C2EE87</td>\n",
       "      <td>10/28/2017</td>\n",
       "      <td>135119</td>\n",
       "      <td>PATENT CHARM GLOV  Y4</td>\n",
       "      <td>Handbags &amp; Access</td>\n",
       "      <td>25</td>\n",
       "      <td>26C2EE87 135119</td>\n",
       "    </tr>\n",
       "  </tbody>\n",
       "</table>\n",
       "</div>"
      ],
      "text/plain": [
       "    User Id        Date     SKU                Description  \\\n",
       "0  311DBC84  10/11/2017  178394  ASHMILLON GLOVE A0, 1SIZE   \n",
       "1  311DBC84  11/11/2017  141740       OV PLAIN LEATHER  VZ   \n",
       "2  26C2EE87   12/2/2017  178394  ASHMILLON GLOVE A0, 1SIZE   \n",
       "3  26C2EE87  12/10/2017  186796      MIMOSA PRINT BANG  N4   \n",
       "4  26C2EE87  10/28/2017  135119      PATENT CHARM GLOV  Y4   \n",
       "\n",
       "  Category Description  Age       ID Product  \n",
       "0    Handbags & Access   48  311DBC84 178394  \n",
       "1    Handbags & Access   48  311DBC84 141740  \n",
       "2    Handbags & Access   25  26C2EE87 178394  \n",
       "3            Jewellery   25  26C2EE87 186796  \n",
       "4    Handbags & Access   25  26C2EE87 135119  "
      ]
     },
     "execution_count": 260,
     "metadata": {},
     "output_type": "execute_result"
    }
   ],
   "source": [
    "purchase_data.head()"
   ]
  },
  {
   "cell_type": "code",
   "execution_count": 261,
   "metadata": {},
   "outputs": [
    {
     "data": {
      "text/html": [
       "<div>\n",
       "<style>\n",
       "    .dataframe thead tr:only-child th {\n",
       "        text-align: right;\n",
       "    }\n",
       "\n",
       "    .dataframe thead th {\n",
       "        text-align: left;\n",
       "    }\n",
       "\n",
       "    .dataframe tbody tr th {\n",
       "        vertical-align: top;\n",
       "    }\n",
       "</style>\n",
       "<table border=\"1\" class=\"dataframe\">\n",
       "  <thead>\n",
       "    <tr style=\"text-align: right;\">\n",
       "      <th></th>\n",
       "      <th>Date</th>\n",
       "      <th>SKU</th>\n",
       "      <th>Description</th>\n",
       "      <th>Category Description</th>\n",
       "      <th>User Id</th>\n",
       "      <th>Age</th>\n",
       "      <th>ID Product</th>\n",
       "    </tr>\n",
       "  </thead>\n",
       "  <tbody>\n",
       "    <tr>\n",
       "      <th>0</th>\n",
       "      <td>12/24/2017</td>\n",
       "      <td>302445</td>\n",
       "      <td>COLORADO LRG RC  NP</td>\n",
       "      <td>Luggage</td>\n",
       "      <td>264BCFBA</td>\n",
       "      <td>20</td>\n",
       "      <td>264BCFBA 302445</td>\n",
       "    </tr>\n",
       "    <tr>\n",
       "      <th>1</th>\n",
       "      <td>12/6/2017</td>\n",
       "      <td>303791</td>\n",
       "      <td>SCORPIUS LRG R  WL</td>\n",
       "      <td>Luggage</td>\n",
       "      <td>264BCFBA</td>\n",
       "      <td>20</td>\n",
       "      <td>264BCFBA 303791</td>\n",
       "    </tr>\n",
       "    <tr>\n",
       "      <th>2</th>\n",
       "      <td>11/16/2017</td>\n",
       "      <td>200573</td>\n",
       "      <td>ZIG ZAG BANGLE  J4</td>\n",
       "      <td>Jewellery</td>\n",
       "      <td>264BCFBA</td>\n",
       "      <td>20</td>\n",
       "      <td>264BCFBA 200573</td>\n",
       "    </tr>\n",
       "    <tr>\n",
       "      <th>3</th>\n",
       "      <td>12/14/2017</td>\n",
       "      <td>217190</td>\n",
       "      <td>CHARM HEART BGL  A4</td>\n",
       "      <td>Jewellery</td>\n",
       "      <td>264BCFBA</td>\n",
       "      <td>20</td>\n",
       "      <td>264BCFBA 217190</td>\n",
       "    </tr>\n",
       "    <tr>\n",
       "      <th>4</th>\n",
       "      <td>12/3/2017</td>\n",
       "      <td>302445</td>\n",
       "      <td>COLORADO LRG RC  NP</td>\n",
       "      <td>Luggage</td>\n",
       "      <td>423BED3</td>\n",
       "      <td>29</td>\n",
       "      <td>423BED3 302445</td>\n",
       "    </tr>\n",
       "  </tbody>\n",
       "</table>\n",
       "</div>"
      ],
      "text/plain": [
       "         Date     SKU          Description Category Description   User Id  \\\n",
       "0  12/24/2017  302445  COLORADO LRG RC  NP              Luggage  264BCFBA   \n",
       "1   12/6/2017  303791   SCORPIUS LRG R  WL              Luggage  264BCFBA   \n",
       "2  11/16/2017  200573   ZIG ZAG BANGLE  J4            Jewellery  264BCFBA   \n",
       "3  12/14/2017  217190  CHARM HEART BGL  A4            Jewellery  264BCFBA   \n",
       "4   12/3/2017  302445  COLORADO LRG RC  NP              Luggage   423BED3   \n",
       "\n",
       "   Age       ID Product  \n",
       "0   20  264BCFBA 302445  \n",
       "1   20  264BCFBA 303791  \n",
       "2   20  264BCFBA 200573  \n",
       "3   20  264BCFBA 217190  \n",
       "4   29   423BED3 302445  "
      ]
     },
     "execution_count": 261,
     "metadata": {},
     "output_type": "execute_result"
    }
   ],
   "source": [
    "browse_data.head()"
   ]
  },
  {
   "cell_type": "code",
   "execution_count": 263,
   "metadata": {},
   "outputs": [
    {
     "data": {
      "text/plain": [
       "(3607, 7)"
      ]
     },
     "execution_count": 263,
     "metadata": {},
     "output_type": "execute_result"
    }
   ],
   "source": [
    "purchase_data.shape"
   ]
  },
  {
   "cell_type": "code",
   "execution_count": 262,
   "metadata": {},
   "outputs": [
    {
     "data": {
      "text/plain": [
       "User Id                 1137\n",
       "Date                     153\n",
       "SKU                       80\n",
       "Description               80\n",
       "Category Description       2\n",
       "Age                       36\n",
       "ID Product              3530\n",
       "dtype: int64"
      ]
     },
     "execution_count": 262,
     "metadata": {},
     "output_type": "execute_result"
    }
   ],
   "source": [
    "purchase_data.apply(lambda x: len(x.unique()))"
   ]
  },
  {
   "cell_type": "code",
   "execution_count": 266,
   "metadata": {},
   "outputs": [
    {
     "data": {
      "text/plain": [
       "(5826, 7)"
      ]
     },
     "execution_count": 266,
     "metadata": {},
     "output_type": "execute_result"
    }
   ],
   "source": [
    "browse_data.shape"
   ]
  },
  {
   "cell_type": "code",
   "execution_count": 267,
   "metadata": {},
   "outputs": [
    {
     "data": {
      "text/plain": [
       "Date                      61\n",
       "SKU                      144\n",
       "Description              144\n",
       "Category Description       3\n",
       "User Id                 1186\n",
       "Age                       36\n",
       "ID Product              5728\n",
       "dtype: int64"
      ]
     },
     "execution_count": 267,
     "metadata": {},
     "output_type": "execute_result"
    }
   ],
   "source": [
    "browse_data.apply(lambda x: len(x.unique()))"
   ]
  },
  {
   "cell_type": "code",
   "execution_count": 271,
   "metadata": {
    "collapsed": true
   },
   "outputs": [],
   "source": [
    "product_conversion_rate = pd.merge(purchase_data, browse_data, how='inner', on=['ID Product'])"
   ]
  },
  {
   "cell_type": "code",
   "execution_count": 274,
   "metadata": {},
   "outputs": [
    {
     "data": {
      "text/html": [
       "<div>\n",
       "<style>\n",
       "    .dataframe thead tr:only-child th {\n",
       "        text-align: right;\n",
       "    }\n",
       "\n",
       "    .dataframe thead th {\n",
       "        text-align: left;\n",
       "    }\n",
       "\n",
       "    .dataframe tbody tr th {\n",
       "        vertical-align: top;\n",
       "    }\n",
       "</style>\n",
       "<table border=\"1\" class=\"dataframe\">\n",
       "  <thead>\n",
       "    <tr style=\"text-align: right;\">\n",
       "      <th></th>\n",
       "      <th>User Id_x</th>\n",
       "      <th>Date_x</th>\n",
       "      <th>SKU_x</th>\n",
       "      <th>Description_x</th>\n",
       "      <th>Category Description_x</th>\n",
       "      <th>Age_x</th>\n",
       "      <th>ID Product</th>\n",
       "      <th>Date_y</th>\n",
       "      <th>SKU_y</th>\n",
       "      <th>Description_y</th>\n",
       "      <th>Category Description_y</th>\n",
       "      <th>User Id_y</th>\n",
       "      <th>Age_y</th>\n",
       "    </tr>\n",
       "  </thead>\n",
       "  <tbody>\n",
       "    <tr>\n",
       "      <th>0</th>\n",
       "      <td>A11DAD3</td>\n",
       "      <td>10/11/2017</td>\n",
       "      <td>126412</td>\n",
       "      <td>SIDE BOW GLOVE  Y0</td>\n",
       "      <td>Handbags &amp; Access</td>\n",
       "      <td>39</td>\n",
       "      <td>A11DAD3 126412</td>\n",
       "      <td>12/16/2017</td>\n",
       "      <td>126412</td>\n",
       "      <td>SIDE BOW GLOVE  Y0</td>\n",
       "      <td>Handbags &amp; Access</td>\n",
       "      <td>A11DAD3</td>\n",
       "      <td>39</td>\n",
       "    </tr>\n",
       "    <tr>\n",
       "      <th>1</th>\n",
       "      <td>1813A626</td>\n",
       "      <td>9/13/2017</td>\n",
       "      <td>178394</td>\n",
       "      <td>ASHMILLON GLOVE A0, 1SIZE</td>\n",
       "      <td>Handbags &amp; Access</td>\n",
       "      <td>35</td>\n",
       "      <td>1813A626 178394</td>\n",
       "      <td>12/1/2017</td>\n",
       "      <td>178394</td>\n",
       "      <td>ASHMILLON GLOVE A0, 1SIZE</td>\n",
       "      <td>Handbags &amp; Access</td>\n",
       "      <td>1813A626</td>\n",
       "      <td>35</td>\n",
       "    </tr>\n",
       "    <tr>\n",
       "      <th>2</th>\n",
       "      <td>3782DCC3</td>\n",
       "      <td>12/24/2017</td>\n",
       "      <td>211153</td>\n",
       "      <td>HAMMERED STACKER  S4</td>\n",
       "      <td>Jewellery</td>\n",
       "      <td>25</td>\n",
       "      <td>3782DCC3 211153</td>\n",
       "      <td>11/10/2017</td>\n",
       "      <td>211153</td>\n",
       "      <td>HAMMERED STACKER  S4</td>\n",
       "      <td>Jewellery</td>\n",
       "      <td>3782DCC3</td>\n",
       "      <td>25</td>\n",
       "    </tr>\n",
       "    <tr>\n",
       "      <th>3</th>\n",
       "      <td>1C0D4A72</td>\n",
       "      <td>10/9/2017</td>\n",
       "      <td>155500</td>\n",
       "      <td>LEATHER GLOVE  NT</td>\n",
       "      <td>Handbags &amp; Access</td>\n",
       "      <td>55</td>\n",
       "      <td>1C0D4A72 155500</td>\n",
       "      <td>12/10/2017</td>\n",
       "      <td>155500</td>\n",
       "      <td>LEATHER GLOVE  NT</td>\n",
       "      <td>Handbags &amp; Access</td>\n",
       "      <td>1C0D4A72</td>\n",
       "      <td>55</td>\n",
       "    </tr>\n",
       "    <tr>\n",
       "      <th>4</th>\n",
       "      <td>22A95C72</td>\n",
       "      <td>11/26/2017</td>\n",
       "      <td>167688</td>\n",
       "      <td>CASHMERE STRIPE F4</td>\n",
       "      <td>Handbags &amp; Access</td>\n",
       "      <td>25</td>\n",
       "      <td>22A95C72 167688</td>\n",
       "      <td>12/18/2017</td>\n",
       "      <td>167688</td>\n",
       "      <td>CASHMERE STRIPE F4</td>\n",
       "      <td>Handbags &amp; Access</td>\n",
       "      <td>22A95C72</td>\n",
       "      <td>25</td>\n",
       "    </tr>\n",
       "  </tbody>\n",
       "</table>\n",
       "</div>"
      ],
      "text/plain": [
       "  User Id_x      Date_x   SKU_x              Description_x  \\\n",
       "0   A11DAD3  10/11/2017  126412         SIDE BOW GLOVE  Y0   \n",
       "1  1813A626   9/13/2017  178394  ASHMILLON GLOVE A0, 1SIZE   \n",
       "2  3782DCC3  12/24/2017  211153       HAMMERED STACKER  S4   \n",
       "3  1C0D4A72   10/9/2017  155500          LEATHER GLOVE  NT   \n",
       "4  22A95C72  11/26/2017  167688         CASHMERE STRIPE F4   \n",
       "\n",
       "  Category Description_x  Age_x       ID Product      Date_y   SKU_y  \\\n",
       "0      Handbags & Access     39   A11DAD3 126412  12/16/2017  126412   \n",
       "1      Handbags & Access     35  1813A626 178394   12/1/2017  178394   \n",
       "2              Jewellery     25  3782DCC3 211153  11/10/2017  211153   \n",
       "3      Handbags & Access     55  1C0D4A72 155500  12/10/2017  155500   \n",
       "4      Handbags & Access     25  22A95C72 167688  12/18/2017  167688   \n",
       "\n",
       "               Description_y Category Description_y User Id_y  Age_y  \n",
       "0         SIDE BOW GLOVE  Y0      Handbags & Access   A11DAD3     39  \n",
       "1  ASHMILLON GLOVE A0, 1SIZE      Handbags & Access  1813A626     35  \n",
       "2       HAMMERED STACKER  S4              Jewellery  3782DCC3     25  \n",
       "3          LEATHER GLOVE  NT      Handbags & Access  1C0D4A72     55  \n",
       "4         CASHMERE STRIPE F4      Handbags & Access  22A95C72     25  "
      ]
     },
     "execution_count": 274,
     "metadata": {},
     "output_type": "execute_result"
    }
   ],
   "source": [
    "product_conversion_rate.head()"
   ]
  },
  {
   "cell_type": "code",
   "execution_count": 273,
   "metadata": {},
   "outputs": [
    {
     "data": {
      "text/plain": [
       "(112, 13)"
      ]
     },
     "execution_count": 273,
     "metadata": {},
     "output_type": "execute_result"
    }
   ],
   "source": [
    "product_conversion_rate.shape"
   ]
  },
  {
   "cell_type": "markdown",
   "metadata": {},
   "source": [
    "So, 112 users have browsed the product and purchased the same product\n",
    "\n",
    "So, these users should not be recommended with already purchased products, Users should be recommended with other similar products based on personilization."
   ]
  },
  {
   "cell_type": "code",
   "execution_count": null,
   "metadata": {
    "collapsed": true
   },
   "outputs": [],
   "source": []
  },
  {
   "cell_type": "markdown",
   "metadata": {},
   "source": [
    "Type2: User Conversion rate: (How many users are browsing the website and also buying some product)"
   ]
  },
  {
   "cell_type": "code",
   "execution_count": 280,
   "metadata": {},
   "outputs": [
    {
     "data": {
      "text/plain": [
       "Index(['Date', 'SKU', 'Description', 'Category Description', 'User Id', 'Age',\n",
       "       'ID Product'],\n",
       "      dtype='object')"
      ]
     },
     "execution_count": 280,
     "metadata": {},
     "output_type": "execute_result"
    }
   ],
   "source": [
    "browse_data.columns"
   ]
  },
  {
   "cell_type": "code",
   "execution_count": 281,
   "metadata": {},
   "outputs": [
    {
     "data": {
      "text/plain": [
       "Index(['User Id', 'Date', 'SKU', 'Description', 'Category Description', 'Age',\n",
       "       'ID Product'],\n",
       "      dtype='object')"
      ]
     },
     "execution_count": 281,
     "metadata": {},
     "output_type": "execute_result"
    }
   ],
   "source": [
    "purchase_data.columns"
   ]
  },
  {
   "cell_type": "code",
   "execution_count": 285,
   "metadata": {},
   "outputs": [
    {
     "data": {
      "text/plain": [
       "(3607, 7)"
      ]
     },
     "execution_count": 285,
     "metadata": {},
     "output_type": "execute_result"
    }
   ],
   "source": [
    "purchase_data.shape"
   ]
  },
  {
   "cell_type": "code",
   "execution_count": 284,
   "metadata": {},
   "outputs": [
    {
     "data": {
      "text/plain": [
       "True     3578\n",
       "False      29\n",
       "Name: User Id, dtype: int64"
      ]
     },
     "execution_count": 284,
     "metadata": {},
     "output_type": "execute_result"
    }
   ],
   "source": [
    "pd.value_counts(purchase_data['User Id'].isin(browse_data['User Id']))"
   ]
  },
  {
   "cell_type": "markdown",
   "metadata": {},
   "source": [
    "So there are a total of 3578 users who browsed and purchased product from the site:\n",
    "    \n",
    "    These users are to be recommended with the products which are not purchased.\n",
    "    \n",
    "    So we can use content based recommendation engine"
   ]
  },
  {
   "cell_type": "code",
   "execution_count": null,
   "metadata": {
    "collapsed": true
   },
   "outputs": [],
   "source": []
  },
  {
   "cell_type": "code",
   "execution_count": 334,
   "metadata": {},
   "outputs": [
    {
     "data": {
      "text/plain": [
       "True     5499\n",
       "False     327\n",
       "Name: User Id, dtype: int64"
      ]
     },
     "execution_count": 334,
     "metadata": {},
     "output_type": "execute_result"
    }
   ],
   "source": [
    "pd.value_counts(browse_data['User Id'].isin(purchase_data['User Id']))"
   ]
  },
  {
   "cell_type": "markdown",
   "metadata": {
    "collapsed": true
   },
   "source": [
    "327 People didnot purchase\n",
    "\n",
    "So we can recommend these people, with coupns, More personised model can be recommended."
   ]
  },
  {
   "cell_type": "markdown",
   "metadata": {},
   "source": [
    "# Working on Date and Times for Recommendation"
   ]
  },
  {
   "cell_type": "code",
   "execution_count": null,
   "metadata": {
    "collapsed": true
   },
   "outputs": [],
   "source": []
  },
  {
   "cell_type": "code",
   "execution_count": 287,
   "metadata": {},
   "outputs": [
    {
     "data": {
      "text/html": [
       "<div>\n",
       "<style>\n",
       "    .dataframe thead tr:only-child th {\n",
       "        text-align: right;\n",
       "    }\n",
       "\n",
       "    .dataframe thead th {\n",
       "        text-align: left;\n",
       "    }\n",
       "\n",
       "    .dataframe tbody tr th {\n",
       "        vertical-align: top;\n",
       "    }\n",
       "</style>\n",
       "<table border=\"1\" class=\"dataframe\">\n",
       "  <thead>\n",
       "    <tr style=\"text-align: right;\">\n",
       "      <th></th>\n",
       "      <th>Date</th>\n",
       "      <th>SKU</th>\n",
       "      <th>Description</th>\n",
       "      <th>Category Description</th>\n",
       "      <th>User Id</th>\n",
       "      <th>Age</th>\n",
       "      <th>ID Product</th>\n",
       "    </tr>\n",
       "  </thead>\n",
       "  <tbody>\n",
       "    <tr>\n",
       "      <th>0</th>\n",
       "      <td>12/24/2017</td>\n",
       "      <td>302445</td>\n",
       "      <td>COLORADO LRG RC  NP</td>\n",
       "      <td>Luggage</td>\n",
       "      <td>264BCFBA</td>\n",
       "      <td>20</td>\n",
       "      <td>264BCFBA 302445</td>\n",
       "    </tr>\n",
       "    <tr>\n",
       "      <th>1</th>\n",
       "      <td>12/6/2017</td>\n",
       "      <td>303791</td>\n",
       "      <td>SCORPIUS LRG R  WL</td>\n",
       "      <td>Luggage</td>\n",
       "      <td>264BCFBA</td>\n",
       "      <td>20</td>\n",
       "      <td>264BCFBA 303791</td>\n",
       "    </tr>\n",
       "    <tr>\n",
       "      <th>2</th>\n",
       "      <td>11/16/2017</td>\n",
       "      <td>200573</td>\n",
       "      <td>ZIG ZAG BANGLE  J4</td>\n",
       "      <td>Jewellery</td>\n",
       "      <td>264BCFBA</td>\n",
       "      <td>20</td>\n",
       "      <td>264BCFBA 200573</td>\n",
       "    </tr>\n",
       "    <tr>\n",
       "      <th>3</th>\n",
       "      <td>12/14/2017</td>\n",
       "      <td>217190</td>\n",
       "      <td>CHARM HEART BGL  A4</td>\n",
       "      <td>Jewellery</td>\n",
       "      <td>264BCFBA</td>\n",
       "      <td>20</td>\n",
       "      <td>264BCFBA 217190</td>\n",
       "    </tr>\n",
       "    <tr>\n",
       "      <th>4</th>\n",
       "      <td>12/3/2017</td>\n",
       "      <td>302445</td>\n",
       "      <td>COLORADO LRG RC  NP</td>\n",
       "      <td>Luggage</td>\n",
       "      <td>423BED3</td>\n",
       "      <td>29</td>\n",
       "      <td>423BED3 302445</td>\n",
       "    </tr>\n",
       "  </tbody>\n",
       "</table>\n",
       "</div>"
      ],
      "text/plain": [
       "         Date     SKU          Description Category Description   User Id  \\\n",
       "0  12/24/2017  302445  COLORADO LRG RC  NP              Luggage  264BCFBA   \n",
       "1   12/6/2017  303791   SCORPIUS LRG R  WL              Luggage  264BCFBA   \n",
       "2  11/16/2017  200573   ZIG ZAG BANGLE  J4            Jewellery  264BCFBA   \n",
       "3  12/14/2017  217190  CHARM HEART BGL  A4            Jewellery  264BCFBA   \n",
       "4   12/3/2017  302445  COLORADO LRG RC  NP              Luggage   423BED3   \n",
       "\n",
       "   Age       ID Product  \n",
       "0   20  264BCFBA 302445  \n",
       "1   20  264BCFBA 303791  \n",
       "2   20  264BCFBA 200573  \n",
       "3   20  264BCFBA 217190  \n",
       "4   29   423BED3 302445  "
      ]
     },
     "execution_count": 287,
     "metadata": {},
     "output_type": "execute_result"
    }
   ],
   "source": [
    "browse_data.head()"
   ]
  },
  {
   "cell_type": "code",
   "execution_count": 309,
   "metadata": {},
   "outputs": [
    {
     "data": {
      "text/plain": [
       "(5826, 8)"
      ]
     },
     "execution_count": 309,
     "metadata": {},
     "output_type": "execute_result"
    }
   ],
   "source": [
    "browse_data.shape"
   ]
  },
  {
   "cell_type": "code",
   "execution_count": 288,
   "metadata": {
    "collapsed": true
   },
   "outputs": [],
   "source": [
    "browse_data['Date']  = pd.to_datetime(browse_data['Date'])"
   ]
  },
  {
   "cell_type": "code",
   "execution_count": 289,
   "metadata": {},
   "outputs": [
    {
     "data": {
      "text/html": [
       "<div>\n",
       "<style>\n",
       "    .dataframe thead tr:only-child th {\n",
       "        text-align: right;\n",
       "    }\n",
       "\n",
       "    .dataframe thead th {\n",
       "        text-align: left;\n",
       "    }\n",
       "\n",
       "    .dataframe tbody tr th {\n",
       "        vertical-align: top;\n",
       "    }\n",
       "</style>\n",
       "<table border=\"1\" class=\"dataframe\">\n",
       "  <thead>\n",
       "    <tr style=\"text-align: right;\">\n",
       "      <th></th>\n",
       "      <th>Date</th>\n",
       "      <th>SKU</th>\n",
       "      <th>Description</th>\n",
       "      <th>Category Description</th>\n",
       "      <th>User Id</th>\n",
       "      <th>Age</th>\n",
       "      <th>ID Product</th>\n",
       "    </tr>\n",
       "  </thead>\n",
       "  <tbody>\n",
       "    <tr>\n",
       "      <th>0</th>\n",
       "      <td>2017-12-24</td>\n",
       "      <td>302445</td>\n",
       "      <td>COLORADO LRG RC  NP</td>\n",
       "      <td>Luggage</td>\n",
       "      <td>264BCFBA</td>\n",
       "      <td>20</td>\n",
       "      <td>264BCFBA 302445</td>\n",
       "    </tr>\n",
       "    <tr>\n",
       "      <th>1</th>\n",
       "      <td>2017-12-06</td>\n",
       "      <td>303791</td>\n",
       "      <td>SCORPIUS LRG R  WL</td>\n",
       "      <td>Luggage</td>\n",
       "      <td>264BCFBA</td>\n",
       "      <td>20</td>\n",
       "      <td>264BCFBA 303791</td>\n",
       "    </tr>\n",
       "  </tbody>\n",
       "</table>\n",
       "</div>"
      ],
      "text/plain": [
       "        Date     SKU          Description Category Description   User Id  Age  \\\n",
       "0 2017-12-24  302445  COLORADO LRG RC  NP              Luggage  264BCFBA   20   \n",
       "1 2017-12-06  303791   SCORPIUS LRG R  WL              Luggage  264BCFBA   20   \n",
       "\n",
       "        ID Product  \n",
       "0  264BCFBA 302445  \n",
       "1  264BCFBA 303791  "
      ]
     },
     "execution_count": 289,
     "metadata": {},
     "output_type": "execute_result"
    }
   ],
   "source": [
    "browse_data.head(2)"
   ]
  },
  {
   "cell_type": "markdown",
   "metadata": {},
   "source": [
    "Extract Month from the data"
   ]
  },
  {
   "cell_type": "code",
   "execution_count": 296,
   "metadata": {
    "collapsed": true
   },
   "outputs": [],
   "source": [
    "browse_data['Month'] = browse_data['Date'].map(lambda x: x.month)"
   ]
  },
  {
   "cell_type": "code",
   "execution_count": 298,
   "metadata": {},
   "outputs": [
    {
     "data": {
      "text/html": [
       "<div>\n",
       "<style>\n",
       "    .dataframe thead tr:only-child th {\n",
       "        text-align: right;\n",
       "    }\n",
       "\n",
       "    .dataframe thead th {\n",
       "        text-align: left;\n",
       "    }\n",
       "\n",
       "    .dataframe tbody tr th {\n",
       "        vertical-align: top;\n",
       "    }\n",
       "</style>\n",
       "<table border=\"1\" class=\"dataframe\">\n",
       "  <thead>\n",
       "    <tr style=\"text-align: right;\">\n",
       "      <th></th>\n",
       "      <th>Date</th>\n",
       "      <th>SKU</th>\n",
       "      <th>Description</th>\n",
       "      <th>Category Description</th>\n",
       "      <th>User Id</th>\n",
       "      <th>Age</th>\n",
       "      <th>ID Product</th>\n",
       "      <th>Month</th>\n",
       "    </tr>\n",
       "  </thead>\n",
       "  <tbody>\n",
       "    <tr>\n",
       "      <th>0</th>\n",
       "      <td>2017-12-24</td>\n",
       "      <td>302445</td>\n",
       "      <td>COLORADO LRG RC  NP</td>\n",
       "      <td>Luggage</td>\n",
       "      <td>264BCFBA</td>\n",
       "      <td>20</td>\n",
       "      <td>264BCFBA 302445</td>\n",
       "      <td>12</td>\n",
       "    </tr>\n",
       "    <tr>\n",
       "      <th>1</th>\n",
       "      <td>2017-12-06</td>\n",
       "      <td>303791</td>\n",
       "      <td>SCORPIUS LRG R  WL</td>\n",
       "      <td>Luggage</td>\n",
       "      <td>264BCFBA</td>\n",
       "      <td>20</td>\n",
       "      <td>264BCFBA 303791</td>\n",
       "      <td>12</td>\n",
       "    </tr>\n",
       "  </tbody>\n",
       "</table>\n",
       "</div>"
      ],
      "text/plain": [
       "        Date     SKU          Description Category Description   User Id  Age  \\\n",
       "0 2017-12-24  302445  COLORADO LRG RC  NP              Luggage  264BCFBA   20   \n",
       "1 2017-12-06  303791   SCORPIUS LRG R  WL              Luggage  264BCFBA   20   \n",
       "\n",
       "        ID Product  Month  \n",
       "0  264BCFBA 302445     12  \n",
       "1  264BCFBA 303791     12  "
      ]
     },
     "execution_count": 298,
     "metadata": {},
     "output_type": "execute_result"
    }
   ],
   "source": [
    "browse_data.head(2)"
   ]
  },
  {
   "cell_type": "code",
   "execution_count": 300,
   "metadata": {
    "collapsed": true
   },
   "outputs": [],
   "source": [
    "#Now extract month from purchase data\n",
    "\n",
    "purchase_data['Date'] = pd.to_datetime(purchase_data['Date'])\n",
    "purchase_data['Month'] = purchase_data['Date'].map(lambda x: x.month)"
   ]
  },
  {
   "cell_type": "code",
   "execution_count": 301,
   "metadata": {},
   "outputs": [
    {
     "data": {
      "text/html": [
       "<div>\n",
       "<style>\n",
       "    .dataframe thead tr:only-child th {\n",
       "        text-align: right;\n",
       "    }\n",
       "\n",
       "    .dataframe thead th {\n",
       "        text-align: left;\n",
       "    }\n",
       "\n",
       "    .dataframe tbody tr th {\n",
       "        vertical-align: top;\n",
       "    }\n",
       "</style>\n",
       "<table border=\"1\" class=\"dataframe\">\n",
       "  <thead>\n",
       "    <tr style=\"text-align: right;\">\n",
       "      <th></th>\n",
       "      <th>User Id</th>\n",
       "      <th>Date</th>\n",
       "      <th>SKU</th>\n",
       "      <th>Description</th>\n",
       "      <th>Category Description</th>\n",
       "      <th>Age</th>\n",
       "      <th>ID Product</th>\n",
       "      <th>Month</th>\n",
       "    </tr>\n",
       "  </thead>\n",
       "  <tbody>\n",
       "    <tr>\n",
       "      <th>0</th>\n",
       "      <td>311DBC84</td>\n",
       "      <td>2017-10-11</td>\n",
       "      <td>178394</td>\n",
       "      <td>ASHMILLON GLOVE A0, 1SIZE</td>\n",
       "      <td>Handbags &amp; Access</td>\n",
       "      <td>48</td>\n",
       "      <td>311DBC84 178394</td>\n",
       "      <td>10</td>\n",
       "    </tr>\n",
       "    <tr>\n",
       "      <th>1</th>\n",
       "      <td>311DBC84</td>\n",
       "      <td>2017-11-11</td>\n",
       "      <td>141740</td>\n",
       "      <td>OV PLAIN LEATHER  VZ</td>\n",
       "      <td>Handbags &amp; Access</td>\n",
       "      <td>48</td>\n",
       "      <td>311DBC84 141740</td>\n",
       "      <td>11</td>\n",
       "    </tr>\n",
       "  </tbody>\n",
       "</table>\n",
       "</div>"
      ],
      "text/plain": [
       "    User Id       Date     SKU                Description  \\\n",
       "0  311DBC84 2017-10-11  178394  ASHMILLON GLOVE A0, 1SIZE   \n",
       "1  311DBC84 2017-11-11  141740       OV PLAIN LEATHER  VZ   \n",
       "\n",
       "  Category Description  Age       ID Product  Month  \n",
       "0    Handbags & Access   48  311DBC84 178394     10  \n",
       "1    Handbags & Access   48  311DBC84 141740     11  "
      ]
     },
     "execution_count": 301,
     "metadata": {},
     "output_type": "execute_result"
    }
   ],
   "source": [
    "purchase_data.head(2)"
   ]
  },
  {
   "cell_type": "code",
   "execution_count": 303,
   "metadata": {
    "collapsed": true
   },
   "outputs": [],
   "source": [
    "#Now find the customer behavior for the products which he has purchased for the products he browsed.\n",
    "\n",
    "#product_conversion_rate.head(2)\n",
    "product_conversion_rate['Date_x'] = pd.to_datetime(product_conversion_rate['Date_x'])\n",
    "product_conversion_rate['Date_y'] = pd.to_datetime(product_conversion_rate['Date_y'])\n",
    "\n",
    "product_conversion_rate['Month_x'] = product_conversion_rate['Date_x'].map(lambda x: x.month)\n",
    "product_conversion_rate['Month_y'] = product_conversion_rate['Date_y'].map(lambda x: x.month)"
   ]
  },
  {
   "cell_type": "code",
   "execution_count": 304,
   "metadata": {},
   "outputs": [
    {
     "data": {
      "text/html": [
       "<div>\n",
       "<style>\n",
       "    .dataframe thead tr:only-child th {\n",
       "        text-align: right;\n",
       "    }\n",
       "\n",
       "    .dataframe thead th {\n",
       "        text-align: left;\n",
       "    }\n",
       "\n",
       "    .dataframe tbody tr th {\n",
       "        vertical-align: top;\n",
       "    }\n",
       "</style>\n",
       "<table border=\"1\" class=\"dataframe\">\n",
       "  <thead>\n",
       "    <tr style=\"text-align: right;\">\n",
       "      <th></th>\n",
       "      <th>User Id_x</th>\n",
       "      <th>Date_x</th>\n",
       "      <th>SKU_x</th>\n",
       "      <th>Description_x</th>\n",
       "      <th>Category Description_x</th>\n",
       "      <th>Age_x</th>\n",
       "      <th>ID Product</th>\n",
       "      <th>Date_y</th>\n",
       "      <th>SKU_y</th>\n",
       "      <th>Description_y</th>\n",
       "      <th>Category Description_y</th>\n",
       "      <th>User Id_y</th>\n",
       "      <th>Age_y</th>\n",
       "      <th>Month_x</th>\n",
       "      <th>Month_y</th>\n",
       "    </tr>\n",
       "  </thead>\n",
       "  <tbody>\n",
       "    <tr>\n",
       "      <th>0</th>\n",
       "      <td>A11DAD3</td>\n",
       "      <td>2017-10-11</td>\n",
       "      <td>126412</td>\n",
       "      <td>SIDE BOW GLOVE  Y0</td>\n",
       "      <td>Handbags &amp; Access</td>\n",
       "      <td>39</td>\n",
       "      <td>A11DAD3 126412</td>\n",
       "      <td>2017-12-16</td>\n",
       "      <td>126412</td>\n",
       "      <td>SIDE BOW GLOVE  Y0</td>\n",
       "      <td>Handbags &amp; Access</td>\n",
       "      <td>A11DAD3</td>\n",
       "      <td>39</td>\n",
       "      <td>10</td>\n",
       "      <td>12</td>\n",
       "    </tr>\n",
       "    <tr>\n",
       "      <th>1</th>\n",
       "      <td>1813A626</td>\n",
       "      <td>2017-09-13</td>\n",
       "      <td>178394</td>\n",
       "      <td>ASHMILLON GLOVE A0, 1SIZE</td>\n",
       "      <td>Handbags &amp; Access</td>\n",
       "      <td>35</td>\n",
       "      <td>1813A626 178394</td>\n",
       "      <td>2017-12-01</td>\n",
       "      <td>178394</td>\n",
       "      <td>ASHMILLON GLOVE A0, 1SIZE</td>\n",
       "      <td>Handbags &amp; Access</td>\n",
       "      <td>1813A626</td>\n",
       "      <td>35</td>\n",
       "      <td>9</td>\n",
       "      <td>12</td>\n",
       "    </tr>\n",
       "  </tbody>\n",
       "</table>\n",
       "</div>"
      ],
      "text/plain": [
       "  User Id_x     Date_x   SKU_x              Description_x  \\\n",
       "0   A11DAD3 2017-10-11  126412         SIDE BOW GLOVE  Y0   \n",
       "1  1813A626 2017-09-13  178394  ASHMILLON GLOVE A0, 1SIZE   \n",
       "\n",
       "  Category Description_x  Age_x       ID Product     Date_y   SKU_y  \\\n",
       "0      Handbags & Access     39   A11DAD3 126412 2017-12-16  126412   \n",
       "1      Handbags & Access     35  1813A626 178394 2017-12-01  178394   \n",
       "\n",
       "               Description_y Category Description_y User Id_y  Age_y  Month_x  \\\n",
       "0         SIDE BOW GLOVE  Y0      Handbags & Access   A11DAD3     39       10   \n",
       "1  ASHMILLON GLOVE A0, 1SIZE      Handbags & Access  1813A626     35        9   \n",
       "\n",
       "   Month_y  \n",
       "0       12  \n",
       "1       12  "
      ]
     },
     "execution_count": 304,
     "metadata": {},
     "output_type": "execute_result"
    }
   ],
   "source": [
    "product_conversion_rate.head(2)"
   ]
  },
  {
   "cell_type": "markdown",
   "metadata": {},
   "source": [
    "It can be clearly seen that customers are browsing in one month and they are purchasing in another month.\n",
    "So these users can be recommended with the products in the month earlier can increase the sales."
   ]
  },
  {
   "cell_type": "code",
   "execution_count": 305,
   "metadata": {
    "collapsed": true
   },
   "outputs": [],
   "source": [
    "#now find the difference in months on conversation rates\n",
    "\n",
    "product_conversion_rate['Months Diff'] = product_conversion_rate['Month_y'] - product_conversion_rate['Month_x']"
   ]
  },
  {
   "cell_type": "code",
   "execution_count": 306,
   "metadata": {},
   "outputs": [
    {
     "data": {
      "text/plain": [
       " 2    28\n",
       " 3    25\n",
       " 0    22\n",
       " 1    20\n",
       "-1    12\n",
       " 4     5\n",
       "Name: Months Diff, dtype: int64"
      ]
     },
     "execution_count": 306,
     "metadata": {},
     "output_type": "execute_result"
    }
   ],
   "source": [
    "pd.value_counts(product_conversion_rate['Months Diff'])"
   ]
  },
  {
   "cell_type": "markdown",
   "metadata": {},
   "source": [
    "So maximum conversation rates are two months old, So these customers can be recommended in early months.\n",
    "\n",
    "Note: Negative values means,can be customers already buyied product and browsing same afterwards"
   ]
  },
  {
   "cell_type": "code",
   "execution_count": null,
   "metadata": {
    "collapsed": true
   },
   "outputs": [],
   "source": []
  },
  {
   "cell_type": "code",
   "execution_count": 307,
   "metadata": {},
   "outputs": [
    {
     "data": {
      "text/plain": [
       "12    2922\n",
       "11    2904\n",
       "Name: Month, dtype: int64"
      ]
     },
     "execution_count": 307,
     "metadata": {},
     "output_type": "execute_result"
    }
   ],
   "source": [
    "#Months with most products are browsed:\n",
    "\n",
    "pd.value_counts(browse_data['Month'])"
   ]
  },
  {
   "cell_type": "code",
   "execution_count": 308,
   "metadata": {},
   "outputs": [
    {
     "data": {
      "text/plain": [
       "10    762\n",
       "12    734\n",
       "11    728\n",
       "9     703\n",
       "8     680\n",
       "Name: Month, dtype: int64"
      ]
     },
     "execution_count": 308,
     "metadata": {},
     "output_type": "execute_result"
    }
   ],
   "source": [
    "Months\n",
    "pd.value_counts(purchase_data['Month'])"
   ]
  },
  {
   "cell_type": "code",
   "execution_count": null,
   "metadata": {
    "collapsed": true
   },
   "outputs": [],
   "source": []
  },
  {
   "cell_type": "markdown",
   "metadata": {},
   "source": [
    "# More User Personalization"
   ]
  },
  {
   "cell_type": "markdown",
   "metadata": {},
   "source": [
    "Working more on User personolization and shopping behaviour"
   ]
  },
  {
   "cell_type": "markdown",
   "metadata": {},
   "source": [
    "Type1:  Users who are more into browsing products"
   ]
  },
  {
   "cell_type": "code",
   "execution_count": 312,
   "metadata": {},
   "outputs": [
    {
     "data": {
      "text/plain": [
       "172C8B95    15\n",
       "31553493    14\n",
       "64C666F     12\n",
       "1B232CD1    12\n",
       "2DEFA40B    12\n",
       "296394F3    12\n",
       "15B29E82    11\n",
       "2AB11B64    11\n",
       "684138A     10\n",
       "2EF17CC3    10\n",
       "2BE4E639    10\n",
       "2535B3C5    10\n",
       "2C68D6D0    10\n",
       "13499803    10\n",
       "25923815    10\n",
       "74EB484     10\n",
       "2F2C7788    10\n",
       "A496029     10\n",
       "13E26C58    10\n",
       "2A2C5C67    10\n",
       "Name: User Id, dtype: int64"
      ]
     },
     "execution_count": 312,
     "metadata": {},
     "output_type": "execute_result"
    }
   ],
   "source": [
    "pd.value_counts(browse_behaviour['User Id'])[:20]"
   ]
  },
  {
   "cell_type": "markdown",
   "metadata": {},
   "source": [
    "These are the users who has browsed most of the times, So these users can be recommended with similar products according to their shopping behavior using the above algorithms."
   ]
  },
  {
   "cell_type": "code",
   "execution_count": null,
   "metadata": {
    "collapsed": true
   },
   "outputs": [],
   "source": []
  },
  {
   "cell_type": "markdown",
   "metadata": {},
   "source": [
    "Type2: Users who bought most of the products"
   ]
  },
  {
   "cell_type": "code",
   "execution_count": 314,
   "metadata": {},
   "outputs": [
    {
     "data": {
      "text/plain": [
       "362D796F    9\n",
       "3EDE744     9\n",
       "28D41F65    9\n",
       "395A11D1    8\n",
       "3B55150D    8\n",
       "1CFC45FA    8\n",
       "5199D8C     8\n",
       "203DF735    8\n",
       "21B76D04    8\n",
       "2B820DDD    8\n",
       "1153B3E1    8\n",
       "33CAFD26    8\n",
       "3403ADF5    8\n",
       "141B0234    8\n",
       "2E8A648C    7\n",
       "22EAAE2F    7\n",
       "30074A6D    7\n",
       "18F899D3    7\n",
       "1086AF0F    7\n",
       "25D999D6    7\n",
       "Name: User Id, dtype: int64"
      ]
     },
     "execution_count": 314,
     "metadata": {},
     "output_type": "execute_result"
    }
   ],
   "source": [
    "pur_counts = pd.value_counts(purchase_behaviour['User Id'])\n",
    "pur_counts[:20]"
   ]
  },
  {
   "cell_type": "code",
   "execution_count": 316,
   "metadata": {},
   "outputs": [
    {
     "data": {
      "text/plain": [
       "count    1137.000000\n",
       "mean        3.172383\n",
       "std         1.631073\n",
       "min         1.000000\n",
       "25%         2.000000\n",
       "50%         3.000000\n",
       "75%         4.000000\n",
       "max         9.000000\n",
       "Name: User Id, dtype: float64"
      ]
     },
     "execution_count": 316,
     "metadata": {},
     "output_type": "execute_result"
    }
   ],
   "source": [
    "pur_counts.describe()"
   ]
  },
  {
   "cell_type": "markdown",
   "metadata": {},
   "source": [
    "75% percent of the users has buyied less than 4 products\n",
    "\n",
    "so we can divide users based on shopping behaviour\n",
    "\n",
    "more than 6 purchases : 5 star\n",
    "    \n",
    "between 4-5 purchases : 4 star\n",
    "    \n",
    "between 3-4 purchases : 3 star\n",
    "        \n",
    "between 1-2 purchases : 1 star\n",
    "    \n",
    "0 purchases : 0 star\n",
    "\n",
    "\n",
    "we can use browsing data to change the star rating,\n",
    "\n",
    "For example, some users may browse less and purchase more, So rating can be changed."
   ]
  },
  {
   "cell_type": "code",
   "execution_count": 317,
   "metadata": {
    "collapsed": true
   },
   "outputs": [],
   "source": [
    "purchase_data['User Freq'] = purchase_data.groupby('User Id')['User Id'].transform('count')"
   ]
  },
  {
   "cell_type": "code",
   "execution_count": 318,
   "metadata": {},
   "outputs": [
    {
     "data": {
      "text/html": [
       "<div>\n",
       "<style>\n",
       "    .dataframe thead tr:only-child th {\n",
       "        text-align: right;\n",
       "    }\n",
       "\n",
       "    .dataframe thead th {\n",
       "        text-align: left;\n",
       "    }\n",
       "\n",
       "    .dataframe tbody tr th {\n",
       "        vertical-align: top;\n",
       "    }\n",
       "</style>\n",
       "<table border=\"1\" class=\"dataframe\">\n",
       "  <thead>\n",
       "    <tr style=\"text-align: right;\">\n",
       "      <th></th>\n",
       "      <th>User Id</th>\n",
       "      <th>Date</th>\n",
       "      <th>SKU</th>\n",
       "      <th>Description</th>\n",
       "      <th>Category Description</th>\n",
       "      <th>Age</th>\n",
       "      <th>ID Product</th>\n",
       "      <th>Month</th>\n",
       "      <th>User Freq</th>\n",
       "    </tr>\n",
       "  </thead>\n",
       "  <tbody>\n",
       "    <tr>\n",
       "      <th>0</th>\n",
       "      <td>311DBC84</td>\n",
       "      <td>2017-10-11</td>\n",
       "      <td>178394</td>\n",
       "      <td>ASHMILLON GLOVE A0, 1SIZE</td>\n",
       "      <td>Handbags &amp; Access</td>\n",
       "      <td>48</td>\n",
       "      <td>311DBC84 178394</td>\n",
       "      <td>10</td>\n",
       "      <td>2</td>\n",
       "    </tr>\n",
       "    <tr>\n",
       "      <th>1</th>\n",
       "      <td>311DBC84</td>\n",
       "      <td>2017-11-11</td>\n",
       "      <td>141740</td>\n",
       "      <td>OV PLAIN LEATHER  VZ</td>\n",
       "      <td>Handbags &amp; Access</td>\n",
       "      <td>48</td>\n",
       "      <td>311DBC84 141740</td>\n",
       "      <td>11</td>\n",
       "      <td>2</td>\n",
       "    </tr>\n",
       "    <tr>\n",
       "      <th>2</th>\n",
       "      <td>26C2EE87</td>\n",
       "      <td>2017-12-02</td>\n",
       "      <td>178394</td>\n",
       "      <td>ASHMILLON GLOVE A0, 1SIZE</td>\n",
       "      <td>Handbags &amp; Access</td>\n",
       "      <td>25</td>\n",
       "      <td>26C2EE87 178394</td>\n",
       "      <td>12</td>\n",
       "      <td>5</td>\n",
       "    </tr>\n",
       "    <tr>\n",
       "      <th>3</th>\n",
       "      <td>26C2EE87</td>\n",
       "      <td>2017-12-10</td>\n",
       "      <td>186796</td>\n",
       "      <td>MIMOSA PRINT BANG  N4</td>\n",
       "      <td>Jewellery</td>\n",
       "      <td>25</td>\n",
       "      <td>26C2EE87 186796</td>\n",
       "      <td>12</td>\n",
       "      <td>5</td>\n",
       "    </tr>\n",
       "    <tr>\n",
       "      <th>4</th>\n",
       "      <td>26C2EE87</td>\n",
       "      <td>2017-10-28</td>\n",
       "      <td>135119</td>\n",
       "      <td>PATENT CHARM GLOV  Y4</td>\n",
       "      <td>Handbags &amp; Access</td>\n",
       "      <td>25</td>\n",
       "      <td>26C2EE87 135119</td>\n",
       "      <td>10</td>\n",
       "      <td>5</td>\n",
       "    </tr>\n",
       "  </tbody>\n",
       "</table>\n",
       "</div>"
      ],
      "text/plain": [
       "    User Id       Date     SKU                Description  \\\n",
       "0  311DBC84 2017-10-11  178394  ASHMILLON GLOVE A0, 1SIZE   \n",
       "1  311DBC84 2017-11-11  141740       OV PLAIN LEATHER  VZ   \n",
       "2  26C2EE87 2017-12-02  178394  ASHMILLON GLOVE A0, 1SIZE   \n",
       "3  26C2EE87 2017-12-10  186796      MIMOSA PRINT BANG  N4   \n",
       "4  26C2EE87 2017-10-28  135119      PATENT CHARM GLOV  Y4   \n",
       "\n",
       "  Category Description  Age       ID Product  Month  User Freq  \n",
       "0    Handbags & Access   48  311DBC84 178394     10          2  \n",
       "1    Handbags & Access   48  311DBC84 141740     11          2  \n",
       "2    Handbags & Access   25  26C2EE87 178394     12          5  \n",
       "3            Jewellery   25  26C2EE87 186796     12          5  \n",
       "4    Handbags & Access   25  26C2EE87 135119     10          5  "
      ]
     },
     "execution_count": 318,
     "metadata": {},
     "output_type": "execute_result"
    }
   ],
   "source": [
    "purchase_data.head()"
   ]
  },
  {
   "cell_type": "code",
   "execution_count": null,
   "metadata": {
    "collapsed": true
   },
   "outputs": [],
   "source": []
  },
  {
   "cell_type": "markdown",
   "metadata": {},
   "source": [
    "# Matrix for Purchase History "
   ]
  },
  {
   "cell_type": "code",
   "execution_count": 319,
   "metadata": {
    "collapsed": true
   },
   "outputs": [],
   "source": [
    "purchase_matrix = purchase_behaviour.copy()"
   ]
  },
  {
   "cell_type": "code",
   "execution_count": 320,
   "metadata": {},
   "outputs": [
    {
     "data": {
      "text/plain": [
       "Index(['User Id', 'Date', 'SKU', 'Description', 'Category Description', 'Age'], dtype='object')"
      ]
     },
     "execution_count": 320,
     "metadata": {},
     "output_type": "execute_result"
    }
   ],
   "source": [
    "purchase_matrix.columns"
   ]
  },
  {
   "cell_type": "code",
   "execution_count": 321,
   "metadata": {
    "collapsed": true
   },
   "outputs": [],
   "source": [
    "product_pur_matrix = pd.get_dummies(purchase_matrix['Description'])"
   ]
  },
  {
   "cell_type": "code",
   "execution_count": 324,
   "metadata": {},
   "outputs": [
    {
     "data": {
      "text/plain": [
       "(3607, 80)"
      ]
     },
     "execution_count": 324,
     "metadata": {},
     "output_type": "execute_result"
    }
   ],
   "source": [
    "product_pur_matrix.shape"
   ]
  },
  {
   "cell_type": "code",
   "execution_count": 325,
   "metadata": {
    "collapsed": true
   },
   "outputs": [],
   "source": [
    "result = pd.concat([purchase_matrix, product_pur_matrix], axis=1, join_axes=[product_pur_matrix.index])"
   ]
  },
  {
   "cell_type": "code",
   "execution_count": 326,
   "metadata": {},
   "outputs": [
    {
     "data": {
      "text/plain": [
       "(3607, 86)"
      ]
     },
     "execution_count": 326,
     "metadata": {},
     "output_type": "execute_result"
    }
   ],
   "source": [
    "result.shape"
   ]
  },
  {
   "cell_type": "code",
   "execution_count": 328,
   "metadata": {},
   "outputs": [
    {
     "data": {
      "text/html": [
       "<div>\n",
       "<style>\n",
       "    .dataframe thead tr:only-child th {\n",
       "        text-align: right;\n",
       "    }\n",
       "\n",
       "    .dataframe thead th {\n",
       "        text-align: left;\n",
       "    }\n",
       "\n",
       "    .dataframe tbody tr th {\n",
       "        vertical-align: top;\n",
       "    }\n",
       "</style>\n",
       "<table border=\"1\" class=\"dataframe\">\n",
       "  <thead>\n",
       "    <tr style=\"text-align: right;\">\n",
       "      <th></th>\n",
       "      <th>User Id</th>\n",
       "      <th>Date</th>\n",
       "      <th>SKU</th>\n",
       "      <th>Description</th>\n",
       "      <th>Category Description</th>\n",
       "      <th>Age</th>\n",
       "      <th>ANIMAL BANGLE  N4</th>\n",
       "      <th>ANIMAL BUCKLE GLO  SH</th>\n",
       "      <th>ASHMILLON BERET A0</th>\n",
       "      <th>ASHMILLON BERET A0, 1SIZE</th>\n",
       "      <th>...</th>\n",
       "      <th>SIDE BOW GLOVE  Y0</th>\n",
       "      <th>SPARKLE FLOWER RI  Y4</th>\n",
       "      <th>SPARKLE GARDEN RI  ZZ</th>\n",
       "      <th>SPECKLE WOOD BANG  R8</th>\n",
       "      <th>SPECKLED BANGLE  N4</th>\n",
       "      <th>SPICE BANGLE  N4</th>\n",
       "      <th>STUDDED BOW GLOVE  Y0</th>\n",
       "      <th>WOOD DIP BANGLE  W5</th>\n",
       "      <th>ZEBRA BANGLE  Y4</th>\n",
       "      <th>ZIG ZAG BANGLE  J4</th>\n",
       "    </tr>\n",
       "  </thead>\n",
       "  <tbody>\n",
       "    <tr>\n",
       "      <th>0</th>\n",
       "      <td>311DBC84</td>\n",
       "      <td>10/11/2017</td>\n",
       "      <td>178394</td>\n",
       "      <td>ASHMILLON GLOVE A0, 1SIZE</td>\n",
       "      <td>Handbags &amp; Access</td>\n",
       "      <td>48</td>\n",
       "      <td>0</td>\n",
       "      <td>0</td>\n",
       "      <td>0</td>\n",
       "      <td>0</td>\n",
       "      <td>...</td>\n",
       "      <td>0</td>\n",
       "      <td>0</td>\n",
       "      <td>0</td>\n",
       "      <td>0</td>\n",
       "      <td>0</td>\n",
       "      <td>0</td>\n",
       "      <td>0</td>\n",
       "      <td>0</td>\n",
       "      <td>0</td>\n",
       "      <td>0</td>\n",
       "    </tr>\n",
       "    <tr>\n",
       "      <th>1</th>\n",
       "      <td>311DBC84</td>\n",
       "      <td>11/11/2017</td>\n",
       "      <td>141740</td>\n",
       "      <td>OV PLAIN LEATHER  VZ</td>\n",
       "      <td>Handbags &amp; Access</td>\n",
       "      <td>48</td>\n",
       "      <td>0</td>\n",
       "      <td>0</td>\n",
       "      <td>0</td>\n",
       "      <td>0</td>\n",
       "      <td>...</td>\n",
       "      <td>0</td>\n",
       "      <td>0</td>\n",
       "      <td>0</td>\n",
       "      <td>0</td>\n",
       "      <td>0</td>\n",
       "      <td>0</td>\n",
       "      <td>0</td>\n",
       "      <td>0</td>\n",
       "      <td>0</td>\n",
       "      <td>0</td>\n",
       "    </tr>\n",
       "    <tr>\n",
       "      <th>2</th>\n",
       "      <td>26C2EE87</td>\n",
       "      <td>12/2/2017</td>\n",
       "      <td>178394</td>\n",
       "      <td>ASHMILLON GLOVE A0, 1SIZE</td>\n",
       "      <td>Handbags &amp; Access</td>\n",
       "      <td>25</td>\n",
       "      <td>0</td>\n",
       "      <td>0</td>\n",
       "      <td>0</td>\n",
       "      <td>0</td>\n",
       "      <td>...</td>\n",
       "      <td>0</td>\n",
       "      <td>0</td>\n",
       "      <td>0</td>\n",
       "      <td>0</td>\n",
       "      <td>0</td>\n",
       "      <td>0</td>\n",
       "      <td>0</td>\n",
       "      <td>0</td>\n",
       "      <td>0</td>\n",
       "      <td>0</td>\n",
       "    </tr>\n",
       "    <tr>\n",
       "      <th>3</th>\n",
       "      <td>26C2EE87</td>\n",
       "      <td>12/10/2017</td>\n",
       "      <td>186796</td>\n",
       "      <td>MIMOSA PRINT BANG  N4</td>\n",
       "      <td>Jewellery</td>\n",
       "      <td>25</td>\n",
       "      <td>0</td>\n",
       "      <td>0</td>\n",
       "      <td>0</td>\n",
       "      <td>0</td>\n",
       "      <td>...</td>\n",
       "      <td>0</td>\n",
       "      <td>0</td>\n",
       "      <td>0</td>\n",
       "      <td>0</td>\n",
       "      <td>0</td>\n",
       "      <td>0</td>\n",
       "      <td>0</td>\n",
       "      <td>0</td>\n",
       "      <td>0</td>\n",
       "      <td>0</td>\n",
       "    </tr>\n",
       "    <tr>\n",
       "      <th>4</th>\n",
       "      <td>26C2EE87</td>\n",
       "      <td>10/28/2017</td>\n",
       "      <td>135119</td>\n",
       "      <td>PATENT CHARM GLOV  Y4</td>\n",
       "      <td>Handbags &amp; Access</td>\n",
       "      <td>25</td>\n",
       "      <td>0</td>\n",
       "      <td>0</td>\n",
       "      <td>0</td>\n",
       "      <td>0</td>\n",
       "      <td>...</td>\n",
       "      <td>0</td>\n",
       "      <td>0</td>\n",
       "      <td>0</td>\n",
       "      <td>0</td>\n",
       "      <td>0</td>\n",
       "      <td>0</td>\n",
       "      <td>0</td>\n",
       "      <td>0</td>\n",
       "      <td>0</td>\n",
       "      <td>0</td>\n",
       "    </tr>\n",
       "  </tbody>\n",
       "</table>\n",
       "<p>5 rows × 86 columns</p>\n",
       "</div>"
      ],
      "text/plain": [
       "    User Id        Date     SKU                Description  \\\n",
       "0  311DBC84  10/11/2017  178394  ASHMILLON GLOVE A0, 1SIZE   \n",
       "1  311DBC84  11/11/2017  141740       OV PLAIN LEATHER  VZ   \n",
       "2  26C2EE87   12/2/2017  178394  ASHMILLON GLOVE A0, 1SIZE   \n",
       "3  26C2EE87  12/10/2017  186796      MIMOSA PRINT BANG  N4   \n",
       "4  26C2EE87  10/28/2017  135119      PATENT CHARM GLOV  Y4   \n",
       "\n",
       "  Category Description  Age  ANIMAL BANGLE  N4  ANIMAL BUCKLE GLO  SH  \\\n",
       "0    Handbags & Access   48                  0                      0   \n",
       "1    Handbags & Access   48                  0                      0   \n",
       "2    Handbags & Access   25                  0                      0   \n",
       "3            Jewellery   25                  0                      0   \n",
       "4    Handbags & Access   25                  0                      0   \n",
       "\n",
       "   ASHMILLON BERET A0  ASHMILLON BERET A0, 1SIZE         ...          \\\n",
       "0                   0                          0         ...           \n",
       "1                   0                          0         ...           \n",
       "2                   0                          0         ...           \n",
       "3                   0                          0         ...           \n",
       "4                   0                          0         ...           \n",
       "\n",
       "   SIDE BOW GLOVE  Y0  SPARKLE FLOWER RI  Y4  SPARKLE GARDEN RI  ZZ  \\\n",
       "0                   0                      0                      0   \n",
       "1                   0                      0                      0   \n",
       "2                   0                      0                      0   \n",
       "3                   0                      0                      0   \n",
       "4                   0                      0                      0   \n",
       "\n",
       "   SPECKLE WOOD BANG  R8  SPECKLED BANGLE  N4  SPICE BANGLE  N4  \\\n",
       "0                      0                    0                 0   \n",
       "1                      0                    0                 0   \n",
       "2                      0                    0                 0   \n",
       "3                      0                    0                 0   \n",
       "4                      0                    0                 0   \n",
       "\n",
       "   STUDDED BOW GLOVE  Y0  WOOD DIP BANGLE  W5  ZEBRA BANGLE  Y4  \\\n",
       "0                      0                    0                 0   \n",
       "1                      0                    0                 0   \n",
       "2                      0                    0                 0   \n",
       "3                      0                    0                 0   \n",
       "4                      0                    0                 0   \n",
       "\n",
       "   ZIG ZAG BANGLE  J4  \n",
       "0                   0  \n",
       "1                   0  \n",
       "2                   0  \n",
       "3                   0  \n",
       "4                   0  \n",
       "\n",
       "[5 rows x 86 columns]"
      ]
     },
     "execution_count": 328,
     "metadata": {},
     "output_type": "execute_result"
    }
   ],
   "source": [
    "result.head(5)"
   ]
  },
  {
   "cell_type": "code",
   "execution_count": 329,
   "metadata": {
    "collapsed": true
   },
   "outputs": [],
   "source": [
    "result['Category Description Labels'] = L.fit_transform(result['Category Description'])\n",
    "del result['Category Description']\n",
    "del result['Description']\n",
    "del result['SKU']\n",
    "del result['Date']"
   ]
  },
  {
   "cell_type": "code",
   "execution_count": 330,
   "metadata": {},
   "outputs": [
    {
     "data": {
      "text/html": [
       "<div>\n",
       "<style>\n",
       "    .dataframe thead tr:only-child th {\n",
       "        text-align: right;\n",
       "    }\n",
       "\n",
       "    .dataframe thead th {\n",
       "        text-align: left;\n",
       "    }\n",
       "\n",
       "    .dataframe tbody tr th {\n",
       "        vertical-align: top;\n",
       "    }\n",
       "</style>\n",
       "<table border=\"1\" class=\"dataframe\">\n",
       "  <thead>\n",
       "    <tr style=\"text-align: right;\">\n",
       "      <th></th>\n",
       "      <th>User Id</th>\n",
       "      <th>Age</th>\n",
       "      <th>ANIMAL BANGLE  N4</th>\n",
       "      <th>ANIMAL BUCKLE GLO  SH</th>\n",
       "      <th>ASHMILLON BERET A0</th>\n",
       "      <th>ASHMILLON BERET A0, 1SIZE</th>\n",
       "      <th>ASHMILLON GLOVE A0</th>\n",
       "      <th>ASHMILLON GLOVE A0, 1SIZE</th>\n",
       "      <th>ASHMILLON GLOVE B0</th>\n",
       "      <th>ASHMILLON GLOVE B0, 1SIZE</th>\n",
       "      <th>...</th>\n",
       "      <th>SPARKLE FLOWER RI  Y4</th>\n",
       "      <th>SPARKLE GARDEN RI  ZZ</th>\n",
       "      <th>SPECKLE WOOD BANG  R8</th>\n",
       "      <th>SPECKLED BANGLE  N4</th>\n",
       "      <th>SPICE BANGLE  N4</th>\n",
       "      <th>STUDDED BOW GLOVE  Y0</th>\n",
       "      <th>WOOD DIP BANGLE  W5</th>\n",
       "      <th>ZEBRA BANGLE  Y4</th>\n",
       "      <th>ZIG ZAG BANGLE  J4</th>\n",
       "      <th>Category Description Labels</th>\n",
       "    </tr>\n",
       "  </thead>\n",
       "  <tbody>\n",
       "    <tr>\n",
       "      <th>0</th>\n",
       "      <td>311DBC84</td>\n",
       "      <td>48</td>\n",
       "      <td>0</td>\n",
       "      <td>0</td>\n",
       "      <td>0</td>\n",
       "      <td>0</td>\n",
       "      <td>0</td>\n",
       "      <td>1</td>\n",
       "      <td>0</td>\n",
       "      <td>0</td>\n",
       "      <td>...</td>\n",
       "      <td>0</td>\n",
       "      <td>0</td>\n",
       "      <td>0</td>\n",
       "      <td>0</td>\n",
       "      <td>0</td>\n",
       "      <td>0</td>\n",
       "      <td>0</td>\n",
       "      <td>0</td>\n",
       "      <td>0</td>\n",
       "      <td>0</td>\n",
       "    </tr>\n",
       "    <tr>\n",
       "      <th>1</th>\n",
       "      <td>311DBC84</td>\n",
       "      <td>48</td>\n",
       "      <td>0</td>\n",
       "      <td>0</td>\n",
       "      <td>0</td>\n",
       "      <td>0</td>\n",
       "      <td>0</td>\n",
       "      <td>0</td>\n",
       "      <td>0</td>\n",
       "      <td>0</td>\n",
       "      <td>...</td>\n",
       "      <td>0</td>\n",
       "      <td>0</td>\n",
       "      <td>0</td>\n",
       "      <td>0</td>\n",
       "      <td>0</td>\n",
       "      <td>0</td>\n",
       "      <td>0</td>\n",
       "      <td>0</td>\n",
       "      <td>0</td>\n",
       "      <td>0</td>\n",
       "    </tr>\n",
       "  </tbody>\n",
       "</table>\n",
       "<p>2 rows × 83 columns</p>\n",
       "</div>"
      ],
      "text/plain": [
       "    User Id  Age  ANIMAL BANGLE  N4  ANIMAL BUCKLE GLO  SH  \\\n",
       "0  311DBC84   48                  0                      0   \n",
       "1  311DBC84   48                  0                      0   \n",
       "\n",
       "   ASHMILLON BERET A0  ASHMILLON BERET A0, 1SIZE  ASHMILLON GLOVE A0  \\\n",
       "0                   0                          0                   0   \n",
       "1                   0                          0                   0   \n",
       "\n",
       "   ASHMILLON GLOVE A0, 1SIZE  ASHMILLON GLOVE B0  ASHMILLON GLOVE B0, 1SIZE  \\\n",
       "0                          1                   0                          0   \n",
       "1                          0                   0                          0   \n",
       "\n",
       "              ...               SPARKLE FLOWER RI  Y4  SPARKLE GARDEN RI  ZZ  \\\n",
       "0             ...                                   0                      0   \n",
       "1             ...                                   0                      0   \n",
       "\n",
       "   SPECKLE WOOD BANG  R8  SPECKLED BANGLE  N4  SPICE BANGLE  N4  \\\n",
       "0                      0                    0                 0   \n",
       "1                      0                    0                 0   \n",
       "\n",
       "   STUDDED BOW GLOVE  Y0  WOOD DIP BANGLE  W5  ZEBRA BANGLE  Y4  \\\n",
       "0                      0                    0                 0   \n",
       "1                      0                    0                 0   \n",
       "\n",
       "   ZIG ZAG BANGLE  J4  Category Description Labels  \n",
       "0                   0                            0  \n",
       "1                   0                            0  \n",
       "\n",
       "[2 rows x 83 columns]"
      ]
     },
     "execution_count": 330,
     "metadata": {},
     "output_type": "execute_result"
    }
   ],
   "source": [
    "result.head(2)"
   ]
  },
  {
   "cell_type": "markdown",
   "metadata": {},
   "source": [
    "form cluster groups based on prodcuts purchased"
   ]
  },
  {
   "cell_type": "code",
   "execution_count": 331,
   "metadata": {
    "collapsed": true
   },
   "outputs": [],
   "source": [
    "del result['User Id']"
   ]
  },
  {
   "cell_type": "code",
   "execution_count": 332,
   "metadata": {
    "collapsed": true
   },
   "outputs": [],
   "source": [
    "X = result"
   ]
  },
  {
   "cell_type": "code",
   "execution_count": 333,
   "metadata": {
    "collapsed": true
   },
   "outputs": [],
   "source": [
    "from sklearn.cluster import KMeans\n",
    "\n",
    "# Number of clusters\n",
    "kmeans = KMeans(n_clusters=10)\n",
    "# Fitting the input data\n",
    "kmeans = kmeans.fit(X)\n",
    "# Getting the cluster labels\n",
    "labels = kmeans.predict(X)\n",
    "# Centroid values\n",
    "centroids = kmeans.cluster_centers_"
   ]
  },
  {
   "cell_type": "markdown",
   "metadata": {},
   "source": [
    "We have formed cluster groups, so when ever new user comes and shops for any products, we will look into the MATRIX and calculate the nearest neighbours using KNN and find the items in that clusters"
   ]
  },
  {
   "cell_type": "code",
   "execution_count": null,
   "metadata": {
    "collapsed": true
   },
   "outputs": [],
   "source": []
  },
  {
   "cell_type": "code",
   "execution_count": null,
   "metadata": {
    "collapsed": true
   },
   "outputs": [],
   "source": []
  }
 ],
 "metadata": {
  "kernelspec": {
   "display_name": "Python 3",
   "language": "python",
   "name": "python3"
  },
  "language_info": {
   "codemirror_mode": {
    "name": "ipython",
    "version": 3
   },
   "file_extension": ".py",
   "mimetype": "text/x-python",
   "name": "python",
   "nbconvert_exporter": "python",
   "pygments_lexer": "ipython3",
   "version": "3.6.1"
  }
 },
 "nbformat": 4,
 "nbformat_minor": 2
}
