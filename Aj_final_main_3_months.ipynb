{
 "cells": [
  {
   "cell_type": "code",
   "execution_count": 1,
   "metadata": {},
   "outputs": [
    {
     "name": "stderr",
     "output_type": "stream",
     "text": [
      "C:\\Users\\1004365\\AppData\\Local\\Continuum\\Anaconda3\\lib\\site-packages\\statsmodels\\compat\\pandas.py:56: FutureWarning: The pandas.core.datetools module is deprecated and will be removed in a future version. Please use the pandas.tseries module instead.\n",
      "  from pandas.core import datetools\n"
     ]
    }
   ],
   "source": [
    "import pandas as pd\n",
    "import numpy as np\n",
    "import pickle\n",
    "from matplotlib import pyplot\n",
    "import matplotlib.pyplot as plt\n",
    "import warnings\n",
    "import itertools\n",
    "import datetime\n",
    "from matplotlib.pylab import rcParams\n",
    "rcParams['figure.figsize'] = 15, 6\n",
    "from statsmodels.tsa.arima_model import ARIMA\n",
    "from matplotlib import pyplot\n",
    "from sklearn.metrics import mean_squared_error\n",
    "import statsmodels\n",
    "import statsmodels.api as sm\n",
    "from statsmodels.graphics.tsaplots import plot_acf\n",
    "from statsmodels.graphics.tsaplots import plot_pacf\n",
    "from statsmodels.tsa.arima_model import ARIMA\n",
    "from statsmodels.tsa.stattools import adfuller\n",
    "import sys"
   ]
  },
  {
   "cell_type": "code",
   "execution_count": 2,
   "metadata": {
    "collapsed": true
   },
   "outputs": [],
   "source": [
    "class TGIM_Model(object):\n",
    "    def __init__(self):\n",
    "        \n",
    "        #Class constructor or initialization method.''''''\n",
    "        earth = \"blue\"\n",
    "        \n",
    "    def get_data(self, data):\n",
    "        #data= pd.read_csv(r\"C:\\Users\\1004365\\Desktop\\Ajith TCS Internal\\TGIM\\\\CPU_LOAD_OLD.csv\")\n",
    "        data_copy = data.copy()\n",
    "        print(\"Top two columns of data set\")\n",
    "        print(\"\\n\")\n",
    "        print(data_copy.head(2))\n",
    "        print(\"\\n\")\n",
    "        print(\"\\n\")\n",
    "        print(\"Columns\",data_copy.columns)\n",
    "        \n",
    "        #convert dataframe into time series\n",
    "        data_copy['Date'] = pd.to_datetime(data_copy['Date'])\n",
    "        \n",
    "        ###################### getting basic statistics  ###############################\n",
    "        print(\"The statistical analysis on data set \\n\")\n",
    "        print(\"\\n\")\n",
    "        print(data_copy.describe())\n",
    "        data_copy.index = data_copy['Date']\n",
    "        data_copy.index =data_copy.index.map(lambda t: t.strftime('%Y-%m-%d %H:%M'))\n",
    "        data_copy['no_seconds'] = data_copy.index\n",
    "        #\n",
    "        data_copy['Day/Month/Year'] = data_copy['Date'].apply(lambda x: \"%d/%d/%d\" % (x.day,x.month, x.year))\n",
    "        print(\"\\n\")\n",
    "        print(\"\\n\")\n",
    "        print(\"The number samples per each day on original data\\n\")\n",
    "        print(pd.value_counts(data_copy['Day/Month/Year'], sort = True))\n",
    "        #\n",
    "        #create a new time series\n",
    "        times = pd.date_range('2017-07-16 00:02:00 ', periods=9216, freq='5min')\n",
    "\n",
    "        times_df = pd.DataFrame()\n",
    "        times_df[\"series\"] = times\n",
    "        times_df.index= times_df[\"series\"]\n",
    "        times_df.index =times_df.index.map(lambda t: t.strftime('%Y-%m-%d %H:%M'))\n",
    "        times_df['no_seconds'] = times_df.index\n",
    "        #\n",
    "        mergerd = pd.merge(times_df, data_copy, on='no_seconds', how= 'outer')\n",
    "        print(\"\\n\")\n",
    "        print(\"\\n\")\n",
    "        print(\"Newly merged data frame which contains newly for time stamps\")\n",
    "        print(mergerd.head(3))\n",
    "        del mergerd['series']\n",
    "        del mergerd['Day/Month/Year']\n",
    "        mergerd['no_seconds'] = pd.to_datetime(mergerd['no_seconds'])\n",
    "        mergerd.index = mergerd.no_seconds\n",
    "        mergerd = mergerd.sort_index() \n",
    "        values = mergerd.groupby(pd.TimeGrouper('5Min'))['Value'].sum()\n",
    "        #\n",
    "        print(\"\\n\")\n",
    "        print(\"\\n\")\n",
    "        print(\"After sorting time indices and wrapping to 5min time stamp\")\n",
    "        print(values.shape)\n",
    "        train_df = pd.DataFrame()\n",
    "        train_df['values'] = values\n",
    "        train_df['Date'] = train_df.index\n",
    "        train_df['Date'] = pd.to_datetime(train_df['Date'])\n",
    "        train_df['Day/Month/Year'] = train_df['Date'].apply(lambda x: \"%d/%d/%d\" % (x.day,x.month, x.year))\n",
    "        print(\"\\n\")\n",
    "        print(\"\\n\")\n",
    "        print(\"Now check for missing time stamps, there are no missing timeslots\")\n",
    "        print(pd.value_counts(train_df['Day/Month/Year'], sort = True))\n",
    "        print(\"missing values at different times\")\n",
    "        print(train_df.apply(lambda x: sum(x.isnull())))\n",
    "        y = train_df['values']\n",
    "        \n",
    "        print(\"validity check\")\n",
    "        print(y)\n",
    "        nan_index = list(y[np.isnan(y.values)].index)\n",
    "\n",
    "        for dIndex in nan_index:\n",
    "            upper = dIndex + datetime.timedelta(minutes=5)\n",
    "            lower = dIndex - datetime.timedelta(minutes=5)\n",
    "    \n",
    "            while(np.isnan(y[upper])):\n",
    "                upper = upper + datetime.timedelta(minutes=5)\n",
    "            while(np.isnan(y[lower])):\n",
    "                lower = lower - datetime.timedelta(minutes=5)\n",
    "            y[dIndex] = (y[upper] + y[lower])/2\n",
    "        \n",
    "        #delete un used variables\n",
    "        del times_df, data_copy, data,mergerd\n",
    "        Dummy_df = pd.DataFrame(y)\n",
    "        print(\"\\n\")\n",
    "        print(\"\\n\")\n",
    "        print(\"Missing values after imputation with average of above and below values\")\n",
    "        print(Dummy_df.apply(lambda x: sum(x.isnull())))\n",
    "        del Dummy_df\n",
    "        return y\n",
    "    #\n",
    "    #\n",
    "    def decomposeSeries(self, series, period=288):\n",
    "        decomposedSeries = sm.tsa.seasonal_decompose(series,freq=period)\n",
    "        season = decomposedSeries.seasonal\n",
    "        series_new = series - season\n",
    "        latest_date = season.index.date[-1]\n",
    "        season_pre = season[str(latest_date)]\n",
    "        season_pre.index = season_pre.index + datetime.timedelta(days=1)\n",
    "        #print(\"\\n\")\n",
    "        #print(\"\\n\")\n",
    "        #print(len(season_pre))\n",
    "        return series_new,season_pre\n",
    "\n",
    "    #Dickey Fuller Test of Stationarity-\n",
    "    def testStationarity(self, series):\n",
    "        result = adfuller(series)\n",
    "        print(\"\\n\")\n",
    "        print(\"\\n\")\n",
    "        print(\"Dickey Fuller Test of Stationarity\")\n",
    "        print('ADF Statistic: %f' % result[0])\n",
    "        print('p-value: %f' % result[1])\n",
    "        print('Critical Values:')\n",
    "        print(\"\\n\")\n",
    "        for key, value in result[4].items():\n",
    "            print('\\t%s: %.3f' % (key, value))\n",
    "                            \n",
    "    def findOrder(self, series, p=5,d=2,q=5):\n",
    "        p = range(p)\n",
    "        d = range(d)\n",
    "        q = range(q)\n",
    "        orderList = list(itertools.product(p, d, q))\n",
    "        AIC = []\n",
    "        minAIC = sys.maxsize\n",
    "        selOrder = (0,0,0)\n",
    "        for order in orderList:\n",
    "            try:\n",
    "                print(\"processing order {}\".format(order))\n",
    "                model = ARIMA(series, order=order)\n",
    "                model_fit = model.fit(disp=0)\n",
    "                print(\"Order {} AIC {} BIC {}\".format(order,model_fit.aic,model_fit.bic))\n",
    "                AIC.append(model_fit.aic)\n",
    "                if(model_fit.aic < minAIC):\n",
    "                    minAIC = model_fit.aic\n",
    "                    selOrder = order\n",
    "            except:\n",
    "                continue\n",
    "        return selOrder\n",
    "\n",
    "    def doArima(self, series,order):\n",
    "        model = ARIMA(series, order=order)\n",
    "        model_fit = model.fit(disp=0)\n",
    "        yhat = model_fit.forecast()[0]\n",
    "        return np.squeeze(yhat)\n",
    "     \n",
    "    def forecast_plot(self, y_decomp,y, season,order):\n",
    "        for i in range(1):  \n",
    "            train_size = int(len(y) - 288 + i*12)\n",
    "            y_new = y_decomp.copy()\n",
    "            y_new = y_new.append((y[len(y_decomp):train_size] - season).dropna())\n",
    "            test = y[train_size:train_size+30]\n",
    "            #print(y_new[-1])\n",
    "            history = [x for x in y_new]\n",
    "            predictions = list()\n",
    "            for t in range(30):\n",
    "                print(\"\\n\")\n",
    "                print(t)\n",
    "                yhat = self.doArima(history,order)\n",
    "                predictions.append(yhat)\n",
    "                history.append(yhat)\n",
    "                print(\"Predicted : {} Actual:{}\".format(np.round(np.squeeze(yhat),2)+np.round(season[t+i*12],2),np.round(test[t],2)))\n",
    "\n",
    "            test_act = test[:30]\n",
    "            test_pre = pd.Series(np.squeeze(predictions),index = test_act.index) + season[i*12:i*12+30]\n",
    "            print(\"season\")\n",
    "            print(season[i*12:i*12+30])\n",
    "            print(\"\\n\")\n",
    "            print(\"Actual\", test_act)\n",
    "            print(\"\\n\")\n",
    "            print(\"Predicted\", test_pre)\n",
    "            print(\"\\n\")\n",
    "            plt.plot(test_act)\n",
    "            plt.plot(test_pre)\n",
    "            plt.legend([\"Actuals\",\"Predicted\"])\n",
    "            plt.xlabel('Date & Time')\n",
    "            plt.ylabel('CPU LOAD')\n",
    "            plt.show()\n",
    "        "
   ]
  },
  {
   "cell_type": "code",
   "execution_count": 3,
   "metadata": {
    "collapsed": true
   },
   "outputs": [],
   "source": [
    "def main():\n",
    "    obj = TGIM_Model()\n",
    "    data= pd.read_csv(r\"C:\\Users\\1004365\\Desktop\\Ajith TCS Internal\\TGIM\\\\CPU_LOAD_OLD.csv\")\n",
    "    y = obj.get_data(data)\n",
    "    train_size = int(len(y) - 288)\n",
    "    train = y[0:train_size]\n",
    "    y_decomp, season = obj.decomposeSeries(train)\n",
    "    obj.testStationarity(y_decomp)\n",
    "    order = obj.findOrder(y_decomp)\n",
    "    print(\"_________________________________________________________________________\")\n",
    "    print(\"\\n\")\n",
    "    print(\"The order is\",order)\n",
    "    obj.forecast_plot( y_decomp,y, season,order)\n",
    "    \n",
    "    "
   ]
  },
  {
   "cell_type": "code",
   "execution_count": 4,
   "metadata": {},
   "outputs": [
    {
     "name": "stdout",
     "output_type": "stream",
     "text": [
      "Top two columns of data set\n",
      "\n",
      "\n",
      "                  Date  Value\n",
      "0  2017-07-16 00:02:45   0.89\n",
      "1  2017-07-16 00:07:45   0.64\n",
      "\n",
      "\n",
      "\n",
      "\n",
      "Columns Index(['Date', 'Value'], dtype='object')\n",
      "The statistical analysis on data set \n",
      "\n",
      "\n",
      "\n",
      "             Value\n",
      "count  9183.000000\n",
      "mean      1.252883\n",
      "std       0.854700\n",
      "min       0.150000\n",
      "25%       0.660000\n",
      "50%       0.960000\n",
      "75%       1.580000\n",
      "max       5.920000\n",
      "\n",
      "\n",
      "\n",
      "\n",
      "The number samples per each day on original data\n",
      "\n",
      "12/8/2017    288\n",
      "23/7/2017    288\n",
      "19/7/2017    288\n",
      "18/7/2017    288\n",
      "1/8/2017     288\n",
      "2/8/2017     288\n",
      "10/8/2017    288\n",
      "7/8/2017     288\n",
      "29/7/2017    288\n",
      "8/8/2017     288\n",
      "16/7/2017    288\n",
      "22/7/2017    288\n",
      "30/7/2017    288\n",
      "6/8/2017     288\n",
      "17/7/2017    288\n",
      "25/7/2017    288\n",
      "24/7/2017    288\n",
      "9/8/2017     288\n",
      "20/7/2017    288\n",
      "13/8/2017    288\n",
      "15/8/2017    288\n",
      "28/7/2017    288\n",
      "4/8/2017     288\n",
      "5/8/2017     288\n",
      "14/8/2017    288\n",
      "3/8/2017     288\n",
      "16/8/2017    288\n",
      "11/8/2017    287\n",
      "21/7/2017    287\n",
      "26/7/2017    287\n",
      "31/7/2017    275\n",
      "27/7/2017    271\n",
      "Name: Day/Month/Year, dtype: int64\n",
      "\n",
      "\n",
      "\n",
      "\n",
      "Newly merged data frame which contains newly for time stamps\n",
      "               series        no_seconds                Date  Value  \\\n",
      "0 2017-07-16 00:02:00  2017-07-16 00:02 2017-07-16 00:02:45   0.89   \n",
      "1 2017-07-16 00:07:00  2017-07-16 00:07 2017-07-16 00:07:45   0.64   \n",
      "2 2017-07-16 00:12:00  2017-07-16 00:12 2017-07-16 00:12:46   0.71   \n",
      "\n",
      "  Day/Month/Year  \n",
      "0      16/7/2017  \n",
      "1      16/7/2017  \n",
      "2      16/7/2017  \n",
      "\n",
      "\n",
      "\n",
      "\n",
      "After sorting time indices and wrapping to 5min time stamp\n",
      "(9216,)\n",
      "\n",
      "\n",
      "\n",
      "\n",
      "Now check for missing time stamps, there are no missing timeslots\n",
      "12/8/2017    288\n",
      "6/8/2017     288\n",
      "19/7/2017    288\n",
      "11/8/2017    288\n",
      "18/7/2017    288\n",
      "1/8/2017     288\n",
      "2/8/2017     288\n",
      "10/8/2017    288\n",
      "7/8/2017     288\n",
      "27/7/2017    288\n",
      "26/7/2017    288\n",
      "29/7/2017    288\n",
      "8/8/2017     288\n",
      "16/7/2017    288\n",
      "22/7/2017    288\n",
      "30/7/2017    288\n",
      "17/7/2017    288\n",
      "21/7/2017    288\n",
      "23/7/2017    288\n",
      "31/7/2017    288\n",
      "9/8/2017     288\n",
      "20/7/2017    288\n",
      "13/8/2017    288\n",
      "15/8/2017    288\n",
      "28/7/2017    288\n",
      "5/8/2017     288\n",
      "14/8/2017    288\n",
      "3/8/2017     288\n",
      "16/8/2017    288\n",
      "24/7/2017    288\n",
      "4/8/2017     288\n",
      "25/7/2017    288\n",
      "Name: Day/Month/Year, dtype: int64\n",
      "missing values at different times\n",
      "values            38\n",
      "Date               0\n",
      "Day/Month/Year     0\n",
      "dtype: int64\n",
      "validity check"
     ]
    },
    {
     "name": "stderr",
     "output_type": "stream",
     "text": [
      "C:\\Users\\1004365\\AppData\\Local\\Continuum\\Anaconda3\\lib\\site-packages\\ipykernel_launcher.py:84: SettingWithCopyWarning: \n",
      "A value is trying to be set on a copy of a slice from a DataFrame\n",
      "\n",
      "See the caveats in the documentation: http://pandas.pydata.org/pandas-docs/stable/indexing.html#indexing-view-versus-copy\n"
     ]
    },
    {
     "name": "stdout",
     "output_type": "stream",
     "text": [
      "\n",
      "no_seconds\n",
      "2017-07-16 00:00:00    0.89\n",
      "2017-07-16 00:05:00    0.64\n",
      "2017-07-16 00:10:00    0.71\n",
      "2017-07-16 00:15:00    0.67\n",
      "2017-07-16 00:20:00    0.70\n",
      "2017-07-16 00:25:00    1.32\n",
      "2017-07-16 00:30:00    1.34\n",
      "2017-07-16 00:35:00    0.96\n",
      "2017-07-16 00:40:00    1.15\n",
      "2017-07-16 00:45:00    1.38\n",
      "2017-07-16 00:50:00    1.13\n",
      "2017-07-16 00:55:00    0.88\n",
      "2017-07-16 01:00:00    1.23\n",
      "2017-07-16 01:05:00    1.76\n",
      "2017-07-16 01:10:00    0.76\n",
      "2017-07-16 01:15:00    0.95\n",
      "2017-07-16 01:20:00    0.54\n",
      "2017-07-16 01:25:00    0.31\n",
      "2017-07-16 01:30:00    0.47\n",
      "2017-07-16 01:35:00    0.69\n",
      "2017-07-16 01:40:00    0.56\n",
      "2017-07-16 01:45:00    0.81\n",
      "2017-07-16 01:50:00    0.68\n",
      "2017-07-16 01:55:00    0.41\n",
      "2017-07-16 02:00:00    0.71\n",
      "2017-07-16 02:05:00    0.86\n",
      "2017-07-16 02:10:00    1.21\n",
      "2017-07-16 02:15:00    1.53\n",
      "2017-07-16 02:20:00    1.45\n",
      "2017-07-16 02:25:00    1.48\n",
      "                       ... \n",
      "2017-08-16 21:30:00    0.81\n",
      "2017-08-16 21:35:00    0.74\n",
      "2017-08-16 21:40:00    0.64\n",
      "2017-08-16 21:45:00    0.67\n",
      "2017-08-16 21:50:00    0.55\n",
      "2017-08-16 21:55:00    1.11\n",
      "2017-08-16 22:00:00    0.81\n",
      "2017-08-16 22:05:00    0.52\n",
      "2017-08-16 22:10:00    0.60\n",
      "2017-08-16 22:15:00    1.12\n",
      "2017-08-16 22:20:00    1.31\n",
      "2017-08-16 22:25:00    1.69\n",
      "2017-08-16 22:30:00    1.94\n",
      "2017-08-16 22:35:00    2.88\n",
      "2017-08-16 22:40:00    1.49\n",
      "2017-08-16 22:45:00    0.92\n",
      "2017-08-16 22:50:00    0.74\n",
      "2017-08-16 22:55:00    0.64\n",
      "2017-08-16 23:00:00    0.85\n",
      "2017-08-16 23:05:00    0.92\n",
      "2017-08-16 23:10:00    1.69\n",
      "2017-08-16 23:15:00    0.86\n",
      "2017-08-16 23:20:00    0.41\n",
      "2017-08-16 23:25:00    0.35\n",
      "2017-08-16 23:30:00    0.79\n",
      "2017-08-16 23:35:00    1.23\n",
      "2017-08-16 23:40:00    1.26\n",
      "2017-08-16 23:45:00    2.08\n",
      "2017-08-16 23:50:00    1.93\n",
      "2017-08-16 23:55:00    1.30\n",
      "Freq: 5T, Name: values, Length: 9216, dtype: float64\n",
      "\n",
      "\n",
      "\n",
      "\n",
      "Missing values after imputation with average of above and below values\n",
      "values    0\n",
      "dtype: int64\n",
      "\n",
      "\n",
      "\n",
      "\n",
      "Dickey Fuller Test of Stationarity\n",
      "ADF Statistic: -11.482147\n",
      "p-value: 0.000000\n",
      "Critical Values:\n",
      "\n",
      "\n",
      "\t1%: -3.431\n",
      "\t5%: -2.862\n",
      "\t10%: -2.567\n",
      "processing order (0, 0, 0)\n",
      "Order (0, 0, 0) AIC 12810.60571745166 BIC 12824.799612820903\n",
      "processing order (0, 0, 1)\n",
      "Order (0, 0, 1) AIC 10032.755639409903 BIC 10054.046482463766\n",
      "processing order (0, 0, 2)\n",
      "Order (0, 0, 2) AIC 9323.553938241823 BIC 9351.941728980308\n",
      "processing order (0, 0, 3)\n",
      "Order (0, 0, 3) AIC 9117.789605298496 BIC 9153.274343721601\n",
      "processing order (0, 0, 4)\n",
      "Order (0, 0, 4) AIC 9022.30123084987 BIC 9064.882916957597\n",
      "processing order (0, 1, 0)\n",
      "Order (0, 1, 0) AIC 10893.513401083299 BIC 10907.707072425657\n",
      "processing order (0, 1, 1)\n",
      "Order (0, 1, 1) AIC 9701.460704955814 BIC 9722.751211969353\n",
      "processing order (0, 1, 2)\n",
      "Order (0, 1, 2) AIC 8946.223497459774 BIC 8974.61084014449\n",
      "processing order (0, 1, 3)\n",
      "Order (0, 1, 3) AIC 8747.079491721124 BIC 8782.563670077021\n",
      "processing order (0, 1, 4)\n",
      "processing order (1, 0, 0)\n",
      "Order (1, 0, 0) AIC 8885.095372582895 BIC 8906.386215636758\n",
      "processing order (1, 0, 1)\n",
      "Order (1, 0, 1) AIC 8826.878139746117 BIC 8855.265930484602\n",
      "processing order (1, 0, 2)\n",
      "Order (1, 0, 2) AIC 8701.452808097143 BIC 8736.937546520248\n",
      "processing order (1, 0, 3)\n",
      "Order (1, 0, 3) AIC 8618.37481778273 BIC 8660.956503890457\n",
      "processing order (1, 0, 4)\n",
      "Order (1, 0, 4) AIC 8610.944521047586 BIC 8660.623154839934\n",
      "processing order (1, 1, 0)\n",
      "Order (1, 1, 0) AIC 10282.977554784607 BIC 10304.268061798146\n",
      "processing order (1, 1, 1)\n",
      "Order (1, 1, 1) AIC 8671.827690782262 BIC 8700.215033466979\n",
      "processing order (1, 1, 2)\n",
      "Order (1, 1, 2) AIC 8670.788969636811 BIC 8706.273147992708\n",
      "processing order (1, 1, 3)\n"
     ]
    },
    {
     "name": "stderr",
     "output_type": "stream",
     "text": [
      "C:\\Users\\1004365\\AppData\\Local\\Continuum\\Anaconda3\\lib\\site-packages\\statsmodels\\tsa\\kalmanf\\kalmanfilter.py:649: RuntimeWarning: divide by zero encountered in true_divide\n",
      "  R_mat, T_mat)\n",
      "C:\\Users\\1004365\\AppData\\Local\\Continuum\\Anaconda3\\lib\\site-packages\\statsmodels\\tsa\\tsatools.py:628: RuntimeWarning: overflow encountered in exp\n",
      "  newparams = ((1-np.exp(-params))/(1+np.exp(-params))).copy()\n",
      "C:\\Users\\1004365\\AppData\\Local\\Continuum\\Anaconda3\\lib\\site-packages\\statsmodels\\tsa\\tsatools.py:628: RuntimeWarning: invalid value encountered in true_divide\n",
      "  newparams = ((1-np.exp(-params))/(1+np.exp(-params))).copy()\n",
      "C:\\Users\\1004365\\AppData\\Local\\Continuum\\Anaconda3\\lib\\site-packages\\statsmodels\\tsa\\tsatools.py:629: RuntimeWarning: overflow encountered in exp\n",
      "  tmp = ((1-np.exp(-params))/(1+np.exp(-params))).copy()\n",
      "C:\\Users\\1004365\\AppData\\Local\\Continuum\\Anaconda3\\lib\\site-packages\\statsmodels\\tsa\\tsatools.py:629: RuntimeWarning: invalid value encountered in true_divide\n",
      "  tmp = ((1-np.exp(-params))/(1+np.exp(-params))).copy()\n",
      "C:\\Users\\1004365\\AppData\\Local\\Continuum\\Anaconda3\\lib\\site-packages\\statsmodels\\base\\model.py:496: ConvergenceWarning: Maximum Likelihood optimization failed to converge. Check mle_retvals\n",
      "  \"Check mle_retvals\", ConvergenceWarning)\n"
     ]
    },
    {
     "name": "stdout",
     "output_type": "stream",
     "text": [
      "Order (1, 1, 3) AIC 8640.295476685034 BIC 8682.876490712111\n",
      "processing order (1, 1, 4)\n"
     ]
    },
    {
     "name": "stderr",
     "output_type": "stream",
     "text": [
      "C:\\Users\\1004365\\AppData\\Local\\Continuum\\Anaconda3\\lib\\site-packages\\statsmodels\\base\\model.py:496: ConvergenceWarning: Maximum Likelihood optimization failed to converge. Check mle_retvals\n",
      "  \"Check mle_retvals\", ConvergenceWarning)\n"
     ]
    },
    {
     "name": "stdout",
     "output_type": "stream",
     "text": [
      "Order (1, 1, 4) AIC 8598.988018434298 BIC 8648.665868132553\n",
      "processing order (2, 0, 0)\n",
      "Order (2, 0, 0) AIC 8843.35572666704 BIC 8871.743517405524\n",
      "processing order (2, 0, 1)\n",
      "Order (2, 0, 1) AIC 8604.702060684278 BIC 8640.186799107383\n",
      "processing order (2, 0, 2)\n",
      "Order (2, 0, 2) AIC 8605.47086009285 BIC 8648.052546200577\n",
      "processing order (2, 0, 3)\n",
      "Order (2, 0, 3) AIC 8607.273049842966 BIC 8656.951683635314\n",
      "processing order (2, 0, 4)\n",
      "Order (2, 0, 4) AIC 8596.220855889951 BIC 8652.996437366919\n",
      "processing order (2, 1, 0)\n",
      "Order (2, 1, 0) AIC 9875.910742352296 BIC 9904.298085037013\n",
      "processing order (2, 1, 1)\n",
      "Order (2, 1, 1) AIC 8671.227774178253 BIC 8706.71195253415\n",
      "processing order (2, 1, 2)\n"
     ]
    },
    {
     "name": "stderr",
     "output_type": "stream",
     "text": [
      "C:\\Users\\1004365\\AppData\\Local\\Continuum\\Anaconda3\\lib\\site-packages\\statsmodels\\base\\model.py:496: ConvergenceWarning: Maximum Likelihood optimization failed to converge. Check mle_retvals\n",
      "  \"Check mle_retvals\", ConvergenceWarning)\n"
     ]
    },
    {
     "name": "stdout",
     "output_type": "stream",
     "text": [
      "Order (2, 1, 2) AIC 8583.30934203617 BIC 8625.890356063246\n",
      "processing order (2, 1, 3)\n"
     ]
    },
    {
     "name": "stderr",
     "output_type": "stream",
     "text": [
      "C:\\Users\\1004365\\AppData\\Local\\Continuum\\Anaconda3\\lib\\site-packages\\statsmodels\\base\\model.py:496: ConvergenceWarning: Maximum Likelihood optimization failed to converge. Check mle_retvals\n",
      "  \"Check mle_retvals\", ConvergenceWarning)\n"
     ]
    },
    {
     "name": "stdout",
     "output_type": "stream",
     "text": [
      "Order (2, 1, 3) AIC 8582.39766361234 BIC 8632.075513310596\n",
      "processing order (2, 1, 4)\n"
     ]
    },
    {
     "name": "stderr",
     "output_type": "stream",
     "text": [
      "C:\\Users\\1004365\\AppData\\Local\\Continuum\\Anaconda3\\lib\\site-packages\\statsmodels\\base\\model.py:496: ConvergenceWarning: Maximum Likelihood optimization failed to converge. Check mle_retvals\n",
      "  \"Check mle_retvals\", ConvergenceWarning)\n"
     ]
    },
    {
     "name": "stdout",
     "output_type": "stream",
     "text": [
      "Order (2, 1, 4) AIC 8604.682660263952 BIC 8661.457345633387\n",
      "processing order (3, 0, 0)\n",
      "Order (3, 0, 0) AIC 8797.124820327746 BIC 8832.609558750852\n",
      "processing order (3, 0, 1)\n",
      "Order (3, 0, 1) AIC 8605.453816799341 BIC 8648.035502907069\n",
      "processing order (3, 0, 2)\n",
      "Order (3, 0, 2) AIC 8607.448328320563 BIC 8657.12696211291\n",
      "processing order (3, 0, 3)\n",
      "Order (3, 0, 3) AIC 8608.661254896295 BIC 8665.436836373263\n",
      "processing order (3, 0, 4)\n"
     ]
    },
    {
     "name": "stderr",
     "output_type": "stream",
     "text": [
      "C:\\Users\\1004365\\AppData\\Local\\Continuum\\Anaconda3\\lib\\site-packages\\statsmodels\\tsa\\tsatools.py:584: RuntimeWarning: overflow encountered in exp\n",
      "  newparams = ((1-np.exp(-params))/\n",
      "C:\\Users\\1004365\\AppData\\Local\\Continuum\\Anaconda3\\lib\\site-packages\\statsmodels\\tsa\\tsatools.py:585: RuntimeWarning: overflow encountered in exp\n",
      "  (1+np.exp(-params))).copy()\n",
      "C:\\Users\\1004365\\AppData\\Local\\Continuum\\Anaconda3\\lib\\site-packages\\statsmodels\\tsa\\tsatools.py:585: RuntimeWarning: invalid value encountered in true_divide\n",
      "  (1+np.exp(-params))).copy()\n",
      "C:\\Users\\1004365\\AppData\\Local\\Continuum\\Anaconda3\\lib\\site-packages\\statsmodels\\tsa\\tsatools.py:586: RuntimeWarning: overflow encountered in exp\n",
      "  tmp = ((1-np.exp(-params))/\n",
      "C:\\Users\\1004365\\AppData\\Local\\Continuum\\Anaconda3\\lib\\site-packages\\statsmodels\\tsa\\tsatools.py:587: RuntimeWarning: overflow encountered in exp\n",
      "  (1+np.exp(-params))).copy()\n",
      "C:\\Users\\1004365\\AppData\\Local\\Continuum\\Anaconda3\\lib\\site-packages\\statsmodels\\tsa\\tsatools.py:587: RuntimeWarning: invalid value encountered in true_divide\n",
      "  (1+np.exp(-params))).copy()\n"
     ]
    },
    {
     "name": "stdout",
     "output_type": "stream",
     "text": [
      "processing order (3, 1, 0)\n",
      "Order (3, 1, 0) AIC 9548.732757696333 BIC 9584.21693605223\n",
      "processing order (3, 1, 1)\n",
      "Order (3, 1, 1) AIC 8664.750679449848 BIC 8707.331693476925\n",
      "processing order (3, 1, 2)\n"
     ]
    },
    {
     "name": "stderr",
     "output_type": "stream",
     "text": [
      "C:\\Users\\1004365\\AppData\\Local\\Continuum\\Anaconda3\\lib\\site-packages\\statsmodels\\base\\model.py:496: ConvergenceWarning: Maximum Likelihood optimization failed to converge. Check mle_retvals\n",
      "  \"Check mle_retvals\", ConvergenceWarning)\n"
     ]
    },
    {
     "name": "stdout",
     "output_type": "stream",
     "text": [
      "Order (3, 1, 2) AIC 8582.722333739206 BIC 8632.400183437461\n",
      "processing order (3, 1, 3)\n"
     ]
    },
    {
     "name": "stderr",
     "output_type": "stream",
     "text": [
      "C:\\Users\\1004365\\AppData\\Local\\Continuum\\Anaconda3\\lib\\site-packages\\statsmodels\\base\\model.py:496: ConvergenceWarning: Maximum Likelihood optimization failed to converge. Check mle_retvals\n",
      "  \"Check mle_retvals\", ConvergenceWarning)\n"
     ]
    },
    {
     "name": "stdout",
     "output_type": "stream",
     "text": [
      "Order (3, 1, 3) AIC 8675.313189101253 BIC 8732.087874470688\n",
      "processing order (3, 1, 4)\n",
      "processing order (4, 0, 0)\n",
      "Order (4, 0, 0) AIC 8732.870633662566 BIC 8775.452319770293\n",
      "processing order (4, 0, 1)\n",
      "Order (4, 0, 1) AIC 8607.423776209023 BIC 8657.102410001371\n",
      "processing order (4, 0, 2)\n",
      "Order (4, 0, 2) AIC 8608.85286478874 BIC 8665.628446265708\n",
      "processing order (4, 0, 3)\n",
      "Order (4, 0, 3) AIC 8600.95930057273 BIC 8664.83182973432\n",
      "processing order (4, 0, 4)\n",
      "Order (4, 0, 4) AIC 8602.218592955622 BIC 8673.188069801832\n",
      "processing order (4, 1, 0)\n",
      "Order (4, 1, 0) AIC 9357.458527763387 BIC 9400.039541790464\n",
      "processing order (4, 1, 1)\n"
     ]
    },
    {
     "name": "stderr",
     "output_type": "stream",
     "text": [
      "C:\\Users\\1004365\\AppData\\Local\\Continuum\\Anaconda3\\lib\\site-packages\\statsmodels\\base\\model.py:496: ConvergenceWarning: Maximum Likelihood optimization failed to converge. Check mle_retvals\n",
      "  \"Check mle_retvals\", ConvergenceWarning)\n"
     ]
    },
    {
     "name": "stdout",
     "output_type": "stream",
     "text": [
      "Order (4, 1, 1) AIC 8634.949846586936 BIC 8684.627696285192\n",
      "processing order (4, 1, 2)\n"
     ]
    },
    {
     "name": "stderr",
     "output_type": "stream",
     "text": [
      "C:\\Users\\1004365\\AppData\\Local\\Continuum\\Anaconda3\\lib\\site-packages\\statsmodels\\base\\model.py:496: ConvergenceWarning: Maximum Likelihood optimization failed to converge. Check mle_retvals\n",
      "  \"Check mle_retvals\", ConvergenceWarning)\n"
     ]
    },
    {
     "name": "stdout",
     "output_type": "stream",
     "text": [
      "Order (4, 1, 2) AIC 8585.512650035373 BIC 8642.287335404808\n",
      "processing order (4, 1, 3)\n"
     ]
    },
    {
     "name": "stderr",
     "output_type": "stream",
     "text": [
      "C:\\Users\\1004365\\AppData\\Local\\Continuum\\Anaconda3\\lib\\site-packages\\statsmodels\\base\\model.py:473: HessianInversionWarning: Inverting hessian failed, no bse or cov_params available\n",
      "  'available', HessianInversionWarning)\n",
      "C:\\Users\\1004365\\AppData\\Local\\Continuum\\Anaconda3\\lib\\site-packages\\statsmodels\\base\\model.py:496: ConvergenceWarning: Maximum Likelihood optimization failed to converge. Check mle_retvals\n",
      "  \"Check mle_retvals\", ConvergenceWarning)\n"
     ]
    },
    {
     "name": "stdout",
     "output_type": "stream",
     "text": [
      "Order (4, 1, 3) AIC 8588.546565560675 BIC 8652.418086601288\n",
      "processing order (4, 1, 4)\n"
     ]
    },
    {
     "name": "stderr",
     "output_type": "stream",
     "text": [
      "C:\\Users\\1004365\\AppData\\Local\\Continuum\\Anaconda3\\lib\\site-packages\\statsmodels\\base\\model.py:496: ConvergenceWarning: Maximum Likelihood optimization failed to converge. Check mle_retvals\n",
      "  \"Check mle_retvals\", ConvergenceWarning)\n"
     ]
    },
    {
     "name": "stdout",
     "output_type": "stream",
     "text": [
      "Order (4, 1, 4) AIC 8564.493053687282 BIC 8635.461410399075\n",
      "_________________________________________________________________________\n",
      "\n",
      "\n",
      "The order is (4, 1, 4)\n",
      "\n",
      "\n",
      "0\n"
     ]
    },
    {
     "name": "stderr",
     "output_type": "stream",
     "text": [
      "C:\\Users\\1004365\\AppData\\Local\\Continuum\\Anaconda3\\lib\\site-packages\\statsmodels\\base\\model.py:496: ConvergenceWarning: Maximum Likelihood optimization failed to converge. Check mle_retvals\n",
      "  \"Check mle_retvals\", ConvergenceWarning)\n"
     ]
    },
    {
     "name": "stdout",
     "output_type": "stream",
     "text": [
      "Predicted : 0.8300000000000001 Actual:0.9\n",
      "\n",
      "\n",
      "1\n"
     ]
    },
    {
     "name": "stderr",
     "output_type": "stream",
     "text": [
      "C:\\Users\\1004365\\AppData\\Local\\Continuum\\Anaconda3\\lib\\site-packages\\statsmodels\\base\\model.py:496: ConvergenceWarning: Maximum Likelihood optimization failed to converge. Check mle_retvals\n",
      "  \"Check mle_retvals\", ConvergenceWarning)\n"
     ]
    },
    {
     "name": "stdout",
     "output_type": "stream",
     "text": [
      "Predicted : 0.8 Actual:1.38\n",
      "\n",
      "\n",
      "2\n"
     ]
    },
    {
     "name": "stderr",
     "output_type": "stream",
     "text": [
      "C:\\Users\\1004365\\AppData\\Local\\Continuum\\Anaconda3\\lib\\site-packages\\statsmodels\\base\\model.py:496: ConvergenceWarning: Maximum Likelihood optimization failed to converge. Check mle_retvals\n",
      "  \"Check mle_retvals\", ConvergenceWarning)\n"
     ]
    },
    {
     "name": "stdout",
     "output_type": "stream",
     "text": [
      "Predicted : 0.7999999999999998 Actual:1.1\n",
      "\n",
      "\n",
      "3\n",
      "Predicted : 0.7599999999999999 Actual:0.91\n",
      "\n",
      "\n",
      "4\n",
      "Predicted : 0.8299999999999998 Actual:0.76\n",
      "\n",
      "\n",
      "5\n"
     ]
    },
    {
     "name": "stderr",
     "output_type": "stream",
     "text": [
      "C:\\Users\\1004365\\AppData\\Local\\Continuum\\Anaconda3\\lib\\site-packages\\statsmodels\\base\\model.py:496: ConvergenceWarning: Maximum Likelihood optimization failed to converge. Check mle_retvals\n",
      "  \"Check mle_retvals\", ConvergenceWarning)\n"
     ]
    },
    {
     "name": "stdout",
     "output_type": "stream",
     "text": [
      "Predicted : 0.8699999999999999 Actual:0.76\n",
      "\n",
      "\n",
      "6\n",
      "Predicted : 1.38 Actual:1.26\n",
      "\n",
      "\n",
      "7\n",
      "Predicted : 1.33 Actual:1.06\n",
      "\n",
      "\n",
      "8\n"
     ]
    },
    {
     "name": "stderr",
     "output_type": "stream",
     "text": [
      "C:\\Users\\1004365\\AppData\\Local\\Continuum\\Anaconda3\\lib\\site-packages\\statsmodels\\base\\model.py:496: ConvergenceWarning: Maximum Likelihood optimization failed to converge. Check mle_retvals\n",
      "  \"Check mle_retvals\", ConvergenceWarning)\n"
     ]
    },
    {
     "name": "stdout",
     "output_type": "stream",
     "text": [
      "Predicted : 1.1199999999999999 Actual:1.25\n",
      "\n",
      "\n",
      "9\n"
     ]
    },
    {
     "name": "stderr",
     "output_type": "stream",
     "text": [
      "C:\\Users\\1004365\\AppData\\Local\\Continuum\\Anaconda3\\lib\\site-packages\\statsmodels\\base\\model.py:496: ConvergenceWarning: Maximum Likelihood optimization failed to converge. Check mle_retvals\n",
      "  \"Check mle_retvals\", ConvergenceWarning)\n"
     ]
    },
    {
     "name": "stdout",
     "output_type": "stream",
     "text": [
      "Predicted : 0.88 Actual:0.72\n",
      "\n",
      "\n",
      "10\n"
     ]
    },
    {
     "name": "stderr",
     "output_type": "stream",
     "text": [
      "C:\\Users\\1004365\\AppData\\Local\\Continuum\\Anaconda3\\lib\\site-packages\\statsmodels\\base\\model.py:496: ConvergenceWarning: Maximum Likelihood optimization failed to converge. Check mle_retvals\n",
      "  \"Check mle_retvals\", ConvergenceWarning)\n"
     ]
    },
    {
     "name": "stdout",
     "output_type": "stream",
     "text": [
      "Predicted : 0.86 Actual:1.42\n",
      "\n",
      "\n",
      "11\n"
     ]
    },
    {
     "name": "stderr",
     "output_type": "stream",
     "text": [
      "C:\\Users\\1004365\\AppData\\Local\\Continuum\\Anaconda3\\lib\\site-packages\\statsmodels\\base\\model.py:496: ConvergenceWarning: Maximum Likelihood optimization failed to converge. Check mle_retvals\n",
      "  \"Check mle_retvals\", ConvergenceWarning)\n"
     ]
    },
    {
     "name": "stdout",
     "output_type": "stream",
     "text": [
      "Predicted : 1.05 Actual:1.02\n",
      "\n",
      "\n",
      "12\n"
     ]
    },
    {
     "name": "stderr",
     "output_type": "stream",
     "text": [
      "C:\\Users\\1004365\\AppData\\Local\\Continuum\\Anaconda3\\lib\\site-packages\\statsmodels\\base\\model.py:496: ConvergenceWarning: Maximum Likelihood optimization failed to converge. Check mle_retvals\n",
      "  \"Check mle_retvals\", ConvergenceWarning)\n"
     ]
    },
    {
     "name": "stdout",
     "output_type": "stream",
     "text": [
      "Predicted : 1.29 Actual:1.02\n",
      "\n",
      "\n",
      "13\n"
     ]
    },
    {
     "name": "stderr",
     "output_type": "stream",
     "text": [
      "C:\\Users\\1004365\\AppData\\Local\\Continuum\\Anaconda3\\lib\\site-packages\\statsmodels\\base\\model.py:496: ConvergenceWarning: Maximum Likelihood optimization failed to converge. Check mle_retvals\n",
      "  \"Check mle_retvals\", ConvergenceWarning)\n"
     ]
    },
    {
     "name": "stdout",
     "output_type": "stream",
     "text": [
      "Predicted : 1.16 Actual:0.81\n",
      "\n",
      "\n",
      "14\n"
     ]
    },
    {
     "name": "stderr",
     "output_type": "stream",
     "text": [
      "C:\\Users\\1004365\\AppData\\Local\\Continuum\\Anaconda3\\lib\\site-packages\\statsmodels\\base\\model.py:496: ConvergenceWarning: Maximum Likelihood optimization failed to converge. Check mle_retvals\n",
      "  \"Check mle_retvals\", ConvergenceWarning)\n"
     ]
    },
    {
     "name": "stdout",
     "output_type": "stream",
     "text": [
      "Predicted : 1.11 Actual:0.71\n",
      "\n",
      "\n",
      "15\n"
     ]
    },
    {
     "name": "stderr",
     "output_type": "stream",
     "text": [
      "C:\\Users\\1004365\\AppData\\Local\\Continuum\\Anaconda3\\lib\\site-packages\\statsmodels\\base\\model.py:496: ConvergenceWarning: Maximum Likelihood optimization failed to converge. Check mle_retvals\n",
      "  \"Check mle_retvals\", ConvergenceWarning)\n"
     ]
    },
    {
     "name": "stdout",
     "output_type": "stream",
     "text": [
      "Predicted : 0.9 Actual:0.47\n",
      "\n",
      "\n",
      "16\n",
      "Predicted : 0.89 Actual:0.75\n",
      "\n",
      "\n",
      "17\n"
     ]
    },
    {
     "name": "stderr",
     "output_type": "stream",
     "text": [
      "C:\\Users\\1004365\\AppData\\Local\\Continuum\\Anaconda3\\lib\\site-packages\\statsmodels\\base\\model.py:496: ConvergenceWarning: Maximum Likelihood optimization failed to converge. Check mle_retvals\n",
      "  \"Check mle_retvals\", ConvergenceWarning)\n"
     ]
    },
    {
     "name": "stdout",
     "output_type": "stream",
     "text": [
      "Predicted : 0.9 Actual:0.51\n",
      "\n",
      "\n",
      "18\n"
     ]
    },
    {
     "name": "stderr",
     "output_type": "stream",
     "text": [
      "C:\\Users\\1004365\\AppData\\Local\\Continuum\\Anaconda3\\lib\\site-packages\\statsmodels\\base\\model.py:496: ConvergenceWarning: Maximum Likelihood optimization failed to converge. Check mle_retvals\n",
      "  \"Check mle_retvals\", ConvergenceWarning)\n"
     ]
    },
    {
     "name": "stdout",
     "output_type": "stream",
     "text": [
      "Predicted : 0.98 Actual:0.86\n",
      "\n",
      "\n",
      "19\n"
     ]
    },
    {
     "name": "stderr",
     "output_type": "stream",
     "text": [
      "C:\\Users\\1004365\\AppData\\Local\\Continuum\\Anaconda3\\lib\\site-packages\\statsmodels\\base\\model.py:496: ConvergenceWarning: Maximum Likelihood optimization failed to converge. Check mle_retvals\n",
      "  \"Check mle_retvals\", ConvergenceWarning)\n"
     ]
    },
    {
     "name": "stdout",
     "output_type": "stream",
     "text": [
      "Predicted : 1.04 Actual:0.74\n",
      "\n",
      "\n",
      "20\n"
     ]
    },
    {
     "name": "stderr",
     "output_type": "stream",
     "text": [
      "C:\\Users\\1004365\\AppData\\Local\\Continuum\\Anaconda3\\lib\\site-packages\\statsmodels\\base\\model.py:496: ConvergenceWarning: Maximum Likelihood optimization failed to converge. Check mle_retvals\n",
      "  \"Check mle_retvals\", ConvergenceWarning)\n"
     ]
    },
    {
     "name": "stdout",
     "output_type": "stream",
     "text": [
      "Predicted : 0.95 Actual:0.62\n",
      "\n",
      "\n",
      "21\n"
     ]
    },
    {
     "name": "stderr",
     "output_type": "stream",
     "text": [
      "C:\\Users\\1004365\\AppData\\Local\\Continuum\\Anaconda3\\lib\\site-packages\\statsmodels\\base\\model.py:496: ConvergenceWarning: Maximum Likelihood optimization failed to converge. Check mle_retvals\n",
      "  \"Check mle_retvals\", ConvergenceWarning)\n"
     ]
    },
    {
     "name": "stdout",
     "output_type": "stream",
     "text": [
      "Predicted : 0.9400000000000001 Actual:0.75\n",
      "\n",
      "\n",
      "22\n"
     ]
    },
    {
     "name": "stderr",
     "output_type": "stream",
     "text": [
      "C:\\Users\\1004365\\AppData\\Local\\Continuum\\Anaconda3\\lib\\site-packages\\statsmodels\\base\\model.py:496: ConvergenceWarning: Maximum Likelihood optimization failed to converge. Check mle_retvals\n",
      "  \"Check mle_retvals\", ConvergenceWarning)\n"
     ]
    },
    {
     "name": "stdout",
     "output_type": "stream",
     "text": [
      "Predicted : 1.04 Actual:0.76\n",
      "\n",
      "\n",
      "23\n"
     ]
    },
    {
     "name": "stderr",
     "output_type": "stream",
     "text": [
      "C:\\Users\\1004365\\AppData\\Local\\Continuum\\Anaconda3\\lib\\site-packages\\statsmodels\\base\\model.py:496: ConvergenceWarning: Maximum Likelihood optimization failed to converge. Check mle_retvals\n",
      "  \"Check mle_retvals\", ConvergenceWarning)\n"
     ]
    },
    {
     "name": "stdout",
     "output_type": "stream",
     "text": [
      "Predicted : 0.8800000000000001 Actual:1.38\n",
      "\n",
      "\n",
      "24\n"
     ]
    },
    {
     "name": "stderr",
     "output_type": "stream",
     "text": [
      "C:\\Users\\1004365\\AppData\\Local\\Continuum\\Anaconda3\\lib\\site-packages\\statsmodels\\base\\model.py:496: ConvergenceWarning: Maximum Likelihood optimization failed to converge. Check mle_retvals\n",
      "  \"Check mle_retvals\", ConvergenceWarning)\n"
     ]
    },
    {
     "name": "stdout",
     "output_type": "stream",
     "text": [
      "Predicted : 1.1300000000000001 Actual:1.07\n",
      "\n",
      "\n",
      "25\n"
     ]
    },
    {
     "name": "stderr",
     "output_type": "stream",
     "text": [
      "C:\\Users\\1004365\\AppData\\Local\\Continuum\\Anaconda3\\lib\\site-packages\\statsmodels\\base\\model.py:496: ConvergenceWarning: Maximum Likelihood optimization failed to converge. Check mle_retvals\n",
      "  \"Check mle_retvals\", ConvergenceWarning)\n"
     ]
    },
    {
     "name": "stdout",
     "output_type": "stream",
     "text": [
      "Predicted : 1.6300000000000001 Actual:1.3\n",
      "\n",
      "\n",
      "26\n"
     ]
    },
    {
     "name": "stderr",
     "output_type": "stream",
     "text": [
      "C:\\Users\\1004365\\AppData\\Local\\Continuum\\Anaconda3\\lib\\site-packages\\statsmodels\\base\\model.py:496: ConvergenceWarning: Maximum Likelihood optimization failed to converge. Check mle_retvals\n",
      "  \"Check mle_retvals\", ConvergenceWarning)\n"
     ]
    },
    {
     "name": "stdout",
     "output_type": "stream",
     "text": [
      "Predicted : 1.9500000000000002 Actual:1.66\n",
      "\n",
      "\n",
      "27\n"
     ]
    },
    {
     "name": "stderr",
     "output_type": "stream",
     "text": [
      "C:\\Users\\1004365\\AppData\\Local\\Continuum\\Anaconda3\\lib\\site-packages\\statsmodels\\base\\model.py:496: ConvergenceWarning: Maximum Likelihood optimization failed to converge. Check mle_retvals\n",
      "  \"Check mle_retvals\", ConvergenceWarning)\n"
     ]
    },
    {
     "name": "stdout",
     "output_type": "stream",
     "text": [
      "Predicted : 1.9 Actual:1.53\n",
      "\n",
      "\n",
      "28\n"
     ]
    },
    {
     "name": "stderr",
     "output_type": "stream",
     "text": [
      "C:\\Users\\1004365\\AppData\\Local\\Continuum\\Anaconda3\\lib\\site-packages\\statsmodels\\base\\model.py:496: ConvergenceWarning: Maximum Likelihood optimization failed to converge. Check mle_retvals\n",
      "  \"Check mle_retvals\", ConvergenceWarning)\n"
     ]
    },
    {
     "name": "stdout",
     "output_type": "stream",
     "text": [
      "Predicted : 2.01 Actual:1.92\n",
      "\n",
      "\n",
      "29\n"
     ]
    },
    {
     "name": "stderr",
     "output_type": "stream",
     "text": [
      "C:\\Users\\1004365\\AppData\\Local\\Continuum\\Anaconda3\\lib\\site-packages\\statsmodels\\base\\model.py:496: ConvergenceWarning: Maximum Likelihood optimization failed to converge. Check mle_retvals\n",
      "  \"Check mle_retvals\", ConvergenceWarning)\n"
     ]
    },
    {
     "name": "stdout",
     "output_type": "stream",
     "text": [
      "Predicted : 2.01 Actual:2.28\n",
      "season\n",
      "no_seconds\n",
      "2017-08-16 00:00:00   -0.251070\n",
      "2017-08-16 00:05:00   -0.316091\n",
      "2017-08-16 00:10:00   -0.343128\n",
      "2017-08-16 00:15:00   -0.395869\n",
      "2017-08-16 00:20:00   -0.337942\n",
      "2017-08-16 00:25:00   -0.312973\n",
      "2017-08-16 00:30:00    0.187000\n",
      "2017-08-16 00:35:00    0.123620\n",
      "2017-08-16 00:40:00   -0.098751\n",
      "2017-08-16 00:45:00   -0.358784\n",
      "2017-08-16 00:50:00   -0.376153\n",
      "2017-08-16 00:55:00   -0.191554\n",
      "2017-08-16 01:00:00    0.037346\n",
      "2017-08-16 01:05:00   -0.086365\n",
      "2017-08-16 01:10:00   -0.154384\n",
      "2017-08-16 01:15:00   -0.358453\n",
      "2017-08-16 01:20:00   -0.378629\n",
      "2017-08-16 01:25:00   -0.382131\n",
      "2017-08-16 01:30:00   -0.301177\n",
      "2017-08-16 01:35:00   -0.237213\n",
      "2017-08-16 01:40:00   -0.337931\n",
      "2017-08-16 01:45:00   -0.345606\n",
      "2017-08-16 01:50:00   -0.261271\n",
      "2017-08-16 01:55:00   -0.416304\n",
      "2017-08-16 02:00:00   -0.165009\n",
      "2017-08-16 02:05:00    0.334974\n",
      "2017-08-16 02:10:00    0.618607\n",
      "2017-08-16 02:15:00    0.583174\n",
      "2017-08-16 02:20:00    0.693376\n",
      "2017-08-16 02:25:00    0.693893\n",
      "Freq: 5T, Name: values, dtype: float64\n",
      "\n",
      "\n",
      "Actual no_seconds\n",
      "2017-08-16 00:00:00    0.90\n",
      "2017-08-16 00:05:00    1.38\n",
      "2017-08-16 00:10:00    1.10\n",
      "2017-08-16 00:15:00    0.91\n",
      "2017-08-16 00:20:00    0.76\n",
      "2017-08-16 00:25:00    0.76\n",
      "2017-08-16 00:30:00    1.26\n",
      "2017-08-16 00:35:00    1.06\n",
      "2017-08-16 00:40:00    1.25\n",
      "2017-08-16 00:45:00    0.72\n",
      "2017-08-16 00:50:00    1.42\n",
      "2017-08-16 00:55:00    1.02\n",
      "2017-08-16 01:00:00    1.02\n",
      "2017-08-16 01:05:00    0.81\n",
      "2017-08-16 01:10:00    0.71\n",
      "2017-08-16 01:15:00    0.47\n",
      "2017-08-16 01:20:00    0.75\n",
      "2017-08-16 01:25:00    0.51\n",
      "2017-08-16 01:30:00    0.86\n",
      "2017-08-16 01:35:00    0.74\n",
      "2017-08-16 01:40:00    0.62\n",
      "2017-08-16 01:45:00    0.75\n",
      "2017-08-16 01:50:00    0.76\n",
      "2017-08-16 01:55:00    1.38\n",
      "2017-08-16 02:00:00    1.07\n",
      "2017-08-16 02:05:00    1.30\n",
      "2017-08-16 02:10:00    1.66\n",
      "2017-08-16 02:15:00    1.53\n",
      "2017-08-16 02:20:00    1.92\n",
      "2017-08-16 02:25:00    2.28\n",
      "Freq: 5T, Name: values, dtype: float64\n",
      "\n",
      "\n",
      "Predicted no_seconds\n",
      "2017-08-16 00:00:00    0.824703\n",
      "2017-08-16 00:05:00    0.803107\n",
      "2017-08-16 00:10:00    0.798668\n",
      "2017-08-16 00:15:00    0.762023\n",
      "2017-08-16 00:20:00    0.835129\n",
      "2017-08-16 00:25:00    0.870338\n",
      "2017-08-16 00:30:00    1.380627\n",
      "2017-08-16 00:35:00    1.337966\n",
      "2017-08-16 00:40:00    1.118697\n",
      "2017-08-16 00:45:00    0.883902\n",
      "2017-08-16 00:50:00    0.863577\n",
      "2017-08-16 00:55:00    1.049722\n",
      "2017-08-16 01:00:00    1.282766\n",
      "2017-08-16 01:05:00    1.165304\n",
      "2017-08-16 01:10:00    1.102539\n",
      "2017-08-16 01:15:00    0.905627\n",
      "2017-08-16 01:20:00    0.892088\n",
      "2017-08-16 01:25:00    0.893741\n",
      "2017-08-16 01:30:00    0.978388\n",
      "2017-08-16 01:35:00    1.046133\n",
      "2017-08-16 01:40:00    0.951242\n",
      "2017-08-16 01:45:00    0.948311\n",
      "2017-08-16 01:50:00    1.035304\n",
      "2017-08-16 01:55:00    0.881964\n",
      "2017-08-16 02:00:00    1.135401\n",
      "2017-08-16 02:05:00    1.638250\n",
      "2017-08-16 02:10:00    1.943849\n",
      "2017-08-16 02:15:00    1.902945\n",
      "2017-08-16 02:20:00    2.011041\n",
      "2017-08-16 02:25:00    2.012934\n",
      "Freq: 5T, dtype: float64\n",
      "\n",
      "\n"
     ]
    },
    {
     "data": {
      "image/png": "[encoded data removed]",
      "text/plain": [
       "<matplotlib.figure.Figure at 0xc47c518>"
      ]
     },
     "metadata": {},
     "output_type": "display_data"
    }
   ],
   "source": [
    "if __name__ == \"__main__\":\n",
    "    # calling main function\n",
    "    main()"
   ]
  },
  {
   "cell_type": "code",
   "execution_count": null,
   "metadata": {
    "collapsed": true
   },
   "outputs": [],
   "source": []
  }
 ],
 "metadata": {
  "kernelspec": {
   "display_name": "Python 3",
   "language": "python",
   "name": "python3"
  },
  "language_info": {
   "codemirror_mode": {
    "name": "ipython",
    "version": 3
   },
   "file_extension": ".py",
   "mimetype": "text/x-python",
   "name": "python",
   "nbconvert_exporter": "python",
   "pygments_lexer": "ipython3",
   "version": "3.6.1"
  }
 },
 "nbformat": 4,
 "nbformat_minor": 2
}
