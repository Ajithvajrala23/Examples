{
 "cells": [
  {
   "cell_type": "code",
   "execution_count": 1,
   "metadata": {},
   "outputs": [
    {
     "name": "stdout",
     "output_type": "stream",
     "text": [
      "Hello World\n"
     ]
    }
   ],
   "source": [
    "print(\"Hello World\")"
   ]
  },
  {
   "cell_type": "code",
   "execution_count": 2,
   "metadata": {
    "collapsed": true
   },
   "outputs": [],
   "source": [
    "import pandas as pd\n",
    "import numpy as np\n",
    "import matplotlib.pyplot as plt\n",
    "import seaborn as sns\n",
    "%matplotlib inline"
   ]
  },
  {
   "cell_type": "code",
   "execution_count": 3,
   "metadata": {
    "collapsed": true
   },
   "outputs": [],
   "source": [
    "purchase = pd.read_csv(\"purchase.csv\")\n",
    "browse = pd.read_csv(\"browse.csv\")\n",
    "skv = pd.read_csv(\"sku.csv\")\n",
    "userid = pd.read_csv(\"userid.csv\")"
   ]
  },
  {
   "cell_type": "code",
   "execution_count": 7,
   "metadata": {},
   "outputs": [
    {
     "data": {
      "text/html": [
       "<div>\n",
       "<style>\n",
       "    .dataframe thead tr:only-child th {\n",
       "        text-align: right;\n",
       "    }\n",
       "\n",
       "    .dataframe thead th {\n",
       "        text-align: left;\n",
       "    }\n",
       "\n",
       "    .dataframe tbody tr th {\n",
       "        vertical-align: top;\n",
       "    }\n",
       "</style>\n",
       "<table border=\"1\" class=\"dataframe\">\n",
       "  <thead>\n",
       "    <tr style=\"text-align: right;\">\n",
       "      <th></th>\n",
       "      <th>User Id</th>\n",
       "      <th>Date</th>\n",
       "      <th>SKU</th>\n",
       "    </tr>\n",
       "  </thead>\n",
       "  <tbody>\n",
       "    <tr>\n",
       "      <th>0</th>\n",
       "      <td>311DBC84</td>\n",
       "      <td>10/11/2017</td>\n",
       "      <td>178394</td>\n",
       "    </tr>\n",
       "    <tr>\n",
       "      <th>1</th>\n",
       "      <td>2B1F305E</td>\n",
       "      <td>10/1/2017</td>\n",
       "      <td>214049</td>\n",
       "    </tr>\n",
       "    <tr>\n",
       "      <th>2</th>\n",
       "      <td>5429C2C</td>\n",
       "      <td>10/9/2017</td>\n",
       "      <td>178735</td>\n",
       "    </tr>\n",
       "    <tr>\n",
       "      <th>3</th>\n",
       "      <td>284FACC4</td>\n",
       "      <td>10/28/2017</td>\n",
       "      <td>217190</td>\n",
       "    </tr>\n",
       "    <tr>\n",
       "      <th>4</th>\n",
       "      <td>28CC59</td>\n",
       "      <td>8/11/2017</td>\n",
       "      <td>141740</td>\n",
       "    </tr>\n",
       "  </tbody>\n",
       "</table>\n",
       "</div>"
      ],
      "text/plain": [
       "    User Id        Date     SKU\n",
       "0  311DBC84  10/11/2017  178394\n",
       "1  2B1F305E   10/1/2017  214049\n",
       "2   5429C2C   10/9/2017  178735\n",
       "3  284FACC4  10/28/2017  217190\n",
       "4    28CC59   8/11/2017  141740"
      ]
     },
     "execution_count": 7,
     "metadata": {},
     "output_type": "execute_result"
    }
   ],
   "source": [
    "purchase.head()"
   ]
  },
  {
   "cell_type": "code",
   "execution_count": 8,
   "metadata": {
    "scrolled": true
   },
   "outputs": [
    {
     "data": {
      "text/html": [
       "<div>\n",
       "<style>\n",
       "    .dataframe thead tr:only-child th {\n",
       "        text-align: right;\n",
       "    }\n",
       "\n",
       "    .dataframe thead th {\n",
       "        text-align: left;\n",
       "    }\n",
       "\n",
       "    .dataframe tbody tr th {\n",
       "        vertical-align: top;\n",
       "    }\n",
       "</style>\n",
       "<table border=\"1\" class=\"dataframe\">\n",
       "  <thead>\n",
       "    <tr style=\"text-align: right;\">\n",
       "      <th></th>\n",
       "      <th>User ID</th>\n",
       "      <th>Date</th>\n",
       "      <th>SKU</th>\n",
       "    </tr>\n",
       "  </thead>\n",
       "  <tbody>\n",
       "    <tr>\n",
       "      <th>0</th>\n",
       "      <td>264BCFBA</td>\n",
       "      <td>12/24/2017</td>\n",
       "      <td>302445</td>\n",
       "    </tr>\n",
       "    <tr>\n",
       "      <th>1</th>\n",
       "      <td>570B6CA</td>\n",
       "      <td>12/10/2017</td>\n",
       "      <td>135119</td>\n",
       "    </tr>\n",
       "    <tr>\n",
       "      <th>2</th>\n",
       "      <td>237446F5</td>\n",
       "      <td>11/10/2017</td>\n",
       "      <td>135119</td>\n",
       "    </tr>\n",
       "    <tr>\n",
       "      <th>3</th>\n",
       "      <td>1388A512</td>\n",
       "      <td>12/10/2017</td>\n",
       "      <td>141244</td>\n",
       "    </tr>\n",
       "    <tr>\n",
       "      <th>4</th>\n",
       "      <td>16457B5F</td>\n",
       "      <td>11/22/2017</td>\n",
       "      <td>181450</td>\n",
       "    </tr>\n",
       "  </tbody>\n",
       "</table>\n",
       "</div>"
      ],
      "text/plain": [
       "    User ID        Date     SKU\n",
       "0  264BCFBA  12/24/2017  302445\n",
       "1   570B6CA  12/10/2017  135119\n",
       "2  237446F5  11/10/2017  135119\n",
       "3  1388A512  12/10/2017  141244\n",
       "4  16457B5F  11/22/2017  181450"
      ]
     },
     "execution_count": 8,
     "metadata": {},
     "output_type": "execute_result"
    }
   ],
   "source": [
    "browse.head()"
   ]
  },
  {
   "cell_type": "code",
   "execution_count": 9,
   "metadata": {},
   "outputs": [
    {
     "data": {
      "text/html": [
       "<div>\n",
       "<style>\n",
       "    .dataframe thead tr:only-child th {\n",
       "        text-align: right;\n",
       "    }\n",
       "\n",
       "    .dataframe thead th {\n",
       "        text-align: left;\n",
       "    }\n",
       "\n",
       "    .dataframe tbody tr th {\n",
       "        vertical-align: top;\n",
       "    }\n",
       "</style>\n",
       "<table border=\"1\" class=\"dataframe\">\n",
       "  <thead>\n",
       "    <tr style=\"text-align: right;\">\n",
       "      <th></th>\n",
       "      <th>SKU</th>\n",
       "      <th>Description</th>\n",
       "      <th>Category Description</th>\n",
       "    </tr>\n",
       "  </thead>\n",
       "  <tbody>\n",
       "    <tr>\n",
       "      <th>0</th>\n",
       "      <td>122451.0</td>\n",
       "      <td>CURVE BOW GLOVE  A4</td>\n",
       "      <td>Handbags &amp; Access</td>\n",
       "    </tr>\n",
       "    <tr>\n",
       "      <th>1</th>\n",
       "      <td>124549.0</td>\n",
       "      <td>PIPED DRIVING GLO  F0</td>\n",
       "      <td>Handbags &amp; Access</td>\n",
       "    </tr>\n",
       "    <tr>\n",
       "      <th>2</th>\n",
       "      <td>126412.0</td>\n",
       "      <td>SIDE BOW GLOVE  Y0</td>\n",
       "      <td>Handbags &amp; Access</td>\n",
       "    </tr>\n",
       "  </tbody>\n",
       "</table>\n",
       "</div>"
      ],
      "text/plain": [
       "        SKU            Description Category Description\n",
       "0  122451.0    CURVE BOW GLOVE  A4    Handbags & Access\n",
       "1  124549.0  PIPED DRIVING GLO  F0    Handbags & Access\n",
       "2  126412.0     SIDE BOW GLOVE  Y0    Handbags & Access"
      ]
     },
     "execution_count": 9,
     "metadata": {},
     "output_type": "execute_result"
    }
   ],
   "source": [
    "skv.head(3)"
   ]
  },
  {
   "cell_type": "code",
   "execution_count": 10,
   "metadata": {},
   "outputs": [
    {
     "data": {
      "text/html": [
       "<div>\n",
       "<style>\n",
       "    .dataframe thead tr:only-child th {\n",
       "        text-align: right;\n",
       "    }\n",
       "\n",
       "    .dataframe thead th {\n",
       "        text-align: left;\n",
       "    }\n",
       "\n",
       "    .dataframe tbody tr th {\n",
       "        vertical-align: top;\n",
       "    }\n",
       "</style>\n",
       "<table border=\"1\" class=\"dataframe\">\n",
       "  <thead>\n",
       "    <tr style=\"text-align: right;\">\n",
       "      <th></th>\n",
       "      <th>User id</th>\n",
       "      <th>Age</th>\n",
       "    </tr>\n",
       "  </thead>\n",
       "  <tbody>\n",
       "    <tr>\n",
       "      <th>0</th>\n",
       "      <td>CF96A4F</td>\n",
       "      <td>25</td>\n",
       "    </tr>\n",
       "    <tr>\n",
       "      <th>1</th>\n",
       "      <td>2A95F376</td>\n",
       "      <td>49</td>\n",
       "    </tr>\n",
       "    <tr>\n",
       "      <th>2</th>\n",
       "      <td>2C68D6D0</td>\n",
       "      <td>47</td>\n",
       "    </tr>\n",
       "  </tbody>\n",
       "</table>\n",
       "</div>"
      ],
      "text/plain": [
       "    User id  Age\n",
       "0   CF96A4F   25\n",
       "1  2A95F376   49\n",
       "2  2C68D6D0   47"
      ]
     },
     "execution_count": 10,
     "metadata": {},
     "output_type": "execute_result"
    }
   ],
   "source": [
    "userid.head(3)"
   ]
  },
  {
   "cell_type": "code",
   "execution_count": 11,
   "metadata": {},
   "outputs": [
    {
     "data": {
      "text/plain": [
       "(3607, 3)"
      ]
     },
     "execution_count": 11,
     "metadata": {},
     "output_type": "execute_result"
    }
   ],
   "source": [
    "purchase.shape"
   ]
  },
  {
   "cell_type": "code",
   "execution_count": 12,
   "metadata": {},
   "outputs": [
    {
     "data": {
      "text/plain": [
       "(5826, 3)"
      ]
     },
     "execution_count": 12,
     "metadata": {},
     "output_type": "execute_result"
    }
   ],
   "source": [
    "browse.shape"
   ]
  },
  {
   "cell_type": "code",
   "execution_count": 13,
   "metadata": {},
   "outputs": [
    {
     "data": {
      "text/plain": [
       "(256, 3)"
      ]
     },
     "execution_count": 13,
     "metadata": {},
     "output_type": "execute_result"
    }
   ],
   "source": [
    "skv.shape"
   ]
  },
  {
   "cell_type": "code",
   "execution_count": 14,
   "metadata": {},
   "outputs": [
    {
     "data": {
      "text/plain": [
       "(1199, 2)"
      ]
     },
     "execution_count": 14,
     "metadata": {},
     "output_type": "execute_result"
    }
   ],
   "source": [
    "userid.shape"
   ]
  },
  {
   "cell_type": "code",
   "execution_count": 15,
   "metadata": {
    "collapsed": true
   },
   "outputs": [],
   "source": [
    "purchase_behaviour = pd.merge(purchase, skv, on='SKU')"
   ]
  },
  {
   "cell_type": "code",
   "execution_count": 19,
   "metadata": {},
   "outputs": [
    {
     "data": {
      "text/html": [
       "<div>\n",
       "<style>\n",
       "    .dataframe thead tr:only-child th {\n",
       "        text-align: right;\n",
       "    }\n",
       "\n",
       "    .dataframe thead th {\n",
       "        text-align: left;\n",
       "    }\n",
       "\n",
       "    .dataframe tbody tr th {\n",
       "        vertical-align: top;\n",
       "    }\n",
       "</style>\n",
       "<table border=\"1\" class=\"dataframe\">\n",
       "  <thead>\n",
       "    <tr style=\"text-align: right;\">\n",
       "      <th></th>\n",
       "      <th>User Id</th>\n",
       "      <th>Date</th>\n",
       "      <th>SKU</th>\n",
       "      <th>Description</th>\n",
       "      <th>Category Description</th>\n",
       "    </tr>\n",
       "  </thead>\n",
       "  <tbody>\n",
       "    <tr>\n",
       "      <th>0</th>\n",
       "      <td>311DBC84</td>\n",
       "      <td>10/11/2017</td>\n",
       "      <td>178394</td>\n",
       "      <td>ASHMILLON GLOVE A0, 1SIZE</td>\n",
       "      <td>Handbags &amp; Access</td>\n",
       "    </tr>\n",
       "    <tr>\n",
       "      <th>1</th>\n",
       "      <td>26C2EE87</td>\n",
       "      <td>12/2/2017</td>\n",
       "      <td>178394</td>\n",
       "      <td>ASHMILLON GLOVE A0, 1SIZE</td>\n",
       "      <td>Handbags &amp; Access</td>\n",
       "    </tr>\n",
       "    <tr>\n",
       "      <th>2</th>\n",
       "      <td>26A00E7F</td>\n",
       "      <td>11/29/2017</td>\n",
       "      <td>178394</td>\n",
       "      <td>ASHMILLON GLOVE A0, 1SIZE</td>\n",
       "      <td>Handbags &amp; Access</td>\n",
       "    </tr>\n",
       "  </tbody>\n",
       "</table>\n",
       "</div>"
      ],
      "text/plain": [
       "    User Id        Date     SKU                Description  \\\n",
       "0  311DBC84  10/11/2017  178394  ASHMILLON GLOVE A0, 1SIZE   \n",
       "1  26C2EE87   12/2/2017  178394  ASHMILLON GLOVE A0, 1SIZE   \n",
       "2  26A00E7F  11/29/2017  178394  ASHMILLON GLOVE A0, 1SIZE   \n",
       "\n",
       "  Category Description  \n",
       "0    Handbags & Access  \n",
       "1    Handbags & Access  \n",
       "2    Handbags & Access  "
      ]
     },
     "execution_count": 19,
     "metadata": {},
     "output_type": "execute_result"
    }
   ],
   "source": [
    "purchase_behaviour.head(3)"
   ]
  },
  {
   "cell_type": "code",
   "execution_count": 20,
   "metadata": {},
   "outputs": [
    {
     "data": {
      "text/plain": [
       "(3607, 5)"
      ]
     },
     "execution_count": 20,
     "metadata": {},
     "output_type": "execute_result"
    }
   ],
   "source": [
    "purchase_behaviour.shape"
   ]
  },
  {
   "cell_type": "code",
   "execution_count": 23,
   "metadata": {
    "collapsed": true
   },
   "outputs": [],
   "source": [
    "userid['User Id'] = userid['User id']\n",
    "del userid['User id']"
   ]
  },
  {
   "cell_type": "code",
   "execution_count": 24,
   "metadata": {
    "collapsed": true
   },
   "outputs": [],
   "source": [
    "purchase_behaviour = pd.merge(purchase_behaviour, userid, on='User Id')"
   ]
  },
  {
   "cell_type": "code",
   "execution_count": 25,
   "metadata": {},
   "outputs": [
    {
     "data": {
      "text/html": [
       "<div>\n",
       "<style>\n",
       "    .dataframe thead tr:only-child th {\n",
       "        text-align: right;\n",
       "    }\n",
       "\n",
       "    .dataframe thead th {\n",
       "        text-align: left;\n",
       "    }\n",
       "\n",
       "    .dataframe tbody tr th {\n",
       "        vertical-align: top;\n",
       "    }\n",
       "</style>\n",
       "<table border=\"1\" class=\"dataframe\">\n",
       "  <thead>\n",
       "    <tr style=\"text-align: right;\">\n",
       "      <th></th>\n",
       "      <th>User Id</th>\n",
       "      <th>Date</th>\n",
       "      <th>SKU</th>\n",
       "      <th>Description</th>\n",
       "      <th>Category Description</th>\n",
       "      <th>Age</th>\n",
       "    </tr>\n",
       "  </thead>\n",
       "  <tbody>\n",
       "    <tr>\n",
       "      <th>0</th>\n",
       "      <td>311DBC84</td>\n",
       "      <td>10/11/2017</td>\n",
       "      <td>178394</td>\n",
       "      <td>ASHMILLON GLOVE A0, 1SIZE</td>\n",
       "      <td>Handbags &amp; Access</td>\n",
       "      <td>48</td>\n",
       "    </tr>\n",
       "    <tr>\n",
       "      <th>1</th>\n",
       "      <td>311DBC84</td>\n",
       "      <td>11/11/2017</td>\n",
       "      <td>141740</td>\n",
       "      <td>OV PLAIN LEATHER  VZ</td>\n",
       "      <td>Handbags &amp; Access</td>\n",
       "      <td>48</td>\n",
       "    </tr>\n",
       "    <tr>\n",
       "      <th>2</th>\n",
       "      <td>26C2EE87</td>\n",
       "      <td>12/2/2017</td>\n",
       "      <td>178394</td>\n",
       "      <td>ASHMILLON GLOVE A0, 1SIZE</td>\n",
       "      <td>Handbags &amp; Access</td>\n",
       "      <td>25</td>\n",
       "    </tr>\n",
       "    <tr>\n",
       "      <th>3</th>\n",
       "      <td>26C2EE87</td>\n",
       "      <td>12/10/2017</td>\n",
       "      <td>186796</td>\n",
       "      <td>MIMOSA PRINT BANG  N4</td>\n",
       "      <td>Jewellery</td>\n",
       "      <td>25</td>\n",
       "    </tr>\n",
       "    <tr>\n",
       "      <th>4</th>\n",
       "      <td>26C2EE87</td>\n",
       "      <td>10/28/2017</td>\n",
       "      <td>135119</td>\n",
       "      <td>PATENT CHARM GLOV  Y4</td>\n",
       "      <td>Handbags &amp; Access</td>\n",
       "      <td>25</td>\n",
       "    </tr>\n",
       "  </tbody>\n",
       "</table>\n",
       "</div>"
      ],
      "text/plain": [
       "    User Id        Date     SKU                Description  \\\n",
       "0  311DBC84  10/11/2017  178394  ASHMILLON GLOVE A0, 1SIZE   \n",
       "1  311DBC84  11/11/2017  141740       OV PLAIN LEATHER  VZ   \n",
       "2  26C2EE87   12/2/2017  178394  ASHMILLON GLOVE A0, 1SIZE   \n",
       "3  26C2EE87  12/10/2017  186796      MIMOSA PRINT BANG  N4   \n",
       "4  26C2EE87  10/28/2017  135119      PATENT CHARM GLOV  Y4   \n",
       "\n",
       "  Category Description  Age  \n",
       "0    Handbags & Access   48  \n",
       "1    Handbags & Access   48  \n",
       "2    Handbags & Access   25  \n",
       "3            Jewellery   25  \n",
       "4    Handbags & Access   25  "
      ]
     },
     "execution_count": 25,
     "metadata": {},
     "output_type": "execute_result"
    }
   ],
   "source": [
    "purchase_behaviour.head()"
   ]
  },
  {
   "cell_type": "code",
   "execution_count": 26,
   "metadata": {},
   "outputs": [
    {
     "data": {
      "text/html": [
       "<div>\n",
       "<style>\n",
       "    .dataframe thead tr:only-child th {\n",
       "        text-align: right;\n",
       "    }\n",
       "\n",
       "    .dataframe thead th {\n",
       "        text-align: left;\n",
       "    }\n",
       "\n",
       "    .dataframe tbody tr th {\n",
       "        vertical-align: top;\n",
       "    }\n",
       "</style>\n",
       "<table border=\"1\" class=\"dataframe\">\n",
       "  <thead>\n",
       "    <tr style=\"text-align: right;\">\n",
       "      <th></th>\n",
       "      <th>User Id</th>\n",
       "      <th>Date</th>\n",
       "      <th>SKU</th>\n",
       "      <th>Description</th>\n",
       "      <th>Category Description</th>\n",
       "      <th>Age</th>\n",
       "    </tr>\n",
       "  </thead>\n",
       "  <tbody>\n",
       "    <tr>\n",
       "      <th>3602</th>\n",
       "      <td>18028E1D</td>\n",
       "      <td>12/22/2017</td>\n",
       "      <td>172185</td>\n",
       "      <td>BOBBLE SCARF F4</td>\n",
       "      <td>Handbags &amp; Access</td>\n",
       "      <td>24</td>\n",
       "    </tr>\n",
       "    <tr>\n",
       "      <th>3603</th>\n",
       "      <td>2A34B4F2</td>\n",
       "      <td>10/7/2017</td>\n",
       "      <td>172185</td>\n",
       "      <td>BOBBLE SCARF F4</td>\n",
       "      <td>Handbags &amp; Access</td>\n",
       "      <td>53</td>\n",
       "    </tr>\n",
       "    <tr>\n",
       "      <th>3604</th>\n",
       "      <td>265F7284</td>\n",
       "      <td>8/17/2017</td>\n",
       "      <td>172185</td>\n",
       "      <td>BOBBLE SCARF F4</td>\n",
       "      <td>Handbags &amp; Access</td>\n",
       "      <td>31</td>\n",
       "    </tr>\n",
       "    <tr>\n",
       "      <th>3605</th>\n",
       "      <td>1C3B081D</td>\n",
       "      <td>8/22/2017</td>\n",
       "      <td>219484</td>\n",
       "      <td>SPECKLE WOOD BANG  R8</td>\n",
       "      <td>Jewellery</td>\n",
       "      <td>25</td>\n",
       "    </tr>\n",
       "    <tr>\n",
       "      <th>3606</th>\n",
       "      <td>9C4465D</td>\n",
       "      <td>10/14/2017</td>\n",
       "      <td>219484</td>\n",
       "      <td>SPECKLE WOOD BANG  R8</td>\n",
       "      <td>Jewellery</td>\n",
       "      <td>26</td>\n",
       "    </tr>\n",
       "  </tbody>\n",
       "</table>\n",
       "</div>"
      ],
      "text/plain": [
       "       User Id        Date     SKU            Description  \\\n",
       "3602  18028E1D  12/22/2017  172185        BOBBLE SCARF F4   \n",
       "3603  2A34B4F2   10/7/2017  172185        BOBBLE SCARF F4   \n",
       "3604  265F7284   8/17/2017  172185        BOBBLE SCARF F4   \n",
       "3605  1C3B081D   8/22/2017  219484  SPECKLE WOOD BANG  R8   \n",
       "3606   9C4465D  10/14/2017  219484  SPECKLE WOOD BANG  R8   \n",
       "\n",
       "     Category Description  Age  \n",
       "3602    Handbags & Access   24  \n",
       "3603    Handbags & Access   53  \n",
       "3604    Handbags & Access   31  \n",
       "3605            Jewellery   25  \n",
       "3606            Jewellery   26  "
      ]
     },
     "execution_count": 26,
     "metadata": {},
     "output_type": "execute_result"
    }
   ],
   "source": [
    "purchase_behaviour.tail()"
   ]
  },
  {
   "cell_type": "code",
   "execution_count": 28,
   "metadata": {},
   "outputs": [
    {
     "data": {
      "text/plain": [
       "User Id                 0\n",
       "Date                    0\n",
       "SKU                     0\n",
       "Description             0\n",
       "Category Description    0\n",
       "Age                     0\n",
       "dtype: int64"
      ]
     },
     "execution_count": 28,
     "metadata": {},
     "output_type": "execute_result"
    }
   ],
   "source": [
    "purchase_behaviour.apply(lambda x : sum(x.isnull()))"
   ]
  },
  {
   "cell_type": "code",
   "execution_count": 29,
   "metadata": {},
   "outputs": [
    {
     "data": {
      "text/plain": [
       "User Id                 1137\n",
       "Date                     153\n",
       "SKU                       80\n",
       "Description               80\n",
       "Category Description       2\n",
       "Age                       36\n",
       "dtype: int64"
      ]
     },
     "execution_count": 29,
     "metadata": {},
     "output_type": "execute_result"
    }
   ],
   "source": [
    "purchase_behaviour.apply(lambda x : len(x.unique()))"
   ]
  },
  {
   "cell_type": "code",
   "execution_count": 32,
   "metadata": {
    "collapsed": true
   },
   "outputs": [],
   "source": [
    "browse_behaviour = pd.merge(browse, skv, on='SKU')"
   ]
  },
  {
   "cell_type": "code",
   "execution_count": 33,
   "metadata": {},
   "outputs": [
    {
     "data": {
      "text/html": [
       "<div>\n",
       "<style>\n",
       "    .dataframe thead tr:only-child th {\n",
       "        text-align: right;\n",
       "    }\n",
       "\n",
       "    .dataframe thead th {\n",
       "        text-align: left;\n",
       "    }\n",
       "\n",
       "    .dataframe tbody tr th {\n",
       "        vertical-align: top;\n",
       "    }\n",
       "</style>\n",
       "<table border=\"1\" class=\"dataframe\">\n",
       "  <thead>\n",
       "    <tr style=\"text-align: right;\">\n",
       "      <th></th>\n",
       "      <th>User ID</th>\n",
       "      <th>Date</th>\n",
       "      <th>SKU</th>\n",
       "      <th>Description</th>\n",
       "      <th>Category Description</th>\n",
       "    </tr>\n",
       "  </thead>\n",
       "  <tbody>\n",
       "    <tr>\n",
       "      <th>0</th>\n",
       "      <td>264BCFBA</td>\n",
       "      <td>12/24/2017</td>\n",
       "      <td>302445</td>\n",
       "      <td>COLORADO LRG RC  NP</td>\n",
       "      <td>Luggage</td>\n",
       "    </tr>\n",
       "    <tr>\n",
       "      <th>1</th>\n",
       "      <td>423BED3</td>\n",
       "      <td>12/3/2017</td>\n",
       "      <td>302445</td>\n",
       "      <td>COLORADO LRG RC  NP</td>\n",
       "      <td>Luggage</td>\n",
       "    </tr>\n",
       "    <tr>\n",
       "      <th>2</th>\n",
       "      <td>3D37D85</td>\n",
       "      <td>11/24/2017</td>\n",
       "      <td>302445</td>\n",
       "      <td>COLORADO LRG RC  NP</td>\n",
       "      <td>Luggage</td>\n",
       "    </tr>\n",
       "  </tbody>\n",
       "</table>\n",
       "</div>"
      ],
      "text/plain": [
       "    User ID        Date     SKU          Description Category Description\n",
       "0  264BCFBA  12/24/2017  302445  COLORADO LRG RC  NP              Luggage\n",
       "1   423BED3   12/3/2017  302445  COLORADO LRG RC  NP              Luggage\n",
       "2   3D37D85  11/24/2017  302445  COLORADO LRG RC  NP              Luggage"
      ]
     },
     "execution_count": 33,
     "metadata": {},
     "output_type": "execute_result"
    }
   ],
   "source": [
    "browse_behaviour.head(3)"
   ]
  },
  {
   "cell_type": "code",
   "execution_count": 34,
   "metadata": {
    "collapsed": true
   },
   "outputs": [],
   "source": [
    "browse_behaviour['User Id'] = browse_behaviour['User ID']\n",
    "del browse_behaviour['User ID']"
   ]
  },
  {
   "cell_type": "code",
   "execution_count": 35,
   "metadata": {
    "collapsed": true
   },
   "outputs": [],
   "source": [
    "browse_behaviour = pd.merge(browse_behaviour, userid, on='User Id')"
   ]
  },
  {
   "cell_type": "code",
   "execution_count": 36,
   "metadata": {},
   "outputs": [
    {
     "data": {
      "text/html": [
       "<div>\n",
       "<style>\n",
       "    .dataframe thead tr:only-child th {\n",
       "        text-align: right;\n",
       "    }\n",
       "\n",
       "    .dataframe thead th {\n",
       "        text-align: left;\n",
       "    }\n",
       "\n",
       "    .dataframe tbody tr th {\n",
       "        vertical-align: top;\n",
       "    }\n",
       "</style>\n",
       "<table border=\"1\" class=\"dataframe\">\n",
       "  <thead>\n",
       "    <tr style=\"text-align: right;\">\n",
       "      <th></th>\n",
       "      <th>Date</th>\n",
       "      <th>SKU</th>\n",
       "      <th>Description</th>\n",
       "      <th>Category Description</th>\n",
       "      <th>User Id</th>\n",
       "      <th>Age</th>\n",
       "    </tr>\n",
       "  </thead>\n",
       "  <tbody>\n",
       "    <tr>\n",
       "      <th>0</th>\n",
       "      <td>12/24/2017</td>\n",
       "      <td>302445</td>\n",
       "      <td>COLORADO LRG RC  NP</td>\n",
       "      <td>Luggage</td>\n",
       "      <td>264BCFBA</td>\n",
       "      <td>20</td>\n",
       "    </tr>\n",
       "    <tr>\n",
       "      <th>1</th>\n",
       "      <td>12/6/2017</td>\n",
       "      <td>303791</td>\n",
       "      <td>SCORPIUS LRG R  WL</td>\n",
       "      <td>Luggage</td>\n",
       "      <td>264BCFBA</td>\n",
       "      <td>20</td>\n",
       "    </tr>\n",
       "    <tr>\n",
       "      <th>2</th>\n",
       "      <td>11/16/2017</td>\n",
       "      <td>200573</td>\n",
       "      <td>ZIG ZAG BANGLE  J4</td>\n",
       "      <td>Jewellery</td>\n",
       "      <td>264BCFBA</td>\n",
       "      <td>20</td>\n",
       "    </tr>\n",
       "  </tbody>\n",
       "</table>\n",
       "</div>"
      ],
      "text/plain": [
       "         Date     SKU          Description Category Description   User Id  Age\n",
       "0  12/24/2017  302445  COLORADO LRG RC  NP              Luggage  264BCFBA   20\n",
       "1   12/6/2017  303791   SCORPIUS LRG R  WL              Luggage  264BCFBA   20\n",
       "2  11/16/2017  200573   ZIG ZAG BANGLE  J4            Jewellery  264BCFBA   20"
      ]
     },
     "execution_count": 36,
     "metadata": {},
     "output_type": "execute_result"
    }
   ],
   "source": [
    "browse_behaviour.head(3)"
   ]
  },
  {
   "cell_type": "code",
   "execution_count": 37,
   "metadata": {},
   "outputs": [
    {
     "data": {
      "text/html": [
       "<div>\n",
       "<style>\n",
       "    .dataframe thead tr:only-child th {\n",
       "        text-align: right;\n",
       "    }\n",
       "\n",
       "    .dataframe thead th {\n",
       "        text-align: left;\n",
       "    }\n",
       "\n",
       "    .dataframe tbody tr th {\n",
       "        vertical-align: top;\n",
       "    }\n",
       "</style>\n",
       "<table border=\"1\" class=\"dataframe\">\n",
       "  <thead>\n",
       "    <tr style=\"text-align: right;\">\n",
       "      <th></th>\n",
       "      <th>User Id</th>\n",
       "      <th>Date</th>\n",
       "      <th>SKU</th>\n",
       "      <th>Description</th>\n",
       "      <th>Category Description</th>\n",
       "      <th>Age</th>\n",
       "    </tr>\n",
       "  </thead>\n",
       "  <tbody>\n",
       "    <tr>\n",
       "      <th>0</th>\n",
       "      <td>311DBC84</td>\n",
       "      <td>10/11/2017</td>\n",
       "      <td>178394</td>\n",
       "      <td>ASHMILLON GLOVE A0, 1SIZE</td>\n",
       "      <td>Handbags &amp; Access</td>\n",
       "      <td>48</td>\n",
       "    </tr>\n",
       "    <tr>\n",
       "      <th>1</th>\n",
       "      <td>311DBC84</td>\n",
       "      <td>11/11/2017</td>\n",
       "      <td>141740</td>\n",
       "      <td>OV PLAIN LEATHER  VZ</td>\n",
       "      <td>Handbags &amp; Access</td>\n",
       "      <td>48</td>\n",
       "    </tr>\n",
       "    <tr>\n",
       "      <th>2</th>\n",
       "      <td>26C2EE87</td>\n",
       "      <td>12/2/2017</td>\n",
       "      <td>178394</td>\n",
       "      <td>ASHMILLON GLOVE A0, 1SIZE</td>\n",
       "      <td>Handbags &amp; Access</td>\n",
       "      <td>25</td>\n",
       "    </tr>\n",
       "  </tbody>\n",
       "</table>\n",
       "</div>"
      ],
      "text/plain": [
       "    User Id        Date     SKU                Description  \\\n",
       "0  311DBC84  10/11/2017  178394  ASHMILLON GLOVE A0, 1SIZE   \n",
       "1  311DBC84  11/11/2017  141740       OV PLAIN LEATHER  VZ   \n",
       "2  26C2EE87   12/2/2017  178394  ASHMILLON GLOVE A0, 1SIZE   \n",
       "\n",
       "  Category Description  Age  \n",
       "0    Handbags & Access   48  \n",
       "1    Handbags & Access   48  \n",
       "2    Handbags & Access   25  "
      ]
     },
     "execution_count": 37,
     "metadata": {},
     "output_type": "execute_result"
    }
   ],
   "source": [
    "purchase_behaviour.head(3)"
   ]
  },
  {
   "cell_type": "code",
   "execution_count": 38,
   "metadata": {},
   "outputs": [
    {
     "data": {
      "text/plain": [
       "Date                    0\n",
       "SKU                     0\n",
       "Description             0\n",
       "Category Description    0\n",
       "User Id                 0\n",
       "Age                     0\n",
       "dtype: int64"
      ]
     },
     "execution_count": 38,
     "metadata": {},
     "output_type": "execute_result"
    }
   ],
   "source": [
    "browse_behaviour.apply(lambda x : sum(x.isnull()))"
   ]
  },
  {
   "cell_type": "code",
   "execution_count": 39,
   "metadata": {},
   "outputs": [
    {
     "data": {
      "text/plain": [
       "Date                      61\n",
       "SKU                      144\n",
       "Description              144\n",
       "Category Description       3\n",
       "User Id                 1186\n",
       "Age                       36\n",
       "dtype: int64"
      ]
     },
     "execution_count": 39,
     "metadata": {},
     "output_type": "execute_result"
    }
   ],
   "source": [
    "browse_behaviour.apply(lambda x : len(x.unique()))"
   ]
  },
  {
   "cell_type": "code",
   "execution_count": 41,
   "metadata": {},
   "outputs": [
    {
     "name": "stdout",
     "output_type": "stream",
     "text": [
      "(3607, 6)\n",
      "(5826, 6)\n"
     ]
    }
   ],
   "source": [
    "print(purchase_behaviour.shape)\n",
    "print(browse_behaviour.shape)"
   ]
  },
  {
   "cell_type": "code",
   "execution_count": 43,
   "metadata": {
    "collapsed": true
   },
   "outputs": [],
   "source": [
    "purchase_behaviour.to_csv(\"purchase_behaviour.csv\", index = False)\n",
    "browse_behaviour.to_csv(\"browse_behaviour.csv\", index = False)"
   ]
  },
  {
   "cell_type": "markdown",
   "metadata": {},
   "source": [
    "# Popularity Based Model"
   ]
  },
  {
   "cell_type": "code",
   "execution_count": 45,
   "metadata": {},
   "outputs": [
    {
     "name": "stdout",
     "output_type": "stream",
     "text": [
      "There are 80 unique items\n"
     ]
    },
    {
     "data": {
      "image/png": "[encoded data removed]",
      "text/plain": [
       "<matplotlib.figure.Figure at 0xbd19f98>"
      ]
     },
     "metadata": {},
     "output_type": "display_data"
    },
    {
     "name": "stdout",
     "output_type": "stream",
     "text": [
      "FACETED DUO BANGL  SZ        60\n",
      "LEATHER GLOVE  J0            57\n",
      "SPECKLED BANGLE  N4          56\n",
      "MEDINA KIMONO SV, 1SIZE      55\n",
      "MIDAS TOUCH BANGL  ZZ        55\n",
      "LEATHER GLOVE  KN            55\n",
      "LEATHER GLOVE  IE            54\n",
      "OV PLAIN LEATHER  VZ         53\n",
      "ASHMILLON SCARF B0           53\n",
      "LEATHER GLOVE  S0            52\n",
      "CASHMERE STRIPE A4, 1SIZE    52\n",
      "Name: Description, dtype: int64\n"
     ]
    }
   ],
   "source": [
    "#Top brands\n",
    "popularity_counts = purchase_behaviour[\"Description\"].value_counts()\n",
    "print(\"There are\", popularity_counts.size, \"unique items\")\n",
    "#\n",
    "plt.figure(figsize = (10, 10))\n",
    "sns.barplot(popularity_counts[0:11].values, popularity_counts[0:11].index)\n",
    "plt.title(\"Top 10 items in the store\")\n",
    "plt.show()\n",
    "print(popularity_counts[0:11])"
   ]
  },
  {
   "cell_type": "code",
   "execution_count": null,
   "metadata": {
    "collapsed": true
   },
   "outputs": [],
   "source": []
  },
  {
   "cell_type": "markdown",
   "metadata": {},
   "source": [
    "# Content Based Model"
   ]
  },
  {
   "cell_type": "code",
   "execution_count": 46,
   "metadata": {
    "collapsed": true
   },
   "outputs": [],
   "source": [
    "#Import TfIdfVectorizer from scikit-learn\n",
    "from sklearn.feature_extraction.text import TfidfVectorizer"
   ]
  },
  {
   "cell_type": "code",
   "execution_count": 49,
   "metadata": {
    "collapsed": true
   },
   "outputs": [],
   "source": [
    "metadata = purchase_behaviour.copy()"
   ]
  },
  {
   "cell_type": "code",
   "execution_count": 50,
   "metadata": {},
   "outputs": [
    {
     "data": {
      "text/plain": [
       "Index(['User Id', 'Date', 'SKU', 'Description', 'Category Description', 'Age'], dtype='object')"
      ]
     },
     "execution_count": 50,
     "metadata": {},
     "output_type": "execute_result"
    }
   ],
   "source": [
    "metadata.columns"
   ]
  },
  {
   "cell_type": "code",
   "execution_count": 51,
   "metadata": {
    "collapsed": true
   },
   "outputs": [],
   "source": [
    "#Replace NaN with an empty string\n",
    "metadata['Description'] = metadata['Description'].fillna('')"
   ]
  },
  {
   "cell_type": "code",
   "execution_count": 120,
   "metadata": {},
   "outputs": [
    {
     "data": {
      "text/plain": [
       "(80, 115)"
      ]
     },
     "execution_count": 120,
     "metadata": {},
     "output_type": "execute_result"
    }
   ],
   "source": [
    "tfidf = TfidfVectorizer()\n",
    "\n",
    "#Construct the required TF-IDF matrix by fitting and transforming the data\n",
    "tfidf_matrix = tfidf.fit_transform(metadata['Description'].drop_duplicates())\n",
    "\n",
    "#Output the shape of tfidf_matrix\n",
    "tfidf_matrix.shape"
   ]
  },
  {
   "cell_type": "code",
   "execution_count": 121,
   "metadata": {
    "collapsed": true
   },
   "outputs": [],
   "source": [
    "# Import linear_kernel\n",
    "from sklearn.metrics.pairwise import linear_kernel\n",
    "\n",
    "# Compute the cosine similarity matrix\n",
    "cosine_sim = linear_kernel(tfidf_matrix, tfidf_matrix)"
   ]
  },
  {
   "cell_type": "code",
   "execution_count": null,
   "metadata": {
    "collapsed": true
   },
   "outputs": [],
   "source": []
  },
  {
   "cell_type": "code",
   "execution_count": 122,
   "metadata": {
    "collapsed": true
   },
   "outputs": [],
   "source": [
    "#Construct a reverse map of indices and Product titles\n",
    "indices = pd.Series(metadata.index, index=metadata['Description']).drop_duplicates()"
   ]
  },
  {
   "cell_type": "code",
   "execution_count": 124,
   "metadata": {},
   "outputs": [
    {
     "data": {
      "text/plain": [
       "<bound method Series.drop_duplicates of Description\n",
       "ASHMILLON GLOVE A0, 1SIZE       0\n",
       "OV PLAIN LEATHER  VZ            1\n",
       "ASHMILLON GLOVE A0, 1SIZE       2\n",
       "MIMOSA PRINT BANG  N4           3\n",
       "PATENT CHARM GLOV  Y4           4\n",
       "INCA STACKERS  H6               5\n",
       "ASHMILLON BERET A0, 1SIZE       6\n",
       "ASHMILLON GLOVE A0, 1SIZE       7\n",
       "MEDINA KIMONO SV                8\n",
       "CASHMERE STRIPE F4              9\n",
       "ANIMAL BANGLE  N4              10\n",
       "ASHMILLON GLOVE A0, 1SIZE      11\n",
       "CASHMERE STRIPE A4, 1SIZE      12\n",
       "ASHMILLON GLOVE A0, 1SIZE      13\n",
       "MIMOSA PRINT BANG  N4          14\n",
       "LEATHER GLOVE  SH              15\n",
       "SIDE BOW GLOVE  Y0             16\n",
       "ASHMILLON GLOVE A0, 1SIZE      17\n",
       "OV PLAIN LEATHER  B0           18\n",
       "ASHMILLON GLOVE A0, 1SIZE      19\n",
       "MEDINA KIMONO SV, 1SIZE        20\n",
       "ASHMILLON GLOVE A0, 1SIZE      21\n",
       "ASHMILLON BERET A0             22\n",
       "ASHMILLON GLOVE A0, 1SIZE      23\n",
       "ASHMILLON SCARF B0             24\n",
       "ASHMILLON SCARF Y0             25\n",
       "ANIMAL BUCKLE GLO  SH          26\n",
       "ASHMILLON GLOVE A0, 1SIZE      27\n",
       "CASHMERE STRIPE A4             28\n",
       "FACETED DUO BANGL  Y4          29\n",
       "                             ... \n",
       "FLORAL RING  Y4              3577\n",
       "FLORAL RING  Y4              3578\n",
       "ZIG ZAG BANGLE  J4           3579\n",
       "LEATHER GLOVE  JX            3580\n",
       "SPECKLE WOOD BANG  R8        3581\n",
       "LEATHER GLOVE  JX            3582\n",
       "LEATHER GLOVE  JX            3583\n",
       "ZIG ZAG BANGLE  J4           3584\n",
       "LEATHER GLOVE  JX            3585\n",
       "SPECKLE WOOD BANG  R8        3586\n",
       "ASHMILLON GLOVE A0           3587\n",
       "ASHMILLON GLOVE A0           3588\n",
       "ASHMILLON GLOVE A0           3589\n",
       "ANIMAL BANGLE  N4            3590\n",
       "ANIMAL BANGLE  N4            3591\n",
       "SPECKLE WOOD BANG  R8        3592\n",
       "ANIMAL BANGLE  N4            3593\n",
       "ANIMAL BANGLE  N4            3594\n",
       "ASHMILLON BERET A0           3595\n",
       "ASHMILLON BERET A0           3596\n",
       "ZIG ZAG BANGLE  J4           3597\n",
       "ZIG ZAG BANGLE  J4           3598\n",
       "ZIG ZAG BANGLE  J4           3599\n",
       "ZIG ZAG BANGLE  J4           3600\n",
       "ZIG ZAG BANGLE  J4           3601\n",
       "BOBBLE SCARF F4              3602\n",
       "BOBBLE SCARF F4              3603\n",
       "BOBBLE SCARF F4              3604\n",
       "SPECKLE WOOD BANG  R8        3605\n",
       "SPECKLE WOOD BANG  R8        3606\n",
       "Length: 3607, dtype: int64>"
      ]
     },
     "execution_count": 124,
     "metadata": {},
     "output_type": "execute_result"
    }
   ],
   "source": [
    "indices.drop_duplicates"
   ]
  },
  {
   "cell_type": "code",
   "execution_count": 136,
   "metadata": {
    "collapsed": true
   },
   "outputs": [],
   "source": [
    "# Function that takes in movie title as input and outputs most similar movies\n",
    "def get_recommendations(Description, cosine_sim=cosine_sim):\n",
    "    # Get the index of the movie that matches the title\n",
    "    full_idx = indices[Description]\n",
    "    full_idx = list(full_idx)\n",
    "    distance = len(full_idx)\n",
    "    idx = full_idx[0]\n",
    "\n",
    "    # Get the pairwsie similarity scores of all movies with that movie\n",
    "    sim_scores = list(enumerate(cosine_sim[idx]))\n",
    "\n",
    "    # Sort the movies based on the similarity scores\n",
    "    sim_scores = sorted(sim_scores, key=lambda x: x[1], reverse=True)\n",
    "\n",
    "    # Get the scores of the 10 most similar movies\n",
    "    sim_scores = sim_scores[0: 11]\n",
    "\n",
    "    # Get the movie indices\n",
    "    movie_indices = [i[0] for i in sim_scores]\n",
    "\n",
    "    # Return the top 10 most similar movies\n",
    "    return metadata['info'].iloc[movie_indices]"
   ]
  },
  {
   "cell_type": "code",
   "execution_count": 137,
   "metadata": {},
   "outputs": [
    {
     "data": {
      "text/plain": [
       "53                      FLORAL RING  Y4 Jewellery\n",
       "37            LEATHER GLOVE  KN Handbags & Access\n",
       "11    ASHMILLON GLOVE A0, 1SIZE Handbags & Access\n",
       "62        ANIMAL BUCKLE GLO  SH Handbags & Access\n",
       "16           SIDE BOW GLOVE  Y0 Handbags & Access\n",
       "43                   ZIG ZAG BANGLE  J4 Jewellery\n",
       "12    CASHMERE STRIPE A4, 1SIZE Handbags & Access\n",
       "50    ASHMILLON GLOVE A0, 1SIZE Handbags & Access\n",
       "23    ASHMILLON GLOVE A0, 1SIZE Handbags & Access\n",
       "72    CASHMERE STRIPE A4, 1SIZE Handbags & Access\n",
       "1          OV PLAIN LEATHER  VZ Handbags & Access\n",
       "Name: info, dtype: object"
      ]
     },
     "execution_count": 137,
     "metadata": {},
     "output_type": "execute_result"
    }
   ],
   "source": [
    "get_recommendations('FLORAL RING  Y4')"
   ]
  },
  {
   "cell_type": "code",
   "execution_count": null,
   "metadata": {
    "collapsed": true
   },
   "outputs": [],
   "source": []
  },
  {
   "cell_type": "code",
   "execution_count": 139,
   "metadata": {},
   "outputs": [
    {
     "data": {
      "text/html": [
       "<div>\n",
       "<style>\n",
       "    .dataframe thead tr:only-child th {\n",
       "        text-align: right;\n",
       "    }\n",
       "\n",
       "    .dataframe thead th {\n",
       "        text-align: left;\n",
       "    }\n",
       "\n",
       "    .dataframe tbody tr th {\n",
       "        vertical-align: top;\n",
       "    }\n",
       "</style>\n",
       "<table border=\"1\" class=\"dataframe\">\n",
       "  <thead>\n",
       "    <tr style=\"text-align: right;\">\n",
       "      <th></th>\n",
       "      <th>User Id</th>\n",
       "      <th>Date</th>\n",
       "      <th>SKU</th>\n",
       "      <th>Description</th>\n",
       "      <th>Category Description</th>\n",
       "      <th>Age</th>\n",
       "      <th>info</th>\n",
       "    </tr>\n",
       "  </thead>\n",
       "  <tbody>\n",
       "    <tr>\n",
       "      <th>0</th>\n",
       "      <td>311DBC84</td>\n",
       "      <td>10/11/2017</td>\n",
       "      <td>178394</td>\n",
       "      <td>ASHMILLON GLOVE A0, 1SIZE</td>\n",
       "      <td>Handbags &amp; Access</td>\n",
       "      <td>48</td>\n",
       "      <td>ASHMILLON GLOVE A0, 1SIZE Handbags &amp; Access</td>\n",
       "    </tr>\n",
       "    <tr>\n",
       "      <th>1</th>\n",
       "      <td>311DBC84</td>\n",
       "      <td>11/11/2017</td>\n",
       "      <td>141740</td>\n",
       "      <td>OV PLAIN LEATHER  VZ</td>\n",
       "      <td>Handbags &amp; Access</td>\n",
       "      <td>48</td>\n",
       "      <td>OV PLAIN LEATHER  VZ Handbags &amp; Access</td>\n",
       "    </tr>\n",
       "  </tbody>\n",
       "</table>\n",
       "</div>"
      ],
      "text/plain": [
       "    User Id        Date     SKU                Description  \\\n",
       "0  311DBC84  10/11/2017  178394  ASHMILLON GLOVE A0, 1SIZE   \n",
       "1  311DBC84  11/11/2017  141740       OV PLAIN LEATHER  VZ   \n",
       "\n",
       "  Category Description  Age                                         info  \n",
       "0    Handbags & Access   48  ASHMILLON GLOVE A0, 1SIZE Handbags & Access  \n",
       "1    Handbags & Access   48       OV PLAIN LEATHER  VZ Handbags & Access  "
      ]
     },
     "execution_count": 139,
     "metadata": {},
     "output_type": "execute_result"
    }
   ],
   "source": [
    "#2\n",
    "metadata.head(2)"
   ]
  },
  {
   "cell_type": "code",
   "execution_count": 130,
   "metadata": {
    "collapsed": true
   },
   "outputs": [],
   "source": [
    "metadata['info'] = metadata['Description'] + \" \" + metadata['Category Description']"
   ]
  },
  {
   "cell_type": "code",
   "execution_count": 131,
   "metadata": {},
   "outputs": [
    {
     "data": {
      "text/html": [
       "<div>\n",
       "<style>\n",
       "    .dataframe thead tr:only-child th {\n",
       "        text-align: right;\n",
       "    }\n",
       "\n",
       "    .dataframe thead th {\n",
       "        text-align: left;\n",
       "    }\n",
       "\n",
       "    .dataframe tbody tr th {\n",
       "        vertical-align: top;\n",
       "    }\n",
       "</style>\n",
       "<table border=\"1\" class=\"dataframe\">\n",
       "  <thead>\n",
       "    <tr style=\"text-align: right;\">\n",
       "      <th></th>\n",
       "      <th>User Id</th>\n",
       "      <th>Date</th>\n",
       "      <th>SKU</th>\n",
       "      <th>Description</th>\n",
       "      <th>Category Description</th>\n",
       "      <th>Age</th>\n",
       "      <th>info</th>\n",
       "    </tr>\n",
       "  </thead>\n",
       "  <tbody>\n",
       "    <tr>\n",
       "      <th>0</th>\n",
       "      <td>311DBC84</td>\n",
       "      <td>10/11/2017</td>\n",
       "      <td>178394</td>\n",
       "      <td>ASHMILLON GLOVE A0, 1SIZE</td>\n",
       "      <td>Handbags &amp; Access</td>\n",
       "      <td>48</td>\n",
       "      <td>ASHMILLON GLOVE A0, 1SIZE Handbags &amp; Access</td>\n",
       "    </tr>\n",
       "    <tr>\n",
       "      <th>1</th>\n",
       "      <td>311DBC84</td>\n",
       "      <td>11/11/2017</td>\n",
       "      <td>141740</td>\n",
       "      <td>OV PLAIN LEATHER  VZ</td>\n",
       "      <td>Handbags &amp; Access</td>\n",
       "      <td>48</td>\n",
       "      <td>OV PLAIN LEATHER  VZ Handbags &amp; Access</td>\n",
       "    </tr>\n",
       "  </tbody>\n",
       "</table>\n",
       "</div>"
      ],
      "text/plain": [
       "    User Id        Date     SKU                Description  \\\n",
       "0  311DBC84  10/11/2017  178394  ASHMILLON GLOVE A0, 1SIZE   \n",
       "1  311DBC84  11/11/2017  141740       OV PLAIN LEATHER  VZ   \n",
       "\n",
       "  Category Description  Age                                         info  \n",
       "0    Handbags & Access   48  ASHMILLON GLOVE A0, 1SIZE Handbags & Access  \n",
       "1    Handbags & Access   48       OV PLAIN LEATHER  VZ Handbags & Access  "
      ]
     },
     "execution_count": 131,
     "metadata": {},
     "output_type": "execute_result"
    }
   ],
   "source": [
    "metadata.head(2)"
   ]
  },
  {
   "cell_type": "code",
   "execution_count": 132,
   "metadata": {},
   "outputs": [
    {
     "data": {
      "text/plain": [
       "(80, 118)"
      ]
     },
     "execution_count": 132,
     "metadata": {},
     "output_type": "execute_result"
    }
   ],
   "source": [
    "tfidf = TfidfVectorizer()\n",
    "\n",
    "#Construct the required TF-IDF matrix by fitting and transforming the data\n",
    "tfidf_matrix = tfidf.fit_transform(metadata['info'].drop_duplicates())\n",
    "\n",
    "#Output the shape of tfidf_matrix\n",
    "tfidf_matrix.shape"
   ]
  },
  {
   "cell_type": "code",
   "execution_count": 133,
   "metadata": {
    "collapsed": true
   },
   "outputs": [],
   "source": [
    "# Import linear_kernel\n",
    "from sklearn.metrics.pairwise import linear_kernel\n",
    "\n",
    "# Compute the cosine similarity matrix\n",
    "cosine_sim = linear_kernel(tfidf_matrix, tfidf_matrix)"
   ]
  },
  {
   "cell_type": "code",
   "execution_count": null,
   "metadata": {
    "collapsed": true
   },
   "outputs": [],
   "source": [
    "# Function that takes in movie title as input and outputs most similar movies\n",
    "def get_recommendations(Description, cosine_sim=cosine_sim):\n",
    "    # Get the index of the movie that matches the title\n",
    "    full_idx = indices[Description]\n",
    "    full_idx = list(full_idx)\n",
    "    distance = len(full_idx)\n",
    "    idx = full_idx[0]\n",
    "\n",
    "    # Get the pairwsie similarity scores of all movies with that movie\n",
    "    sim_scores = list(enumerate(cosine_sim[idx]))\n",
    "\n",
    "    # Sort the movies based on the similarity scores\n",
    "    sim_scores = sorted(sim_scores, key=lambda x: x[1], reverse=True)\n",
    "\n",
    "    # Get the scores of the 10 most similar movies\n",
    "    sim_scores = sim_scores[0: 11]\n",
    "\n",
    "    # Get the movie indices\n",
    "    movie_indices = [i[0] for i in sim_scores]\n",
    "\n",
    "    # Return the top 10 most similar movies\n",
    "    return metadata['info'].iloc[movie_indices]"
   ]
  },
  {
   "cell_type": "code",
   "execution_count": null,
   "metadata": {
    "collapsed": true
   },
   "outputs": [],
   "source": []
  },
  {
   "cell_type": "markdown",
   "metadata": {},
   "source": [
    "# Colloborative"
   ]
  },
  {
   "cell_type": "code",
   "execution_count": null,
   "metadata": {
    "collapsed": true
   },
   "outputs": [],
   "source": []
  }
 ],
 "metadata": {
  "kernelspec": {
   "display_name": "Python 3",
   "language": "python",
   "name": "python3"
  },
  "language_info": {
   "codemirror_mode": {
    "name": "ipython",
    "version": 3
   },
   "file_extension": ".py",
   "mimetype": "text/x-python",
   "name": "python",
   "nbconvert_exporter": "python",
   "pygments_lexer": "ipython3",
   "version": "3.6.1"
  }
 },
 "nbformat": 4,
 "nbformat_minor": 2
}
