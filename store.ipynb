{
 "cells": [
  {
   "cell_type": "code",
   "execution_count": 3,
   "metadata": {},
   "outputs": [
    {
     "name": "stdout",
     "output_type": "stream",
     "text": [
      "(1482535, 8) (693359, 7)\n",
      "train and test data sets are loaded\n"
     ]
    }
   ],
   "source": [
    "# This Python 3 environment comes with many helpful analytics libraries installed\n",
    "# It is defined by the kaggle/python docker image: https://github.com/kaggle/docker-python\n",
    "# For example, here's several helpful packages to load in \n",
    "\n",
    "import numpy as np # linear algebra\n",
    "import pandas as pd # data processing, CSV file I/O (e.g. pd.read_csv)\n",
    "import matplotlib.pyplot as plt\n",
    "import sklearn\n",
    "import tensorflow as tf\n",
    "import keras\n",
    "from sklearn.ensemble import RandomForestClassifier\n",
    "from sklearn.ensemble import RandomForestRegressor\n",
    "from sklearn.linear_model import LinearRegression\n",
    "import seaborn as sns\n",
    "import warnings\n",
    "warnings.filterwarnings(\"ignore\")\n",
    "\n",
    "# Input data files are available in the \"../input/\" directory.\n",
    "# For example, running this (by clicking run or pressing Shift+Enter) will list the files in the input directory\n",
    "\n",
    "#from subprocess import check_output\n",
    "#print(check_output([\"ls\", \"../input\"]).decode(\"utf8\"))\n",
    "\n",
    "# Any results you write to the current directory are saved as output.\n",
    "train_df = pd.read_table('train.tsv')\n",
    "test_df = pd.read_table('test.tsv')\n",
    "print(train_df.shape, test_df.shape)\n",
    "print(\"train and test data sets are loaded\")"
   ]
  },
  {
   "cell_type": "code",
   "execution_count": 4,
   "metadata": {},
   "outputs": [
    {
     "name": "stdout",
     "output_type": "stream",
     "text": [
      "(1482535,)\n",
      "(1482535, 6)\n"
     ]
    }
   ],
   "source": [
    "train_df.head()\n",
    "y_dummy = train_df['price']\n",
    "del train_df['train_id']\n",
    "del train_df['price']\n",
    "X_dummy = train_df\n",
    "print(y_dummy.shape)\n",
    "print(X_dummy.shape)"
   ]
  },
  {
   "cell_type": "code",
   "execution_count": null,
   "metadata": {
    "collapsed": true
   },
   "outputs": [],
   "source": [
    "def missing_categorical(df):\n",
    "    print(\"Check for missing values in appended data\")\n",
    "    print(df.apply(lambda x:sum(x.isnull())))\n",
    "    print(\"\\n\")\n",
    "    print(\"Check for categorical Values in appended data\")\n",
    "    print(df.apply(lambda x: len(x.unique())))"
   ]
  },
  {
   "cell_type": "code",
   "execution_count": 5,
   "metadata": {},
   "outputs": [
    {
     "name": "stdout",
     "output_type": "stream",
     "text": [
      "Check for missing values\n",
      "name                      0\n",
      "item_condition_id         0\n",
      "category_name          6327\n",
      "brand_name           632682\n",
      "shipping                  0\n",
      "item_description          4\n",
      "dtype: int64\n",
      "\n",
      "\n",
      "Check for categorical Values\n",
      "name                 1225273\n",
      "item_condition_id          5\n",
      "category_name           1288\n",
      "brand_name              4810\n",
      "shipping                   2\n",
      "item_description     1281427\n",
      "dtype: int64\n"
     ]
    }
   ],
   "source": [
    "#find number of missing and categorical values in the data\n",
    "print(\"Check for missing values\")\n",
    "print(X_dummy.apply(lambda x:sum(x.isnull())))\n",
    "#\n",
    "print(\"\\n\")\n",
    "print(\"Check for categorical Values\")\n",
    "print(X_dummy.apply(lambda x: len(x.unique())))"
   ]
  },
  {
   "cell_type": "code",
   "execution_count": 6,
   "metadata": {},
   "outputs": [
    {
     "name": "stdout",
     "output_type": "stream",
     "text": [
      "Index(['test_id', 'name', 'item_condition_id', 'category_name', 'brand_name',\n",
      "       'shipping', 'item_description'],\n",
      "      dtype='object')\n",
      "(693359, 7)\n"
     ]
    }
   ],
   "source": [
    "print(test_df.columns)\n",
    "print(test_df.shape)"
   ]
  },
  {
   "cell_type": "code",
   "execution_count": 7,
   "metadata": {},
   "outputs": [
    {
     "name": "stdout",
     "output_type": "stream",
     "text": [
      "Check for missing values in test data\n",
      "test_id                   0\n",
      "name                      0\n",
      "item_condition_id         0\n",
      "category_name          3058\n",
      "brand_name           295525\n",
      "shipping                  0\n",
      "item_description          0\n",
      "dtype: int64\n",
      "\n",
      "\n",
      "Check for categorical Values in test data\n",
      "test_id              693359\n",
      "name                 601117\n",
      "item_condition_id         5\n",
      "category_name          1224\n",
      "brand_name             3901\n",
      "shipping                  2\n",
      "item_description     609555\n",
      "dtype: int64\n"
     ]
    }
   ],
   "source": [
    "print(\"Check for missing values in test data\")\n",
    "print(test_df.apply(lambda x:sum(x.isnull())))\n",
    "#\n",
    "print(\"\\n\")\n",
    "print(\"Check for categorical Values in test data\")\n",
    "print(test_df.apply(lambda x: len(x.unique())))"
   ]
  },
  {
   "cell_type": "code",
   "execution_count": 8,
   "metadata": {},
   "outputs": [
    {
     "name": "stdout",
     "output_type": "stream",
     "text": [
      "(693359, 6)\n",
      "Index(['name', 'item_condition_id', 'category_name', 'brand_name', 'shipping',\n",
      "       'item_description'],\n",
      "      dtype='object')\n"
     ]
    }
   ],
   "source": [
    "X_dummy_test = test_df.copy()\n",
    "del X_dummy_test['test_id']\n",
    "print(X_dummy_test.shape)\n",
    "print(X_dummy_test.columns)"
   ]
  },
  {
   "cell_type": "code",
   "execution_count": 9,
   "metadata": {},
   "outputs": [
    {
     "name": "stdout",
     "output_type": "stream",
     "text": [
      "Index(['name', 'item_condition_id', 'category_name', 'brand_name', 'shipping',\n",
      "       'item_description'],\n",
      "      dtype='object')\n"
     ]
    }
   ],
   "source": [
    "print(X_dummy.columns)\n",
    "X_dummy_test['Type'] =\"test\"\n",
    "X_dummy['Type'] =\"train\""
   ]
  },
  {
   "cell_type": "code",
   "execution_count": 10,
   "metadata": {},
   "outputs": [
    {
     "name": "stdout",
     "output_type": "stream",
     "text": [
      "train data:  (1482535, 7)\n",
      "\n",
      "\n",
      "test data:  (693359, 7)\n",
      "\n",
      "\n",
      "Appended data:  (2175894, 7)\n",
      "Appended data columns Index(['name', 'item_condition_id', 'category_name', 'brand_name', 'shipping',\n",
      "       'item_description', 'Type'],\n",
      "      dtype='object')\n"
     ]
    }
   ],
   "source": [
    "append_working = X_dummy.append(X_dummy_test)\n",
    "print(\"train data: \",X_dummy.shape)\n",
    "print(\"\\n\")\n",
    "print(\"test data: \",X_dummy_test.shape)\n",
    "print(\"\\n\")\n",
    "print(\"Appended data: \",append_working.shape)\n",
    "print(\"Appended data columns\", append_working.columns)"
   ]
  },
  {
   "cell_type": "code",
   "execution_count": 11,
   "metadata": {},
   "outputs": [
    {
     "name": "stdout",
     "output_type": "stream",
     "text": [
      "Check for missing values in appended data\n",
      "name                      0\n",
      "item_condition_id         0\n",
      "category_name          9385\n",
      "brand_name           928207\n",
      "shipping                  0\n",
      "item_description          4\n",
      "Type                      0\n",
      "dtype: int64\n",
      "\n",
      "\n",
      "Check for categorical Values in appended data\n",
      "name                 1750617\n",
      "item_condition_id          5\n",
      "category_name           1311\n",
      "brand_name              5290\n",
      "shipping                   2\n",
      "item_description     1862038\n",
      "Type                       2\n",
      "dtype: int64\n"
     ]
    }
   ],
   "source": [
    "print(\"Check for missing values in appended data\")\n",
    "print(append_working.apply(lambda x:sum(x.isnull())))\n",
    "#\n",
    "print(\"\\n\")\n",
    "print(\"Check for categorical Values in appended data\")\n",
    "print(append_working.apply(lambda x: len(x.unique())))"
   ]
  },
  {
   "cell_type": "code",
   "execution_count": 12,
   "metadata": {},
   "outputs": [
    {
     "name": "stdout",
     "output_type": "stream",
     "text": [
      "0                                    Men/Tops/T-shirts\n",
      "1    Electronics/Computers & Tablets/Components & P...\n",
      "2                          Women/Tops & Blouses/Blouse\n",
      "3                   Home/Home Décor/Home Décor Accents\n",
      "4                              Women/Jewelry/Necklaces\n",
      "5                                    Women/Other/Other\n",
      "6                             Women/Swimwear/Two-Piece\n",
      "7                      Sports & Outdoors/Apparel/Girls\n",
      "8                      Sports & Outdoors/Apparel/Girls\n",
      "9             Vintage & Collectibles/Collectibles/Doll\n",
      "Name: category_name, dtype: object 0                                   No description yet\n",
      "1    This keyboard is in great condition and works ...\n",
      "2    Adorable top with a hint of lace and a key hol...\n",
      "3    New with tags. Leather horses. Retail for [rm]...\n",
      "4            Complete with certificate of authenticity\n",
      "5    Banana republic bottoms, Candies skirt with ma...\n",
      "6    Size small but straps slightly shortened to fi...\n",
      "7    You get three pairs of Sophie cheer shorts siz...\n",
      "8     Girls Size small Plus green. Three shorts total.\n",
      "9    I realized his pants are on backwards after th...\n",
      "Name: item_description, dtype: object\n"
     ]
    }
   ],
   "source": [
    "print(append_working.category_name[0:10], append_working.item_description[0:10])"
   ]
  },
  {
   "cell_type": "code",
   "execution_count": 13,
   "metadata": {
    "collapsed": true
   },
   "outputs": [],
   "source": [
    "append_working['category_name'] = append_working['category_name'].fillna(\"No Category\")\n",
    "append_working['brand_name'] = append_working['brand_name'].fillna(\"No Brand\")\n",
    "append_working['item_description'] = append_working['item_description'].fillna(\"No description\")"
   ]
  },
  {
   "cell_type": "code",
   "execution_count": 14,
   "metadata": {},
   "outputs": [
    {
     "name": "stdout",
     "output_type": "stream",
     "text": [
      "Check for missing values in appended data\n",
      "name                 0\n",
      "item_condition_id    0\n",
      "category_name        0\n",
      "brand_name           0\n",
      "shipping             0\n",
      "item_description     0\n",
      "Type                 0\n",
      "dtype: int64\n",
      "\n",
      "\n",
      "Check for categorical Values in appended data\n",
      "name                 1750617\n",
      "item_condition_id          5\n",
      "category_name           1311\n",
      "brand_name              5290\n",
      "shipping                   2\n",
      "item_description     1862037\n",
      "Type                       2\n",
      "dtype: int64\n"
     ]
    }
   ],
   "source": [
    "print(\"Check for missing values in appended data\")\n",
    "print(append_working.apply(lambda x:sum(x.isnull())))\n",
    "#\n",
    "print(\"\\n\")\n",
    "print(\"Check for categorical Values in appended data\")\n",
    "print(append_working.apply(lambda x: len(x.unique())))"
   ]
  },
  {
   "cell_type": "code",
   "execution_count": 15,
   "metadata": {},
   "outputs": [
    {
     "data": {
      "text/plain": [
       "<matplotlib.collections.PathCollection at 0x3cf2c128>"
      ]
     },
     "execution_count": 15,
     "metadata": {},
     "output_type": "execute_result"
    },
    {
     "data": {
      "image/png": "[encoded data removed]",
      "text/plain": [
       "<matplotlib.figure.Figure at 0x4e540f28>"
      ]
     },
     "metadata": {},
     "output_type": "display_data"
    }
   ],
   "source": [
    "#Plot the output data\n",
    "%matplotlib inline\n",
    "plt.scatter(range(0, len(y_dummy)), y_dummy)"
   ]
  },
  {
   "cell_type": "code",
   "execution_count": 16,
   "metadata": {},
   "outputs": [
    {
     "data": {
      "text/plain": [
       "<matplotlib.collections.PathCollection at 0x3d0e4c50>"
      ]
     },
     "execution_count": 16,
     "metadata": {},
     "output_type": "execute_result"
    },
    {
     "data": {
      "image/png": "[encoded data removed]",
      "text/plain": [
       "<matplotlib.figure.Figure at 0x3cf54c88>"
      ]
     },
     "metadata": {},
     "output_type": "display_data"
    }
   ],
   "source": [
    "plt.scatter(range(0, 100), y_dummy[0:100])"
   ]
  },
  {
   "cell_type": "code",
   "execution_count": 17,
   "metadata": {},
   "outputs": [
    {
     "name": "stdout",
     "output_type": "stream",
     "text": [
      "count    1.482535e+06\n",
      "mean     2.673752e+01\n",
      "std      3.858607e+01\n",
      "min      0.000000e+00\n",
      "25%      1.000000e+01\n",
      "50%      1.700000e+01\n",
      "75%      2.900000e+01\n",
      "max      2.009000e+03\n",
      "Name: price, dtype: float64\n"
     ]
    }
   ],
   "source": [
    "print(y_dummy.describe(include=[np.number]))"
   ]
  },
  {
   "cell_type": "markdown",
   "metadata": {},
   "source": [
    "reference for plots :\n",
    "https://www.kaggle.com/konohayui/mercari-price-suggestion-eda"
   ]
  },
  {
   "cell_type": "code",
   "execution_count": 18,
   "metadata": {},
   "outputs": [
    {
     "data": {
      "image/png": "[encoded data removed]",
      "text/plain": [
       "<matplotlib.figure.Figure at 0x3d0e4fd0>"
      ]
     },
     "metadata": {},
     "output_type": "display_data"
    }
   ],
   "source": [
    "fig, ax = plt.subplots(2, 1, figsize = (15, 10))\n",
    "sns.boxplot(y_dummy, showfliers = False, ax = ax[0])\n",
    "#\n",
    "ax[1].hist(y_dummy, bins = 50, range = [0, 300], label = \"price\")\n",
    "ax[1].set_title(\"Price Distribution (Training)\", fontsize = 20)\n",
    "ax[1].set_xlabel(\"Price\", fontsize = 15)\n",
    "ax[1].set_ylabel(\"Samples\", fontsize = 15)\n",
    "plt.show()"
   ]
  },
  {
   "cell_type": "code",
   "execution_count": 19,
   "metadata": {},
   "outputs": [
    {
     "data": {
      "text/plain": [
       "<matplotlib.axes._subplots.AxesSubplot at 0x3d0fc630>"
      ]
     },
     "execution_count": 19,
     "metadata": {},
     "output_type": "execute_result"
    },
    {
     "data": {
      "image/png": "[encoded data removed]",
      "text/plain": [
       "<matplotlib.figure.Figure at 0x3cf8f860>"
      ]
     },
     "metadata": {},
     "output_type": "display_data"
    }
   ],
   "source": [
    "#based on item condition\n",
    "fig = plt.plot( figsize = (15, 12))\n",
    "sns.countplot(append_working.item_condition_id)"
   ]
  },
  {
   "cell_type": "code",
   "execution_count": 20,
   "metadata": {},
   "outputs": [
    {
     "name": "stdout",
     "output_type": "stream",
     "text": [
      "There are 5290 unique known brands.\n"
     ]
    },
    {
     "data": {
      "image/png": "[encoded data removed]",
      "text/plain": [
       "<matplotlib.figure.Figure at 0x3cf584e0>"
      ]
     },
     "metadata": {},
     "output_type": "display_data"
    }
   ],
   "source": [
    "#Top brands\n",
    "brands = append_working[\"brand_name\"].value_counts()\n",
    "print(\"There are\", brands.size, \"unique known brands.\")\n",
    "#\n",
    "plt.figure(figsize = (10, 10))\n",
    "sns.barplot(brands[1:11].values, brands[1:11].index)\n",
    "plt.title(\"Top 10 known brand in store\")\n",
    "plt.show()"
   ]
  },
  {
   "cell_type": "code",
   "execution_count": null,
   "metadata": {},
   "outputs": [
    {
     "name": "stdout",
     "output_type": "stream",
     "text": [
      "There are 1311 unique known brands.\n"
     ]
    },
    {
     "data": {
      "image/png": "[encoded data removed]",
      "text/plain": [
       "<matplotlib.figure.Figure at 0x3d21aeb8>"
      ]
     },
     "metadata": {},
     "output_type": "display_data"
    }
   ],
   "source": [
    "category_name = append_working[\"category_name\"].value_counts()\n",
    "print(\"There are\", category_name.size, \"unique known brands.\")\n",
    "#\n",
    "plt.figure(figsize = (10, 10))\n",
    "sns.barplot(category_name[0:11].values, category_name[0:11].index)\n",
    "plt.title(\"Top 10 Categories in store\")\n",
    "plt.show()"
   ]
  },
  {
   "cell_type": "code",
   "execution_count": null,
   "metadata": {
    "collapsed": true
   },
   "outputs": [],
   "source": [
    "append_working['main_category'] =  append_working['category_name'].str.split('/').str.get(0)"
   ]
  },
  {
   "cell_type": "code",
   "execution_count": null,
   "metadata": {
    "collapsed": true
   },
   "outputs": [],
   "source": [
    "append_working.head()"
   ]
  },
  {
   "cell_type": "code",
   "execution_count": null,
   "metadata": {},
   "outputs": [
    {
     "data": {
      "image/png": "[encoded data removed]",
      "text/plain": [
       "<matplotlib.figure.Figure at 0x9034c198>"
      ]
     },
     "metadata": {},
     "output_type": "display_data"
    }
   ],
   "source": [
    "main_category = append_working[\"main_category\"].value_counts()\n",
    "print(\"There are\", main_category.size, \"unique known brands.\")\n",
    "#\n",
    "plt.figure(figsize = (10, 10))\n",
    "sns.barplot(main_category[0:11].values, main_category[0:11].index)\n",
    "plt.title(\"Top 10 Main Categories in store\")\n",
    "plt.show()"
   ]
  },
  {
   "cell_type": "code",
   "execution_count": 29,
   "metadata": {},
   "outputs": [
    {
     "name": "stdout",
     "output_type": "stream",
     "text": [
      "Collecting wordcloud\n",
      "  Using cached wordcloud-1.3.1.tar.gz\n",
      "Requirement already satisfied: matplotlib in c:\\users\\1004365\\appdata\\local\\continuum\\anaconda3\\envs\\tensorflow\\lib\\site-packages (from wordcloud)\n",
      "Requirement already satisfied: numpy>=1.6.1 in c:\\users\\1004365\\appdata\\local\\continuum\\anaconda3\\envs\\tensorflow\\lib\\site-packages (from wordcloud)\n",
      "Requirement already satisfied: pillow in c:\\users\\1004365\\appdata\\local\\continuum\\anaconda3\\envs\\tensorflow\\lib\\site-packages (from wordcloud)\n",
      "Requirement already satisfied: pyparsing!=2.0.4,!=2.1.2,!=2.1.6,>=2.0.1 in c:\\users\\1004365\\appdata\\local\\continuum\\anaconda3\\envs\\tensorflow\\lib\\site-packages (from matplotlib->wordcloud)\n",
      "Requirement already satisfied: pytz in c:\\users\\1004365\\appdata\\local\\continuum\\anaconda3\\envs\\tensorflow\\lib\\site-packages (from matplotlib->wordcloud)\n",
      "Requirement already satisfied: six>=1.10 in c:\\users\\1004365\\appdata\\local\\continuum\\anaconda3\\envs\\tensorflow\\lib\\site-packages (from matplotlib->wordcloud)\n",
      "Requirement already satisfied: cycler>=0.10 in c:\\users\\1004365\\appdata\\local\\continuum\\anaconda3\\envs\\tensorflow\\lib\\site-packages (from matplotlib->wordcloud)\n",
      "Requirement already satisfied: python-dateutil>=2.0 in c:\\users\\1004365\\appdata\\local\\continuum\\anaconda3\\envs\\tensorflow\\lib\\site-packages (from matplotlib->wordcloud)\n",
      "Requirement already satisfied: olefile in c:\\users\\1004365\\appdata\\local\\continuum\\anaconda3\\envs\\tensorflow\\lib\\site-packages (from pillow->wordcloud)\n",
      "Building wheels for collected packages: wordcloud\n",
      "  Running setup.py bdist_wheel for wordcloud: started\n",
      "  Running setup.py bdist_wheel for wordcloud: finished with status 'error'\n",
      "  Complete output from command C:\\Users\\1004365\\AppData\\Local\\Continuum\\Anaconda3\\envs\\tensorflow\\python.exe -u -c \"import setuptools, tokenize;__file__='C:\\\\Users\\\\1004365\\\\AppData\\\\Local\\\\Temp\\\\pip-build-o2njllzx\\\\wordcloud\\\\setup.py';f=getattr(tokenize, 'open', open)(__file__);code=f.read().replace('\\r\\n', '\\n');f.close();exec(compile(code, __file__, 'exec'))\" bdist_wheel -d C:\\Users\\1004365\\AppData\\Local\\Temp\\tmpxi0iokq8pip-wheel- --python-tag cp35:\n",
      "  running bdist_wheel\n",
      "  running build\n",
      "  running build_py\n",
      "  creating build\n",
      "  creating build\\lib.win-amd64-3.5\n",
      "  creating build\\lib.win-amd64-3.5\\wordcloud\n",
      "  copying wordcloud\\color_from_image.py -> build\\lib.win-amd64-3.5\\wordcloud\n",
      "  copying wordcloud\\tokenization.py -> build\\lib.win-amd64-3.5\\wordcloud\n",
      "  copying wordcloud\\wordcloud.py -> build\\lib.win-amd64-3.5\\wordcloud\n",
      "  copying wordcloud\\wordcloud_cli.py -> build\\lib.win-amd64-3.5\\wordcloud\n",
      "  copying wordcloud\\__init__.py -> build\\lib.win-amd64-3.5\\wordcloud\n",
      "  copying wordcloud\\stopwords -> build\\lib.win-amd64-3.5\\wordcloud\n",
      "  copying wordcloud\\DroidSansMono.ttf -> build\\lib.win-amd64-3.5\\wordcloud\n",
      "  running build_ext\n",
      "  building 'wordcloud.query_integral_image' extension\n",
      "  error: Microsoft Visual C++ 14.0 is required. Get it with \"Microsoft Visual C++ Build Tools\": http://landinghub.visualstudio.com/visual-cpp-build-tools\n",
      "  \n",
      "  ----------------------------------------\n",
      "  Running setup.py clean for wordcloud\n",
      "Failed to build wordcloud\n",
      "Installing collected packages: wordcloud\n",
      "  Running setup.py install for wordcloud: started\n",
      "    Running setup.py install for wordcloud: finished with status 'error'\n",
      "    Complete output from command C:\\Users\\1004365\\AppData\\Local\\Continuum\\Anaconda3\\envs\\tensorflow\\python.exe -u -c \"import setuptools, tokenize;__file__='C:\\\\Users\\\\1004365\\\\AppData\\\\Local\\\\Temp\\\\pip-build-o2njllzx\\\\wordcloud\\\\setup.py';f=getattr(tokenize, 'open', open)(__file__);code=f.read().replace('\\r\\n', '\\n');f.close();exec(compile(code, __file__, 'exec'))\" install --record C:\\Users\\1004365\\AppData\\Local\\Temp\\pip-ua7yy0so-record\\install-record.txt --single-version-externally-managed --compile:\n",
      "    running install\n",
      "    running build\n",
      "    running build_py\n",
      "    creating build\n",
      "    creating build\\lib.win-amd64-3.5\n",
      "    creating build\\lib.win-amd64-3.5\\wordcloud\n",
      "    copying wordcloud\\color_from_image.py -> build\\lib.win-amd64-3.5\\wordcloud\n",
      "    copying wordcloud\\tokenization.py -> build\\lib.win-amd64-3.5\\wordcloud\n",
      "    copying wordcloud\\wordcloud.py -> build\\lib.win-amd64-3.5\\wordcloud\n",
      "    copying wordcloud\\wordcloud_cli.py -> build\\lib.win-amd64-3.5\\wordcloud\n",
      "    copying wordcloud\\__init__.py -> build\\lib.win-amd64-3.5\\wordcloud\n",
      "    copying wordcloud\\stopwords -> build\\lib.win-amd64-3.5\\wordcloud\n",
      "    copying wordcloud\\DroidSansMono.ttf -> build\\lib.win-amd64-3.5\\wordcloud\n",
      "    running build_ext\n",
      "    building 'wordcloud.query_integral_image' extension\n",
      "    error: Microsoft Visual C++ 14.0 is required. Get it with \"Microsoft Visual C++ Build Tools\": http://landinghub.visualstudio.com/visual-cpp-build-tools\n",
      "    \n",
      "    ----------------------------------------\n"
     ]
    },
    {
     "name": "stderr",
     "output_type": "stream",
     "text": [
      "  Failed building wheel for wordcloud\n",
      "Command \"C:\\Users\\1004365\\AppData\\Local\\Continuum\\Anaconda3\\envs\\tensorflow\\python.exe -u -c \"import setuptools, tokenize;__file__='C:\\\\Users\\\\1004365\\\\AppData\\\\Local\\\\Temp\\\\pip-build-o2njllzx\\\\wordcloud\\\\setup.py';f=getattr(tokenize, 'open', open)(__file__);code=f.read().replace('\\r\\n', '\\n');f.close();exec(compile(code, __file__, 'exec'))\" install --record C:\\Users\\1004365\\AppData\\Local\\Temp\\pip-ua7yy0so-record\\install-record.txt --single-version-externally-managed --compile\" failed with error code 1 in C:\\Users\\1004365\\AppData\\Local\\Temp\\pip-build-o2njllzx\\wordcloud\\\n"
     ]
    }
   ],
   "source": [
    "!pip install wordcloud"
   ]
  },
  {
   "cell_type": "code",
   "execution_count": 27,
   "metadata": {},
   "outputs": [
    {
     "ename": "ImportError",
     "evalue": "No module named 'wordcloud'",
     "output_type": "error",
     "traceback": [
      "\u001b[1;31m---------------------------------------------------------------------------\u001b[0m",
      "\u001b[1;31mImportError\u001b[0m                               Traceback (most recent call last)",
      "\u001b[1;32m<ipython-input-27-7c4d332d20d9>\u001b[0m in \u001b[0;36m<module>\u001b[1;34m()\u001b[0m\n\u001b[1;32m----> 1\u001b[1;33m \u001b[1;32mfrom\u001b[0m \u001b[0mwordcloud\u001b[0m \u001b[1;32mimport\u001b[0m \u001b[0mWordCloud\u001b[0m\u001b[1;33m\u001b[0m\u001b[0m\n\u001b[0m\u001b[0;32m      2\u001b[0m \u001b[0mwordcloud\u001b[0m \u001b[1;33m=\u001b[0m \u001b[0mWordCloud\u001b[0m\u001b[1;33m(\u001b[0m\u001b[0mwidth\u001b[0m \u001b[1;33m=\u001b[0m \u001b[1;36m1200\u001b[0m\u001b[1;33m,\u001b[0m \u001b[0mheight\u001b[0m \u001b[1;33m=\u001b[0m \u001b[1;36m1000\u001b[0m\u001b[1;33m)\u001b[0m\u001b[1;33m.\u001b[0m\u001b[0mgenerate\u001b[0m\u001b[1;33m(\u001b[0m\u001b[1;34m\" \"\u001b[0m\u001b[1;33m.\u001b[0m\u001b[0mjoin\u001b[0m\u001b[1;33m(\u001b[0m\u001b[0mappend_working\u001b[0m\u001b[1;33m.\u001b[0m\u001b[0mitem_description\u001b[0m\u001b[1;33m.\u001b[0m\u001b[0mastype\u001b[0m\u001b[1;33m(\u001b[0m\u001b[0mstr\u001b[0m\u001b[1;33m)\u001b[0m\u001b[1;33m)\u001b[0m\u001b[1;33m)\u001b[0m\u001b[1;33m\u001b[0m\u001b[0m\n\u001b[0;32m      3\u001b[0m \u001b[0mplt\u001b[0m\u001b[1;33m.\u001b[0m\u001b[0mfigure\u001b[0m\u001b[1;33m(\u001b[0m\u001b[0mfigsize\u001b[0m \u001b[1;33m=\u001b[0m \u001b[1;33m(\u001b[0m\u001b[1;36m20\u001b[0m\u001b[1;33m,\u001b[0m \u001b[1;36m15\u001b[0m\u001b[1;33m)\u001b[0m\u001b[1;33m)\u001b[0m\u001b[1;33m\u001b[0m\u001b[0m\n\u001b[0;32m      4\u001b[0m \u001b[0mplt\u001b[0m\u001b[1;33m.\u001b[0m\u001b[0mimshow\u001b[0m\u001b[1;33m(\u001b[0m\u001b[0mwordcloud\u001b[0m\u001b[1;33m)\u001b[0m\u001b[1;33m\u001b[0m\u001b[0m\n\u001b[0;32m      5\u001b[0m \u001b[0mplt\u001b[0m\u001b[1;33m.\u001b[0m\u001b[0maxis\u001b[0m\u001b[1;33m(\u001b[0m\u001b[1;34m\"off\"\u001b[0m\u001b[1;33m)\u001b[0m\u001b[1;33m\u001b[0m\u001b[0m\n",
      "\u001b[1;31mImportError\u001b[0m: No module named 'wordcloud'"
     ]
    }
   ],
   "source": [
    "from wordcloud import WordCloud\n",
    "wordcloud = WordCloud(width = 1200, height = 1000).generate(\" \".join(append_working.item_description.astype(str)))\n",
    "plt.figure(figsize = (20, 15))\n",
    "plt.imshow(wordcloud)\n",
    "plt.axis(\"off\")\n",
    "plt.show()"
   ]
  },
  {
   "cell_type": "code",
   "execution_count": null,
   "metadata": {
    "collapsed": true
   },
   "outputs": [],
   "source": []
  },
  {
   "cell_type": "markdown",
   "metadata": {},
   "source": [
    "# First Modelling"
   ]
  },
  {
   "cell_type": "code",
   "execution_count": 30,
   "metadata": {},
   "outputs": [
    {
     "name": "stdout",
     "output_type": "stream",
     "text": [
      "X_train  (1111901, 8)\n",
      "y_train  (1111901,)\n",
      "X_dev  (370634, 8)\n",
      "y_dev  (370634,)\n",
      "data_test  (693359, 8)\n",
      "test data columns  Index(['name', 'item_condition_id', 'category_name', 'brand_name', 'shipping',\n",
      "       'item_description', 'Type', 'main_category'],\n",
      "      dtype='object')\n"
     ]
    }
   ],
   "source": [
    "#train and cv and test split\n",
    "data_train = append_working[append_working['Type'] == \"train\"]\n",
    "data_test =  append_working[append_working['Type'] == \"test\"]\n",
    "from sklearn.cross_validation import train_test_split\n",
    "X_train, X_dev, y_train, y_dev = train_test_split(data_train, y_dummy)\n",
    "print(\"X_train \", X_train.shape)\n",
    "print(\"y_train \", y_train.shape)\n",
    "print(\"X_dev \", X_dev.shape)\n",
    "print(\"y_dev \", y_dev.shape)\n",
    "print(\"data_test \", data_test.shape)\n",
    "print(\"test data columns \", data_test.columns)"
   ]
  },
  {
   "cell_type": "code",
   "execution_count": 31,
   "metadata": {
    "collapsed": true
   },
   "outputs": [],
   "source": [
    "train_text_data = X_train['item_description']\n",
    "test_text_data = X_dev['item_description']"
   ]
  },
  {
   "cell_type": "code",
   "execution_count": null,
   "metadata": {
    "collapsed": true
   },
   "outputs": [],
   "source": []
  },
  {
   "cell_type": "code",
   "execution_count": null,
   "metadata": {
    "collapsed": true
   },
   "outputs": [],
   "source": []
  },
  {
   "cell_type": "code",
   "execution_count": 35,
   "metadata": {
    "collapsed": true
   },
   "outputs": [],
   "source": [
    "from sklearn.feature_extraction.text import TfidfVectorizer\n",
    "vectorizer = TfidfVectorizer(min_df=5, max_df = 0.8, sublinear_tf=True, use_idf =True, stop_words = 'english')\n",
    "train_corpus_tf_idf = vectorizer.fit_transform(train_text_data)\n",
    "dev_corpus_tf_idf = vectorizer.transform(test_text_data)"
   ]
  },
  {
   "cell_type": "code",
   "execution_count": null,
   "metadata": {
    "collapsed": true
   },
   "outputs": [],
   "source": [
    "clf = RandomForestRegressor()\n",
    "clf.fit(train_corpus_tf_idf, y_train)\n",
    "predicted = clf.predict(dev_corpus_tf_idf)"
   ]
  },
  {
   "cell_type": "code",
   "execution_count": null,
   "metadata": {
    "collapsed": true
   },
   "outputs": [],
   "source": []
  }
 ],
 "metadata": {
  "kernelspec": {
   "display_name": "Python 3",
   "language": "python",
   "name": "python3"
  },
  "language_info": {
   "codemirror_mode": {
    "name": "ipython",
    "version": 3
   },
   "file_extension": ".py",
   "mimetype": "text/x-python",
   "name": "python",
   "nbconvert_exporter": "python",
   "pygments_lexer": "ipython3",
   "version": "3.6.1"
  }
 },
 "nbformat": 4,
 "nbformat_minor": 2
}
